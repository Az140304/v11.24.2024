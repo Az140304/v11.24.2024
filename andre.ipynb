{
  "cells": [
    {
      "cell_type": "markdown",
      "metadata": {
        "id": "view-in-github",
        "colab_type": "text"
      },
      "source": [
        "<a href=\"https://colab.research.google.com/github/uchihamadara37/ML-capstone-bangkit/blob/main/andre.ipynb\" target=\"_parent\"><img src=\"https://colab.research.google.com/assets/colab-badge.svg\" alt=\"Open In Colab\"/></a>"
      ]
    },
    {
      "cell_type": "code",
      "source": [
        "!nvidia-smi\n"
      ],
      "metadata": {
        "id": "isBoaDIl7PdC",
        "colab": {
          "base_uri": "https://localhost:8080/"
        },
        "outputId": "27156d6b-6c6c-46cb-8d28-7961fe386b74"
      },
      "execution_count": null,
      "outputs": [
        {
          "output_type": "stream",
          "name": "stdout",
          "text": [
            "/bin/bash: line 1: nvidia-smi: command not found\n"
          ]
        }
      ]
    },
    {
      "cell_type": "code",
      "source": [],
      "metadata": {
        "id": "f2hm1QbY7Po1"
      },
      "execution_count": null,
      "outputs": []
    },
    {
      "cell_type": "markdown",
      "source": [
        "Setup Library\n",
        "**Preprocessing**"
      ],
      "metadata": {
        "id": "AQPuyZ3VFTmL"
      }
    },
    {
      "cell_type": "code",
      "execution_count": null,
      "metadata": {
        "id": "zwFnJsE6vjf8"
      },
      "outputs": [],
      "source": [
        "# prompt: install kaggle library\n",
        "\n",
        "# !pip install kaggle\n"
      ]
    },
    {
      "cell_type": "code",
      "source": [
        "# !kaggle datasets download -d wangziang/waste-pictures -p data --unzip"
      ],
      "metadata": {
        "id": "A35ECgwlKjdv"
      },
      "execution_count": null,
      "outputs": []
    },
    {
      "cell_type": "code",
      "source": [
        "!wget \"https://drive.usercontent.google.com/download?id=1AXuYOj63tdibRhEtOxI-kpEP6wBTMB56&export=download&authuser=0&confirm=t&uuid=9b208456-adaf-4b04-8b21-1d597c3f5e75&at=AENtkXZDhOKlhrjWsI2Owbxb63ix%3A1731726201156\" -O trash_data.zip"
      ],
      "metadata": {
        "colab": {
          "base_uri": "https://localhost:8080/"
        },
        "id": "rdnNrZKl4cnv",
        "outputId": "57b0418f-de1f-4e62-f503-23cb5709856d"
      },
      "execution_count": 1,
      "outputs": [
        {
          "output_type": "stream",
          "name": "stdout",
          "text": [
            "--2024-11-21 23:07:52--  https://drive.usercontent.google.com/download?id=1AXuYOj63tdibRhEtOxI-kpEP6wBTMB56&export=download&authuser=0&confirm=t&uuid=9b208456-adaf-4b04-8b21-1d597c3f5e75&at=AENtkXZDhOKlhrjWsI2Owbxb63ix%3A1731726201156\n",
            "Resolving drive.usercontent.google.com (drive.usercontent.google.com)... 74.125.68.132, 2404:6800:4003:c02::84\n",
            "Connecting to drive.usercontent.google.com (drive.usercontent.google.com)|74.125.68.132|:443... connected.\n",
            "HTTP request sent, awaiting response... 200 OK\n",
            "Length: 879645956 (839M) [application/octet-stream]\n",
            "Saving to: ‘trash_data.zip’\n",
            "\n",
            "trash_data.zip      100%[===================>] 838.90M  79.3MB/s    in 12s     \n",
            "\n",
            "2024-11-21 23:08:07 (69.4 MB/s) - ‘trash_data.zip’ saved [879645956/879645956]\n",
            "\n"
          ]
        }
      ]
    },
    {
      "cell_type": "code",
      "source": [
        "!unzip -o -q trash_data.zip -d data3"
      ],
      "metadata": {
        "id": "iX57g8od5bx8"
      },
      "execution_count": 2,
      "outputs": []
    },
    {
      "cell_type": "markdown",
      "source": [
        "## **Exploratory Analysis**\n",
        "First, I need to prepare all libraries needed for analysis."
      ],
      "metadata": {
        "id": "TcpomHnxLQRw"
      }
    },
    {
      "cell_type": "code",
      "source": [
        "from mpl_toolkits.mplot3d import Axes3D\n",
        "from sklearn.preprocessing import StandardScaler\n",
        "import matplotlib.pyplot as plt # plotting\n",
        "import numpy as np # linear algebra\n",
        "import os # accessing directory structure\n",
        "import pandas as pd # data processing, CSV file I/O (e.g. pd.read_csv)\n",
        "from pathlib import Path\n",
        "\n",
        "from sklearn.model_selection import train_test_split\n",
        "import matplotlib.image as mpimg\n",
        "\n",
        "# untuk hunting file corrupt\n",
        "from PIL import Image\n",
        "import shutil\n",
        "\n",
        "# untuk keperluan modeling\n",
        "import tensorflow as tf\n",
        "from tensorflow.keras.preprocessing.image import ImageDataGenerator\n",
        "from tensorflow.keras import regularizers\n",
        "from tensorflow.keras.regularizers import l2\n",
        "\n",
        "\n"
      ],
      "metadata": {
        "id": "oesy4VQ4KzCv"
      },
      "execution_count": 3,
      "outputs": []
    },
    {
      "cell_type": "code",
      "source": [
        "root_dir = Path('./data3/resized_data')\n",
        "train_dir = os.path.join(root_dir, 'train')\n",
        "test_dir = os.path.join(root_dir, 'test')"
      ],
      "metadata": {
        "id": "fcBcxng8NaDX"
      },
      "execution_count": 4,
      "outputs": []
    },
    {
      "cell_type": "code",
      "source": [
        "# Buat ngecek dir\n",
        "# for entry in os.listdir(root_dir):\n",
        "#     full_path = os.path.join(root_dir, entry)\n",
        "#     if os.path.isdir(full_path):\n",
        "#         print(f\"|---->: {os.path.basename(full_path)}\")\n",
        "#         for entry2 in os.listdir(full_path):\n",
        "#             full_path2 = os.path.join(full_path, entry2)\n",
        "#             if os.path.isdir(full_path2):\n",
        "#                 print(f\"    |---->: {os.path.basename(full_path2)}\")\n"
      ],
      "metadata": {
        "id": "gC8nA-ZRSodi"
      },
      "execution_count": null,
      "outputs": []
    },
    {
      "cell_type": "code",
      "source": [],
      "metadata": {
        "id": "IO42X_CifaU8"
      },
      "execution_count": null,
      "outputs": []
    },
    {
      "cell_type": "markdown",
      "source": [
        "### Installasi Tensorflow\n"
      ],
      "metadata": {
        "id": "q1NpMW5yc0si"
      }
    },
    {
      "cell_type": "code",
      "source": [
        "# !pip install tensorflow"
      ],
      "metadata": {
        "id": "_4PgG952cbli"
      },
      "execution_count": null,
      "outputs": []
    },
    {
      "cell_type": "markdown",
      "source": [
        "#### Mengecek installasi tensorflow\n"
      ],
      "metadata": {
        "id": "3lyURH8me0Vp"
      }
    },
    {
      "cell_type": "code",
      "source": [
        "# !pip show tensorflow\n"
      ],
      "metadata": {
        "id": "AmxYsv6ic7B6"
      },
      "execution_count": null,
      "outputs": []
    },
    {
      "cell_type": "code",
      "source": [
        "# !pip show matplotlib"
      ],
      "metadata": {
        "id": "nFfZJSNNVDzD"
      },
      "execution_count": null,
      "outputs": []
    },
    {
      "cell_type": "code",
      "source": [
        "# def display_sample_images(base_dir, n_samples=3):\n",
        "\n",
        "#     categories = os.listdir(base_dir)\n",
        "#     n_categories = len(categories)\n",
        "\n",
        "#     fig, axes = plt.subplots(n_categories, n_samples, figsize=(15, 3*n_categories))\n",
        "\n",
        "#     for i, category in enumerate(categories):\n",
        "#         # FullPath untuk setiap kategori folder\n",
        "#         fullpath_category = os.path.join(base_dir, category)\n",
        "\n",
        "#         # Mendapatkan semua file gambar dalam kategori\n",
        "#         image_files = [f for f in os.listdir(fullpath_category)\n",
        "#                       if f.lower().endswith(('.png', '.jpg', '.jpeg'))]\n",
        "\n",
        "#         # Mengambil 5 gambar secara random\n",
        "#         selected_images = image_files[0:n_samples]\n",
        "\n",
        "#         # Menampilkan gambar\n",
        "#         for j, image_file in enumerate(selected_images):\n",
        "#             img_path = os.path.join(fullpath_category, image_file)\n",
        "#             try:\n",
        "#                 img = mpimg.imread(img_path)\n",
        "#                 # Plot gambar\n",
        "#                 axes[i, j].imshow(img)\n",
        "#                 axes[i, j].axis('off')\n",
        "\n",
        "#                 # Menambahkan judul kategori hanya pada gambar pertama setiap baris\n",
        "#                 if j == 0:\n",
        "#                     axes[i, j].set_title(f'{category}', pad=10)\n",
        "#             except Exception as e:\n",
        "#                 print(f\"Error loading image {img_path}: {str(e)}\")\n",
        "\n",
        "#                 # Untuk gambar yang error\n",
        "#                 axes[i, j].text(0.5, 0.5, 'Error loading image',\n",
        "#                               ha='center', va='center')\n",
        "#                 axes[i, j].axis('off')\n",
        "\n",
        "#                 continue\n",
        "\n",
        "\n",
        "#     # plt.tight_layout()\n",
        "#     plt.show()\n",
        "\n",
        "# # Menampilkan sampel dari training set\n",
        "# print(\"Sample images from training set:\")\n",
        "# display_sample_images(train_dir)\n",
        "\n",
        "# # Menampilkan sampel dari test set\n",
        "# print(\"\\nSample images from test set:\")\n",
        "# display_sample_images(test_dir)"
      ],
      "metadata": {
        "id": "uYBRJ3o_TFeT"
      },
      "execution_count": null,
      "outputs": []
    },
    {
      "cell_type": "markdown",
      "source": [
        "### **Membersihkan gambar corrupt terlebih dahulu**\n",
        "\n"
      ],
      "metadata": {
        "id": "3motLQq7gJO4"
      }
    },
    {
      "cell_type": "code",
      "source": [
        "# import imghdr\n",
        "# import re\n",
        "\n",
        "# def is_unusual_name(name):\n",
        "#     # Mendeteksi jika nama mengandung karakter selain alfanumerik dan underscore\n",
        "#     # return bool(re.search(r'[^\\x00-\\x7F]', name) or re.search(r'[_\\W]+', name))\n",
        "#     return bool(re.search(r'[^\\x00-\\x7F]', name))\n",
        "\n",
        "# def remove_corrupt_images(base_dir):\n",
        "#    \"\"\"\n",
        "#    Menghapus gambar yang corrupt dari direktori dataset\n",
        "\n",
        "#    Args:\n",
        "#        base_dir: Directory utama dataset\n",
        "#    \"\"\"\n",
        "#    corrupt_count = 0\n",
        "#    total_images = 0\n",
        "#    corrupt_files = []\n",
        "\n",
        "#    print(\"Scanning for corrupt images...\")\n",
        "\n",
        "#    # Iterasi melalui semua folder dan subfolder\n",
        "#    for root, dirs, files in os.walk(base_dir):\n",
        "#        for dir in dirs:\n",
        "#           #  print(dir)\n",
        "#            if is_unusual_name(dir):\n",
        "#                print(\"dir nama aneh :\", dir, \": \", os.path.join(root, dir))\n",
        "#                if os.path.exists(os.path.join(root, dir)):\n",
        "#                   shutil.rmtree(os.path.join(root, dir))\n",
        "#                   print(\"dir berhasil dihapus\")\n",
        "\n",
        "\n",
        "#        for filename in files:\n",
        "#            if filename.lower().endswith(('.png', '.jpg', '.jpeg')):\n",
        "#                total_images += 1\n",
        "#                filepath = os.path.join(root, filename)\n",
        "\n",
        "#                try:\n",
        "#                    # Coba buka dan verifikasi gambar\n",
        "#                   #  with Image.open(filepath) as img:\n",
        "#                   #      img.verify()  # Verifikasi file\n",
        "#                   #      img.load()    # Coba load pixel data\n",
        "\n",
        "#                    # Verifikasi tambahan menggunakan imghdr\n",
        "#                   #  if imghdr.what(filepath) is None:\n",
        "#                   #      raise ValueError(\"File bukan gambar yang valid\")\n",
        "#                   img = mpimg.imread(filepath)\n",
        "\n",
        "\n",
        "#                except Exception as e:\n",
        "#                    corrupt_count += 1\n",
        "#                    corrupt_files.append((filepath, str(e)))\n",
        "\n",
        "#                    # Hapus file corrupt\n",
        "#                    try:\n",
        "#                        os.remove(filepath)\n",
        "#                        print(f\"Deleted corrupt file: {filepath}\")\n",
        "#                    except Exception as e:\n",
        "#                        print(f\"Error deleting {filepath}: {str(e)}\")\n",
        "\n",
        "#    # Print summary\n",
        "#    print(\"\\nPembersihan selesai!\")\n",
        "#    print(f\"Total gambar diperiksa: {total_images}\")\n",
        "#    print(f\"Gambar corrupt dihapus: {corrupt_count}\")\n",
        "\n",
        "#    if corrupt_files:\n",
        "#        print(\"\\nDaftar file yang dihapus:\")\n",
        "#        for path, error in corrupt_files:\n",
        "#            print(f\"- {path}\")\n",
        "#            print(f\"  Error: {error}\")\n",
        "\n",
        "#    # Hitung jumlah gambar yang tersisa per kategori\n",
        "#    print(\"\\nJumlah gambar tersisa per kategori:\")\n",
        "#    for root, dirs, files in os.walk(base_dir):\n",
        "#        category = os.path.basename(root)\n",
        "#        if category:\n",
        "#            image_count = len([f for f in files if f.lower().endswith(('.png', '.jpg', '.jpeg'))])\n",
        "#            if image_count > 0:\n",
        "#                print(f\"{category}: {image_count} gambar\")\n",
        "\n",
        "#    return corrupt_files"
      ],
      "metadata": {
        "id": "VuSkzV5jgZe4"
      },
      "execution_count": null,
      "outputs": []
    },
    {
      "cell_type": "markdown",
      "source": [
        "### Saya start hapus yang corrupt"
      ],
      "metadata": {
        "id": "4dJt9U7Xsv_2"
      }
    },
    {
      "cell_type": "code",
      "source": [],
      "metadata": {
        "id": "OpsXgKu9_9v5"
      },
      "execution_count": null,
      "outputs": []
    },
    {
      "cell_type": "code",
      "source": [
        "# corrupt_files = remove_corrupt_images(root_dir)"
      ],
      "metadata": {
        "id": "bCjuCe1Iqe1F"
      },
      "execution_count": null,
      "outputs": []
    },
    {
      "cell_type": "code",
      "source": [
        "# jumlah file di masing2 folder\n",
        "# def count_files_in_folders(root_dir):\n",
        "#     folder_counts = {}\n",
        "\n",
        "#     # Iterasi melalui semua item di root_dir\n",
        "#     for item in os.listdir(root_dir):\n",
        "#         item_path = os.path.join(root_dir, item)\n",
        "\n",
        "#         # Jika item adalah folder\n",
        "#         if os.path.isdir(item_path):\n",
        "#             file_count = 0\n",
        "\n",
        "#             # Hitung file di dalam folder\n",
        "#             for _, _, files in os.walk(item_path):\n",
        "#                 file_count += len(files)\n",
        "\n",
        "#             folder_counts[item] = file_count\n",
        "\n",
        "#     return folder_counts\n",
        "# root_folder = 'data/train'\n",
        "\n",
        "# # Hitung file\n",
        "# result = count_files_in_folders(root_folder)\n",
        "\n",
        "# # Tampilkan hasil\n",
        "# print(f\"Jumlah file di masing-masing folder dalam '{root_folder}':\")\n",
        "# for folder, count in result.items():\n",
        "#     print(f\"{folder}: {count} file\")"
      ],
      "metadata": {
        "id": "9V2C00D0m_bS"
      },
      "execution_count": null,
      "outputs": []
    },
    {
      "cell_type": "code",
      "source": [
        "# # menghapus folder data dan seluruh isinya\n",
        "# import shutil\n",
        "# import os\n",
        "\n",
        "# def delete_directory(path):\n",
        "#     try:\n",
        "#         # Periksa apakah direktori ada\n",
        "#         if os.path.exists(path):\n",
        "#             # Hapus direktori dan semua isinya\n",
        "#             shutil.rmtree(path)\n",
        "#             print(f\"Direktori '{path}' berhasil dihapus beserta seluruh isinya.\")\n",
        "#         else:\n",
        "#             print(f\"Direktori '{path}' tidak ditemukan.\")\n",
        "#     except Exception as e:\n",
        "#         print(f\"Terjadi kesalahan saat menghapus direktori: {e}\")\n",
        "\n",
        "\n",
        "\n",
        "# # Panggil fungsi untuk menghapus direktori | hati2 sluurr...\n",
        "# # delete_directory('data')\n",
        "\n",
        "# # Verifikasi bahwa direktori telah dihapus\n",
        "# if not os.path.exists('data2'):\n",
        "#     print(\"Verifikasi: Direktori 'data' tidak ada lagi.\")\n",
        "# else:\n",
        "#     print(\"Verifikasi: Direktori 'data' masih ada. Penghapusan mungkin gagal.\")"
      ],
      "metadata": {
        "id": "3rR7WX7loMCd"
      },
      "execution_count": null,
      "outputs": []
    },
    {
      "cell_type": "code",
      "source": [
        "# from google.colab import drive\n",
        "# drive.mount('/content/drive')"
      ],
      "metadata": {
        "id": "19LtvVEak3pM"
      },
      "execution_count": null,
      "outputs": []
    },
    {
      "cell_type": "code",
      "source": [
        "# # import os\n",
        "# # import shutil\n",
        "# from tqdm import tqdm\n",
        "\n",
        "# def copy_directory_structure(source_dir, destination_dir):\n",
        "#     \"\"\"\n",
        "#     Menyalin seluruh struktur direktori dan file dari source ke destination\n",
        "#     dengan progress bar\n",
        "#     \"\"\"\n",
        "#     # Hitung total file yang akan disalin\n",
        "#     total_files = sum([len(files) for _, _, files in os.walk(source_dir)])\n",
        "\n",
        "#     print(f\"Total files to copy: {total_files}\")\n",
        "#     print(f\"From: {source_dir}\")\n",
        "#     print(f\"To: {destination_dir}\")\n",
        "\n",
        "#     # Buat progress bar\n",
        "#     pbar = tqdm(total=total_files, desc=\"Copying files\")\n",
        "\n",
        "#     # Iterasi melalui semua direktori dan file\n",
        "#     for root, dirs, files in os.walk(source_dir):\n",
        "#         # Buat struktur direktori yang sama di destination\n",
        "#         relative_path = os.path.relpath(root, source_dir)\n",
        "#         destination_path = os.path.join(destination_dir, relative_path)\n",
        "\n",
        "#         # Buat direktori jika belum ada\n",
        "#         if not os.path.exists(destination_path):\n",
        "#             os.makedirs(destination_path)\n",
        "#             print(f\"\\nCreated directory: {destination_path}\")\n",
        "\n",
        "#         # Salin semua file dalam direktori current\n",
        "#         for file in files:\n",
        "#             source_file = os.path.join(root, file)\n",
        "#             destination_file = os.path.join(destination_path, file)\n",
        "\n",
        "#             try:\n",
        "#                 shutil.copy2(source_file, destination_file)\n",
        "#                 pbar.update(1)\n",
        "#             except Exception as e:\n",
        "#                 print(f\"\\nError copying {source_file}: {str(e)}\")\n",
        "\n",
        "#     pbar.close()\n",
        "\n",
        "#     # Verifikasi hasil copy\n",
        "#     def count_files(directory):\n",
        "#         return sum([len(files) for _, _, files in os.walk(directory)])\n",
        "\n",
        "#     source_count = count_files(source_dir)\n",
        "#     dest_count = count_files(destination_dir)\n",
        "\n",
        "#     print(\"\\nCopy completed!\")\n",
        "#     print(f\"Files in source: {source_count}\")\n",
        "#     print(f\"Files in destination: {dest_count}\")\n",
        "\n",
        "#     # Tampilkan struktur folder hasil copy\n",
        "#     print(\"\\nDestination directory structure:\")\n",
        "#     for root, dirs, files in os.walk(destination_dir):\n",
        "#         level = root.replace(destination_dir, '').count(os.sep)\n",
        "#         indent = ' ' * 4 * level\n",
        "#         print(f\"{indent}{os.path.basename(root)}/\")\n",
        "#         subindent = ' ' * 4 * (level + 1)\n",
        "#         for f in files:\n",
        "#             print(f\"{subindent}{f}\")\n",
        "\n",
        "# # Source dan destination directories\n",
        "# source_dir = 'data'\n",
        "# destination_dir = '/content/drive/MyDrive/trash_data_not_corrupt_insyaAllah'\n",
        "\n",
        "# # Pastikan Google Drive sudah dimount\n",
        "# # from google.colab import drive\n",
        "# # drive.mount('/content/drive')\n",
        "\n",
        "# # Jalankan fungsi copy\n",
        "# copy_directory_structure(source_dir, destination_dir)"
      ],
      "metadata": {
        "id": "_pspJ4OEknzK"
      },
      "execution_count": null,
      "outputs": []
    },
    {
      "cell_type": "code",
      "source": [
        "# import os\n",
        "# import zipfile\n",
        "# import shutil\n",
        "# from tqdm import tqdm\n",
        "# from google.colab import drive\n",
        "\n",
        "# def create_and_copy_zip(source_dir, zip_name, destination_dir):\n",
        "#     \"\"\"\n",
        "#     Membuat file zip dari folder dan menyalinnya ke Google Drive\n",
        "#     \"\"\"\n",
        "#     print(\"Mounting Google Drive...\")\n",
        "#     drive.mount('/content/drive')\n",
        "\n",
        "#     # Hitung total file untuk progress bar\n",
        "#     total_files = sum([len(files) for _, _, files in os.walk(source_dir)])\n",
        "#     print(f\"\\nTotal files to compress: {total_files}\")\n",
        "\n",
        "#     # Buat zip file\n",
        "#     print(f\"\\nCreating {zip_name}...\")\n",
        "#     with zipfile.ZipFile(zip_name, 'w', zipfile.ZIP_DEFLATED) as zipf:\n",
        "#         # Gunakan progress bar\n",
        "#         with tqdm(total=total_files, desc=\"Compressing files\") as pbar:\n",
        "#             for root, dirs, files in os.walk(source_dir):\n",
        "#                 # Get path relative to source_dir\n",
        "#                 rel_path = os.path.relpath(root, source_dir)\n",
        "\n",
        "#                 # Add each file to zip\n",
        "#                 for file in files:\n",
        "#                     file_path = os.path.join(root, file)\n",
        "#                     # Add file ke zip dengan menjaga struktur folder\n",
        "#                     arcname = os.path.join(os.path.basename(source_dir),\n",
        "#                                          rel_path, file)\n",
        "#                     try:\n",
        "#                         zipf.write(file_path, arcname)\n",
        "#                         pbar.update(1)\n",
        "#                     except Exception as e:\n",
        "#                         print(f\"\\nError adding {file_path}: {str(e)}\")\n",
        "\n",
        "#     # Get zip file size\n",
        "#     zip_size = os.path.getsize(zip_name) / (1024 * 1024)  # Convert to MB\n",
        "#     print(f\"\\nZip file created: {zip_name} ({zip_size:.2f} MB)\")\n",
        "\n",
        "#     # Copy zip ke Google Drive\n",
        "#     print(f\"\\nCopying {zip_name} to Google Drive...\")\n",
        "#     try:\n",
        "#         shutil.copy2(zip_name, destination_dir)\n",
        "#         print(f\"Successfully copied to: {destination_dir}\")\n",
        "\n",
        "#         # Verifikasi file ada di drive\n",
        "#         dest_path = os.path.join(destination_dir, zip_name)\n",
        "#         if os.path.exists(dest_path):\n",
        "#             dest_size = os.path.getsize(dest_path) / (1024 * 1024)\n",
        "#             print(f\"Verified: File exists in drive ({dest_size:.2f} MB)\")\n",
        "#         else:\n",
        "#             print(\"Warning: File not found in destination!\")\n",
        "\n",
        "#     except Exception as e:\n",
        "#         print(f\"Error copying to drive: {str(e)}\")\n",
        "\n",
        "#     # Optional: Hapus zip file lokal setelah copy\n",
        "#     # try:\n",
        "#     #     os.remove(zip_name)\n",
        "#     #     print(f\"Cleaned up: Removed local {zip_name}\")\n",
        "#     # except Exception as e:\n",
        "#     #     print(f\"Error removing local zip: {str(e)}\")\n",
        "\n",
        "# # Gunakan fungsi\n",
        "# source_dir = 'data2/data'\n",
        "# zip_name = 'trash_data.zip'\n",
        "# destination_dir = '/content/drive/MyDrive'\n",
        "\n",
        "# create_and_copy_zip(source_dir, zip_name, destination_dir)\n",
        "\n",
        "# # Verifikasi isi zip\n",
        "# def verify_zip_contents(zip_path):\n",
        "#     print(\"\\nVerifying zip contents:\")\n",
        "#     try:\n",
        "#         with zipfile.ZipFile(os.path.join(destination_dir, zip_name), 'r') as zipf:\n",
        "#             # Hitung file dalam zip\n",
        "#             total_files = len(zipf.namelist())\n",
        "#             print(f\"Total files in zip: {total_files}\")\n",
        "\n",
        "#             # Tampilkan struktur folder dalam zip\n",
        "#             print(\"\\nZip contents structure:\")\n",
        "#             folders = {}\n",
        "#             for name in zipf.namelist():\n",
        "#                 parts = name.split('/')\n",
        "#                 current = folders\n",
        "#                 for part in parts[:-1]:  # Skip file name\n",
        "#                     if part not in current:\n",
        "#                         current[part] = {}\n",
        "#                     current = current[part]\n",
        "\n",
        "#             # Print struktur folder\n",
        "#             def print_tree(d, indent=0):\n",
        "#                 for k, v in d.items():\n",
        "#                     print('  ' * indent + k + '/')\n",
        "#                     print_tree(v, indent + 1)\n",
        "\n",
        "#             print_tree(folders)\n",
        "\n",
        "#     except Exception as e:\n",
        "#         print(f\"Error verifying zip: {str(e)}\")\n",
        "\n",
        "# # Verifikasi zip setelah copy\n",
        "# verify_zip_contents(os.path.join(destination_dir, zip_name))"
      ],
      "metadata": {
        "id": "b8ejoev9kmHx"
      },
      "execution_count": null,
      "outputs": []
    },
    {
      "cell_type": "code",
      "source": [
        "# !cp trash_data.zip \"/content/drive/MyDrive/\"\n"
      ],
      "metadata": {
        "id": "8b3O29uWzsXo"
      },
      "execution_count": null,
      "outputs": []
    },
    {
      "cell_type": "markdown",
      "source": [
        "## Mulai menuju modeling (masih ada preprocessing)\n"
      ],
      "metadata": {
        "id": "RjcBNZaab554"
      }
    },
    {
      "cell_type": "code",
      "source": [
        "# Tentukan ukuran gambar yang konsisten\n",
        "IMG_HEIGHT = 120\n",
        "IMG_WIDTH = 120\n",
        "BATCH_SIZE = 32"
      ],
      "metadata": {
        "id": "NZaI3zbOb1Gs"
      },
      "execution_count": 5,
      "outputs": []
    },
    {
      "cell_type": "markdown",
      "source": [
        "## Yang dari Module Coursera CNN\n"
      ],
      "metadata": {
        "id": "Wpz0s-914PN9"
      }
    },
    {
      "cell_type": "markdown",
      "source": [
        "Menyiapkan suffle (pengacakan) dan juga prefetch (pengambilan model langsung ketika training)."
      ],
      "metadata": {
        "id": "_w5RTvt8aUAV"
      }
    },
    {
      "cell_type": "code",
      "source": [
        "# pengacakan dan prefetch\n",
        "SUFFLE_BUFFER_SIZE = 1000\n",
        "PREFETCH_BUFFER_SIZE = tf.data.AUTOTUNE"
      ],
      "metadata": {
        "id": "P1Rk-yrqaHSE"
      },
      "execution_count": 6,
      "outputs": []
    },
    {
      "cell_type": "code",
      "source": [
        "train_dataset = tf.keras.utils.image_dataset_from_directory(\n",
        "    train_dir,\n",
        "    image_size=(IMG_HEIGHT, IMG_WIDTH),\n",
        "    batch_size=BATCH_SIZE,\n",
        "    shuffle=True,\n",
        "    label_mode='categorical',\n",
        "    seed=40\n",
        ")"
      ],
      "metadata": {
        "colab": {
          "base_uri": "https://localhost:8080/"
        },
        "id": "avNX7U_Y4O4C",
        "outputId": "804e11e7-a928-4e3b-8cec-e776eb3181cb"
      },
      "execution_count": 7,
      "outputs": [
        {
          "output_type": "stream",
          "name": "stdout",
          "text": [
            "Found 17794 files belonging to 34 classes.\n"
          ]
        }
      ]
    },
    {
      "cell_type": "markdown",
      "source": [
        "### buat test\n"
      ],
      "metadata": {
        "id": "7gW5Bqt0KBPc"
      }
    },
    {
      "cell_type": "code",
      "source": [
        "val_dataset = tf.keras.utils.image_dataset_from_directory(\n",
        "    test_dir,\n",
        "    image_size=(IMG_HEIGHT, IMG_WIDTH),\n",
        "    batch_size=BATCH_SIZE,\n",
        "\n",
        "    shuffle=False,\n",
        "    label_mode='categorical',\n",
        "    seed=3\n",
        ")"
      ],
      "metadata": {
        "colab": {
          "base_uri": "https://localhost:8080/"
        },
        "id": "f_yNfAMD7Ql9",
        "outputId": "ee31fc68-319d-45cd-b54e-4344bdbb92d7"
      },
      "execution_count": 8,
      "outputs": [
        {
          "output_type": "stream",
          "name": "stdout",
          "text": [
            "Found 5726 files belonging to 34 classes.\n"
          ]
        }
      ]
    },
    {
      "cell_type": "markdown",
      "source": [
        "### Diambil dikit buat val_"
      ],
      "metadata": {
        "id": "EMzb2z1OKSHP"
      }
    },
    {
      "cell_type": "code",
      "source": [
        "val_size = tf.data.experimental.cardinality(val_dataset)\n",
        "print(\"val size \", val_size.numpy())\n",
        "test_size = val_size // 8  # Mengambil 20% untuk validation\n",
        "\n",
        "val_ds = val_dataset.skip(test_size)\n",
        "test_dataset = val_dataset.take(test_size)\n",
        "\n",
        "print(val_ds)\n",
        "print(test_dataset)\n",
        "print(\"Jumlah elemen di train_dataset:\", tf.data.experimental.cardinality(train_dataset).numpy())\n",
        "print(\"Jumlah elemen di val_ds:\", tf.data.experimental.cardinality(val_ds).numpy())\n",
        "print(\"Jumlah elemen di test_dataset:\", tf.data.experimental.cardinality(test_dataset).numpy())"
      ],
      "metadata": {
        "id": "qKRrd3bQu9YZ",
        "outputId": "0b2c5f1f-374a-4272-c017-bc9f13552b57",
        "colab": {
          "base_uri": "https://localhost:8080/"
        }
      },
      "execution_count": 9,
      "outputs": [
        {
          "output_type": "stream",
          "name": "stdout",
          "text": [
            "val size  179\n",
            "<_SkipDataset element_spec=(TensorSpec(shape=(None, 120, 120, 3), dtype=tf.float32, name=None), TensorSpec(shape=(None, 34), dtype=tf.float32, name=None))>\n",
            "<_TakeDataset element_spec=(TensorSpec(shape=(None, 120, 120, 3), dtype=tf.float32, name=None), TensorSpec(shape=(None, 34), dtype=tf.float32, name=None))>\n",
            "Jumlah elemen di train_dataset: 557\n",
            "Jumlah elemen di val_ds: 157\n",
            "Jumlah elemen di test_dataset: 22\n"
          ]
        }
      ]
    },
    {
      "cell_type": "code",
      "source": [
        "train_dataset_final = train_dataset.cache().shuffle(\n",
        "    SUFFLE_BUFFER_SIZE,\n",
        "    reshuffle_each_iteration=False\n",
        ").prefetch(PREFETCH_BUFFER_SIZE)\n",
        "\n",
        "validation_dataset_final = val_ds.cache().prefetch(PREFETCH_BUFFER_SIZE)\n",
        "\n",
        "# train_ds = train_ds.cache().shuffle(1000).prefetch(AUTOTUNE)\n",
        "# val_ds = val_ds.cache().prefetch(AUTOTUNE)\n",
        "test_dataset_final = test_dataset.cache().prefetch(PREFETCH_BUFFER_SIZE)"
      ],
      "metadata": {
        "id": "fXSVXYNgamnu"
      },
      "execution_count": 10,
      "outputs": []
    },
    {
      "cell_type": "markdown",
      "source": [
        "## Nyoba Buat Model\n"
      ],
      "metadata": {
        "id": "A-LA7phObP6O"
      }
    },
    {
      "cell_type": "code",
      "source": [
        "models = tf.keras.models\n",
        "layers = tf.keras.layers\n",
        "\n",
        "\n",
        "# model = tf.keras.models.Sequential([\n",
        "#     # menyesuaikan ukuran dimensi gambar + 3 rgb\n",
        "#     tf.keras.Input(shape=(IMG_HEIGHT, IMG_WIDTH, 3)),\n",
        "\n",
        "#     # augmen\n",
        "#     tf.keras.layers.RandomFlip(\"horizontal\"),\n",
        "#     tf.keras.layers.RandomRotation(0.2),\n",
        "#     tf.keras.layers.RandomZoom(0.2),\n",
        "#     #\n",
        "#     tf.keras.layers.Rescaling(1./255),\n",
        "#     tf.keras.layers.Conv2D(8, (3, 3), activation='relu'),\n",
        "#     tf.keras.layers.BatchNormalization(),\n",
        "#     tf.keras.layers.MaxPooling2D(2, 2),\n",
        "#     tf.keras.layers.Conv2D(16, (3, 3), activation='relu'),\n",
        "#     tf.keras.layers.BatchNormalization(),\n",
        "#     tf.keras.layers.MaxPooling2D(2, 2),\n",
        "#     tf.keras.layers.Conv2D(32, (3, 3), activation='relu'),\n",
        "#     tf.keras.layers.BatchNormalization(),\n",
        "#     tf.keras.layers.MaxPooling2D(2, 2),\n",
        "#     # diflatten untuk mendapatkan matriks 2 dimensi lagi\n",
        "#     tf.keras.layers.Flatten(),\n",
        "#     tf.keras.layers.Dense(64,\n",
        "#                           activation='relu',\n",
        "#                           # kernel_regularizer=regularizers.l2(0.01)\n",
        "#                           ),\n",
        "#     tf.keras.layers.Dropout(0.1),\n",
        "#     tf.keras.layers.Dense(34, activation='softmax')\n",
        "# ])\n",
        "\n",
        "model = tf.keras.models.Sequential([\n",
        "    tf.keras.Input(shape=(IMG_HEIGHT, IMG_WIDTH, 3)),\n",
        "\n",
        "    # Augmentasi yang lebih agresif\n",
        "    tf.keras.layers.RandomFlip(\"horizontal_and_vertical\"),\n",
        "    tf.keras.layers.RandomRotation(0.2, fill_mode=\"nearest\"),\n",
        "    tf.keras.layers.RandomZoom(0.2, fill_mode=\"nearest\"),\n",
        "    tf.keras.layers.RandomTranslation(0.2, 0.2, fill_mode=\"nearest\"),\n",
        "    # tf.keras.layers.RandomBrightness(0.2,),\n",
        "    # tf.keras.layers.RandomContrast(0.2),\n",
        "\n",
        "    tf.keras.layers.Rescaling(1./255),\n",
        "\n",
        "    tf.keras.layers.Conv2D(32, (3, 3), activation=\"relu\"),\n",
        "    # tf.keras.layers.BatchNormalization(),\n",
        "    tf.keras.layers.MaxPooling2D(2, 2),\n",
        "    # tf.keras.layers.Dropout(0.2),\n",
        "\n",
        "    tf.keras.layers.Conv2D(64, (3, 3), activation=\"relu\"),\n",
        "    # tf.keras.layers.Conv2D(64, (3, 3), activation=\"relu\", kernel_regularizer=l2(0.001)),\n",
        "    # tf.keras.layers.BatchNormalization()\n",
        "    tf.keras.layers.MaxPooling2D(2, 2),\n",
        "    tf.keras.layers.Dropout(0.3),\n",
        "\n",
        "    tf.keras.layers.Conv2D(128, (3, 3), activation=\"relu\"),\n",
        "    # tf.keras.layers.Conv2D(128, (3, 3), activation=\"relu\", kernel_regularizer=l2(0.001)),\n",
        "    # tf.keras.layers.BatchNormalization(),\n",
        "    tf.keras.layers.MaxPooling2D(2, 2),\n",
        "    tf.keras.layers.Dropout(0.3),\n",
        "\n",
        "    tf.keras.layers.Conv2D(512, (3, 3), activation=\"relu\"),\n",
        "    # tf.keras.layers.Conv2D(512, (3, 3), activation=\"relu\", kernel_regularizer=l2(0.001)),\n",
        "    # tf.keras.layers.BatchNormalization(),\n",
        "    tf.keras.layers.MaxPooling2D(2, 2),\n",
        "    tf.keras.layers.Dropout(0.2),\n",
        "\n",
        "    tf.keras.layers.Flatten(),\n",
        "\n",
        "    # Dense layers dengan regularisasi yang lebih kuat\n",
        "    tf.keras.layers.Dense(512,),\n",
        "\n",
        "    tf.keras.layers.BatchNormalization(),\n",
        "    tf.keras.layers.Activation('relu'),\n",
        "    # tf.keras.layers.Dropout(0.5),\n",
        "\n",
        "    tf.keras.layers.Dense(34, activation='softmax')\n",
        "])\n",
        "\n",
        "\n",
        "# model = models.Sequential([\n",
        "#     tf.keras.Input(shape=(IMG_HEIGHT, IMG_WIDTH, 3)),\n",
        "\n",
        "#     # Augmentasi yang lebih agresif\n",
        "#     tf.keras.layers.RandomFlip(\"horizontal_and_vertical\"),\n",
        "#     tf.keras.layers.RandomRotation(0.3),\n",
        "#     tf.keras.layers.RandomZoom(0.3),\n",
        "#     tf.keras.layers.RandomBrightness(0.2),\n",
        "#     tf.keras.layers.RandomContrast(0.2),\n",
        "\n",
        "#     tf.keras.layers.Rescaling(1./255),\n",
        "#     layers.GlobalAveragePooling2D(),\n",
        "#     layers.Dropout(0.2),\n",
        "#     layers.Dense(128, activation='relu'),\n",
        "#     layers.Dropout(0.2),\n",
        "#     layers.Dense(34, activation='softmax')\n",
        "#     ])\n",
        "\n",
        "model.summary()"
      ],
      "metadata": {
        "colab": {
          "base_uri": "https://localhost:8080/",
          "height": 884
        },
        "id": "aVi7QJYTTn7a",
        "outputId": "3c42cc76-63ad-49a7-add1-d50e93f8bd35"
      },
      "execution_count": 13,
      "outputs": [
        {
          "output_type": "display_data",
          "data": {
            "text/plain": [
              "\u001b[1mModel: \"sequential_2\"\u001b[0m\n"
            ],
            "text/html": [
              "<pre style=\"white-space:pre;overflow-x:auto;line-height:normal;font-family:Menlo,'DejaVu Sans Mono',consolas,'Courier New',monospace\"><span style=\"font-weight: bold\">Model: \"sequential_2\"</span>\n",
              "</pre>\n"
            ]
          },
          "metadata": {}
        },
        {
          "output_type": "display_data",
          "data": {
            "text/plain": [
              "┏━━━━━━━━━━━━━━━━━━━━━━━━━━━━━━━━━━━━━━┳━━━━━━━━━━━━━━━━━━━━━━━━━━━━━┳━━━━━━━━━━━━━━━━━┓\n",
              "┃\u001b[1m \u001b[0m\u001b[1mLayer (type)                        \u001b[0m\u001b[1m \u001b[0m┃\u001b[1m \u001b[0m\u001b[1mOutput Shape               \u001b[0m\u001b[1m \u001b[0m┃\u001b[1m \u001b[0m\u001b[1m        Param #\u001b[0m\u001b[1m \u001b[0m┃\n",
              "┡━━━━━━━━━━━━━━━━━━━━━━━━━━━━━━━━━━━━━━╇━━━━━━━━━━━━━━━━━━━━━━━━━━━━━╇━━━━━━━━━━━━━━━━━┩\n",
              "│ random_flip_2 (\u001b[38;5;33mRandomFlip\u001b[0m)           │ (\u001b[38;5;45mNone\u001b[0m, \u001b[38;5;34m120\u001b[0m, \u001b[38;5;34m120\u001b[0m, \u001b[38;5;34m3\u001b[0m)         │               \u001b[38;5;34m0\u001b[0m │\n",
              "├──────────────────────────────────────┼─────────────────────────────┼─────────────────┤\n",
              "│ random_rotation_2 (\u001b[38;5;33mRandomRotation\u001b[0m)   │ (\u001b[38;5;45mNone\u001b[0m, \u001b[38;5;34m120\u001b[0m, \u001b[38;5;34m120\u001b[0m, \u001b[38;5;34m3\u001b[0m)         │               \u001b[38;5;34m0\u001b[0m │\n",
              "├──────────────────────────────────────┼─────────────────────────────┼─────────────────┤\n",
              "│ random_zoom_2 (\u001b[38;5;33mRandomZoom\u001b[0m)           │ (\u001b[38;5;45mNone\u001b[0m, \u001b[38;5;34m120\u001b[0m, \u001b[38;5;34m120\u001b[0m, \u001b[38;5;34m3\u001b[0m)         │               \u001b[38;5;34m0\u001b[0m │\n",
              "├──────────────────────────────────────┼─────────────────────────────┼─────────────────┤\n",
              "│ random_translation_2                 │ (\u001b[38;5;45mNone\u001b[0m, \u001b[38;5;34m120\u001b[0m, \u001b[38;5;34m120\u001b[0m, \u001b[38;5;34m3\u001b[0m)         │               \u001b[38;5;34m0\u001b[0m │\n",
              "│ (\u001b[38;5;33mRandomTranslation\u001b[0m)                  │                             │                 │\n",
              "├──────────────────────────────────────┼─────────────────────────────┼─────────────────┤\n",
              "│ rescaling_2 (\u001b[38;5;33mRescaling\u001b[0m)              │ (\u001b[38;5;45mNone\u001b[0m, \u001b[38;5;34m120\u001b[0m, \u001b[38;5;34m120\u001b[0m, \u001b[38;5;34m3\u001b[0m)         │               \u001b[38;5;34m0\u001b[0m │\n",
              "├──────────────────────────────────────┼─────────────────────────────┼─────────────────┤\n",
              "│ conv2d_8 (\u001b[38;5;33mConv2D\u001b[0m)                    │ (\u001b[38;5;45mNone\u001b[0m, \u001b[38;5;34m118\u001b[0m, \u001b[38;5;34m118\u001b[0m, \u001b[38;5;34m32\u001b[0m)        │             \u001b[38;5;34m896\u001b[0m │\n",
              "├──────────────────────────────────────┼─────────────────────────────┼─────────────────┤\n",
              "│ max_pooling2d_8 (\u001b[38;5;33mMaxPooling2D\u001b[0m)       │ (\u001b[38;5;45mNone\u001b[0m, \u001b[38;5;34m59\u001b[0m, \u001b[38;5;34m59\u001b[0m, \u001b[38;5;34m32\u001b[0m)          │               \u001b[38;5;34m0\u001b[0m │\n",
              "├──────────────────────────────────────┼─────────────────────────────┼─────────────────┤\n",
              "│ conv2d_9 (\u001b[38;5;33mConv2D\u001b[0m)                    │ (\u001b[38;5;45mNone\u001b[0m, \u001b[38;5;34m57\u001b[0m, \u001b[38;5;34m57\u001b[0m, \u001b[38;5;34m64\u001b[0m)          │          \u001b[38;5;34m18,496\u001b[0m │\n",
              "├──────────────────────────────────────┼─────────────────────────────┼─────────────────┤\n",
              "│ max_pooling2d_9 (\u001b[38;5;33mMaxPooling2D\u001b[0m)       │ (\u001b[38;5;45mNone\u001b[0m, \u001b[38;5;34m28\u001b[0m, \u001b[38;5;34m28\u001b[0m, \u001b[38;5;34m64\u001b[0m)          │               \u001b[38;5;34m0\u001b[0m │\n",
              "├──────────────────────────────────────┼─────────────────────────────┼─────────────────┤\n",
              "│ dropout_6 (\u001b[38;5;33mDropout\u001b[0m)                  │ (\u001b[38;5;45mNone\u001b[0m, \u001b[38;5;34m28\u001b[0m, \u001b[38;5;34m28\u001b[0m, \u001b[38;5;34m64\u001b[0m)          │               \u001b[38;5;34m0\u001b[0m │\n",
              "├──────────────────────────────────────┼─────────────────────────────┼─────────────────┤\n",
              "│ conv2d_10 (\u001b[38;5;33mConv2D\u001b[0m)                   │ (\u001b[38;5;45mNone\u001b[0m, \u001b[38;5;34m26\u001b[0m, \u001b[38;5;34m26\u001b[0m, \u001b[38;5;34m128\u001b[0m)         │          \u001b[38;5;34m73,856\u001b[0m │\n",
              "├──────────────────────────────────────┼─────────────────────────────┼─────────────────┤\n",
              "│ max_pooling2d_10 (\u001b[38;5;33mMaxPooling2D\u001b[0m)      │ (\u001b[38;5;45mNone\u001b[0m, \u001b[38;5;34m13\u001b[0m, \u001b[38;5;34m13\u001b[0m, \u001b[38;5;34m128\u001b[0m)         │               \u001b[38;5;34m0\u001b[0m │\n",
              "├──────────────────────────────────────┼─────────────────────────────┼─────────────────┤\n",
              "│ dropout_7 (\u001b[38;5;33mDropout\u001b[0m)                  │ (\u001b[38;5;45mNone\u001b[0m, \u001b[38;5;34m13\u001b[0m, \u001b[38;5;34m13\u001b[0m, \u001b[38;5;34m128\u001b[0m)         │               \u001b[38;5;34m0\u001b[0m │\n",
              "├──────────────────────────────────────┼─────────────────────────────┼─────────────────┤\n",
              "│ conv2d_11 (\u001b[38;5;33mConv2D\u001b[0m)                   │ (\u001b[38;5;45mNone\u001b[0m, \u001b[38;5;34m11\u001b[0m, \u001b[38;5;34m11\u001b[0m, \u001b[38;5;34m512\u001b[0m)         │         \u001b[38;5;34m590,336\u001b[0m │\n",
              "├──────────────────────────────────────┼─────────────────────────────┼─────────────────┤\n",
              "│ max_pooling2d_11 (\u001b[38;5;33mMaxPooling2D\u001b[0m)      │ (\u001b[38;5;45mNone\u001b[0m, \u001b[38;5;34m5\u001b[0m, \u001b[38;5;34m5\u001b[0m, \u001b[38;5;34m512\u001b[0m)           │               \u001b[38;5;34m0\u001b[0m │\n",
              "├──────────────────────────────────────┼─────────────────────────────┼─────────────────┤\n",
              "│ dropout_8 (\u001b[38;5;33mDropout\u001b[0m)                  │ (\u001b[38;5;45mNone\u001b[0m, \u001b[38;5;34m5\u001b[0m, \u001b[38;5;34m5\u001b[0m, \u001b[38;5;34m512\u001b[0m)           │               \u001b[38;5;34m0\u001b[0m │\n",
              "├──────────────────────────────────────┼─────────────────────────────┼─────────────────┤\n",
              "│ flatten_2 (\u001b[38;5;33mFlatten\u001b[0m)                  │ (\u001b[38;5;45mNone\u001b[0m, \u001b[38;5;34m12800\u001b[0m)               │               \u001b[38;5;34m0\u001b[0m │\n",
              "├──────────────────────────────────────┼─────────────────────────────┼─────────────────┤\n",
              "│ dense_4 (\u001b[38;5;33mDense\u001b[0m)                      │ (\u001b[38;5;45mNone\u001b[0m, \u001b[38;5;34m512\u001b[0m)                 │       \u001b[38;5;34m6,554,112\u001b[0m │\n",
              "├──────────────────────────────────────┼─────────────────────────────┼─────────────────┤\n",
              "│ batch_normalization_2                │ (\u001b[38;5;45mNone\u001b[0m, \u001b[38;5;34m512\u001b[0m)                 │           \u001b[38;5;34m2,048\u001b[0m │\n",
              "│ (\u001b[38;5;33mBatchNormalization\u001b[0m)                 │                             │                 │\n",
              "├──────────────────────────────────────┼─────────────────────────────┼─────────────────┤\n",
              "│ activation_2 (\u001b[38;5;33mActivation\u001b[0m)            │ (\u001b[38;5;45mNone\u001b[0m, \u001b[38;5;34m512\u001b[0m)                 │               \u001b[38;5;34m0\u001b[0m │\n",
              "├──────────────────────────────────────┼─────────────────────────────┼─────────────────┤\n",
              "│ dense_5 (\u001b[38;5;33mDense\u001b[0m)                      │ (\u001b[38;5;45mNone\u001b[0m, \u001b[38;5;34m34\u001b[0m)                  │          \u001b[38;5;34m17,442\u001b[0m │\n",
              "└──────────────────────────────────────┴─────────────────────────────┴─────────────────┘\n"
            ],
            "text/html": [
              "<pre style=\"white-space:pre;overflow-x:auto;line-height:normal;font-family:Menlo,'DejaVu Sans Mono',consolas,'Courier New',monospace\">┏━━━━━━━━━━━━━━━━━━━━━━━━━━━━━━━━━━━━━━┳━━━━━━━━━━━━━━━━━━━━━━━━━━━━━┳━━━━━━━━━━━━━━━━━┓\n",
              "┃<span style=\"font-weight: bold\"> Layer (type)                         </span>┃<span style=\"font-weight: bold\"> Output Shape                </span>┃<span style=\"font-weight: bold\">         Param # </span>┃\n",
              "┡━━━━━━━━━━━━━━━━━━━━━━━━━━━━━━━━━━━━━━╇━━━━━━━━━━━━━━━━━━━━━━━━━━━━━╇━━━━━━━━━━━━━━━━━┩\n",
              "│ random_flip_2 (<span style=\"color: #0087ff; text-decoration-color: #0087ff\">RandomFlip</span>)           │ (<span style=\"color: #00d7ff; text-decoration-color: #00d7ff\">None</span>, <span style=\"color: #00af00; text-decoration-color: #00af00\">120</span>, <span style=\"color: #00af00; text-decoration-color: #00af00\">120</span>, <span style=\"color: #00af00; text-decoration-color: #00af00\">3</span>)         │               <span style=\"color: #00af00; text-decoration-color: #00af00\">0</span> │\n",
              "├──────────────────────────────────────┼─────────────────────────────┼─────────────────┤\n",
              "│ random_rotation_2 (<span style=\"color: #0087ff; text-decoration-color: #0087ff\">RandomRotation</span>)   │ (<span style=\"color: #00d7ff; text-decoration-color: #00d7ff\">None</span>, <span style=\"color: #00af00; text-decoration-color: #00af00\">120</span>, <span style=\"color: #00af00; text-decoration-color: #00af00\">120</span>, <span style=\"color: #00af00; text-decoration-color: #00af00\">3</span>)         │               <span style=\"color: #00af00; text-decoration-color: #00af00\">0</span> │\n",
              "├──────────────────────────────────────┼─────────────────────────────┼─────────────────┤\n",
              "│ random_zoom_2 (<span style=\"color: #0087ff; text-decoration-color: #0087ff\">RandomZoom</span>)           │ (<span style=\"color: #00d7ff; text-decoration-color: #00d7ff\">None</span>, <span style=\"color: #00af00; text-decoration-color: #00af00\">120</span>, <span style=\"color: #00af00; text-decoration-color: #00af00\">120</span>, <span style=\"color: #00af00; text-decoration-color: #00af00\">3</span>)         │               <span style=\"color: #00af00; text-decoration-color: #00af00\">0</span> │\n",
              "├──────────────────────────────────────┼─────────────────────────────┼─────────────────┤\n",
              "│ random_translation_2                 │ (<span style=\"color: #00d7ff; text-decoration-color: #00d7ff\">None</span>, <span style=\"color: #00af00; text-decoration-color: #00af00\">120</span>, <span style=\"color: #00af00; text-decoration-color: #00af00\">120</span>, <span style=\"color: #00af00; text-decoration-color: #00af00\">3</span>)         │               <span style=\"color: #00af00; text-decoration-color: #00af00\">0</span> │\n",
              "│ (<span style=\"color: #0087ff; text-decoration-color: #0087ff\">RandomTranslation</span>)                  │                             │                 │\n",
              "├──────────────────────────────────────┼─────────────────────────────┼─────────────────┤\n",
              "│ rescaling_2 (<span style=\"color: #0087ff; text-decoration-color: #0087ff\">Rescaling</span>)              │ (<span style=\"color: #00d7ff; text-decoration-color: #00d7ff\">None</span>, <span style=\"color: #00af00; text-decoration-color: #00af00\">120</span>, <span style=\"color: #00af00; text-decoration-color: #00af00\">120</span>, <span style=\"color: #00af00; text-decoration-color: #00af00\">3</span>)         │               <span style=\"color: #00af00; text-decoration-color: #00af00\">0</span> │\n",
              "├──────────────────────────────────────┼─────────────────────────────┼─────────────────┤\n",
              "│ conv2d_8 (<span style=\"color: #0087ff; text-decoration-color: #0087ff\">Conv2D</span>)                    │ (<span style=\"color: #00d7ff; text-decoration-color: #00d7ff\">None</span>, <span style=\"color: #00af00; text-decoration-color: #00af00\">118</span>, <span style=\"color: #00af00; text-decoration-color: #00af00\">118</span>, <span style=\"color: #00af00; text-decoration-color: #00af00\">32</span>)        │             <span style=\"color: #00af00; text-decoration-color: #00af00\">896</span> │\n",
              "├──────────────────────────────────────┼─────────────────────────────┼─────────────────┤\n",
              "│ max_pooling2d_8 (<span style=\"color: #0087ff; text-decoration-color: #0087ff\">MaxPooling2D</span>)       │ (<span style=\"color: #00d7ff; text-decoration-color: #00d7ff\">None</span>, <span style=\"color: #00af00; text-decoration-color: #00af00\">59</span>, <span style=\"color: #00af00; text-decoration-color: #00af00\">59</span>, <span style=\"color: #00af00; text-decoration-color: #00af00\">32</span>)          │               <span style=\"color: #00af00; text-decoration-color: #00af00\">0</span> │\n",
              "├──────────────────────────────────────┼─────────────────────────────┼─────────────────┤\n",
              "│ conv2d_9 (<span style=\"color: #0087ff; text-decoration-color: #0087ff\">Conv2D</span>)                    │ (<span style=\"color: #00d7ff; text-decoration-color: #00d7ff\">None</span>, <span style=\"color: #00af00; text-decoration-color: #00af00\">57</span>, <span style=\"color: #00af00; text-decoration-color: #00af00\">57</span>, <span style=\"color: #00af00; text-decoration-color: #00af00\">64</span>)          │          <span style=\"color: #00af00; text-decoration-color: #00af00\">18,496</span> │\n",
              "├──────────────────────────────────────┼─────────────────────────────┼─────────────────┤\n",
              "│ max_pooling2d_9 (<span style=\"color: #0087ff; text-decoration-color: #0087ff\">MaxPooling2D</span>)       │ (<span style=\"color: #00d7ff; text-decoration-color: #00d7ff\">None</span>, <span style=\"color: #00af00; text-decoration-color: #00af00\">28</span>, <span style=\"color: #00af00; text-decoration-color: #00af00\">28</span>, <span style=\"color: #00af00; text-decoration-color: #00af00\">64</span>)          │               <span style=\"color: #00af00; text-decoration-color: #00af00\">0</span> │\n",
              "├──────────────────────────────────────┼─────────────────────────────┼─────────────────┤\n",
              "│ dropout_6 (<span style=\"color: #0087ff; text-decoration-color: #0087ff\">Dropout</span>)                  │ (<span style=\"color: #00d7ff; text-decoration-color: #00d7ff\">None</span>, <span style=\"color: #00af00; text-decoration-color: #00af00\">28</span>, <span style=\"color: #00af00; text-decoration-color: #00af00\">28</span>, <span style=\"color: #00af00; text-decoration-color: #00af00\">64</span>)          │               <span style=\"color: #00af00; text-decoration-color: #00af00\">0</span> │\n",
              "├──────────────────────────────────────┼─────────────────────────────┼─────────────────┤\n",
              "│ conv2d_10 (<span style=\"color: #0087ff; text-decoration-color: #0087ff\">Conv2D</span>)                   │ (<span style=\"color: #00d7ff; text-decoration-color: #00d7ff\">None</span>, <span style=\"color: #00af00; text-decoration-color: #00af00\">26</span>, <span style=\"color: #00af00; text-decoration-color: #00af00\">26</span>, <span style=\"color: #00af00; text-decoration-color: #00af00\">128</span>)         │          <span style=\"color: #00af00; text-decoration-color: #00af00\">73,856</span> │\n",
              "├──────────────────────────────────────┼─────────────────────────────┼─────────────────┤\n",
              "│ max_pooling2d_10 (<span style=\"color: #0087ff; text-decoration-color: #0087ff\">MaxPooling2D</span>)      │ (<span style=\"color: #00d7ff; text-decoration-color: #00d7ff\">None</span>, <span style=\"color: #00af00; text-decoration-color: #00af00\">13</span>, <span style=\"color: #00af00; text-decoration-color: #00af00\">13</span>, <span style=\"color: #00af00; text-decoration-color: #00af00\">128</span>)         │               <span style=\"color: #00af00; text-decoration-color: #00af00\">0</span> │\n",
              "├──────────────────────────────────────┼─────────────────────────────┼─────────────────┤\n",
              "│ dropout_7 (<span style=\"color: #0087ff; text-decoration-color: #0087ff\">Dropout</span>)                  │ (<span style=\"color: #00d7ff; text-decoration-color: #00d7ff\">None</span>, <span style=\"color: #00af00; text-decoration-color: #00af00\">13</span>, <span style=\"color: #00af00; text-decoration-color: #00af00\">13</span>, <span style=\"color: #00af00; text-decoration-color: #00af00\">128</span>)         │               <span style=\"color: #00af00; text-decoration-color: #00af00\">0</span> │\n",
              "├──────────────────────────────────────┼─────────────────────────────┼─────────────────┤\n",
              "│ conv2d_11 (<span style=\"color: #0087ff; text-decoration-color: #0087ff\">Conv2D</span>)                   │ (<span style=\"color: #00d7ff; text-decoration-color: #00d7ff\">None</span>, <span style=\"color: #00af00; text-decoration-color: #00af00\">11</span>, <span style=\"color: #00af00; text-decoration-color: #00af00\">11</span>, <span style=\"color: #00af00; text-decoration-color: #00af00\">512</span>)         │         <span style=\"color: #00af00; text-decoration-color: #00af00\">590,336</span> │\n",
              "├──────────────────────────────────────┼─────────────────────────────┼─────────────────┤\n",
              "│ max_pooling2d_11 (<span style=\"color: #0087ff; text-decoration-color: #0087ff\">MaxPooling2D</span>)      │ (<span style=\"color: #00d7ff; text-decoration-color: #00d7ff\">None</span>, <span style=\"color: #00af00; text-decoration-color: #00af00\">5</span>, <span style=\"color: #00af00; text-decoration-color: #00af00\">5</span>, <span style=\"color: #00af00; text-decoration-color: #00af00\">512</span>)           │               <span style=\"color: #00af00; text-decoration-color: #00af00\">0</span> │\n",
              "├──────────────────────────────────────┼─────────────────────────────┼─────────────────┤\n",
              "│ dropout_8 (<span style=\"color: #0087ff; text-decoration-color: #0087ff\">Dropout</span>)                  │ (<span style=\"color: #00d7ff; text-decoration-color: #00d7ff\">None</span>, <span style=\"color: #00af00; text-decoration-color: #00af00\">5</span>, <span style=\"color: #00af00; text-decoration-color: #00af00\">5</span>, <span style=\"color: #00af00; text-decoration-color: #00af00\">512</span>)           │               <span style=\"color: #00af00; text-decoration-color: #00af00\">0</span> │\n",
              "├──────────────────────────────────────┼─────────────────────────────┼─────────────────┤\n",
              "│ flatten_2 (<span style=\"color: #0087ff; text-decoration-color: #0087ff\">Flatten</span>)                  │ (<span style=\"color: #00d7ff; text-decoration-color: #00d7ff\">None</span>, <span style=\"color: #00af00; text-decoration-color: #00af00\">12800</span>)               │               <span style=\"color: #00af00; text-decoration-color: #00af00\">0</span> │\n",
              "├──────────────────────────────────────┼─────────────────────────────┼─────────────────┤\n",
              "│ dense_4 (<span style=\"color: #0087ff; text-decoration-color: #0087ff\">Dense</span>)                      │ (<span style=\"color: #00d7ff; text-decoration-color: #00d7ff\">None</span>, <span style=\"color: #00af00; text-decoration-color: #00af00\">512</span>)                 │       <span style=\"color: #00af00; text-decoration-color: #00af00\">6,554,112</span> │\n",
              "├──────────────────────────────────────┼─────────────────────────────┼─────────────────┤\n",
              "│ batch_normalization_2                │ (<span style=\"color: #00d7ff; text-decoration-color: #00d7ff\">None</span>, <span style=\"color: #00af00; text-decoration-color: #00af00\">512</span>)                 │           <span style=\"color: #00af00; text-decoration-color: #00af00\">2,048</span> │\n",
              "│ (<span style=\"color: #0087ff; text-decoration-color: #0087ff\">BatchNormalization</span>)                 │                             │                 │\n",
              "├──────────────────────────────────────┼─────────────────────────────┼─────────────────┤\n",
              "│ activation_2 (<span style=\"color: #0087ff; text-decoration-color: #0087ff\">Activation</span>)            │ (<span style=\"color: #00d7ff; text-decoration-color: #00d7ff\">None</span>, <span style=\"color: #00af00; text-decoration-color: #00af00\">512</span>)                 │               <span style=\"color: #00af00; text-decoration-color: #00af00\">0</span> │\n",
              "├──────────────────────────────────────┼─────────────────────────────┼─────────────────┤\n",
              "│ dense_5 (<span style=\"color: #0087ff; text-decoration-color: #0087ff\">Dense</span>)                      │ (<span style=\"color: #00d7ff; text-decoration-color: #00d7ff\">None</span>, <span style=\"color: #00af00; text-decoration-color: #00af00\">34</span>)                  │          <span style=\"color: #00af00; text-decoration-color: #00af00\">17,442</span> │\n",
              "└──────────────────────────────────────┴─────────────────────────────┴─────────────────┘\n",
              "</pre>\n"
            ]
          },
          "metadata": {}
        },
        {
          "output_type": "display_data",
          "data": {
            "text/plain": [
              "\u001b[1m Total params: \u001b[0m\u001b[38;5;34m7,257,186\u001b[0m (27.68 MB)\n"
            ],
            "text/html": [
              "<pre style=\"white-space:pre;overflow-x:auto;line-height:normal;font-family:Menlo,'DejaVu Sans Mono',consolas,'Courier New',monospace\"><span style=\"font-weight: bold\"> Total params: </span><span style=\"color: #00af00; text-decoration-color: #00af00\">7,257,186</span> (27.68 MB)\n",
              "</pre>\n"
            ]
          },
          "metadata": {}
        },
        {
          "output_type": "display_data",
          "data": {
            "text/plain": [
              "\u001b[1m Trainable params: \u001b[0m\u001b[38;5;34m7,256,162\u001b[0m (27.68 MB)\n"
            ],
            "text/html": [
              "<pre style=\"white-space:pre;overflow-x:auto;line-height:normal;font-family:Menlo,'DejaVu Sans Mono',consolas,'Courier New',monospace\"><span style=\"font-weight: bold\"> Trainable params: </span><span style=\"color: #00af00; text-decoration-color: #00af00\">7,256,162</span> (27.68 MB)\n",
              "</pre>\n"
            ]
          },
          "metadata": {}
        },
        {
          "output_type": "display_data",
          "data": {
            "text/plain": [
              "\u001b[1m Non-trainable params: \u001b[0m\u001b[38;5;34m1,024\u001b[0m (4.00 KB)\n"
            ],
            "text/html": [
              "<pre style=\"white-space:pre;overflow-x:auto;line-height:normal;font-family:Menlo,'DejaVu Sans Mono',consolas,'Courier New',monospace\"><span style=\"font-weight: bold\"> Non-trainable params: </span><span style=\"color: #00af00; text-decoration-color: #00af00\">1,024</span> (4.00 KB)\n",
              "</pre>\n"
            ]
          },
          "metadata": {}
        }
      ]
    },
    {
      "cell_type": "code",
      "source": [
        "initial_lr = 0.001\n",
        "# lr_schedule = tf.keras.optimizers.schedules.ExponentialDecay(\n",
        "#     initial_lr,\n",
        "#     decay_steps=1000,\n",
        "#     decay_rate=0.9\n",
        "# )\n",
        "\n",
        "# compile dahulu\n",
        "# model.compile(\n",
        "#     optimizer=tf.keras.optimizers.RMSprop(learning_rate=1.75e-4, ),\n",
        "#     loss='categorical_crossentropy',\n",
        "#     metrics=['accuracy'],\n",
        "# )\n",
        "\n",
        "model.compile(\n",
        "    optimizer=tf.keras.optimizers.Adam(learning_rate=0.0001),\n",
        "    loss='categorical_crossentropy',\n",
        "    metrics=['accuracy']\n",
        ")"
      ],
      "metadata": {
        "id": "QHmVb1ygdcs9"
      },
      "execution_count": 24,
      "outputs": []
    },
    {
      "cell_type": "code",
      "source": [
        "# untuk mencari learning rate\n",
        "lr_scheduler = tf.keras.callbacks.LearningRateScheduler(lambda epoch: 1e-4 * 10**(epoch / 20))\n",
        "\n",
        "early_stopping = tf.keras.callbacks.EarlyStopping(\n",
        "    monitor='val_loss',\n",
        "    patience=15,\n",
        "    restore_best_weights=True\n",
        ")\n",
        "\n",
        "reduce_lr = tf.keras.callbacks.ReduceLROnPlateau(\n",
        "    monitor='val_loss',\n",
        "    factor=0.2,\n",
        "    patience=5,\n",
        "    min_lr=0.00001\n",
        ")\n"
      ],
      "metadata": {
        "id": "powSRjOIYOkk"
      },
      "execution_count": 15,
      "outputs": []
    },
    {
      "cell_type": "code",
      "source": [
        "history = model.fit(\n",
        "    train_dataset_final,\n",
        "    validation_data=validation_dataset_final,\n",
        "    epochs=50,\n",
        "    verbose=2,\n",
        "    callbacks=[]\n",
        ")"
      ],
      "metadata": {
        "colab": {
          "base_uri": "https://localhost:8080/"
        },
        "id": "IticwhFud-5z",
        "outputId": "19247023-f266-40e3-c431-4c1504cb5758"
      },
      "execution_count": 25,
      "outputs": [
        {
          "output_type": "stream",
          "name": "stdout",
          "text": [
            "Epoch 1/50\n",
            "557/557 - 20s - 36ms/step - accuracy: 0.3695 - loss: 2.2053 - val_accuracy: 0.3029 - val_loss: 2.5076\n",
            "Epoch 2/50\n",
            "557/557 - 20s - 36ms/step - accuracy: 0.3684 - loss: 2.2102 - val_accuracy: 0.3047 - val_loss: 2.5078\n",
            "Epoch 3/50\n",
            "557/557 - 17s - 31ms/step - accuracy: 0.3691 - loss: 2.2089 - val_accuracy: 0.3029 - val_loss: 2.5335\n",
            "Epoch 4/50\n",
            "557/557 - 20s - 37ms/step - accuracy: 0.3733 - loss: 2.2026 - val_accuracy: 0.3047 - val_loss: 2.5181\n",
            "Epoch 5/50\n",
            "557/557 - 17s - 31ms/step - accuracy: 0.3698 - loss: 2.2091 - val_accuracy: 0.3031 - val_loss: 2.5233\n",
            "Epoch 6/50\n",
            "557/557 - 20s - 36ms/step - accuracy: 0.3696 - loss: 2.1962 - val_accuracy: 0.3037 - val_loss: 2.5228\n",
            "Epoch 7/50\n",
            "557/557 - 20s - 37ms/step - accuracy: 0.3698 - loss: 2.2083 - val_accuracy: 0.3021 - val_loss: 2.5214\n",
            "Epoch 8/50\n",
            "557/557 - 21s - 37ms/step - accuracy: 0.3673 - loss: 2.2020 - val_accuracy: 0.3023 - val_loss: 2.5189\n",
            "Epoch 9/50\n",
            "557/557 - 17s - 30ms/step - accuracy: 0.3725 - loss: 2.1925 - val_accuracy: 0.3023 - val_loss: 2.5147\n",
            "Epoch 10/50\n",
            "557/557 - 21s - 37ms/step - accuracy: 0.3751 - loss: 2.1870 - val_accuracy: 0.3023 - val_loss: 2.5231\n",
            "Epoch 11/50\n",
            "557/557 - 20s - 36ms/step - accuracy: 0.3735 - loss: 2.1938 - val_accuracy: 0.3035 - val_loss: 2.5262\n",
            "Epoch 12/50\n",
            "557/557 - 17s - 31ms/step - accuracy: 0.3740 - loss: 2.1948 - val_accuracy: 0.3047 - val_loss: 2.5149\n",
            "Epoch 13/50\n",
            "557/557 - 17s - 31ms/step - accuracy: 0.3729 - loss: 2.2005 - val_accuracy: 0.3039 - val_loss: 2.5200\n",
            "Epoch 14/50\n",
            "557/557 - 21s - 37ms/step - accuracy: 0.3757 - loss: 2.1956 - val_accuracy: 0.3035 - val_loss: 2.5315\n",
            "Epoch 15/50\n",
            "557/557 - 17s - 31ms/step - accuracy: 0.3684 - loss: 2.1974 - val_accuracy: 0.3047 - val_loss: 2.5281\n",
            "Epoch 16/50\n",
            "557/557 - 20s - 37ms/step - accuracy: 0.3746 - loss: 2.1928 - val_accuracy: 0.3057 - val_loss: 2.5122\n",
            "Epoch 17/50\n",
            "557/557 - 20s - 36ms/step - accuracy: 0.3738 - loss: 2.1908 - val_accuracy: 0.3043 - val_loss: 2.5163\n",
            "Epoch 18/50\n",
            "557/557 - 17s - 31ms/step - accuracy: 0.3743 - loss: 2.1882 - val_accuracy: 0.3049 - val_loss: 2.5141\n",
            "Epoch 19/50\n",
            "557/557 - 17s - 30ms/step - accuracy: 0.3723 - loss: 2.1918 - val_accuracy: 0.3031 - val_loss: 2.5241\n",
            "Epoch 20/50\n",
            "557/557 - 17s - 31ms/step - accuracy: 0.3732 - loss: 2.1860 - val_accuracy: 0.3041 - val_loss: 2.5187\n",
            "Epoch 21/50\n",
            "557/557 - 20s - 37ms/step - accuracy: 0.3689 - loss: 2.1906 - val_accuracy: 0.2989 - val_loss: 2.5367\n",
            "Epoch 22/50\n",
            "557/557 - 17s - 31ms/step - accuracy: 0.3762 - loss: 2.1889 - val_accuracy: 0.3019 - val_loss: 2.5271\n",
            "Epoch 23/50\n",
            "557/557 - 17s - 30ms/step - accuracy: 0.3763 - loss: 2.1764 - val_accuracy: 0.3003 - val_loss: 2.5324\n",
            "Epoch 24/50\n",
            "557/557 - 17s - 30ms/step - accuracy: 0.3744 - loss: 2.1918 - val_accuracy: 0.3021 - val_loss: 2.5225\n",
            "Epoch 25/50\n",
            "557/557 - 21s - 37ms/step - accuracy: 0.3719 - loss: 2.1952 - val_accuracy: 0.3041 - val_loss: 2.5219\n",
            "Epoch 26/50\n",
            "557/557 - 20s - 37ms/step - accuracy: 0.3671 - loss: 2.1900 - val_accuracy: 0.3041 - val_loss: 2.5294\n",
            "Epoch 27/50\n",
            "557/557 - 20s - 36ms/step - accuracy: 0.3725 - loss: 2.1826 - val_accuracy: 0.3001 - val_loss: 2.5372\n",
            "Epoch 28/50\n",
            "557/557 - 17s - 31ms/step - accuracy: 0.3760 - loss: 2.1931 - val_accuracy: 0.3047 - val_loss: 2.5182\n",
            "Epoch 29/50\n",
            "557/557 - 17s - 31ms/step - accuracy: 0.3772 - loss: 2.1814 - val_accuracy: 0.3017 - val_loss: 2.5294\n",
            "Epoch 30/50\n",
            "557/557 - 17s - 30ms/step - accuracy: 0.3711 - loss: 2.1891 - val_accuracy: 0.3067 - val_loss: 2.5156\n",
            "Epoch 31/50\n",
            "557/557 - 21s - 37ms/step - accuracy: 0.3741 - loss: 2.1871 - val_accuracy: 0.3082 - val_loss: 2.5138\n",
            "Epoch 32/50\n",
            "557/557 - 20s - 37ms/step - accuracy: 0.3746 - loss: 2.1831 - val_accuracy: 0.3055 - val_loss: 2.5139\n",
            "Epoch 33/50\n",
            "557/557 - 20s - 37ms/step - accuracy: 0.3711 - loss: 2.1897 - val_accuracy: 0.3080 - val_loss: 2.5059\n",
            "Epoch 34/50\n",
            "557/557 - 21s - 37ms/step - accuracy: 0.3730 - loss: 2.1914 - val_accuracy: 0.3065 - val_loss: 2.5184\n",
            "Epoch 35/50\n",
            "557/557 - 20s - 37ms/step - accuracy: 0.3782 - loss: 2.1809 - val_accuracy: 0.3068 - val_loss: 2.5158\n",
            "Epoch 36/50\n",
            "557/557 - 17s - 30ms/step - accuracy: 0.3724 - loss: 2.1901 - val_accuracy: 0.3021 - val_loss: 2.5202\n",
            "Epoch 37/50\n",
            "557/557 - 21s - 37ms/step - accuracy: 0.3730 - loss: 2.1855 - val_accuracy: 0.3070 - val_loss: 2.5091\n",
            "Epoch 38/50\n",
            "557/557 - 17s - 30ms/step - accuracy: 0.3788 - loss: 2.1855 - val_accuracy: 0.3047 - val_loss: 2.5161\n",
            "Epoch 39/50\n",
            "557/557 - 17s - 30ms/step - accuracy: 0.3739 - loss: 2.1911 - val_accuracy: 0.3039 - val_loss: 2.5203\n",
            "Epoch 40/50\n",
            "557/557 - 21s - 37ms/step - accuracy: 0.3737 - loss: 2.1853 - val_accuracy: 0.3037 - val_loss: 2.5223\n",
            "Epoch 41/50\n",
            "557/557 - 17s - 30ms/step - accuracy: 0.3728 - loss: 2.1833 - val_accuracy: 0.3017 - val_loss: 2.5213\n",
            "Epoch 42/50\n",
            "557/557 - 17s - 30ms/step - accuracy: 0.3804 - loss: 2.1764 - val_accuracy: 0.3047 - val_loss: 2.5193\n",
            "Epoch 43/50\n",
            "557/557 - 21s - 37ms/step - accuracy: 0.3768 - loss: 2.1845 - val_accuracy: 0.3078 - val_loss: 2.5087\n",
            "Epoch 44/50\n",
            "557/557 - 17s - 31ms/step - accuracy: 0.3721 - loss: 2.1820 - val_accuracy: 0.3068 - val_loss: 2.5114\n",
            "Epoch 45/50\n",
            "557/557 - 17s - 30ms/step - accuracy: 0.3729 - loss: 2.1848 - val_accuracy: 0.3067 - val_loss: 2.5091\n",
            "Epoch 46/50\n",
            "557/557 - 21s - 37ms/step - accuracy: 0.3759 - loss: 2.1764 - val_accuracy: 0.3055 - val_loss: 2.5094\n",
            "Epoch 47/50\n",
            "557/557 - 20s - 36ms/step - accuracy: 0.3690 - loss: 2.1863 - val_accuracy: 0.3041 - val_loss: 2.5150\n",
            "Epoch 48/50\n",
            "557/557 - 17s - 31ms/step - accuracy: 0.3730 - loss: 2.1817 - val_accuracy: 0.3049 - val_loss: 2.5152\n",
            "Epoch 49/50\n",
            "557/557 - 20s - 37ms/step - accuracy: 0.3738 - loss: 2.1793 - val_accuracy: 0.3043 - val_loss: 2.5150\n",
            "Epoch 50/50\n",
            "557/557 - 21s - 37ms/step - accuracy: 0.3786 - loss: 2.1781 - val_accuracy: 0.3063 - val_loss: 2.5158\n"
          ]
        }
      ]
    },
    {
      "cell_type": "code",
      "source": [
        "loss, accuracy = model.evaluate(test_dataset)\n",
        "print(\"Accuracy\", accuracy)"
      ],
      "metadata": {
        "id": "n64RTVCw1r4D",
        "colab": {
          "base_uri": "https://localhost:8080/"
        },
        "outputId": "cdeb84c2-4050-443c-8e26-89b10edcf35a"
      },
      "execution_count": 22,
      "outputs": [
        {
          "output_type": "stream",
          "name": "stdout",
          "text": [
            "\u001b[1m22/22\u001b[0m \u001b[32m━━━━━━━━━━━━━━━━━━━━\u001b[0m\u001b[37m\u001b[0m \u001b[1m1s\u001b[0m 33ms/step - accuracy: 0.6586 - loss: 1.4406\n",
            "Accuracy 0.515625\n"
          ]
        }
      ]
    },
    {
      "cell_type": "code",
      "source": [
        "\n",
        "def plot_loss_acc(history):\n",
        "  acc = history.history['accuracy']\n",
        "  val_acc = history.history['val_accuracy']\n",
        "\n",
        "  loss = history.history['loss']\n",
        "  val_loss = history.history['val_loss']\n",
        "\n",
        "  epochs_range = range(len(acc))\n",
        "\n",
        "  fig, (ax1, ax2) = plt.subplots(1, 2, figsize=(15, 6))\n",
        "  ax1.plot(epochs_range, acc, label='Training Accuracy')\n",
        "  ax1.plot(epochs_range, val_acc, label='Validation Accuracy')\n",
        "  ax1.set_xlabel('Epochs')\n",
        "  ax1.set_ylabel('Accuracy')\n",
        "  ax1.set_title('Training and Validation Accuracy')\n",
        "  ax1.legend()\n",
        "\n",
        "  ax2.plot(epochs_range, loss, label='Training Loss')\n",
        "  ax2.plot(epochs_range, val_loss, label='Validation Loss')\n",
        "  ax2.set_xlabel('Epochs')\n",
        "  ax2.set_ylabel('Loss')\n",
        "  ax2.set_title('Training and Validation Loss')\n",
        "  ax2.legend()\n",
        "\n",
        "  plt.tight_layout()\n",
        "  plt.show()\n",
        "\n"
      ],
      "metadata": {
        "id": "clbxNDyofjg_"
      },
      "execution_count": 18,
      "outputs": []
    },
    {
      "cell_type": "code",
      "source": [
        "plot_loss_acc(history)"
      ],
      "metadata": {
        "colab": {
          "base_uri": "https://localhost:8080/",
          "height": 607
        },
        "id": "wsXzzfAxQyXZ",
        "outputId": "1f646d3d-3821-4790-8390-d474536ca368"
      },
      "execution_count": 26,
      "outputs": [
        {
          "output_type": "display_data",
          "data": {
            "text/plain": [
              "<Figure size 1500x600 with 2 Axes>"
            ],
            "image/png": "[encoded data removed]"
          },
          "metadata": {}
        }
      ]
    },
    {
      "cell_type": "code",
      "source": [
        "print(f'Training Accuracy: {history.history[\"accuracy\"][-1]*100:.2f}%')\n",
        "print(f'Validation Accuracy: {history.history[\"val_accuracy\"][-1]*100:.2f}%')"
      ],
      "metadata": {
        "id": "QBezhUlTyvKY"
      },
      "execution_count": null,
      "outputs": []
    },
    {
      "cell_type": "code",
      "source": [
        "plt.semilogx(history.history['learning_rate'], history.history['loss'])\n",
        "# plt.semilogx(history.history['val_loss'], label='Validation Loss')\n",
        "# plt.xlabel('Epochs')\n",
        "# plt.ylabel('Loss')\n",
        "# plt.legend()\n",
        "# plt.title('Training and Validation Loss')"
      ],
      "metadata": {
        "id": "1SMlAMnkhG3M",
        "colab": {
          "base_uri": "https://localhost:8080/",
          "height": 454
        },
        "outputId": "b6626ead-7537-4af4-d6a6-76eec035867e"
      },
      "execution_count": null,
      "outputs": [
        {
          "output_type": "execute_result",
          "data": {
            "text/plain": [
              "[<matplotlib.lines.Line2D at 0x7e9ae2efd780>]"
            ]
          },
          "metadata": {},
          "execution_count": 24
        },
        {
          "output_type": "display_data",
          "data": {
            "text/plain": [
              "<Figure size 640x480 with 1 Axes>"
            ],
            "image/png": "[encoded data removed]"
          },
          "metadata": {}
        }
      ]
    },
    {
      "cell_type": "code",
      "source": [],
      "metadata": {
        "id": "35mAdTa6hIEp"
      },
      "execution_count": null,
      "outputs": []
    }
  ],
  "metadata": {
    "colab": {
      "name": "Welcome To Colab",
      "provenance": [],
      "gpuType": "T4",
      "include_colab_link": true
    },
    "kernelspec": {
      "display_name": "Python 3",
      "name": "python3"
    },
    "accelerator": "GPU"
  },
  "nbformat": 4,
  "nbformat_minor": 0
}