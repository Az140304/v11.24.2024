{
  "cells": [
    {
      "cell_type": "markdown",
      "metadata": {
        "id": "view-in-github",
        "colab_type": "text"
      },
      "source": [
        "<a href=\"https://colab.research.google.com/github/uchihamadara37/ML-capstone-bangkit/blob/main/andre.ipynb\" target=\"_parent\"><img src=\"https://colab.research.google.com/assets/colab-badge.svg\" alt=\"Open In Colab\"/></a>"
      ]
    },
    {
      "cell_type": "code",
      "source": [
        "!nvidia-smi\n"
      ],
      "metadata": {
        "id": "isBoaDIl7PdC",
        "colab": {
          "base_uri": "https://localhost:8080/"
        },
        "outputId": "27156d6b-6c6c-46cb-8d28-7961fe386b74"
      },
      "execution_count": null,
      "outputs": [
        {
          "output_type": "stream",
          "name": "stdout",
          "text": [
            "/bin/bash: line 1: nvidia-smi: command not found\n"
          ]
        }
      ]
    },
    {
      "cell_type": "code",
      "source": [],
      "metadata": {
        "id": "f2hm1QbY7Po1"
      },
      "execution_count": null,
      "outputs": []
    },
    {
      "cell_type": "markdown",
      "source": [
        "Setup Library\n",
        "**Preprocessing**"
      ],
      "metadata": {
        "id": "AQPuyZ3VFTmL"
      }
    },
    {
      "cell_type": "code",
      "execution_count": null,
      "metadata": {
        "id": "zwFnJsE6vjf8"
      },
      "outputs": [],
      "source": [
        "# prompt: install kaggle library\n",
        "\n",
        "# !pip install kaggle\n"
      ]
    },
    {
      "cell_type": "code",
      "source": [
        "# !kaggle datasets download -d wangziang/waste-pictures -p data --unzip"
      ],
      "metadata": {
        "id": "A35ECgwlKjdv"
      },
      "execution_count": null,
      "outputs": []
    },
    {
      "cell_type": "code",
      "source": [
        "!wget \"https://drive.usercontent.google.com/download?id=1AXuYOj63tdibRhEtOxI-kpEP6wBTMB56&export=download&authuser=0&confirm=t&uuid=9b208456-adaf-4b04-8b21-1d597c3f5e75&at=AENtkXZDhOKlhrjWsI2Owbxb63ix%3A1731726201156\" -O trash_data.zip"
      ],
      "metadata": {
        "colab": {
          "base_uri": "https://localhost:8080/"
        },
        "id": "rdnNrZKl4cnv",
        "outputId": "052b48dd-7295-4766-c1d1-91a81582197a"
      },
      "execution_count": 1,
      "outputs": [
        {
          "output_type": "stream",
          "name": "stdout",
          "text": [
            "--2024-11-19 11:17:44--  https://drive.usercontent.google.com/download?id=1AXuYOj63tdibRhEtOxI-kpEP6wBTMB56&export=download&authuser=0&confirm=t&uuid=9b208456-adaf-4b04-8b21-1d597c3f5e75&at=AENtkXZDhOKlhrjWsI2Owbxb63ix%3A1731726201156\n",
            "Resolving drive.usercontent.google.com (drive.usercontent.google.com)... 172.253.62.132, 2607:f8b0:4004:c1b::84\n",
            "Connecting to drive.usercontent.google.com (drive.usercontent.google.com)|172.253.62.132|:443... connected.\n",
            "HTTP request sent, awaiting response... 200 OK\n",
            "Length: 879645956 (839M) [application/octet-stream]\n",
            "Saving to: ‘trash_data.zip’\n",
            "\n",
            "trash_data.zip      100%[===================>] 838.90M  83.9MB/s    in 14s     \n",
            "\n",
            "2024-11-19 11:18:00 (61.7 MB/s) - ‘trash_data.zip’ saved [879645956/879645956]\n",
            "\n"
          ]
        }
      ]
    },
    {
      "cell_type": "code",
      "source": [
        "!unzip -o -q trash_data.zip -d data3"
      ],
      "metadata": {
        "id": "iX57g8od5bx8"
      },
      "execution_count": 2,
      "outputs": []
    },
    {
      "cell_type": "markdown",
      "source": [
        "## **Exploratory Analysis**\n",
        "First, I need to prepare all libraries needed for analysis."
      ],
      "metadata": {
        "id": "TcpomHnxLQRw"
      }
    },
    {
      "cell_type": "code",
      "source": [
        "from mpl_toolkits.mplot3d import Axes3D\n",
        "from sklearn.preprocessing import StandardScaler\n",
        "import matplotlib.pyplot as plt # plotting\n",
        "import numpy as np # linear algebra\n",
        "import os # accessing directory structure\n",
        "import pandas as pd # data processing, CSV file I/O (e.g. pd.read_csv)\n",
        "from pathlib import Path\n",
        "\n",
        "from sklearn.model_selection import train_test_split\n",
        "import matplotlib.image as mpimg\n",
        "\n",
        "# untuk hunting file corrupt\n",
        "from PIL import Image\n",
        "import shutil\n",
        "\n",
        "# untuk keperluan modeling\n",
        "import tensorflow as tf\n",
        "from tensorflow.keras.preprocessing.image import ImageDataGenerator\n",
        "from tensorflow.keras import regularizers\n",
        "\n",
        "\n"
      ],
      "metadata": {
        "id": "oesy4VQ4KzCv"
      },
      "execution_count": 3,
      "outputs": []
    },
    {
      "cell_type": "code",
      "source": [
        "root_dir = Path('./data3/resized_data')\n",
        "train_dir = os.path.join(root_dir, 'train')\n",
        "test_dir = os.path.join(root_dir, 'test')"
      ],
      "metadata": {
        "id": "fcBcxng8NaDX"
      },
      "execution_count": 4,
      "outputs": []
    },
    {
      "cell_type": "code",
      "source": [
        "# Buat ngecek dir\n",
        "# for entry in os.listdir(root_dir):\n",
        "#     full_path = os.path.join(root_dir, entry)\n",
        "#     if os.path.isdir(full_path):\n",
        "#         print(f\"|---->: {os.path.basename(full_path)}\")\n",
        "#         for entry2 in os.listdir(full_path):\n",
        "#             full_path2 = os.path.join(full_path, entry2)\n",
        "#             if os.path.isdir(full_path2):\n",
        "#                 print(f\"    |---->: {os.path.basename(full_path2)}\")\n"
      ],
      "metadata": {
        "id": "gC8nA-ZRSodi"
      },
      "execution_count": null,
      "outputs": []
    },
    {
      "cell_type": "code",
      "source": [],
      "metadata": {
        "id": "IO42X_CifaU8"
      },
      "execution_count": null,
      "outputs": []
    },
    {
      "cell_type": "markdown",
      "source": [
        "### Installasi Tensorflow\n"
      ],
      "metadata": {
        "id": "q1NpMW5yc0si"
      }
    },
    {
      "cell_type": "code",
      "source": [
        "# !pip install tensorflow"
      ],
      "metadata": {
        "id": "_4PgG952cbli"
      },
      "execution_count": null,
      "outputs": []
    },
    {
      "cell_type": "markdown",
      "source": [
        "#### Mengecek installasi tensorflow\n"
      ],
      "metadata": {
        "id": "3lyURH8me0Vp"
      }
    },
    {
      "cell_type": "code",
      "source": [
        "# !pip show tensorflow\n"
      ],
      "metadata": {
        "id": "AmxYsv6ic7B6"
      },
      "execution_count": null,
      "outputs": []
    },
    {
      "cell_type": "code",
      "source": [
        "# !pip show matplotlib"
      ],
      "metadata": {
        "id": "nFfZJSNNVDzD"
      },
      "execution_count": null,
      "outputs": []
    },
    {
      "cell_type": "code",
      "source": [
        "# def display_sample_images(base_dir, n_samples=3):\n",
        "\n",
        "#     categories = os.listdir(base_dir)\n",
        "#     n_categories = len(categories)\n",
        "\n",
        "#     fig, axes = plt.subplots(n_categories, n_samples, figsize=(15, 3*n_categories))\n",
        "\n",
        "#     for i, category in enumerate(categories):\n",
        "#         # FullPath untuk setiap kategori folder\n",
        "#         fullpath_category = os.path.join(base_dir, category)\n",
        "\n",
        "#         # Mendapatkan semua file gambar dalam kategori\n",
        "#         image_files = [f for f in os.listdir(fullpath_category)\n",
        "#                       if f.lower().endswith(('.png', '.jpg', '.jpeg'))]\n",
        "\n",
        "#         # Mengambil 5 gambar secara random\n",
        "#         selected_images = image_files[0:n_samples]\n",
        "\n",
        "#         # Menampilkan gambar\n",
        "#         for j, image_file in enumerate(selected_images):\n",
        "#             img_path = os.path.join(fullpath_category, image_file)\n",
        "#             try:\n",
        "#                 img = mpimg.imread(img_path)\n",
        "#                 # Plot gambar\n",
        "#                 axes[i, j].imshow(img)\n",
        "#                 axes[i, j].axis('off')\n",
        "\n",
        "#                 # Menambahkan judul kategori hanya pada gambar pertama setiap baris\n",
        "#                 if j == 0:\n",
        "#                     axes[i, j].set_title(f'{category}', pad=10)\n",
        "#             except Exception as e:\n",
        "#                 print(f\"Error loading image {img_path}: {str(e)}\")\n",
        "\n",
        "#                 # Untuk gambar yang error\n",
        "#                 axes[i, j].text(0.5, 0.5, 'Error loading image',\n",
        "#                               ha='center', va='center')\n",
        "#                 axes[i, j].axis('off')\n",
        "\n",
        "#                 continue\n",
        "\n",
        "\n",
        "#     # plt.tight_layout()\n",
        "#     plt.show()\n",
        "\n",
        "# # Menampilkan sampel dari training set\n",
        "# print(\"Sample images from training set:\")\n",
        "# display_sample_images(train_dir)\n",
        "\n",
        "# # Menampilkan sampel dari test set\n",
        "# print(\"\\nSample images from test set:\")\n",
        "# display_sample_images(test_dir)"
      ],
      "metadata": {
        "id": "uYBRJ3o_TFeT"
      },
      "execution_count": null,
      "outputs": []
    },
    {
      "cell_type": "markdown",
      "source": [
        "### **Membersihkan gambar corrupt terlebih dahulu**\n",
        "\n"
      ],
      "metadata": {
        "id": "3motLQq7gJO4"
      }
    },
    {
      "cell_type": "code",
      "source": [
        "# import imghdr\n",
        "# import re\n",
        "\n",
        "# def is_unusual_name(name):\n",
        "#     # Mendeteksi jika nama mengandung karakter selain alfanumerik dan underscore\n",
        "#     # return bool(re.search(r'[^\\x00-\\x7F]', name) or re.search(r'[_\\W]+', name))\n",
        "#     return bool(re.search(r'[^\\x00-\\x7F]', name))\n",
        "\n",
        "# def remove_corrupt_images(base_dir):\n",
        "#    \"\"\"\n",
        "#    Menghapus gambar yang corrupt dari direktori dataset\n",
        "\n",
        "#    Args:\n",
        "#        base_dir: Directory utama dataset\n",
        "#    \"\"\"\n",
        "#    corrupt_count = 0\n",
        "#    total_images = 0\n",
        "#    corrupt_files = []\n",
        "\n",
        "#    print(\"Scanning for corrupt images...\")\n",
        "\n",
        "#    # Iterasi melalui semua folder dan subfolder\n",
        "#    for root, dirs, files in os.walk(base_dir):\n",
        "#        for dir in dirs:\n",
        "#           #  print(dir)\n",
        "#            if is_unusual_name(dir):\n",
        "#                print(\"dir nama aneh :\", dir, \": \", os.path.join(root, dir))\n",
        "#                if os.path.exists(os.path.join(root, dir)):\n",
        "#                   shutil.rmtree(os.path.join(root, dir))\n",
        "#                   print(\"dir berhasil dihapus\")\n",
        "\n",
        "\n",
        "#        for filename in files:\n",
        "#            if filename.lower().endswith(('.png', '.jpg', '.jpeg')):\n",
        "#                total_images += 1\n",
        "#                filepath = os.path.join(root, filename)\n",
        "\n",
        "#                try:\n",
        "#                    # Coba buka dan verifikasi gambar\n",
        "#                   #  with Image.open(filepath) as img:\n",
        "#                   #      img.verify()  # Verifikasi file\n",
        "#                   #      img.load()    # Coba load pixel data\n",
        "\n",
        "#                    # Verifikasi tambahan menggunakan imghdr\n",
        "#                   #  if imghdr.what(filepath) is None:\n",
        "#                   #      raise ValueError(\"File bukan gambar yang valid\")\n",
        "#                   img = mpimg.imread(filepath)\n",
        "\n",
        "\n",
        "#                except Exception as e:\n",
        "#                    corrupt_count += 1\n",
        "#                    corrupt_files.append((filepath, str(e)))\n",
        "\n",
        "#                    # Hapus file corrupt\n",
        "#                    try:\n",
        "#                        os.remove(filepath)\n",
        "#                        print(f\"Deleted corrupt file: {filepath}\")\n",
        "#                    except Exception as e:\n",
        "#                        print(f\"Error deleting {filepath}: {str(e)}\")\n",
        "\n",
        "#    # Print summary\n",
        "#    print(\"\\nPembersihan selesai!\")\n",
        "#    print(f\"Total gambar diperiksa: {total_images}\")\n",
        "#    print(f\"Gambar corrupt dihapus: {corrupt_count}\")\n",
        "\n",
        "#    if corrupt_files:\n",
        "#        print(\"\\nDaftar file yang dihapus:\")\n",
        "#        for path, error in corrupt_files:\n",
        "#            print(f\"- {path}\")\n",
        "#            print(f\"  Error: {error}\")\n",
        "\n",
        "#    # Hitung jumlah gambar yang tersisa per kategori\n",
        "#    print(\"\\nJumlah gambar tersisa per kategori:\")\n",
        "#    for root, dirs, files in os.walk(base_dir):\n",
        "#        category = os.path.basename(root)\n",
        "#        if category:\n",
        "#            image_count = len([f for f in files if f.lower().endswith(('.png', '.jpg', '.jpeg'))])\n",
        "#            if image_count > 0:\n",
        "#                print(f\"{category}: {image_count} gambar\")\n",
        "\n",
        "#    return corrupt_files"
      ],
      "metadata": {
        "id": "VuSkzV5jgZe4"
      },
      "execution_count": null,
      "outputs": []
    },
    {
      "cell_type": "markdown",
      "source": [
        "### Saya start hapus yang corrupt"
      ],
      "metadata": {
        "id": "4dJt9U7Xsv_2"
      }
    },
    {
      "cell_type": "code",
      "source": [],
      "metadata": {
        "id": "OpsXgKu9_9v5"
      },
      "execution_count": null,
      "outputs": []
    },
    {
      "cell_type": "code",
      "source": [
        "# corrupt_files = remove_corrupt_images(root_dir)"
      ],
      "metadata": {
        "id": "bCjuCe1Iqe1F"
      },
      "execution_count": null,
      "outputs": []
    },
    {
      "cell_type": "code",
      "source": [
        "# jumlah file di masing2 folder\n",
        "# def count_files_in_folders(root_dir):\n",
        "#     folder_counts = {}\n",
        "\n",
        "#     # Iterasi melalui semua item di root_dir\n",
        "#     for item in os.listdir(root_dir):\n",
        "#         item_path = os.path.join(root_dir, item)\n",
        "\n",
        "#         # Jika item adalah folder\n",
        "#         if os.path.isdir(item_path):\n",
        "#             file_count = 0\n",
        "\n",
        "#             # Hitung file di dalam folder\n",
        "#             for _, _, files in os.walk(item_path):\n",
        "#                 file_count += len(files)\n",
        "\n",
        "#             folder_counts[item] = file_count\n",
        "\n",
        "#     return folder_counts\n",
        "# root_folder = 'data/train'\n",
        "\n",
        "# # Hitung file\n",
        "# result = count_files_in_folders(root_folder)\n",
        "\n",
        "# # Tampilkan hasil\n",
        "# print(f\"Jumlah file di masing-masing folder dalam '{root_folder}':\")\n",
        "# for folder, count in result.items():\n",
        "#     print(f\"{folder}: {count} file\")"
      ],
      "metadata": {
        "id": "9V2C00D0m_bS"
      },
      "execution_count": null,
      "outputs": []
    },
    {
      "cell_type": "code",
      "source": [
        "# # menghapus folder data dan seluruh isinya\n",
        "# import shutil\n",
        "# import os\n",
        "\n",
        "# def delete_directory(path):\n",
        "#     try:\n",
        "#         # Periksa apakah direktori ada\n",
        "#         if os.path.exists(path):\n",
        "#             # Hapus direktori dan semua isinya\n",
        "#             shutil.rmtree(path)\n",
        "#             print(f\"Direktori '{path}' berhasil dihapus beserta seluruh isinya.\")\n",
        "#         else:\n",
        "#             print(f\"Direktori '{path}' tidak ditemukan.\")\n",
        "#     except Exception as e:\n",
        "#         print(f\"Terjadi kesalahan saat menghapus direktori: {e}\")\n",
        "\n",
        "\n",
        "\n",
        "# # Panggil fungsi untuk menghapus direktori | hati2 sluurr...\n",
        "# # delete_directory('data')\n",
        "\n",
        "# # Verifikasi bahwa direktori telah dihapus\n",
        "# if not os.path.exists('data2'):\n",
        "#     print(\"Verifikasi: Direktori 'data' tidak ada lagi.\")\n",
        "# else:\n",
        "#     print(\"Verifikasi: Direktori 'data' masih ada. Penghapusan mungkin gagal.\")"
      ],
      "metadata": {
        "id": "3rR7WX7loMCd"
      },
      "execution_count": null,
      "outputs": []
    },
    {
      "cell_type": "code",
      "source": [
        "# from google.colab import drive\n",
        "# drive.mount('/content/drive')"
      ],
      "metadata": {
        "id": "19LtvVEak3pM"
      },
      "execution_count": null,
      "outputs": []
    },
    {
      "cell_type": "code",
      "source": [
        "# # import os\n",
        "# # import shutil\n",
        "# from tqdm import tqdm\n",
        "\n",
        "# def copy_directory_structure(source_dir, destination_dir):\n",
        "#     \"\"\"\n",
        "#     Menyalin seluruh struktur direktori dan file dari source ke destination\n",
        "#     dengan progress bar\n",
        "#     \"\"\"\n",
        "#     # Hitung total file yang akan disalin\n",
        "#     total_files = sum([len(files) for _, _, files in os.walk(source_dir)])\n",
        "\n",
        "#     print(f\"Total files to copy: {total_files}\")\n",
        "#     print(f\"From: {source_dir}\")\n",
        "#     print(f\"To: {destination_dir}\")\n",
        "\n",
        "#     # Buat progress bar\n",
        "#     pbar = tqdm(total=total_files, desc=\"Copying files\")\n",
        "\n",
        "#     # Iterasi melalui semua direktori dan file\n",
        "#     for root, dirs, files in os.walk(source_dir):\n",
        "#         # Buat struktur direktori yang sama di destination\n",
        "#         relative_path = os.path.relpath(root, source_dir)\n",
        "#         destination_path = os.path.join(destination_dir, relative_path)\n",
        "\n",
        "#         # Buat direktori jika belum ada\n",
        "#         if not os.path.exists(destination_path):\n",
        "#             os.makedirs(destination_path)\n",
        "#             print(f\"\\nCreated directory: {destination_path}\")\n",
        "\n",
        "#         # Salin semua file dalam direktori current\n",
        "#         for file in files:\n",
        "#             source_file = os.path.join(root, file)\n",
        "#             destination_file = os.path.join(destination_path, file)\n",
        "\n",
        "#             try:\n",
        "#                 shutil.copy2(source_file, destination_file)\n",
        "#                 pbar.update(1)\n",
        "#             except Exception as e:\n",
        "#                 print(f\"\\nError copying {source_file}: {str(e)}\")\n",
        "\n",
        "#     pbar.close()\n",
        "\n",
        "#     # Verifikasi hasil copy\n",
        "#     def count_files(directory):\n",
        "#         return sum([len(files) for _, _, files in os.walk(directory)])\n",
        "\n",
        "#     source_count = count_files(source_dir)\n",
        "#     dest_count = count_files(destination_dir)\n",
        "\n",
        "#     print(\"\\nCopy completed!\")\n",
        "#     print(f\"Files in source: {source_count}\")\n",
        "#     print(f\"Files in destination: {dest_count}\")\n",
        "\n",
        "#     # Tampilkan struktur folder hasil copy\n",
        "#     print(\"\\nDestination directory structure:\")\n",
        "#     for root, dirs, files in os.walk(destination_dir):\n",
        "#         level = root.replace(destination_dir, '').count(os.sep)\n",
        "#         indent = ' ' * 4 * level\n",
        "#         print(f\"{indent}{os.path.basename(root)}/\")\n",
        "#         subindent = ' ' * 4 * (level + 1)\n",
        "#         for f in files:\n",
        "#             print(f\"{subindent}{f}\")\n",
        "\n",
        "# # Source dan destination directories\n",
        "# source_dir = 'data'\n",
        "# destination_dir = '/content/drive/MyDrive/trash_data_not_corrupt_insyaAllah'\n",
        "\n",
        "# # Pastikan Google Drive sudah dimount\n",
        "# # from google.colab import drive\n",
        "# # drive.mount('/content/drive')\n",
        "\n",
        "# # Jalankan fungsi copy\n",
        "# copy_directory_structure(source_dir, destination_dir)"
      ],
      "metadata": {
        "id": "_pspJ4OEknzK"
      },
      "execution_count": null,
      "outputs": []
    },
    {
      "cell_type": "code",
      "source": [
        "# import os\n",
        "# import zipfile\n",
        "# import shutil\n",
        "# from tqdm import tqdm\n",
        "# from google.colab import drive\n",
        "\n",
        "# def create_and_copy_zip(source_dir, zip_name, destination_dir):\n",
        "#     \"\"\"\n",
        "#     Membuat file zip dari folder dan menyalinnya ke Google Drive\n",
        "#     \"\"\"\n",
        "#     print(\"Mounting Google Drive...\")\n",
        "#     drive.mount('/content/drive')\n",
        "\n",
        "#     # Hitung total file untuk progress bar\n",
        "#     total_files = sum([len(files) for _, _, files in os.walk(source_dir)])\n",
        "#     print(f\"\\nTotal files to compress: {total_files}\")\n",
        "\n",
        "#     # Buat zip file\n",
        "#     print(f\"\\nCreating {zip_name}...\")\n",
        "#     with zipfile.ZipFile(zip_name, 'w', zipfile.ZIP_DEFLATED) as zipf:\n",
        "#         # Gunakan progress bar\n",
        "#         with tqdm(total=total_files, desc=\"Compressing files\") as pbar:\n",
        "#             for root, dirs, files in os.walk(source_dir):\n",
        "#                 # Get path relative to source_dir\n",
        "#                 rel_path = os.path.relpath(root, source_dir)\n",
        "\n",
        "#                 # Add each file to zip\n",
        "#                 for file in files:\n",
        "#                     file_path = os.path.join(root, file)\n",
        "#                     # Add file ke zip dengan menjaga struktur folder\n",
        "#                     arcname = os.path.join(os.path.basename(source_dir),\n",
        "#                                          rel_path, file)\n",
        "#                     try:\n",
        "#                         zipf.write(file_path, arcname)\n",
        "#                         pbar.update(1)\n",
        "#                     except Exception as e:\n",
        "#                         print(f\"\\nError adding {file_path}: {str(e)}\")\n",
        "\n",
        "#     # Get zip file size\n",
        "#     zip_size = os.path.getsize(zip_name) / (1024 * 1024)  # Convert to MB\n",
        "#     print(f\"\\nZip file created: {zip_name} ({zip_size:.2f} MB)\")\n",
        "\n",
        "#     # Copy zip ke Google Drive\n",
        "#     print(f\"\\nCopying {zip_name} to Google Drive...\")\n",
        "#     try:\n",
        "#         shutil.copy2(zip_name, destination_dir)\n",
        "#         print(f\"Successfully copied to: {destination_dir}\")\n",
        "\n",
        "#         # Verifikasi file ada di drive\n",
        "#         dest_path = os.path.join(destination_dir, zip_name)\n",
        "#         if os.path.exists(dest_path):\n",
        "#             dest_size = os.path.getsize(dest_path) / (1024 * 1024)\n",
        "#             print(f\"Verified: File exists in drive ({dest_size:.2f} MB)\")\n",
        "#         else:\n",
        "#             print(\"Warning: File not found in destination!\")\n",
        "\n",
        "#     except Exception as e:\n",
        "#         print(f\"Error copying to drive: {str(e)}\")\n",
        "\n",
        "#     # Optional: Hapus zip file lokal setelah copy\n",
        "#     # try:\n",
        "#     #     os.remove(zip_name)\n",
        "#     #     print(f\"Cleaned up: Removed local {zip_name}\")\n",
        "#     # except Exception as e:\n",
        "#     #     print(f\"Error removing local zip: {str(e)}\")\n",
        "\n",
        "# # Gunakan fungsi\n",
        "# source_dir = 'data2/data'\n",
        "# zip_name = 'trash_data.zip'\n",
        "# destination_dir = '/content/drive/MyDrive'\n",
        "\n",
        "# create_and_copy_zip(source_dir, zip_name, destination_dir)\n",
        "\n",
        "# # Verifikasi isi zip\n",
        "# def verify_zip_contents(zip_path):\n",
        "#     print(\"\\nVerifying zip contents:\")\n",
        "#     try:\n",
        "#         with zipfile.ZipFile(os.path.join(destination_dir, zip_name), 'r') as zipf:\n",
        "#             # Hitung file dalam zip\n",
        "#             total_files = len(zipf.namelist())\n",
        "#             print(f\"Total files in zip: {total_files}\")\n",
        "\n",
        "#             # Tampilkan struktur folder dalam zip\n",
        "#             print(\"\\nZip contents structure:\")\n",
        "#             folders = {}\n",
        "#             for name in zipf.namelist():\n",
        "#                 parts = name.split('/')\n",
        "#                 current = folders\n",
        "#                 for part in parts[:-1]:  # Skip file name\n",
        "#                     if part not in current:\n",
        "#                         current[part] = {}\n",
        "#                     current = current[part]\n",
        "\n",
        "#             # Print struktur folder\n",
        "#             def print_tree(d, indent=0):\n",
        "#                 for k, v in d.items():\n",
        "#                     print('  ' * indent + k + '/')\n",
        "#                     print_tree(v, indent + 1)\n",
        "\n",
        "#             print_tree(folders)\n",
        "\n",
        "#     except Exception as e:\n",
        "#         print(f\"Error verifying zip: {str(e)}\")\n",
        "\n",
        "# # Verifikasi zip setelah copy\n",
        "# verify_zip_contents(os.path.join(destination_dir, zip_name))"
      ],
      "metadata": {
        "id": "b8ejoev9kmHx"
      },
      "execution_count": null,
      "outputs": []
    },
    {
      "cell_type": "code",
      "source": [
        "# !cp trash_data.zip \"/content/drive/MyDrive/\"\n"
      ],
      "metadata": {
        "id": "8b3O29uWzsXo"
      },
      "execution_count": null,
      "outputs": []
    },
    {
      "cell_type": "markdown",
      "source": [
        "## Mulai menuju modeling (masih ada preprocessing)\n"
      ],
      "metadata": {
        "id": "RjcBNZaab554"
      }
    },
    {
      "cell_type": "code",
      "source": [
        "# Tentukan ukuran gambar yang konsisten\n",
        "IMG_HEIGHT = 120\n",
        "IMG_WIDTH = 120\n",
        "BATCH_SIZE = 32"
      ],
      "metadata": {
        "id": "NZaI3zbOb1Gs"
      },
      "execution_count": 6,
      "outputs": []
    },
    {
      "cell_type": "markdown",
      "source": [
        "## Yang dari Module Coursera CNN\n"
      ],
      "metadata": {
        "id": "Wpz0s-914PN9"
      }
    },
    {
      "cell_type": "markdown",
      "source": [
        "Menyiapkan suffle (pengacakan) dan juga prefetch (pengambilan model langsung ketika training)."
      ],
      "metadata": {
        "id": "_w5RTvt8aUAV"
      }
    },
    {
      "cell_type": "code",
      "source": [
        "# pengacakan dan prefetch\n",
        "SUFFLE_BUFFER_SIZE = 1000\n",
        "PREFETCH_BUFFER_SIZE = tf.data.AUTOTUNE"
      ],
      "metadata": {
        "id": "P1Rk-yrqaHSE"
      },
      "execution_count": 7,
      "outputs": []
    },
    {
      "cell_type": "code",
      "source": [
        "train_dataset = tf.keras.utils.image_dataset_from_directory(\n",
        "    train_dir,\n",
        "    image_size=(IMG_HEIGHT, IMG_WIDTH),\n",
        "    batch_size=BATCH_SIZE,\n",
        "    shuffle=True,\n",
        "    label_mode='categorical',\n",
        "    seed=40\n",
        ")"
      ],
      "metadata": {
        "colab": {
          "base_uri": "https://localhost:8080/"
        },
        "id": "avNX7U_Y4O4C",
        "outputId": "7c1b3149-87d1-431f-d26b-cbba07fbe52e"
      },
      "execution_count": 8,
      "outputs": [
        {
          "output_type": "stream",
          "name": "stdout",
          "text": [
            "Found 17794 files belonging to 34 classes.\n"
          ]
        }
      ]
    },
    {
      "cell_type": "markdown",
      "source": [
        "### buat test\n"
      ],
      "metadata": {
        "id": "7gW5Bqt0KBPc"
      }
    },
    {
      "cell_type": "code",
      "source": [
        "val_dataset = tf.keras.utils.image_dataset_from_directory(\n",
        "    test_dir,\n",
        "    image_size=(IMG_HEIGHT, IMG_WIDTH),\n",
        "    batch_size=BATCH_SIZE,\n",
        "\n",
        "    shuffle=False,\n",
        "    label_mode='categorical',\n",
        "    seed=3\n",
        ")"
      ],
      "metadata": {
        "colab": {
          "base_uri": "https://localhost:8080/"
        },
        "id": "f_yNfAMD7Ql9",
        "outputId": "5a21d8da-2008-491e-f4fb-89cbab1418ba"
      },
      "execution_count": 20,
      "outputs": [
        {
          "output_type": "stream",
          "name": "stdout",
          "text": [
            "Found 5726 files belonging to 34 classes.\n"
          ]
        }
      ]
    },
    {
      "cell_type": "markdown",
      "source": [
        "### Diambil dikit buat val_"
      ],
      "metadata": {
        "id": "EMzb2z1OKSHP"
      }
    },
    {
      "cell_type": "code",
      "source": [
        "train_size = tf.data.experimental.cardinality(train_dataset)\n",
        "val_size = train_size // 8  # Mengambil 20% untuk validation\n",
        "\n",
        "train_ds = train_dataset.skip(val_size)\n",
        "test_dataset = train_dataset.take(val_size)"
      ],
      "metadata": {
        "id": "qKRrd3bQu9YZ"
      },
      "execution_count": 29,
      "outputs": []
    },
    {
      "cell_type": "code",
      "source": [
        "train_dataset_final = train_ds.cache().shuffle(\n",
        "    SUFFLE_BUFFER_SIZE,\n",
        "    reshuffle_each_iteration=False\n",
        ").prefetch(PREFETCH_BUFFER_SIZE)\n",
        "\n",
        "validation_dataset_final = val_dataset.cache().prefetch(PREFETCH_BUFFER_SIZE)\n",
        "\n",
        "# train_ds = train_ds.cache().shuffle(1000).prefetch(AUTOTUNE)\n",
        "# val_ds = val_ds.cache().prefetch(AUTOTUNE)\n",
        "test_dataset_final = test_dataset.cache().prefetch(PREFETCH_BUFFER_SIZE)"
      ],
      "metadata": {
        "id": "fXSVXYNgamnu"
      },
      "execution_count": 31,
      "outputs": []
    },
    {
      "cell_type": "markdown",
      "source": [
        "## Nyoba Buat Model\n"
      ],
      "metadata": {
        "id": "A-LA7phObP6O"
      }
    },
    {
      "cell_type": "code",
      "source": [
        "models = tf.keras.models\n",
        "layers = tf.keras.layers\n",
        "\n",
        "\n",
        "# model = tf.keras.models.Sequential([\n",
        "#     # menyesuaikan ukuran dimensi gambar + 3 rgb\n",
        "#     tf.keras.Input(shape=(IMG_HEIGHT, IMG_WIDTH, 3)),\n",
        "\n",
        "#     # augmen\n",
        "#     tf.keras.layers.RandomFlip(\"horizontal\"),\n",
        "#     tf.keras.layers.RandomRotation(0.2),\n",
        "#     tf.keras.layers.RandomZoom(0.2),\n",
        "#     #\n",
        "#     tf.keras.layers.Rescaling(1./255),\n",
        "#     tf.keras.layers.Conv2D(8, (3, 3), activation='relu'),\n",
        "#     tf.keras.layers.BatchNormalization(),\n",
        "#     tf.keras.layers.MaxPooling2D(2, 2),\n",
        "#     tf.keras.layers.Conv2D(16, (3, 3), activation='relu'),\n",
        "#     tf.keras.layers.BatchNormalization(),\n",
        "#     tf.keras.layers.MaxPooling2D(2, 2),\n",
        "#     tf.keras.layers.Conv2D(32, (3, 3), activation='relu'),\n",
        "#     tf.keras.layers.BatchNormalization(),\n",
        "#     tf.keras.layers.MaxPooling2D(2, 2),\n",
        "#     # diflatten untuk mendapatkan matriks 2 dimensi lagi\n",
        "#     tf.keras.layers.Flatten(),\n",
        "#     tf.keras.layers.Dense(64,\n",
        "#                           activation='relu',\n",
        "#                           # kernel_regularizer=regularizers.l2(0.01)\n",
        "#                           ),\n",
        "#     tf.keras.layers.Dropout(0.1),\n",
        "#     tf.keras.layers.Dense(34, activation='softmax')\n",
        "# ])\n",
        "\n",
        "model = tf.keras.models.Sequential([\n",
        "    tf.keras.Input(shape=(IMG_HEIGHT, IMG_WIDTH, 3)),\n",
        "\n",
        "    # Augmentasi yang lebih agresif\n",
        "    tf.keras.layers.RandomFlip(\"horizontal_and_vertical\"),\n",
        "    tf.keras.layers.RandomRotation(0.3),\n",
        "    tf.keras.layers.RandomZoom(0.3),\n",
        "    tf.keras.layers.RandomBrightness(0.2),\n",
        "    tf.keras.layers.RandomContrast(0.2),\n",
        "\n",
        "    tf.keras.layers.Rescaling(1./255),\n",
        "\n",
        "    # Layer 1\n",
        "    # tf.keras.layers.Conv2D(8, (3, 3), padding='same',\n",
        "    #                       kernel_regularizer=tf.keras.regularizers.l2(0.01)),\n",
        "    # # tf.keras.layers.BatchNormalization(),\n",
        "    # tf.keras.layers.Activation('relu'),\n",
        "    # tf.keras.layers.MaxPooling2D(2, 2),\n",
        "    # # tf.keras.layers.Dropout(0.2),\n",
        "\n",
        "    # Layer 2\n",
        "    tf.keras.layers.Conv2D(16, (3, 3), padding='same',\n",
        "                          kernel_regularizer=tf.keras.regularizers.l2(0.01)),\n",
        "    # tf.keras.layers.BatchNormalization(),\n",
        "    tf.keras.layers.Activation('relu'),\n",
        "    tf.keras.layers.MaxPooling2D(2, 2),\n",
        "    tf.keras.layers.Dropout(0.2),\n",
        "\n",
        "    # Layer 3\n",
        "    tf.keras.layers.Conv2D(32, (3, 3), padding='same',\n",
        "                          kernel_regularizer=tf.keras.regularizers.l2(0.01)\n",
        "                          ),\n",
        "    # tf.keras.layers.BatchNormalization(),\n",
        "    tf.keras.layers.Activation('relu'),\n",
        "    tf.keras.layers.MaxPooling2D(2, 2),\n",
        "    tf.keras.layers.Dropout(0.3),\n",
        "\n",
        "    tf.keras.layers.Flatten(),\n",
        "\n",
        "    # Dense layers dengan regularisasi yang lebih kuat\n",
        "    tf.keras.layers.Dense(64,\n",
        "                         kernel_regularizer=tf.keras.regularizers.l2(0.01)\n",
        "                         ),\n",
        "    tf.keras.layers.BatchNormalization(),\n",
        "    tf.keras.layers.Activation('relu'),\n",
        "    # tf.keras.layers.Dropout(0.5),\n",
        "\n",
        "    tf.keras.layers.Dense(34, activation='softmax')\n",
        "])\n",
        "\n",
        "\n",
        "# model = models.Sequential([\n",
        "#     tf.keras.Input(shape=(IMG_HEIGHT, IMG_WIDTH, 3)),\n",
        "\n",
        "#     # Augmentasi yang lebih agresif\n",
        "#     tf.keras.layers.RandomFlip(\"horizontal_and_vertical\"),\n",
        "#     tf.keras.layers.RandomRotation(0.3),\n",
        "#     tf.keras.layers.RandomZoom(0.3),\n",
        "#     tf.keras.layers.RandomBrightness(0.2),\n",
        "#     tf.keras.layers.RandomContrast(0.2),\n",
        "\n",
        "#     tf.keras.layers.Rescaling(1./255),\n",
        "#     layers.GlobalAveragePooling2D(),\n",
        "#     layers.Dropout(0.2),\n",
        "#     layers.Dense(128, activation='relu'),\n",
        "#     layers.Dropout(0.2),\n",
        "#     layers.Dense(34, activation='softmax')\n",
        "#     ])\n",
        "\n",
        "model.summary()"
      ],
      "metadata": {
        "colab": {
          "base_uri": "https://localhost:8080/",
          "height": 816
        },
        "id": "aVi7QJYTTn7a",
        "outputId": "5162cf55-b494-4784-d44b-aea58b9e8e2a"
      },
      "execution_count": 32,
      "outputs": [
        {
          "output_type": "display_data",
          "data": {
            "text/plain": [
              "\u001b[1mModel: \"sequential_2\"\u001b[0m\n"
            ],
            "text/html": [
              "<pre style=\"white-space:pre;overflow-x:auto;line-height:normal;font-family:Menlo,'DejaVu Sans Mono',consolas,'Courier New',monospace\"><span style=\"font-weight: bold\">Model: \"sequential_2\"</span>\n",
              "</pre>\n"
            ]
          },
          "metadata": {}
        },
        {
          "output_type": "display_data",
          "data": {
            "text/plain": [
              "┏━━━━━━━━━━━━━━━━━━━━━━━━━━━━━━━━━━━━━━┳━━━━━━━━━━━━━━━━━━━━━━━━━━━━━┳━━━━━━━━━━━━━━━━━┓\n",
              "┃\u001b[1m \u001b[0m\u001b[1mLayer (type)                        \u001b[0m\u001b[1m \u001b[0m┃\u001b[1m \u001b[0m\u001b[1mOutput Shape               \u001b[0m\u001b[1m \u001b[0m┃\u001b[1m \u001b[0m\u001b[1m        Param #\u001b[0m\u001b[1m \u001b[0m┃\n",
              "┡━━━━━━━━━━━━━━━━━━━━━━━━━━━━━━━━━━━━━━╇━━━━━━━━━━━━━━━━━━━━━━━━━━━━━╇━━━━━━━━━━━━━━━━━┩\n",
              "│ random_flip_2 (\u001b[38;5;33mRandomFlip\u001b[0m)           │ (\u001b[38;5;45mNone\u001b[0m, \u001b[38;5;34m120\u001b[0m, \u001b[38;5;34m120\u001b[0m, \u001b[38;5;34m3\u001b[0m)         │               \u001b[38;5;34m0\u001b[0m │\n",
              "├──────────────────────────────────────┼─────────────────────────────┼─────────────────┤\n",
              "│ random_rotation_2 (\u001b[38;5;33mRandomRotation\u001b[0m)   │ (\u001b[38;5;45mNone\u001b[0m, \u001b[38;5;34m120\u001b[0m, \u001b[38;5;34m120\u001b[0m, \u001b[38;5;34m3\u001b[0m)         │               \u001b[38;5;34m0\u001b[0m │\n",
              "├──────────────────────────────────────┼─────────────────────────────┼─────────────────┤\n",
              "│ random_zoom_2 (\u001b[38;5;33mRandomZoom\u001b[0m)           │ (\u001b[38;5;45mNone\u001b[0m, \u001b[38;5;34m120\u001b[0m, \u001b[38;5;34m120\u001b[0m, \u001b[38;5;34m3\u001b[0m)         │               \u001b[38;5;34m0\u001b[0m │\n",
              "├──────────────────────────────────────┼─────────────────────────────┼─────────────────┤\n",
              "│ random_brightness_1                  │ (\u001b[38;5;45mNone\u001b[0m, \u001b[38;5;34m120\u001b[0m, \u001b[38;5;34m120\u001b[0m, \u001b[38;5;34m3\u001b[0m)         │               \u001b[38;5;34m0\u001b[0m │\n",
              "│ (\u001b[38;5;33mRandomBrightness\u001b[0m)                   │                             │                 │\n",
              "├──────────────────────────────────────┼─────────────────────────────┼─────────────────┤\n",
              "│ random_contrast_1 (\u001b[38;5;33mRandomContrast\u001b[0m)   │ (\u001b[38;5;45mNone\u001b[0m, \u001b[38;5;34m120\u001b[0m, \u001b[38;5;34m120\u001b[0m, \u001b[38;5;34m3\u001b[0m)         │               \u001b[38;5;34m0\u001b[0m │\n",
              "├──────────────────────────────────────┼─────────────────────────────┼─────────────────┤\n",
              "│ rescaling_2 (\u001b[38;5;33mRescaling\u001b[0m)              │ (\u001b[38;5;45mNone\u001b[0m, \u001b[38;5;34m120\u001b[0m, \u001b[38;5;34m120\u001b[0m, \u001b[38;5;34m3\u001b[0m)         │               \u001b[38;5;34m0\u001b[0m │\n",
              "├──────────────────────────────────────┼─────────────────────────────┼─────────────────┤\n",
              "│ conv2d_4 (\u001b[38;5;33mConv2D\u001b[0m)                    │ (\u001b[38;5;45mNone\u001b[0m, \u001b[38;5;34m120\u001b[0m, \u001b[38;5;34m120\u001b[0m, \u001b[38;5;34m16\u001b[0m)        │             \u001b[38;5;34m448\u001b[0m │\n",
              "├──────────────────────────────────────┼─────────────────────────────┼─────────────────┤\n",
              "│ activation_6 (\u001b[38;5;33mActivation\u001b[0m)            │ (\u001b[38;5;45mNone\u001b[0m, \u001b[38;5;34m120\u001b[0m, \u001b[38;5;34m120\u001b[0m, \u001b[38;5;34m16\u001b[0m)        │               \u001b[38;5;34m0\u001b[0m │\n",
              "├──────────────────────────────────────┼─────────────────────────────┼─────────────────┤\n",
              "│ max_pooling2d_4 (\u001b[38;5;33mMaxPooling2D\u001b[0m)       │ (\u001b[38;5;45mNone\u001b[0m, \u001b[38;5;34m60\u001b[0m, \u001b[38;5;34m60\u001b[0m, \u001b[38;5;34m16\u001b[0m)          │               \u001b[38;5;34m0\u001b[0m │\n",
              "├──────────────────────────────────────┼─────────────────────────────┼─────────────────┤\n",
              "│ dropout_4 (\u001b[38;5;33mDropout\u001b[0m)                  │ (\u001b[38;5;45mNone\u001b[0m, \u001b[38;5;34m60\u001b[0m, \u001b[38;5;34m60\u001b[0m, \u001b[38;5;34m16\u001b[0m)          │               \u001b[38;5;34m0\u001b[0m │\n",
              "├──────────────────────────────────────┼─────────────────────────────┼─────────────────┤\n",
              "│ conv2d_5 (\u001b[38;5;33mConv2D\u001b[0m)                    │ (\u001b[38;5;45mNone\u001b[0m, \u001b[38;5;34m60\u001b[0m, \u001b[38;5;34m60\u001b[0m, \u001b[38;5;34m32\u001b[0m)          │           \u001b[38;5;34m4,640\u001b[0m │\n",
              "├──────────────────────────────────────┼─────────────────────────────┼─────────────────┤\n",
              "│ activation_7 (\u001b[38;5;33mActivation\u001b[0m)            │ (\u001b[38;5;45mNone\u001b[0m, \u001b[38;5;34m60\u001b[0m, \u001b[38;5;34m60\u001b[0m, \u001b[38;5;34m32\u001b[0m)          │               \u001b[38;5;34m0\u001b[0m │\n",
              "├──────────────────────────────────────┼─────────────────────────────┼─────────────────┤\n",
              "│ max_pooling2d_5 (\u001b[38;5;33mMaxPooling2D\u001b[0m)       │ (\u001b[38;5;45mNone\u001b[0m, \u001b[38;5;34m30\u001b[0m, \u001b[38;5;34m30\u001b[0m, \u001b[38;5;34m32\u001b[0m)          │               \u001b[38;5;34m0\u001b[0m │\n",
              "├──────────────────────────────────────┼─────────────────────────────┼─────────────────┤\n",
              "│ dropout_5 (\u001b[38;5;33mDropout\u001b[0m)                  │ (\u001b[38;5;45mNone\u001b[0m, \u001b[38;5;34m30\u001b[0m, \u001b[38;5;34m30\u001b[0m, \u001b[38;5;34m32\u001b[0m)          │               \u001b[38;5;34m0\u001b[0m │\n",
              "├──────────────────────────────────────┼─────────────────────────────┼─────────────────┤\n",
              "│ flatten_2 (\u001b[38;5;33mFlatten\u001b[0m)                  │ (\u001b[38;5;45mNone\u001b[0m, \u001b[38;5;34m28800\u001b[0m)               │               \u001b[38;5;34m0\u001b[0m │\n",
              "├──────────────────────────────────────┼─────────────────────────────┼─────────────────┤\n",
              "│ dense_4 (\u001b[38;5;33mDense\u001b[0m)                      │ (\u001b[38;5;45mNone\u001b[0m, \u001b[38;5;34m64\u001b[0m)                  │       \u001b[38;5;34m1,843,264\u001b[0m │\n",
              "├──────────────────────────────────────┼─────────────────────────────┼─────────────────┤\n",
              "│ batch_normalization_2                │ (\u001b[38;5;45mNone\u001b[0m, \u001b[38;5;34m64\u001b[0m)                  │             \u001b[38;5;34m256\u001b[0m │\n",
              "│ (\u001b[38;5;33mBatchNormalization\u001b[0m)                 │                             │                 │\n",
              "├──────────────────────────────────────┼─────────────────────────────┼─────────────────┤\n",
              "│ activation_8 (\u001b[38;5;33mActivation\u001b[0m)            │ (\u001b[38;5;45mNone\u001b[0m, \u001b[38;5;34m64\u001b[0m)                  │               \u001b[38;5;34m0\u001b[0m │\n",
              "├──────────────────────────────────────┼─────────────────────────────┼─────────────────┤\n",
              "│ dense_5 (\u001b[38;5;33mDense\u001b[0m)                      │ (\u001b[38;5;45mNone\u001b[0m, \u001b[38;5;34m34\u001b[0m)                  │           \u001b[38;5;34m2,210\u001b[0m │\n",
              "└──────────────────────────────────────┴─────────────────────────────┴─────────────────┘\n"
            ],
            "text/html": [
              "<pre style=\"white-space:pre;overflow-x:auto;line-height:normal;font-family:Menlo,'DejaVu Sans Mono',consolas,'Courier New',monospace\">┏━━━━━━━━━━━━━━━━━━━━━━━━━━━━━━━━━━━━━━┳━━━━━━━━━━━━━━━━━━━━━━━━━━━━━┳━━━━━━━━━━━━━━━━━┓\n",
              "┃<span style=\"font-weight: bold\"> Layer (type)                         </span>┃<span style=\"font-weight: bold\"> Output Shape                </span>┃<span style=\"font-weight: bold\">         Param # </span>┃\n",
              "┡━━━━━━━━━━━━━━━━━━━━━━━━━━━━━━━━━━━━━━╇━━━━━━━━━━━━━━━━━━━━━━━━━━━━━╇━━━━━━━━━━━━━━━━━┩\n",
              "│ random_flip_2 (<span style=\"color: #0087ff; text-decoration-color: #0087ff\">RandomFlip</span>)           │ (<span style=\"color: #00d7ff; text-decoration-color: #00d7ff\">None</span>, <span style=\"color: #00af00; text-decoration-color: #00af00\">120</span>, <span style=\"color: #00af00; text-decoration-color: #00af00\">120</span>, <span style=\"color: #00af00; text-decoration-color: #00af00\">3</span>)         │               <span style=\"color: #00af00; text-decoration-color: #00af00\">0</span> │\n",
              "├──────────────────────────────────────┼─────────────────────────────┼─────────────────┤\n",
              "│ random_rotation_2 (<span style=\"color: #0087ff; text-decoration-color: #0087ff\">RandomRotation</span>)   │ (<span style=\"color: #00d7ff; text-decoration-color: #00d7ff\">None</span>, <span style=\"color: #00af00; text-decoration-color: #00af00\">120</span>, <span style=\"color: #00af00; text-decoration-color: #00af00\">120</span>, <span style=\"color: #00af00; text-decoration-color: #00af00\">3</span>)         │               <span style=\"color: #00af00; text-decoration-color: #00af00\">0</span> │\n",
              "├──────────────────────────────────────┼─────────────────────────────┼─────────────────┤\n",
              "│ random_zoom_2 (<span style=\"color: #0087ff; text-decoration-color: #0087ff\">RandomZoom</span>)           │ (<span style=\"color: #00d7ff; text-decoration-color: #00d7ff\">None</span>, <span style=\"color: #00af00; text-decoration-color: #00af00\">120</span>, <span style=\"color: #00af00; text-decoration-color: #00af00\">120</span>, <span style=\"color: #00af00; text-decoration-color: #00af00\">3</span>)         │               <span style=\"color: #00af00; text-decoration-color: #00af00\">0</span> │\n",
              "├──────────────────────────────────────┼─────────────────────────────┼─────────────────┤\n",
              "│ random_brightness_1                  │ (<span style=\"color: #00d7ff; text-decoration-color: #00d7ff\">None</span>, <span style=\"color: #00af00; text-decoration-color: #00af00\">120</span>, <span style=\"color: #00af00; text-decoration-color: #00af00\">120</span>, <span style=\"color: #00af00; text-decoration-color: #00af00\">3</span>)         │               <span style=\"color: #00af00; text-decoration-color: #00af00\">0</span> │\n",
              "│ (<span style=\"color: #0087ff; text-decoration-color: #0087ff\">RandomBrightness</span>)                   │                             │                 │\n",
              "├──────────────────────────────────────┼─────────────────────────────┼─────────────────┤\n",
              "│ random_contrast_1 (<span style=\"color: #0087ff; text-decoration-color: #0087ff\">RandomContrast</span>)   │ (<span style=\"color: #00d7ff; text-decoration-color: #00d7ff\">None</span>, <span style=\"color: #00af00; text-decoration-color: #00af00\">120</span>, <span style=\"color: #00af00; text-decoration-color: #00af00\">120</span>, <span style=\"color: #00af00; text-decoration-color: #00af00\">3</span>)         │               <span style=\"color: #00af00; text-decoration-color: #00af00\">0</span> │\n",
              "├──────────────────────────────────────┼─────────────────────────────┼─────────────────┤\n",
              "│ rescaling_2 (<span style=\"color: #0087ff; text-decoration-color: #0087ff\">Rescaling</span>)              │ (<span style=\"color: #00d7ff; text-decoration-color: #00d7ff\">None</span>, <span style=\"color: #00af00; text-decoration-color: #00af00\">120</span>, <span style=\"color: #00af00; text-decoration-color: #00af00\">120</span>, <span style=\"color: #00af00; text-decoration-color: #00af00\">3</span>)         │               <span style=\"color: #00af00; text-decoration-color: #00af00\">0</span> │\n",
              "├──────────────────────────────────────┼─────────────────────────────┼─────────────────┤\n",
              "│ conv2d_4 (<span style=\"color: #0087ff; text-decoration-color: #0087ff\">Conv2D</span>)                    │ (<span style=\"color: #00d7ff; text-decoration-color: #00d7ff\">None</span>, <span style=\"color: #00af00; text-decoration-color: #00af00\">120</span>, <span style=\"color: #00af00; text-decoration-color: #00af00\">120</span>, <span style=\"color: #00af00; text-decoration-color: #00af00\">16</span>)        │             <span style=\"color: #00af00; text-decoration-color: #00af00\">448</span> │\n",
              "├──────────────────────────────────────┼─────────────────────────────┼─────────────────┤\n",
              "│ activation_6 (<span style=\"color: #0087ff; text-decoration-color: #0087ff\">Activation</span>)            │ (<span style=\"color: #00d7ff; text-decoration-color: #00d7ff\">None</span>, <span style=\"color: #00af00; text-decoration-color: #00af00\">120</span>, <span style=\"color: #00af00; text-decoration-color: #00af00\">120</span>, <span style=\"color: #00af00; text-decoration-color: #00af00\">16</span>)        │               <span style=\"color: #00af00; text-decoration-color: #00af00\">0</span> │\n",
              "├──────────────────────────────────────┼─────────────────────────────┼─────────────────┤\n",
              "│ max_pooling2d_4 (<span style=\"color: #0087ff; text-decoration-color: #0087ff\">MaxPooling2D</span>)       │ (<span style=\"color: #00d7ff; text-decoration-color: #00d7ff\">None</span>, <span style=\"color: #00af00; text-decoration-color: #00af00\">60</span>, <span style=\"color: #00af00; text-decoration-color: #00af00\">60</span>, <span style=\"color: #00af00; text-decoration-color: #00af00\">16</span>)          │               <span style=\"color: #00af00; text-decoration-color: #00af00\">0</span> │\n",
              "├──────────────────────────────────────┼─────────────────────────────┼─────────────────┤\n",
              "│ dropout_4 (<span style=\"color: #0087ff; text-decoration-color: #0087ff\">Dropout</span>)                  │ (<span style=\"color: #00d7ff; text-decoration-color: #00d7ff\">None</span>, <span style=\"color: #00af00; text-decoration-color: #00af00\">60</span>, <span style=\"color: #00af00; text-decoration-color: #00af00\">60</span>, <span style=\"color: #00af00; text-decoration-color: #00af00\">16</span>)          │               <span style=\"color: #00af00; text-decoration-color: #00af00\">0</span> │\n",
              "├──────────────────────────────────────┼─────────────────────────────┼─────────────────┤\n",
              "│ conv2d_5 (<span style=\"color: #0087ff; text-decoration-color: #0087ff\">Conv2D</span>)                    │ (<span style=\"color: #00d7ff; text-decoration-color: #00d7ff\">None</span>, <span style=\"color: #00af00; text-decoration-color: #00af00\">60</span>, <span style=\"color: #00af00; text-decoration-color: #00af00\">60</span>, <span style=\"color: #00af00; text-decoration-color: #00af00\">32</span>)          │           <span style=\"color: #00af00; text-decoration-color: #00af00\">4,640</span> │\n",
              "├──────────────────────────────────────┼─────────────────────────────┼─────────────────┤\n",
              "│ activation_7 (<span style=\"color: #0087ff; text-decoration-color: #0087ff\">Activation</span>)            │ (<span style=\"color: #00d7ff; text-decoration-color: #00d7ff\">None</span>, <span style=\"color: #00af00; text-decoration-color: #00af00\">60</span>, <span style=\"color: #00af00; text-decoration-color: #00af00\">60</span>, <span style=\"color: #00af00; text-decoration-color: #00af00\">32</span>)          │               <span style=\"color: #00af00; text-decoration-color: #00af00\">0</span> │\n",
              "├──────────────────────────────────────┼─────────────────────────────┼─────────────────┤\n",
              "│ max_pooling2d_5 (<span style=\"color: #0087ff; text-decoration-color: #0087ff\">MaxPooling2D</span>)       │ (<span style=\"color: #00d7ff; text-decoration-color: #00d7ff\">None</span>, <span style=\"color: #00af00; text-decoration-color: #00af00\">30</span>, <span style=\"color: #00af00; text-decoration-color: #00af00\">30</span>, <span style=\"color: #00af00; text-decoration-color: #00af00\">32</span>)          │               <span style=\"color: #00af00; text-decoration-color: #00af00\">0</span> │\n",
              "├──────────────────────────────────────┼─────────────────────────────┼─────────────────┤\n",
              "│ dropout_5 (<span style=\"color: #0087ff; text-decoration-color: #0087ff\">Dropout</span>)                  │ (<span style=\"color: #00d7ff; text-decoration-color: #00d7ff\">None</span>, <span style=\"color: #00af00; text-decoration-color: #00af00\">30</span>, <span style=\"color: #00af00; text-decoration-color: #00af00\">30</span>, <span style=\"color: #00af00; text-decoration-color: #00af00\">32</span>)          │               <span style=\"color: #00af00; text-decoration-color: #00af00\">0</span> │\n",
              "├──────────────────────────────────────┼─────────────────────────────┼─────────────────┤\n",
              "│ flatten_2 (<span style=\"color: #0087ff; text-decoration-color: #0087ff\">Flatten</span>)                  │ (<span style=\"color: #00d7ff; text-decoration-color: #00d7ff\">None</span>, <span style=\"color: #00af00; text-decoration-color: #00af00\">28800</span>)               │               <span style=\"color: #00af00; text-decoration-color: #00af00\">0</span> │\n",
              "├──────────────────────────────────────┼─────────────────────────────┼─────────────────┤\n",
              "│ dense_4 (<span style=\"color: #0087ff; text-decoration-color: #0087ff\">Dense</span>)                      │ (<span style=\"color: #00d7ff; text-decoration-color: #00d7ff\">None</span>, <span style=\"color: #00af00; text-decoration-color: #00af00\">64</span>)                  │       <span style=\"color: #00af00; text-decoration-color: #00af00\">1,843,264</span> │\n",
              "├──────────────────────────────────────┼─────────────────────────────┼─────────────────┤\n",
              "│ batch_normalization_2                │ (<span style=\"color: #00d7ff; text-decoration-color: #00d7ff\">None</span>, <span style=\"color: #00af00; text-decoration-color: #00af00\">64</span>)                  │             <span style=\"color: #00af00; text-decoration-color: #00af00\">256</span> │\n",
              "│ (<span style=\"color: #0087ff; text-decoration-color: #0087ff\">BatchNormalization</span>)                 │                             │                 │\n",
              "├──────────────────────────────────────┼─────────────────────────────┼─────────────────┤\n",
              "│ activation_8 (<span style=\"color: #0087ff; text-decoration-color: #0087ff\">Activation</span>)            │ (<span style=\"color: #00d7ff; text-decoration-color: #00d7ff\">None</span>, <span style=\"color: #00af00; text-decoration-color: #00af00\">64</span>)                  │               <span style=\"color: #00af00; text-decoration-color: #00af00\">0</span> │\n",
              "├──────────────────────────────────────┼─────────────────────────────┼─────────────────┤\n",
              "│ dense_5 (<span style=\"color: #0087ff; text-decoration-color: #0087ff\">Dense</span>)                      │ (<span style=\"color: #00d7ff; text-decoration-color: #00d7ff\">None</span>, <span style=\"color: #00af00; text-decoration-color: #00af00\">34</span>)                  │           <span style=\"color: #00af00; text-decoration-color: #00af00\">2,210</span> │\n",
              "└──────────────────────────────────────┴─────────────────────────────┴─────────────────┘\n",
              "</pre>\n"
            ]
          },
          "metadata": {}
        },
        {
          "output_type": "display_data",
          "data": {
            "text/plain": [
              "\u001b[1m Total params: \u001b[0m\u001b[38;5;34m1,850,818\u001b[0m (7.06 MB)\n"
            ],
            "text/html": [
              "<pre style=\"white-space:pre;overflow-x:auto;line-height:normal;font-family:Menlo,'DejaVu Sans Mono',consolas,'Courier New',monospace\"><span style=\"font-weight: bold\"> Total params: </span><span style=\"color: #00af00; text-decoration-color: #00af00\">1,850,818</span> (7.06 MB)\n",
              "</pre>\n"
            ]
          },
          "metadata": {}
        },
        {
          "output_type": "display_data",
          "data": {
            "text/plain": [
              "\u001b[1m Trainable params: \u001b[0m\u001b[38;5;34m1,850,690\u001b[0m (7.06 MB)\n"
            ],
            "text/html": [
              "<pre style=\"white-space:pre;overflow-x:auto;line-height:normal;font-family:Menlo,'DejaVu Sans Mono',consolas,'Courier New',monospace\"><span style=\"font-weight: bold\"> Trainable params: </span><span style=\"color: #00af00; text-decoration-color: #00af00\">1,850,690</span> (7.06 MB)\n",
              "</pre>\n"
            ]
          },
          "metadata": {}
        },
        {
          "output_type": "display_data",
          "data": {
            "text/plain": [
              "\u001b[1m Non-trainable params: \u001b[0m\u001b[38;5;34m128\u001b[0m (512.00 B)\n"
            ],
            "text/html": [
              "<pre style=\"white-space:pre;overflow-x:auto;line-height:normal;font-family:Menlo,'DejaVu Sans Mono',consolas,'Courier New',monospace\"><span style=\"font-weight: bold\"> Non-trainable params: </span><span style=\"color: #00af00; text-decoration-color: #00af00\">128</span> (512.00 B)\n",
              "</pre>\n"
            ]
          },
          "metadata": {}
        }
      ]
    },
    {
      "cell_type": "code",
      "source": [
        "initial_lr = 0.001\n",
        "# lr_schedule = tf.keras.optimizers.schedules.ExponentialDecay(\n",
        "#     initial_lr,\n",
        "#     decay_steps=1000,\n",
        "#     decay_rate=0.9\n",
        "# )\n",
        "\n",
        "# compile dahulu\n",
        "# model.compile(\n",
        "#     optimizer=tf.keras.optimizers.RMSprop(learning_rate=1.75e-4, ),\n",
        "#     loss='categorical_crossentropy',\n",
        "#     metrics=['accuracy'],\n",
        "# )\n",
        "\n",
        "model.compile(\n",
        "    optimizer=tf.keras.optimizers.RMSprop(learning_rate=0.001),\n",
        "    loss='categorical_crossentropy',\n",
        "    metrics=['accuracy']\n",
        ")"
      ],
      "metadata": {
        "id": "QHmVb1ygdcs9"
      },
      "execution_count": 37,
      "outputs": []
    },
    {
      "cell_type": "code",
      "source": [
        "\n",
        "# lr_scheduler = tf.keras.callbacks.LearningRateScheduler(lambda epoch: 1e-4 * 10**(epoch / 20))\n",
        "\n",
        "early_stopping = tf.keras.callbacks.EarlyStopping(\n",
        "    monitor='val_loss',\n",
        "    patience=10,\n",
        "    restore_best_weights=True\n",
        ")\n",
        "\n",
        "reduce_lr = tf.keras.callbacks.ReduceLROnPlateau(\n",
        "    monitor='val_loss',\n",
        "    factor=0.2,\n",
        "    patience=5,\n",
        "    min_lr=0.00001\n",
        ")\n"
      ],
      "metadata": {
        "id": "powSRjOIYOkk"
      },
      "execution_count": 34,
      "outputs": []
    },
    {
      "cell_type": "code",
      "source": [
        "history = model.fit(\n",
        "    train_dataset_final,\n",
        "    validation_data=validation_dataset_final,\n",
        "    epochs=60,\n",
        "    verbose=2,\n",
        "    callbacks=[early_stopping, reduce_lr]\n",
        ")"
      ],
      "metadata": {
        "colab": {
          "base_uri": "https://localhost:8080/",
          "height": 512
        },
        "id": "IticwhFud-5z",
        "outputId": "07166a01-95f1-4cb2-8fdd-f175410acea8"
      },
      "execution_count": 38,
      "outputs": [
        {
          "output_type": "stream",
          "name": "stdout",
          "text": [
            "Epoch 1/10\n",
            "488/488 - 253s - 518ms/step - accuracy: 0.1436 - loss: 3.0793 - val_accuracy: 0.1041 - val_loss: 3.2273 - learning_rate: 1.0000e-04\n",
            "Epoch 2/10\n",
            "488/488 - 264s - 540ms/step - accuracy: 0.1413 - loss: 3.0686 - val_accuracy: 0.1112 - val_loss: 3.2098 - learning_rate: 1.0000e-04\n",
            "Epoch 3/10\n",
            "488/488 - 252s - 515ms/step - accuracy: 0.1436 - loss: 3.0601 - val_accuracy: 0.1071 - val_loss: 3.2155 - learning_rate: 1.0000e-04\n",
            "Epoch 4/10\n",
            "488/488 - 253s - 518ms/step - accuracy: 0.1469 - loss: 3.0505 - val_accuracy: 0.1109 - val_loss: 3.2047 - learning_rate: 1.0000e-04\n",
            "Epoch 5/10\n"
          ]
        },
        {
          "output_type": "error",
          "ename": "KeyboardInterrupt",
          "evalue": "",
          "traceback": [
            "\u001b[0;31m---------------------------------------------------------------------------\u001b[0m",
            "\u001b[0;31mKeyboardInterrupt\u001b[0m                         Traceback (most recent call last)",
            "\u001b[0;32m<ipython-input-38-a5d6cb4c9ec7>\u001b[0m in \u001b[0;36m<cell line: 1>\u001b[0;34m()\u001b[0m\n\u001b[0;32m----> 1\u001b[0;31m history = model.fit(\n\u001b[0m\u001b[1;32m      2\u001b[0m     \u001b[0mtrain_dataset_final\u001b[0m\u001b[0;34m,\u001b[0m\u001b[0;34m\u001b[0m\u001b[0;34m\u001b[0m\u001b[0m\n\u001b[1;32m      3\u001b[0m     \u001b[0mvalidation_data\u001b[0m\u001b[0;34m=\u001b[0m\u001b[0mvalidation_dataset_final\u001b[0m\u001b[0;34m,\u001b[0m\u001b[0;34m\u001b[0m\u001b[0;34m\u001b[0m\u001b[0m\n\u001b[1;32m      4\u001b[0m     \u001b[0mepochs\u001b[0m\u001b[0;34m=\u001b[0m\u001b[0;36m10\u001b[0m\u001b[0;34m,\u001b[0m\u001b[0;34m\u001b[0m\u001b[0;34m\u001b[0m\u001b[0m\n\u001b[1;32m      5\u001b[0m     \u001b[0mverbose\u001b[0m\u001b[0;34m=\u001b[0m\u001b[0;36m2\u001b[0m\u001b[0;34m,\u001b[0m\u001b[0;34m\u001b[0m\u001b[0;34m\u001b[0m\u001b[0m\n",
            "\u001b[0;32m/usr/local/lib/python3.10/dist-packages/keras/src/utils/traceback_utils.py\u001b[0m in \u001b[0;36merror_handler\u001b[0;34m(*args, **kwargs)\u001b[0m\n\u001b[1;32m    115\u001b[0m         \u001b[0mfiltered_tb\u001b[0m \u001b[0;34m=\u001b[0m \u001b[0;32mNone\u001b[0m\u001b[0;34m\u001b[0m\u001b[0;34m\u001b[0m\u001b[0m\n\u001b[1;32m    116\u001b[0m         \u001b[0;32mtry\u001b[0m\u001b[0;34m:\u001b[0m\u001b[0;34m\u001b[0m\u001b[0;34m\u001b[0m\u001b[0m\n\u001b[0;32m--> 117\u001b[0;31m             \u001b[0;32mreturn\u001b[0m \u001b[0mfn\u001b[0m\u001b[0;34m(\u001b[0m\u001b[0;34m*\u001b[0m\u001b[0margs\u001b[0m\u001b[0;34m,\u001b[0m \u001b[0;34m**\u001b[0m\u001b[0mkwargs\u001b[0m\u001b[0;34m)\u001b[0m\u001b[0;34m\u001b[0m\u001b[0;34m\u001b[0m\u001b[0m\n\u001b[0m\u001b[1;32m    118\u001b[0m         \u001b[0;32mexcept\u001b[0m \u001b[0mException\u001b[0m \u001b[0;32mas\u001b[0m \u001b[0me\u001b[0m\u001b[0;34m:\u001b[0m\u001b[0;34m\u001b[0m\u001b[0;34m\u001b[0m\u001b[0m\n\u001b[1;32m    119\u001b[0m             \u001b[0mfiltered_tb\u001b[0m \u001b[0;34m=\u001b[0m \u001b[0m_process_traceback_frames\u001b[0m\u001b[0;34m(\u001b[0m\u001b[0me\u001b[0m\u001b[0;34m.\u001b[0m\u001b[0m__traceback__\u001b[0m\u001b[0;34m)\u001b[0m\u001b[0;34m\u001b[0m\u001b[0;34m\u001b[0m\u001b[0m\n",
            "\u001b[0;32m/usr/local/lib/python3.10/dist-packages/keras/src/backend/tensorflow/trainer.py\u001b[0m in \u001b[0;36mfit\u001b[0;34m(self, x, y, batch_size, epochs, verbose, callbacks, validation_split, validation_data, shuffle, class_weight, sample_weight, initial_epoch, steps_per_epoch, validation_steps, validation_batch_size, validation_freq)\u001b[0m\n\u001b[1;32m    318\u001b[0m                 \u001b[0;32mfor\u001b[0m \u001b[0mstep\u001b[0m\u001b[0;34m,\u001b[0m \u001b[0miterator\u001b[0m \u001b[0;32min\u001b[0m \u001b[0mepoch_iterator\u001b[0m\u001b[0;34m.\u001b[0m\u001b[0menumerate_epoch\u001b[0m\u001b[0;34m(\u001b[0m\u001b[0;34m)\u001b[0m\u001b[0;34m:\u001b[0m\u001b[0;34m\u001b[0m\u001b[0;34m\u001b[0m\u001b[0m\n\u001b[1;32m    319\u001b[0m                     \u001b[0mcallbacks\u001b[0m\u001b[0;34m.\u001b[0m\u001b[0mon_train_batch_begin\u001b[0m\u001b[0;34m(\u001b[0m\u001b[0mstep\u001b[0m\u001b[0;34m)\u001b[0m\u001b[0;34m\u001b[0m\u001b[0;34m\u001b[0m\u001b[0m\n\u001b[0;32m--> 320\u001b[0;31m                     \u001b[0mlogs\u001b[0m \u001b[0;34m=\u001b[0m \u001b[0mself\u001b[0m\u001b[0;34m.\u001b[0m\u001b[0mtrain_function\u001b[0m\u001b[0;34m(\u001b[0m\u001b[0miterator\u001b[0m\u001b[0;34m)\u001b[0m\u001b[0;34m\u001b[0m\u001b[0;34m\u001b[0m\u001b[0m\n\u001b[0m\u001b[1;32m    321\u001b[0m                     \u001b[0mlogs\u001b[0m \u001b[0;34m=\u001b[0m \u001b[0mself\u001b[0m\u001b[0;34m.\u001b[0m\u001b[0m_pythonify_logs\u001b[0m\u001b[0;34m(\u001b[0m\u001b[0mlogs\u001b[0m\u001b[0;34m)\u001b[0m\u001b[0;34m\u001b[0m\u001b[0;34m\u001b[0m\u001b[0m\n\u001b[1;32m    322\u001b[0m                     \u001b[0mcallbacks\u001b[0m\u001b[0;34m.\u001b[0m\u001b[0mon_train_batch_end\u001b[0m\u001b[0;34m(\u001b[0m\u001b[0mstep\u001b[0m\u001b[0;34m,\u001b[0m \u001b[0mlogs\u001b[0m\u001b[0;34m)\u001b[0m\u001b[0;34m\u001b[0m\u001b[0;34m\u001b[0m\u001b[0m\n",
            "\u001b[0;32m/usr/local/lib/python3.10/dist-packages/tensorflow/python/util/traceback_utils.py\u001b[0m in \u001b[0;36merror_handler\u001b[0;34m(*args, **kwargs)\u001b[0m\n\u001b[1;32m    148\u001b[0m     \u001b[0mfiltered_tb\u001b[0m \u001b[0;34m=\u001b[0m \u001b[0;32mNone\u001b[0m\u001b[0;34m\u001b[0m\u001b[0;34m\u001b[0m\u001b[0m\n\u001b[1;32m    149\u001b[0m     \u001b[0;32mtry\u001b[0m\u001b[0;34m:\u001b[0m\u001b[0;34m\u001b[0m\u001b[0;34m\u001b[0m\u001b[0m\n\u001b[0;32m--> 150\u001b[0;31m       \u001b[0;32mreturn\u001b[0m \u001b[0mfn\u001b[0m\u001b[0;34m(\u001b[0m\u001b[0;34m*\u001b[0m\u001b[0margs\u001b[0m\u001b[0;34m,\u001b[0m \u001b[0;34m**\u001b[0m\u001b[0mkwargs\u001b[0m\u001b[0;34m)\u001b[0m\u001b[0;34m\u001b[0m\u001b[0;34m\u001b[0m\u001b[0m\n\u001b[0m\u001b[1;32m    151\u001b[0m     \u001b[0;32mexcept\u001b[0m \u001b[0mException\u001b[0m \u001b[0;32mas\u001b[0m \u001b[0me\u001b[0m\u001b[0;34m:\u001b[0m\u001b[0;34m\u001b[0m\u001b[0;34m\u001b[0m\u001b[0m\n\u001b[1;32m    152\u001b[0m       \u001b[0mfiltered_tb\u001b[0m \u001b[0;34m=\u001b[0m \u001b[0m_process_traceback_frames\u001b[0m\u001b[0;34m(\u001b[0m\u001b[0me\u001b[0m\u001b[0;34m.\u001b[0m\u001b[0m__traceback__\u001b[0m\u001b[0;34m)\u001b[0m\u001b[0;34m\u001b[0m\u001b[0;34m\u001b[0m\u001b[0m\n",
            "\u001b[0;32m/usr/local/lib/python3.10/dist-packages/tensorflow/python/eager/polymorphic_function/polymorphic_function.py\u001b[0m in \u001b[0;36m__call__\u001b[0;34m(self, *args, **kwds)\u001b[0m\n\u001b[1;32m    831\u001b[0m \u001b[0;34m\u001b[0m\u001b[0m\n\u001b[1;32m    832\u001b[0m       \u001b[0;32mwith\u001b[0m \u001b[0mOptionalXlaContext\u001b[0m\u001b[0;34m(\u001b[0m\u001b[0mself\u001b[0m\u001b[0;34m.\u001b[0m\u001b[0m_jit_compile\u001b[0m\u001b[0;34m)\u001b[0m\u001b[0;34m:\u001b[0m\u001b[0;34m\u001b[0m\u001b[0;34m\u001b[0m\u001b[0m\n\u001b[0;32m--> 833\u001b[0;31m         \u001b[0mresult\u001b[0m \u001b[0;34m=\u001b[0m \u001b[0mself\u001b[0m\u001b[0;34m.\u001b[0m\u001b[0m_call\u001b[0m\u001b[0;34m(\u001b[0m\u001b[0;34m*\u001b[0m\u001b[0margs\u001b[0m\u001b[0;34m,\u001b[0m \u001b[0;34m**\u001b[0m\u001b[0mkwds\u001b[0m\u001b[0;34m)\u001b[0m\u001b[0;34m\u001b[0m\u001b[0;34m\u001b[0m\u001b[0m\n\u001b[0m\u001b[1;32m    834\u001b[0m \u001b[0;34m\u001b[0m\u001b[0m\n\u001b[1;32m    835\u001b[0m       \u001b[0mnew_tracing_count\u001b[0m \u001b[0;34m=\u001b[0m \u001b[0mself\u001b[0m\u001b[0;34m.\u001b[0m\u001b[0mexperimental_get_tracing_count\u001b[0m\u001b[0;34m(\u001b[0m\u001b[0;34m)\u001b[0m\u001b[0;34m\u001b[0m\u001b[0;34m\u001b[0m\u001b[0m\n",
            "\u001b[0;32m/usr/local/lib/python3.10/dist-packages/tensorflow/python/eager/polymorphic_function/polymorphic_function.py\u001b[0m in \u001b[0;36m_call\u001b[0;34m(self, *args, **kwds)\u001b[0m\n\u001b[1;32m    876\u001b[0m       \u001b[0;31m# In this case we have not created variables on the first call. So we can\u001b[0m\u001b[0;34m\u001b[0m\u001b[0;34m\u001b[0m\u001b[0m\n\u001b[1;32m    877\u001b[0m       \u001b[0;31m# run the first trace but we should fail if variables are created.\u001b[0m\u001b[0;34m\u001b[0m\u001b[0;34m\u001b[0m\u001b[0m\n\u001b[0;32m--> 878\u001b[0;31m       results = tracing_compilation.call_function(\n\u001b[0m\u001b[1;32m    879\u001b[0m           \u001b[0margs\u001b[0m\u001b[0;34m,\u001b[0m \u001b[0mkwds\u001b[0m\u001b[0;34m,\u001b[0m \u001b[0mself\u001b[0m\u001b[0;34m.\u001b[0m\u001b[0m_variable_creation_config\u001b[0m\u001b[0;34m\u001b[0m\u001b[0;34m\u001b[0m\u001b[0m\n\u001b[1;32m    880\u001b[0m       )\n",
            "\u001b[0;32m/usr/local/lib/python3.10/dist-packages/tensorflow/python/eager/polymorphic_function/tracing_compilation.py\u001b[0m in \u001b[0;36mcall_function\u001b[0;34m(args, kwargs, tracing_options)\u001b[0m\n\u001b[1;32m    137\u001b[0m   \u001b[0mbound_args\u001b[0m \u001b[0;34m=\u001b[0m \u001b[0mfunction\u001b[0m\u001b[0;34m.\u001b[0m\u001b[0mfunction_type\u001b[0m\u001b[0;34m.\u001b[0m\u001b[0mbind\u001b[0m\u001b[0;34m(\u001b[0m\u001b[0;34m*\u001b[0m\u001b[0margs\u001b[0m\u001b[0;34m,\u001b[0m \u001b[0;34m**\u001b[0m\u001b[0mkwargs\u001b[0m\u001b[0;34m)\u001b[0m\u001b[0;34m\u001b[0m\u001b[0;34m\u001b[0m\u001b[0m\n\u001b[1;32m    138\u001b[0m   \u001b[0mflat_inputs\u001b[0m \u001b[0;34m=\u001b[0m \u001b[0mfunction\u001b[0m\u001b[0;34m.\u001b[0m\u001b[0mfunction_type\u001b[0m\u001b[0;34m.\u001b[0m\u001b[0munpack_inputs\u001b[0m\u001b[0;34m(\u001b[0m\u001b[0mbound_args\u001b[0m\u001b[0;34m)\u001b[0m\u001b[0;34m\u001b[0m\u001b[0;34m\u001b[0m\u001b[0m\n\u001b[0;32m--> 139\u001b[0;31m   return function._call_flat(  # pylint: disable=protected-access\n\u001b[0m\u001b[1;32m    140\u001b[0m       \u001b[0mflat_inputs\u001b[0m\u001b[0;34m,\u001b[0m \u001b[0mcaptured_inputs\u001b[0m\u001b[0;34m=\u001b[0m\u001b[0mfunction\u001b[0m\u001b[0;34m.\u001b[0m\u001b[0mcaptured_inputs\u001b[0m\u001b[0;34m\u001b[0m\u001b[0;34m\u001b[0m\u001b[0m\n\u001b[1;32m    141\u001b[0m   )\n",
            "\u001b[0;32m/usr/local/lib/python3.10/dist-packages/tensorflow/python/eager/polymorphic_function/concrete_function.py\u001b[0m in \u001b[0;36m_call_flat\u001b[0;34m(self, tensor_inputs, captured_inputs)\u001b[0m\n\u001b[1;32m   1320\u001b[0m         and executing_eagerly):\n\u001b[1;32m   1321\u001b[0m       \u001b[0;31m# No tape is watching; skip to running the function.\u001b[0m\u001b[0;34m\u001b[0m\u001b[0;34m\u001b[0m\u001b[0m\n\u001b[0;32m-> 1322\u001b[0;31m       \u001b[0;32mreturn\u001b[0m \u001b[0mself\u001b[0m\u001b[0;34m.\u001b[0m\u001b[0m_inference_function\u001b[0m\u001b[0;34m.\u001b[0m\u001b[0mcall_preflattened\u001b[0m\u001b[0;34m(\u001b[0m\u001b[0margs\u001b[0m\u001b[0;34m)\u001b[0m\u001b[0;34m\u001b[0m\u001b[0;34m\u001b[0m\u001b[0m\n\u001b[0m\u001b[1;32m   1323\u001b[0m     forward_backward = self._select_forward_and_backward_functions(\n\u001b[1;32m   1324\u001b[0m         \u001b[0margs\u001b[0m\u001b[0;34m,\u001b[0m\u001b[0;34m\u001b[0m\u001b[0;34m\u001b[0m\u001b[0m\n",
            "\u001b[0;32m/usr/local/lib/python3.10/dist-packages/tensorflow/python/eager/polymorphic_function/atomic_function.py\u001b[0m in \u001b[0;36mcall_preflattened\u001b[0;34m(self, args)\u001b[0m\n\u001b[1;32m    214\u001b[0m   \u001b[0;32mdef\u001b[0m \u001b[0mcall_preflattened\u001b[0m\u001b[0;34m(\u001b[0m\u001b[0mself\u001b[0m\u001b[0;34m,\u001b[0m \u001b[0margs\u001b[0m\u001b[0;34m:\u001b[0m \u001b[0mSequence\u001b[0m\u001b[0;34m[\u001b[0m\u001b[0mcore\u001b[0m\u001b[0;34m.\u001b[0m\u001b[0mTensor\u001b[0m\u001b[0;34m]\u001b[0m\u001b[0;34m)\u001b[0m \u001b[0;34m->\u001b[0m \u001b[0mAny\u001b[0m\u001b[0;34m:\u001b[0m\u001b[0;34m\u001b[0m\u001b[0;34m\u001b[0m\u001b[0m\n\u001b[1;32m    215\u001b[0m     \u001b[0;34m\"\"\"Calls with flattened tensor inputs and returns the structured output.\"\"\"\u001b[0m\u001b[0;34m\u001b[0m\u001b[0;34m\u001b[0m\u001b[0m\n\u001b[0;32m--> 216\u001b[0;31m     \u001b[0mflat_outputs\u001b[0m \u001b[0;34m=\u001b[0m \u001b[0mself\u001b[0m\u001b[0;34m.\u001b[0m\u001b[0mcall_flat\u001b[0m\u001b[0;34m(\u001b[0m\u001b[0;34m*\u001b[0m\u001b[0margs\u001b[0m\u001b[0;34m)\u001b[0m\u001b[0;34m\u001b[0m\u001b[0;34m\u001b[0m\u001b[0m\n\u001b[0m\u001b[1;32m    217\u001b[0m     \u001b[0;32mreturn\u001b[0m \u001b[0mself\u001b[0m\u001b[0;34m.\u001b[0m\u001b[0mfunction_type\u001b[0m\u001b[0;34m.\u001b[0m\u001b[0mpack_output\u001b[0m\u001b[0;34m(\u001b[0m\u001b[0mflat_outputs\u001b[0m\u001b[0;34m)\u001b[0m\u001b[0;34m\u001b[0m\u001b[0;34m\u001b[0m\u001b[0m\n\u001b[1;32m    218\u001b[0m \u001b[0;34m\u001b[0m\u001b[0m\n",
            "\u001b[0;32m/usr/local/lib/python3.10/dist-packages/tensorflow/python/eager/polymorphic_function/atomic_function.py\u001b[0m in \u001b[0;36mcall_flat\u001b[0;34m(self, *args)\u001b[0m\n\u001b[1;32m    249\u001b[0m         \u001b[0;32mwith\u001b[0m \u001b[0mrecord\u001b[0m\u001b[0;34m.\u001b[0m\u001b[0mstop_recording\u001b[0m\u001b[0;34m(\u001b[0m\u001b[0;34m)\u001b[0m\u001b[0;34m:\u001b[0m\u001b[0;34m\u001b[0m\u001b[0;34m\u001b[0m\u001b[0m\n\u001b[1;32m    250\u001b[0m           \u001b[0;32mif\u001b[0m \u001b[0mself\u001b[0m\u001b[0;34m.\u001b[0m\u001b[0m_bound_context\u001b[0m\u001b[0;34m.\u001b[0m\u001b[0mexecuting_eagerly\u001b[0m\u001b[0;34m(\u001b[0m\u001b[0;34m)\u001b[0m\u001b[0;34m:\u001b[0m\u001b[0;34m\u001b[0m\u001b[0;34m\u001b[0m\u001b[0m\n\u001b[0;32m--> 251\u001b[0;31m             outputs = self._bound_context.call_function(\n\u001b[0m\u001b[1;32m    252\u001b[0m                 \u001b[0mself\u001b[0m\u001b[0;34m.\u001b[0m\u001b[0mname\u001b[0m\u001b[0;34m,\u001b[0m\u001b[0;34m\u001b[0m\u001b[0;34m\u001b[0m\u001b[0m\n\u001b[1;32m    253\u001b[0m                 \u001b[0mlist\u001b[0m\u001b[0;34m(\u001b[0m\u001b[0margs\u001b[0m\u001b[0;34m)\u001b[0m\u001b[0;34m,\u001b[0m\u001b[0;34m\u001b[0m\u001b[0;34m\u001b[0m\u001b[0m\n",
            "\u001b[0;32m/usr/local/lib/python3.10/dist-packages/tensorflow/python/eager/context.py\u001b[0m in \u001b[0;36mcall_function\u001b[0;34m(self, name, tensor_inputs, num_outputs)\u001b[0m\n\u001b[1;32m   1550\u001b[0m     \u001b[0mcancellation_context\u001b[0m \u001b[0;34m=\u001b[0m \u001b[0mcancellation\u001b[0m\u001b[0;34m.\u001b[0m\u001b[0mcontext\u001b[0m\u001b[0;34m(\u001b[0m\u001b[0;34m)\u001b[0m\u001b[0;34m\u001b[0m\u001b[0;34m\u001b[0m\u001b[0m\n\u001b[1;32m   1551\u001b[0m     \u001b[0;32mif\u001b[0m \u001b[0mcancellation_context\u001b[0m \u001b[0;32mis\u001b[0m \u001b[0;32mNone\u001b[0m\u001b[0;34m:\u001b[0m\u001b[0;34m\u001b[0m\u001b[0;34m\u001b[0m\u001b[0m\n\u001b[0;32m-> 1552\u001b[0;31m       outputs = execute.execute(\n\u001b[0m\u001b[1;32m   1553\u001b[0m           \u001b[0mname\u001b[0m\u001b[0;34m.\u001b[0m\u001b[0mdecode\u001b[0m\u001b[0;34m(\u001b[0m\u001b[0;34m\"utf-8\"\u001b[0m\u001b[0;34m)\u001b[0m\u001b[0;34m,\u001b[0m\u001b[0;34m\u001b[0m\u001b[0;34m\u001b[0m\u001b[0m\n\u001b[1;32m   1554\u001b[0m           \u001b[0mnum_outputs\u001b[0m\u001b[0;34m=\u001b[0m\u001b[0mnum_outputs\u001b[0m\u001b[0;34m,\u001b[0m\u001b[0;34m\u001b[0m\u001b[0;34m\u001b[0m\u001b[0m\n",
            "\u001b[0;32m/usr/local/lib/python3.10/dist-packages/tensorflow/python/eager/execute.py\u001b[0m in \u001b[0;36mquick_execute\u001b[0;34m(op_name, num_outputs, inputs, attrs, ctx, name)\u001b[0m\n\u001b[1;32m     51\u001b[0m   \u001b[0;32mtry\u001b[0m\u001b[0;34m:\u001b[0m\u001b[0;34m\u001b[0m\u001b[0;34m\u001b[0m\u001b[0m\n\u001b[1;32m     52\u001b[0m     \u001b[0mctx\u001b[0m\u001b[0;34m.\u001b[0m\u001b[0mensure_initialized\u001b[0m\u001b[0;34m(\u001b[0m\u001b[0;34m)\u001b[0m\u001b[0;34m\u001b[0m\u001b[0;34m\u001b[0m\u001b[0m\n\u001b[0;32m---> 53\u001b[0;31m     tensors = pywrap_tfe.TFE_Py_Execute(ctx._handle, device_name, op_name,\n\u001b[0m\u001b[1;32m     54\u001b[0m                                         inputs, attrs, num_outputs)\n\u001b[1;32m     55\u001b[0m   \u001b[0;32mexcept\u001b[0m \u001b[0mcore\u001b[0m\u001b[0;34m.\u001b[0m\u001b[0m_NotOkStatusException\u001b[0m \u001b[0;32mas\u001b[0m \u001b[0me\u001b[0m\u001b[0;34m:\u001b[0m\u001b[0;34m\u001b[0m\u001b[0;34m\u001b[0m\u001b[0m\n",
            "\u001b[0;31mKeyboardInterrupt\u001b[0m: "
          ]
        }
      ]
    },
    {
      "cell_type": "code",
      "source": [
        "loss, accuracy = model.evaluate(test_dataset)\n",
        "print(\"Accuracy\", accuracy)"
      ],
      "metadata": {
        "id": "n64RTVCw1r4D",
        "colab": {
          "base_uri": "https://localhost:8080/"
        },
        "outputId": "79b93d6f-bd83-4252-a2ab-c01a32044865"
      },
      "execution_count": 36,
      "outputs": [
        {
          "output_type": "stream",
          "name": "stdout",
          "text": [
            "\u001b[1m69/69\u001b[0m \u001b[32m━━━━━━━━━━━━━━━━━━━━\u001b[0m\u001b[37m\u001b[0m \u001b[1m11s\u001b[0m 165ms/step - accuracy: 0.0991 - loss: 3.2836\n",
            "Accuracy 0.11186594516038895\n"
          ]
        }
      ]
    },
    {
      "cell_type": "code",
      "source": [
        "\n",
        "def plot_loss_acc(history):\n",
        "  acc = history.history['accuracy']\n",
        "  val_acc = history.history['val_accuracy']\n",
        "\n",
        "  loss = history.history['loss']\n",
        "  val_loss = history.history['val_loss']\n",
        "\n",
        "  epochs_range = range(len(acc))\n",
        "\n",
        "  fig, (ax1, ax2) = plt.subplots(1, 2, figsize=(15, 6))\n",
        "  ax1.plot(epochs_range, acc, label='Training Accuracy')\n",
        "  ax1.plot(epochs_range, val_acc, label='Validation Accuracy')\n",
        "  ax1.set_xlabel('Epochs')\n",
        "  ax1.set_ylabel('Accuracy')\n",
        "  ax1.set_title('Training and Validation Accuracy')\n",
        "  ax1.legend()\n",
        "\n",
        "  ax2.plot(epochs_range, loss, label='Training Loss')\n",
        "  ax2.plot(epochs_range, val_loss, label='Validation Loss')\n",
        "  ax2.set_xlabel('Epochs')\n",
        "  ax2.set_ylabel('Loss')\n",
        "  ax2.set_title('Training and Validation Loss')\n",
        "  ax2.legend()\n",
        "\n",
        "  plt.tight_layout()\n",
        "  plt.show()\n",
        "\n"
      ],
      "metadata": {
        "id": "clbxNDyofjg_"
      },
      "execution_count": 23,
      "outputs": []
    },
    {
      "cell_type": "code",
      "source": [
        "plot_loss_acc(history)"
      ],
      "metadata": {
        "colab": {
          "base_uri": "https://localhost:8080/",
          "height": 607
        },
        "id": "wsXzzfAxQyXZ",
        "outputId": "478e75ad-80f0-404b-9032-27657143615e"
      },
      "execution_count": 24,
      "outputs": [
        {
          "output_type": "display_data",
          "data": {
            "text/plain": [
              "<Figure size 1500x600 with 2 Axes>"
            ],
            "image/png": "[encoded data removed]"
          },
          "metadata": {}
        }
      ]
    },
    {
      "cell_type": "code",
      "source": [
        "print(f'Training Accuracy: {history.history[\"accuracy\"][-1]*100:.2f}%')\n",
        "print(f'Validation Accuracy: {history.history[\"val_accuracy\"][-1]*100:.2f}%')"
      ],
      "metadata": {
        "id": "QBezhUlTyvKY",
        "colab": {
          "base_uri": "https://localhost:8080/"
        },
        "outputId": "0ecf5e59-b732-484a-dd71-4c2061cba01f"
      },
      "execution_count": null,
      "outputs": [
        {
          "output_type": "stream",
          "name": "stdout",
          "text": [
            "Training Accuracy: 29.14%\n",
            "Validation Accuracy: 29.62%\n"
          ]
        }
      ]
    },
    {
      "cell_type": "code",
      "source": [
        "plt.semilogx(history.history['learning_rate'], history.history['loss'])\n",
        "# plt.semilogx(history.history['val_loss'], label='Validation Loss')\n",
        "# plt.xlabel('Epochs')\n",
        "# plt.ylabel('Loss')\n",
        "# plt.legend()\n",
        "# plt.title('Training and Validation Loss')"
      ],
      "metadata": {
        "id": "1SMlAMnkhG3M",
        "colab": {
          "base_uri": "https://localhost:8080/",
          "height": 451
        },
        "outputId": "7f20b248-1d8f-4565-b98b-b2c61a98c3bc"
      },
      "execution_count": null,
      "outputs": [
        {
          "output_type": "execute_result",
          "data": {
            "text/plain": [
              "[<matplotlib.lines.Line2D at 0x797a266f8f70>]"
            ]
          },
          "metadata": {},
          "execution_count": 30
        },
        {
          "output_type": "display_data",
          "data": {
            "text/plain": [
              "<Figure size 640x480 with 1 Axes>"
            ],
            "image/png": "[encoded data removed]"
          },
          "metadata": {}
        }
      ]
    },
    {
      "cell_type": "code",
      "source": [],
      "metadata": {
        "id": "35mAdTa6hIEp"
      },
      "execution_count": null,
      "outputs": []
    }
  ],
  "metadata": {
    "colab": {
      "name": "Welcome To Colab",
      "provenance": [],
      "include_colab_link": true
    },
    "kernelspec": {
      "display_name": "Python 3",
      "name": "python3"
    }
  },
  "nbformat": 4,
  "nbformat_minor": 0
}