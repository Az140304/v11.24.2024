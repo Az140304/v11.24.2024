{
  "cells": [
    {
      "cell_type": "markdown",
      "metadata": {
        "id": "view-in-github",
        "colab_type": "text"
      },
      "source": [
        "<a href=\"https://colab.research.google.com/github/uchihamadara37/ML-capstone-bangkit/blob/main/andre.ipynb\" target=\"_parent\"><img src=\"https://colab.research.google.com/assets/colab-badge.svg\" alt=\"Open In Colab\"/></a>"
      ]
    },
    {
      "cell_type": "code",
      "source": [
        "!nvidia-smi\n"
      ],
      "metadata": {
        "id": "isBoaDIl7PdC",
        "colab": {
          "base_uri": "https://localhost:8080/"
        },
        "outputId": "27156d6b-6c6c-46cb-8d28-7961fe386b74"
      },
      "execution_count": null,
      "outputs": [
        {
          "output_type": "stream",
          "name": "stdout",
          "text": [
            "/bin/bash: line 1: nvidia-smi: command not found\n"
          ]
        }
      ]
    },
    {
      "cell_type": "code",
      "source": [],
      "metadata": {
        "id": "f2hm1QbY7Po1"
      },
      "execution_count": null,
      "outputs": []
    },
    {
      "cell_type": "markdown",
      "source": [
        "Setup Library\n",
        "**Preprocessing**"
      ],
      "metadata": {
        "id": "AQPuyZ3VFTmL"
      }
    },
    {
      "cell_type": "code",
      "execution_count": null,
      "metadata": {
        "id": "zwFnJsE6vjf8"
      },
      "outputs": [],
      "source": [
        "# prompt: install kaggle library\n",
        "\n",
        "# !pip install kaggle\n"
      ]
    },
    {
      "cell_type": "code",
      "source": [
        "# !kaggle datasets download -d wangziang/waste-pictures -p data --unzip"
      ],
      "metadata": {
        "id": "A35ECgwlKjdv"
      },
      "execution_count": null,
      "outputs": []
    },
    {
      "cell_type": "code",
      "source": [
        "!wget \"https://drive.usercontent.google.com/download?id=1AXuYOj63tdibRhEtOxI-kpEP6wBTMB56&export=download&authuser=0&confirm=t&uuid=9b208456-adaf-4b04-8b21-1d597c3f5e75&at=AENtkXZDhOKlhrjWsI2Owbxb63ix%3A1731726201156\" -O trash_data.zip"
      ],
      "metadata": {
        "colab": {
          "base_uri": "https://localhost:8080/"
        },
        "id": "rdnNrZKl4cnv",
        "outputId": "e6915e2a-e59f-4ca1-cde9-a998c956eae4"
      },
      "execution_count": 1,
      "outputs": [
        {
          "output_type": "stream",
          "name": "stdout",
          "text": [
            "--2024-11-20 10:02:51--  https://drive.usercontent.google.com/download?id=1AXuYOj63tdibRhEtOxI-kpEP6wBTMB56&export=download&authuser=0&confirm=t&uuid=9b208456-adaf-4b04-8b21-1d597c3f5e75&at=AENtkXZDhOKlhrjWsI2Owbxb63ix%3A1731726201156\n",
            "Resolving drive.usercontent.google.com (drive.usercontent.google.com)... 142.251.2.132, 2607:f8b0:4023:c0d::84\n",
            "Connecting to drive.usercontent.google.com (drive.usercontent.google.com)|142.251.2.132|:443... connected.\n",
            "HTTP request sent, awaiting response... 200 OK\n",
            "Length: 879645956 (839M) [application/octet-stream]\n",
            "Saving to: ‘trash_data.zip’\n",
            "\n",
            "trash_data.zip      100%[===================>] 838.90M  28.4MB/s    in 13s     \n",
            "\n",
            "2024-11-20 10:03:06 (62.7 MB/s) - ‘trash_data.zip’ saved [879645956/879645956]\n",
            "\n"
          ]
        }
      ]
    },
    {
      "cell_type": "code",
      "source": [
        "!unzip -o -q trash_data.zip -d data3"
      ],
      "metadata": {
        "id": "iX57g8od5bx8"
      },
      "execution_count": 2,
      "outputs": []
    },
    {
      "cell_type": "markdown",
      "source": [
        "## **Exploratory Analysis**\n",
        "First, I need to prepare all libraries needed for analysis."
      ],
      "metadata": {
        "id": "TcpomHnxLQRw"
      }
    },
    {
      "cell_type": "code",
      "source": [
        "from mpl_toolkits.mplot3d import Axes3D\n",
        "from sklearn.preprocessing import StandardScaler\n",
        "import matplotlib.pyplot as plt # plotting\n",
        "import numpy as np # linear algebra\n",
        "import os # accessing directory structure\n",
        "import pandas as pd # data processing, CSV file I/O (e.g. pd.read_csv)\n",
        "from pathlib import Path\n",
        "\n",
        "from sklearn.model_selection import train_test_split\n",
        "import matplotlib.image as mpimg\n",
        "\n",
        "# untuk hunting file corrupt\n",
        "from PIL import Image\n",
        "import shutil\n",
        "\n",
        "# untuk keperluan modeling\n",
        "import tensorflow as tf\n",
        "from tensorflow.keras.preprocessing.image import ImageDataGenerator\n",
        "from tensorflow.keras import regularizers\n",
        "from tensorflow.keras.regularizers import l2\n",
        "\n",
        "\n"
      ],
      "metadata": {
        "id": "oesy4VQ4KzCv"
      },
      "execution_count": 42,
      "outputs": []
    },
    {
      "cell_type": "code",
      "source": [
        "root_dir = Path('./data3/resized_data')\n",
        "train_dir = os.path.join(root_dir, 'train')\n",
        "test_dir = os.path.join(root_dir, 'test')"
      ],
      "metadata": {
        "id": "fcBcxng8NaDX"
      },
      "execution_count": 4,
      "outputs": []
    },
    {
      "cell_type": "code",
      "source": [
        "# Buat ngecek dir\n",
        "# for entry in os.listdir(root_dir):\n",
        "#     full_path = os.path.join(root_dir, entry)\n",
        "#     if os.path.isdir(full_path):\n",
        "#         print(f\"|---->: {os.path.basename(full_path)}\")\n",
        "#         for entry2 in os.listdir(full_path):\n",
        "#             full_path2 = os.path.join(full_path, entry2)\n",
        "#             if os.path.isdir(full_path2):\n",
        "#                 print(f\"    |---->: {os.path.basename(full_path2)}\")\n"
      ],
      "metadata": {
        "id": "gC8nA-ZRSodi"
      },
      "execution_count": null,
      "outputs": []
    },
    {
      "cell_type": "code",
      "source": [],
      "metadata": {
        "id": "IO42X_CifaU8"
      },
      "execution_count": null,
      "outputs": []
    },
    {
      "cell_type": "markdown",
      "source": [
        "### Installasi Tensorflow\n"
      ],
      "metadata": {
        "id": "q1NpMW5yc0si"
      }
    },
    {
      "cell_type": "code",
      "source": [
        "# !pip install tensorflow"
      ],
      "metadata": {
        "id": "_4PgG952cbli"
      },
      "execution_count": null,
      "outputs": []
    },
    {
      "cell_type": "markdown",
      "source": [
        "#### Mengecek installasi tensorflow\n"
      ],
      "metadata": {
        "id": "3lyURH8me0Vp"
      }
    },
    {
      "cell_type": "code",
      "source": [
        "# !pip show tensorflow\n"
      ],
      "metadata": {
        "id": "AmxYsv6ic7B6"
      },
      "execution_count": null,
      "outputs": []
    },
    {
      "cell_type": "code",
      "source": [
        "# !pip show matplotlib"
      ],
      "metadata": {
        "id": "nFfZJSNNVDzD"
      },
      "execution_count": null,
      "outputs": []
    },
    {
      "cell_type": "code",
      "source": [
        "# def display_sample_images(base_dir, n_samples=3):\n",
        "\n",
        "#     categories = os.listdir(base_dir)\n",
        "#     n_categories = len(categories)\n",
        "\n",
        "#     fig, axes = plt.subplots(n_categories, n_samples, figsize=(15, 3*n_categories))\n",
        "\n",
        "#     for i, category in enumerate(categories):\n",
        "#         # FullPath untuk setiap kategori folder\n",
        "#         fullpath_category = os.path.join(base_dir, category)\n",
        "\n",
        "#         # Mendapatkan semua file gambar dalam kategori\n",
        "#         image_files = [f for f in os.listdir(fullpath_category)\n",
        "#                       if f.lower().endswith(('.png', '.jpg', '.jpeg'))]\n",
        "\n",
        "#         # Mengambil 5 gambar secara random\n",
        "#         selected_images = image_files[0:n_samples]\n",
        "\n",
        "#         # Menampilkan gambar\n",
        "#         for j, image_file in enumerate(selected_images):\n",
        "#             img_path = os.path.join(fullpath_category, image_file)\n",
        "#             try:\n",
        "#                 img = mpimg.imread(img_path)\n",
        "#                 # Plot gambar\n",
        "#                 axes[i, j].imshow(img)\n",
        "#                 axes[i, j].axis('off')\n",
        "\n",
        "#                 # Menambahkan judul kategori hanya pada gambar pertama setiap baris\n",
        "#                 if j == 0:\n",
        "#                     axes[i, j].set_title(f'{category}', pad=10)\n",
        "#             except Exception as e:\n",
        "#                 print(f\"Error loading image {img_path}: {str(e)}\")\n",
        "\n",
        "#                 # Untuk gambar yang error\n",
        "#                 axes[i, j].text(0.5, 0.5, 'Error loading image',\n",
        "#                               ha='center', va='center')\n",
        "#                 axes[i, j].axis('off')\n",
        "\n",
        "#                 continue\n",
        "\n",
        "\n",
        "#     # plt.tight_layout()\n",
        "#     plt.show()\n",
        "\n",
        "# # Menampilkan sampel dari training set\n",
        "# print(\"Sample images from training set:\")\n",
        "# display_sample_images(train_dir)\n",
        "\n",
        "# # Menampilkan sampel dari test set\n",
        "# print(\"\\nSample images from test set:\")\n",
        "# display_sample_images(test_dir)"
      ],
      "metadata": {
        "id": "uYBRJ3o_TFeT"
      },
      "execution_count": null,
      "outputs": []
    },
    {
      "cell_type": "markdown",
      "source": [
        "### **Membersihkan gambar corrupt terlebih dahulu**\n",
        "\n"
      ],
      "metadata": {
        "id": "3motLQq7gJO4"
      }
    },
    {
      "cell_type": "code",
      "source": [
        "# import imghdr\n",
        "# import re\n",
        "\n",
        "# def is_unusual_name(name):\n",
        "#     # Mendeteksi jika nama mengandung karakter selain alfanumerik dan underscore\n",
        "#     # return bool(re.search(r'[^\\x00-\\x7F]', name) or re.search(r'[_\\W]+', name))\n",
        "#     return bool(re.search(r'[^\\x00-\\x7F]', name))\n",
        "\n",
        "# def remove_corrupt_images(base_dir):\n",
        "#    \"\"\"\n",
        "#    Menghapus gambar yang corrupt dari direktori dataset\n",
        "\n",
        "#    Args:\n",
        "#        base_dir: Directory utama dataset\n",
        "#    \"\"\"\n",
        "#    corrupt_count = 0\n",
        "#    total_images = 0\n",
        "#    corrupt_files = []\n",
        "\n",
        "#    print(\"Scanning for corrupt images...\")\n",
        "\n",
        "#    # Iterasi melalui semua folder dan subfolder\n",
        "#    for root, dirs, files in os.walk(base_dir):\n",
        "#        for dir in dirs:\n",
        "#           #  print(dir)\n",
        "#            if is_unusual_name(dir):\n",
        "#                print(\"dir nama aneh :\", dir, \": \", os.path.join(root, dir))\n",
        "#                if os.path.exists(os.path.join(root, dir)):\n",
        "#                   shutil.rmtree(os.path.join(root, dir))\n",
        "#                   print(\"dir berhasil dihapus\")\n",
        "\n",
        "\n",
        "#        for filename in files:\n",
        "#            if filename.lower().endswith(('.png', '.jpg', '.jpeg')):\n",
        "#                total_images += 1\n",
        "#                filepath = os.path.join(root, filename)\n",
        "\n",
        "#                try:\n",
        "#                    # Coba buka dan verifikasi gambar\n",
        "#                   #  with Image.open(filepath) as img:\n",
        "#                   #      img.verify()  # Verifikasi file\n",
        "#                   #      img.load()    # Coba load pixel data\n",
        "\n",
        "#                    # Verifikasi tambahan menggunakan imghdr\n",
        "#                   #  if imghdr.what(filepath) is None:\n",
        "#                   #      raise ValueError(\"File bukan gambar yang valid\")\n",
        "#                   img = mpimg.imread(filepath)\n",
        "\n",
        "\n",
        "#                except Exception as e:\n",
        "#                    corrupt_count += 1\n",
        "#                    corrupt_files.append((filepath, str(e)))\n",
        "\n",
        "#                    # Hapus file corrupt\n",
        "#                    try:\n",
        "#                        os.remove(filepath)\n",
        "#                        print(f\"Deleted corrupt file: {filepath}\")\n",
        "#                    except Exception as e:\n",
        "#                        print(f\"Error deleting {filepath}: {str(e)}\")\n",
        "\n",
        "#    # Print summary\n",
        "#    print(\"\\nPembersihan selesai!\")\n",
        "#    print(f\"Total gambar diperiksa: {total_images}\")\n",
        "#    print(f\"Gambar corrupt dihapus: {corrupt_count}\")\n",
        "\n",
        "#    if corrupt_files:\n",
        "#        print(\"\\nDaftar file yang dihapus:\")\n",
        "#        for path, error in corrupt_files:\n",
        "#            print(f\"- {path}\")\n",
        "#            print(f\"  Error: {error}\")\n",
        "\n",
        "#    # Hitung jumlah gambar yang tersisa per kategori\n",
        "#    print(\"\\nJumlah gambar tersisa per kategori:\")\n",
        "#    for root, dirs, files in os.walk(base_dir):\n",
        "#        category = os.path.basename(root)\n",
        "#        if category:\n",
        "#            image_count = len([f for f in files if f.lower().endswith(('.png', '.jpg', '.jpeg'))])\n",
        "#            if image_count > 0:\n",
        "#                print(f\"{category}: {image_count} gambar\")\n",
        "\n",
        "#    return corrupt_files"
      ],
      "metadata": {
        "id": "VuSkzV5jgZe4"
      },
      "execution_count": null,
      "outputs": []
    },
    {
      "cell_type": "markdown",
      "source": [
        "### Saya start hapus yang corrupt"
      ],
      "metadata": {
        "id": "4dJt9U7Xsv_2"
      }
    },
    {
      "cell_type": "code",
      "source": [],
      "metadata": {
        "id": "OpsXgKu9_9v5"
      },
      "execution_count": null,
      "outputs": []
    },
    {
      "cell_type": "code",
      "source": [
        "# corrupt_files = remove_corrupt_images(root_dir)"
      ],
      "metadata": {
        "id": "bCjuCe1Iqe1F"
      },
      "execution_count": null,
      "outputs": []
    },
    {
      "cell_type": "code",
      "source": [
        "# jumlah file di masing2 folder\n",
        "# def count_files_in_folders(root_dir):\n",
        "#     folder_counts = {}\n",
        "\n",
        "#     # Iterasi melalui semua item di root_dir\n",
        "#     for item in os.listdir(root_dir):\n",
        "#         item_path = os.path.join(root_dir, item)\n",
        "\n",
        "#         # Jika item adalah folder\n",
        "#         if os.path.isdir(item_path):\n",
        "#             file_count = 0\n",
        "\n",
        "#             # Hitung file di dalam folder\n",
        "#             for _, _, files in os.walk(item_path):\n",
        "#                 file_count += len(files)\n",
        "\n",
        "#             folder_counts[item] = file_count\n",
        "\n",
        "#     return folder_counts\n",
        "# root_folder = 'data/train'\n",
        "\n",
        "# # Hitung file\n",
        "# result = count_files_in_folders(root_folder)\n",
        "\n",
        "# # Tampilkan hasil\n",
        "# print(f\"Jumlah file di masing-masing folder dalam '{root_folder}':\")\n",
        "# for folder, count in result.items():\n",
        "#     print(f\"{folder}: {count} file\")"
      ],
      "metadata": {
        "id": "9V2C00D0m_bS"
      },
      "execution_count": null,
      "outputs": []
    },
    {
      "cell_type": "code",
      "source": [
        "# # menghapus folder data dan seluruh isinya\n",
        "# import shutil\n",
        "# import os\n",
        "\n",
        "# def delete_directory(path):\n",
        "#     try:\n",
        "#         # Periksa apakah direktori ada\n",
        "#         if os.path.exists(path):\n",
        "#             # Hapus direktori dan semua isinya\n",
        "#             shutil.rmtree(path)\n",
        "#             print(f\"Direktori '{path}' berhasil dihapus beserta seluruh isinya.\")\n",
        "#         else:\n",
        "#             print(f\"Direktori '{path}' tidak ditemukan.\")\n",
        "#     except Exception as e:\n",
        "#         print(f\"Terjadi kesalahan saat menghapus direktori: {e}\")\n",
        "\n",
        "\n",
        "\n",
        "# # Panggil fungsi untuk menghapus direktori | hati2 sluurr...\n",
        "# # delete_directory('data')\n",
        "\n",
        "# # Verifikasi bahwa direktori telah dihapus\n",
        "# if not os.path.exists('data2'):\n",
        "#     print(\"Verifikasi: Direktori 'data' tidak ada lagi.\")\n",
        "# else:\n",
        "#     print(\"Verifikasi: Direktori 'data' masih ada. Penghapusan mungkin gagal.\")"
      ],
      "metadata": {
        "id": "3rR7WX7loMCd"
      },
      "execution_count": null,
      "outputs": []
    },
    {
      "cell_type": "code",
      "source": [
        "# from google.colab import drive\n",
        "# drive.mount('/content/drive')"
      ],
      "metadata": {
        "id": "19LtvVEak3pM"
      },
      "execution_count": null,
      "outputs": []
    },
    {
      "cell_type": "code",
      "source": [
        "# # import os\n",
        "# # import shutil\n",
        "# from tqdm import tqdm\n",
        "\n",
        "# def copy_directory_structure(source_dir, destination_dir):\n",
        "#     \"\"\"\n",
        "#     Menyalin seluruh struktur direktori dan file dari source ke destination\n",
        "#     dengan progress bar\n",
        "#     \"\"\"\n",
        "#     # Hitung total file yang akan disalin\n",
        "#     total_files = sum([len(files) for _, _, files in os.walk(source_dir)])\n",
        "\n",
        "#     print(f\"Total files to copy: {total_files}\")\n",
        "#     print(f\"From: {source_dir}\")\n",
        "#     print(f\"To: {destination_dir}\")\n",
        "\n",
        "#     # Buat progress bar\n",
        "#     pbar = tqdm(total=total_files, desc=\"Copying files\")\n",
        "\n",
        "#     # Iterasi melalui semua direktori dan file\n",
        "#     for root, dirs, files in os.walk(source_dir):\n",
        "#         # Buat struktur direktori yang sama di destination\n",
        "#         relative_path = os.path.relpath(root, source_dir)\n",
        "#         destination_path = os.path.join(destination_dir, relative_path)\n",
        "\n",
        "#         # Buat direktori jika belum ada\n",
        "#         if not os.path.exists(destination_path):\n",
        "#             os.makedirs(destination_path)\n",
        "#             print(f\"\\nCreated directory: {destination_path}\")\n",
        "\n",
        "#         # Salin semua file dalam direktori current\n",
        "#         for file in files:\n",
        "#             source_file = os.path.join(root, file)\n",
        "#             destination_file = os.path.join(destination_path, file)\n",
        "\n",
        "#             try:\n",
        "#                 shutil.copy2(source_file, destination_file)\n",
        "#                 pbar.update(1)\n",
        "#             except Exception as e:\n",
        "#                 print(f\"\\nError copying {source_file}: {str(e)}\")\n",
        "\n",
        "#     pbar.close()\n",
        "\n",
        "#     # Verifikasi hasil copy\n",
        "#     def count_files(directory):\n",
        "#         return sum([len(files) for _, _, files in os.walk(directory)])\n",
        "\n",
        "#     source_count = count_files(source_dir)\n",
        "#     dest_count = count_files(destination_dir)\n",
        "\n",
        "#     print(\"\\nCopy completed!\")\n",
        "#     print(f\"Files in source: {source_count}\")\n",
        "#     print(f\"Files in destination: {dest_count}\")\n",
        "\n",
        "#     # Tampilkan struktur folder hasil copy\n",
        "#     print(\"\\nDestination directory structure:\")\n",
        "#     for root, dirs, files in os.walk(destination_dir):\n",
        "#         level = root.replace(destination_dir, '').count(os.sep)\n",
        "#         indent = ' ' * 4 * level\n",
        "#         print(f\"{indent}{os.path.basename(root)}/\")\n",
        "#         subindent = ' ' * 4 * (level + 1)\n",
        "#         for f in files:\n",
        "#             print(f\"{subindent}{f}\")\n",
        "\n",
        "# # Source dan destination directories\n",
        "# source_dir = 'data'\n",
        "# destination_dir = '/content/drive/MyDrive/trash_data_not_corrupt_insyaAllah'\n",
        "\n",
        "# # Pastikan Google Drive sudah dimount\n",
        "# # from google.colab import drive\n",
        "# # drive.mount('/content/drive')\n",
        "\n",
        "# # Jalankan fungsi copy\n",
        "# copy_directory_structure(source_dir, destination_dir)"
      ],
      "metadata": {
        "id": "_pspJ4OEknzK"
      },
      "execution_count": null,
      "outputs": []
    },
    {
      "cell_type": "code",
      "source": [
        "# import os\n",
        "# import zipfile\n",
        "# import shutil\n",
        "# from tqdm import tqdm\n",
        "# from google.colab import drive\n",
        "\n",
        "# def create_and_copy_zip(source_dir, zip_name, destination_dir):\n",
        "#     \"\"\"\n",
        "#     Membuat file zip dari folder dan menyalinnya ke Google Drive\n",
        "#     \"\"\"\n",
        "#     print(\"Mounting Google Drive...\")\n",
        "#     drive.mount('/content/drive')\n",
        "\n",
        "#     # Hitung total file untuk progress bar\n",
        "#     total_files = sum([len(files) for _, _, files in os.walk(source_dir)])\n",
        "#     print(f\"\\nTotal files to compress: {total_files}\")\n",
        "\n",
        "#     # Buat zip file\n",
        "#     print(f\"\\nCreating {zip_name}...\")\n",
        "#     with zipfile.ZipFile(zip_name, 'w', zipfile.ZIP_DEFLATED) as zipf:\n",
        "#         # Gunakan progress bar\n",
        "#         with tqdm(total=total_files, desc=\"Compressing files\") as pbar:\n",
        "#             for root, dirs, files in os.walk(source_dir):\n",
        "#                 # Get path relative to source_dir\n",
        "#                 rel_path = os.path.relpath(root, source_dir)\n",
        "\n",
        "#                 # Add each file to zip\n",
        "#                 for file in files:\n",
        "#                     file_path = os.path.join(root, file)\n",
        "#                     # Add file ke zip dengan menjaga struktur folder\n",
        "#                     arcname = os.path.join(os.path.basename(source_dir),\n",
        "#                                          rel_path, file)\n",
        "#                     try:\n",
        "#                         zipf.write(file_path, arcname)\n",
        "#                         pbar.update(1)\n",
        "#                     except Exception as e:\n",
        "#                         print(f\"\\nError adding {file_path}: {str(e)}\")\n",
        "\n",
        "#     # Get zip file size\n",
        "#     zip_size = os.path.getsize(zip_name) / (1024 * 1024)  # Convert to MB\n",
        "#     print(f\"\\nZip file created: {zip_name} ({zip_size:.2f} MB)\")\n",
        "\n",
        "#     # Copy zip ke Google Drive\n",
        "#     print(f\"\\nCopying {zip_name} to Google Drive...\")\n",
        "#     try:\n",
        "#         shutil.copy2(zip_name, destination_dir)\n",
        "#         print(f\"Successfully copied to: {destination_dir}\")\n",
        "\n",
        "#         # Verifikasi file ada di drive\n",
        "#         dest_path = os.path.join(destination_dir, zip_name)\n",
        "#         if os.path.exists(dest_path):\n",
        "#             dest_size = os.path.getsize(dest_path) / (1024 * 1024)\n",
        "#             print(f\"Verified: File exists in drive ({dest_size:.2f} MB)\")\n",
        "#         else:\n",
        "#             print(\"Warning: File not found in destination!\")\n",
        "\n",
        "#     except Exception as e:\n",
        "#         print(f\"Error copying to drive: {str(e)}\")\n",
        "\n",
        "#     # Optional: Hapus zip file lokal setelah copy\n",
        "#     # try:\n",
        "#     #     os.remove(zip_name)\n",
        "#     #     print(f\"Cleaned up: Removed local {zip_name}\")\n",
        "#     # except Exception as e:\n",
        "#     #     print(f\"Error removing local zip: {str(e)}\")\n",
        "\n",
        "# # Gunakan fungsi\n",
        "# source_dir = 'data2/data'\n",
        "# zip_name = 'trash_data.zip'\n",
        "# destination_dir = '/content/drive/MyDrive'\n",
        "\n",
        "# create_and_copy_zip(source_dir, zip_name, destination_dir)\n",
        "\n",
        "# # Verifikasi isi zip\n",
        "# def verify_zip_contents(zip_path):\n",
        "#     print(\"\\nVerifying zip contents:\")\n",
        "#     try:\n",
        "#         with zipfile.ZipFile(os.path.join(destination_dir, zip_name), 'r') as zipf:\n",
        "#             # Hitung file dalam zip\n",
        "#             total_files = len(zipf.namelist())\n",
        "#             print(f\"Total files in zip: {total_files}\")\n",
        "\n",
        "#             # Tampilkan struktur folder dalam zip\n",
        "#             print(\"\\nZip contents structure:\")\n",
        "#             folders = {}\n",
        "#             for name in zipf.namelist():\n",
        "#                 parts = name.split('/')\n",
        "#                 current = folders\n",
        "#                 for part in parts[:-1]:  # Skip file name\n",
        "#                     if part not in current:\n",
        "#                         current[part] = {}\n",
        "#                     current = current[part]\n",
        "\n",
        "#             # Print struktur folder\n",
        "#             def print_tree(d, indent=0):\n",
        "#                 for k, v in d.items():\n",
        "#                     print('  ' * indent + k + '/')\n",
        "#                     print_tree(v, indent + 1)\n",
        "\n",
        "#             print_tree(folders)\n",
        "\n",
        "#     except Exception as e:\n",
        "#         print(f\"Error verifying zip: {str(e)}\")\n",
        "\n",
        "# # Verifikasi zip setelah copy\n",
        "# verify_zip_contents(os.path.join(destination_dir, zip_name))"
      ],
      "metadata": {
        "id": "b8ejoev9kmHx"
      },
      "execution_count": null,
      "outputs": []
    },
    {
      "cell_type": "code",
      "source": [
        "# !cp trash_data.zip \"/content/drive/MyDrive/\"\n"
      ],
      "metadata": {
        "id": "8b3O29uWzsXo"
      },
      "execution_count": null,
      "outputs": []
    },
    {
      "cell_type": "markdown",
      "source": [
        "## Mulai menuju modeling (masih ada preprocessing)\n"
      ],
      "metadata": {
        "id": "RjcBNZaab554"
      }
    },
    {
      "cell_type": "code",
      "source": [
        "# Tentukan ukuran gambar yang konsisten\n",
        "IMG_HEIGHT = 120\n",
        "IMG_WIDTH = 120\n",
        "BATCH_SIZE = 32"
      ],
      "metadata": {
        "id": "NZaI3zbOb1Gs"
      },
      "execution_count": 5,
      "outputs": []
    },
    {
      "cell_type": "markdown",
      "source": [
        "## Yang dari Module Coursera CNN\n"
      ],
      "metadata": {
        "id": "Wpz0s-914PN9"
      }
    },
    {
      "cell_type": "markdown",
      "source": [
        "Menyiapkan suffle (pengacakan) dan juga prefetch (pengambilan model langsung ketika training)."
      ],
      "metadata": {
        "id": "_w5RTvt8aUAV"
      }
    },
    {
      "cell_type": "code",
      "source": [
        "# pengacakan dan prefetch\n",
        "SUFFLE_BUFFER_SIZE = 1000\n",
        "PREFETCH_BUFFER_SIZE = tf.data.AUTOTUNE"
      ],
      "metadata": {
        "id": "P1Rk-yrqaHSE"
      },
      "execution_count": 6,
      "outputs": []
    },
    {
      "cell_type": "code",
      "source": [
        "train_dataset = tf.keras.utils.image_dataset_from_directory(\n",
        "    train_dir,\n",
        "    image_size=(IMG_HEIGHT, IMG_WIDTH),\n",
        "    batch_size=BATCH_SIZE,\n",
        "    shuffle=True,\n",
        "    label_mode='categorical',\n",
        "    seed=40\n",
        ")"
      ],
      "metadata": {
        "colab": {
          "base_uri": "https://localhost:8080/"
        },
        "id": "avNX7U_Y4O4C",
        "outputId": "3c4c06a2-cd4d-4fcb-a2ac-8d9e601ad253"
      },
      "execution_count": 7,
      "outputs": [
        {
          "output_type": "stream",
          "name": "stdout",
          "text": [
            "Found 17794 files belonging to 34 classes.\n"
          ]
        }
      ]
    },
    {
      "cell_type": "markdown",
      "source": [
        "### buat test\n"
      ],
      "metadata": {
        "id": "7gW5Bqt0KBPc"
      }
    },
    {
      "cell_type": "code",
      "source": [
        "val_dataset = tf.keras.utils.image_dataset_from_directory(\n",
        "    test_dir,\n",
        "    image_size=(IMG_HEIGHT, IMG_WIDTH),\n",
        "    batch_size=BATCH_SIZE,\n",
        "\n",
        "    shuffle=False,\n",
        "    label_mode='categorical',\n",
        "    seed=3\n",
        ")"
      ],
      "metadata": {
        "colab": {
          "base_uri": "https://localhost:8080/"
        },
        "id": "f_yNfAMD7Ql9",
        "outputId": "b2682d7d-d0f1-439c-dbdd-5a1c84382a98"
      },
      "execution_count": 8,
      "outputs": [
        {
          "output_type": "stream",
          "name": "stdout",
          "text": [
            "Found 5726 files belonging to 34 classes.\n"
          ]
        }
      ]
    },
    {
      "cell_type": "markdown",
      "source": [
        "### Diambil dikit buat val_"
      ],
      "metadata": {
        "id": "EMzb2z1OKSHP"
      }
    },
    {
      "cell_type": "code",
      "source": [
        "val_size = tf.data.experimental.cardinality(val_dataset)\n",
        "print(\"val size \", val_size.numpy())\n",
        "test_size = val_size // 8  # Mengambil 20% untuk validation\n",
        "\n",
        "val_ds = val_dataset.skip(test_size)\n",
        "test_dataset = val_dataset.take(test_size)\n",
        "\n",
        "print(val_ds)\n",
        "print(test_dataset)\n",
        "print(\"Jumlah elemen di train_dataset:\", tf.data.experimental.cardinality(train_dataset).numpy())\n",
        "print(\"Jumlah elemen di val_ds:\", tf.data.experimental.cardinality(val_ds).numpy())\n",
        "print(\"Jumlah elemen di test_dataset:\", tf.data.experimental.cardinality(test_dataset).numpy())"
      ],
      "metadata": {
        "id": "qKRrd3bQu9YZ",
        "outputId": "a97b147d-6448-491c-8c48-acd30d25390d",
        "colab": {
          "base_uri": "https://localhost:8080/"
        }
      },
      "execution_count": 9,
      "outputs": [
        {
          "output_type": "stream",
          "name": "stdout",
          "text": [
            "val size  179\n",
            "<_SkipDataset element_spec=(TensorSpec(shape=(None, 120, 120, 3), dtype=tf.float32, name=None), TensorSpec(shape=(None, 34), dtype=tf.float32, name=None))>\n",
            "<_TakeDataset element_spec=(TensorSpec(shape=(None, 120, 120, 3), dtype=tf.float32, name=None), TensorSpec(shape=(None, 34), dtype=tf.float32, name=None))>\n",
            "Jumlah elemen di train_dataset: 557\n",
            "Jumlah elemen di val_ds: 157\n",
            "Jumlah elemen di test_dataset: 22\n"
          ]
        }
      ]
    },
    {
      "cell_type": "code",
      "source": [
        "train_dataset_final = train_dataset.cache().shuffle(\n",
        "    SUFFLE_BUFFER_SIZE,\n",
        "    reshuffle_each_iteration=False\n",
        ").prefetch(PREFETCH_BUFFER_SIZE)\n",
        "\n",
        "validation_dataset_final = val_ds.cache().prefetch(PREFETCH_BUFFER_SIZE)\n",
        "\n",
        "# train_ds = train_ds.cache().shuffle(1000).prefetch(AUTOTUNE)\n",
        "# val_ds = val_ds.cache().prefetch(AUTOTUNE)\n",
        "test_dataset_final = test_dataset.cache().prefetch(PREFETCH_BUFFER_SIZE)"
      ],
      "metadata": {
        "id": "fXSVXYNgamnu"
      },
      "execution_count": 10,
      "outputs": []
    },
    {
      "cell_type": "markdown",
      "source": [
        "## Nyoba Buat Model\n"
      ],
      "metadata": {
        "id": "A-LA7phObP6O"
      }
    },
    {
      "cell_type": "code",
      "source": [
        "models = tf.keras.models\n",
        "layers = tf.keras.layers\n",
        "\n",
        "\n",
        "# model = tf.keras.models.Sequential([\n",
        "#     # menyesuaikan ukuran dimensi gambar + 3 rgb\n",
        "#     tf.keras.Input(shape=(IMG_HEIGHT, IMG_WIDTH, 3)),\n",
        "\n",
        "#     # augmen\n",
        "#     tf.keras.layers.RandomFlip(\"horizontal\"),\n",
        "#     tf.keras.layers.RandomRotation(0.2),\n",
        "#     tf.keras.layers.RandomZoom(0.2),\n",
        "#     #\n",
        "#     tf.keras.layers.Rescaling(1./255),\n",
        "#     tf.keras.layers.Conv2D(8, (3, 3), activation='relu'),\n",
        "#     tf.keras.layers.BatchNormalization(),\n",
        "#     tf.keras.layers.MaxPooling2D(2, 2),\n",
        "#     tf.keras.layers.Conv2D(16, (3, 3), activation='relu'),\n",
        "#     tf.keras.layers.BatchNormalization(),\n",
        "#     tf.keras.layers.MaxPooling2D(2, 2),\n",
        "#     tf.keras.layers.Conv2D(32, (3, 3), activation='relu'),\n",
        "#     tf.keras.layers.BatchNormalization(),\n",
        "#     tf.keras.layers.MaxPooling2D(2, 2),\n",
        "#     # diflatten untuk mendapatkan matriks 2 dimensi lagi\n",
        "#     tf.keras.layers.Flatten(),\n",
        "#     tf.keras.layers.Dense(64,\n",
        "#                           activation='relu',\n",
        "#                           # kernel_regularizer=regularizers.l2(0.01)\n",
        "#                           ),\n",
        "#     tf.keras.layers.Dropout(0.1),\n",
        "#     tf.keras.layers.Dense(34, activation='softmax')\n",
        "# ])\n",
        "\n",
        "model = tf.keras.models.Sequential([\n",
        "    tf.keras.Input(shape=(IMG_HEIGHT, IMG_WIDTH, 3)),\n",
        "\n",
        "    # Augmentasi yang lebih agresif\n",
        "    tf.keras.layers.RandomFlip(\"horizontal_and_vertical\"),\n",
        "    tf.keras.layers.RandomRotation(0.2, fill_mode=\"nearest\"),\n",
        "    tf.keras.layers.RandomZoom(0.2, fill_mode=\"nearest\"),\n",
        "    tf.keras.layers.RandomTranslation(0.2, 0.2, fill_mode=\"nearest\"),\n",
        "    # tf.keras.layers.RandomBrightness(0.2,),\n",
        "    # tf.keras.layers.RandomContrast(0.2),\n",
        "\n",
        "    tf.keras.layers.Rescaling(1./255),\n",
        "\n",
        "    tf.keras.layers.Conv2D(32, (3, 3), activation=\"relu\"),\n",
        "    # tf.keras.layers.BatchNormalization(),\n",
        "    tf.keras.layers.MaxPooling2D(2, 2),\n",
        "    # tf.keras.layers.Dropout(0.2),\n",
        "\n",
        "    tf.keras.layers.Conv2D(64, (3, 3), activation=\"relu\"),\n",
        "    # tf.keras.layers.Conv2D(64, (3, 3), activation=\"relu\", kernel_regularizer=l2(0.001)),\n",
        "    # tf.keras.layers.BatchNormalization()\n",
        "    tf.keras.layers.MaxPooling2D(2, 2),\n",
        "    tf.keras.layers.Dropout(0.3),\n",
        "\n",
        "    tf.keras.layers.Conv2D(128, (3, 3), activation=\"relu\", kernel_regularizer=l2(0.001)),\n",
        "    # tf.keras.layers.BatchNormalization(),\n",
        "    tf.keras.layers.MaxPooling2D(2, 2),\n",
        "    tf.keras.layers.Dropout(0.4),\n",
        "\n",
        "    tf.keras.layers.Conv2D(512, (3, 3), activation=\"relu\", kernel_regularizer=l2(0.001)),\n",
        "    # tf.keras.layers.BatchNormalization(),\n",
        "    tf.keras.layers.MaxPooling2D(2, 2),\n",
        "    tf.keras.layers.Dropout(0.5),\n",
        "\n",
        "    tf.keras.layers.Flatten(),\n",
        "\n",
        "    # Dense layers dengan regularisasi yang lebih kuat\n",
        "    tf.keras.layers.Dense(512,),\n",
        "\n",
        "    tf.keras.layers.BatchNormalization(),\n",
        "    tf.keras.layers.Activation('relu'),\n",
        "    # tf.keras.layers.Dropout(0.5),\n",
        "\n",
        "    tf.keras.layers.Dense(34, activation='softmax')\n",
        "])\n",
        "\n",
        "\n",
        "# model = models.Sequential([\n",
        "#     tf.keras.Input(shape=(IMG_HEIGHT, IMG_WIDTH, 3)),\n",
        "\n",
        "#     # Augmentasi yang lebih agresif\n",
        "#     tf.keras.layers.RandomFlip(\"horizontal_and_vertical\"),\n",
        "#     tf.keras.layers.RandomRotation(0.3),\n",
        "#     tf.keras.layers.RandomZoom(0.3),\n",
        "#     tf.keras.layers.RandomBrightness(0.2),\n",
        "#     tf.keras.layers.RandomContrast(0.2),\n",
        "\n",
        "#     tf.keras.layers.Rescaling(1./255),\n",
        "#     layers.GlobalAveragePooling2D(),\n",
        "#     layers.Dropout(0.2),\n",
        "#     layers.Dense(128, activation='relu'),\n",
        "#     layers.Dropout(0.2),\n",
        "#     layers.Dense(34, activation='softmax')\n",
        "#     ])\n",
        "\n",
        "model.summary()"
      ],
      "metadata": {
        "colab": {
          "base_uri": "https://localhost:8080/",
          "height": 884
        },
        "id": "aVi7QJYTTn7a",
        "outputId": "45e8646f-8e1b-4632-a403-8e38355906db"
      },
      "execution_count": 48,
      "outputs": [
        {
          "output_type": "display_data",
          "data": {
            "text/plain": [
              "\u001b[1mModel: \"sequential_5\"\u001b[0m\n"
            ],
            "text/html": [
              "<pre style=\"white-space:pre;overflow-x:auto;line-height:normal;font-family:Menlo,'DejaVu Sans Mono',consolas,'Courier New',monospace\"><span style=\"font-weight: bold\">Model: \"sequential_5\"</span>\n",
              "</pre>\n"
            ]
          },
          "metadata": {}
        },
        {
          "output_type": "display_data",
          "data": {
            "text/plain": [
              "┏━━━━━━━━━━━━━━━━━━━━━━━━━━━━━━━━━━━━━━┳━━━━━━━━━━━━━━━━━━━━━━━━━━━━━┳━━━━━━━━━━━━━━━━━┓\n",
              "┃\u001b[1m \u001b[0m\u001b[1mLayer (type)                        \u001b[0m\u001b[1m \u001b[0m┃\u001b[1m \u001b[0m\u001b[1mOutput Shape               \u001b[0m\u001b[1m \u001b[0m┃\u001b[1m \u001b[0m\u001b[1m        Param #\u001b[0m\u001b[1m \u001b[0m┃\n",
              "┡━━━━━━━━━━━━━━━━━━━━━━━━━━━━━━━━━━━━━━╇━━━━━━━━━━━━━━━━━━━━━━━━━━━━━╇━━━━━━━━━━━━━━━━━┩\n",
              "│ random_flip_6 (\u001b[38;5;33mRandomFlip\u001b[0m)           │ (\u001b[38;5;45mNone\u001b[0m, \u001b[38;5;34m120\u001b[0m, \u001b[38;5;34m120\u001b[0m, \u001b[38;5;34m3\u001b[0m)         │               \u001b[38;5;34m0\u001b[0m │\n",
              "├──────────────────────────────────────┼─────────────────────────────┼─────────────────┤\n",
              "│ random_rotation_6 (\u001b[38;5;33mRandomRotation\u001b[0m)   │ (\u001b[38;5;45mNone\u001b[0m, \u001b[38;5;34m120\u001b[0m, \u001b[38;5;34m120\u001b[0m, \u001b[38;5;34m3\u001b[0m)         │               \u001b[38;5;34m0\u001b[0m │\n",
              "├──────────────────────────────────────┼─────────────────────────────┼─────────────────┤\n",
              "│ random_zoom_6 (\u001b[38;5;33mRandomZoom\u001b[0m)           │ (\u001b[38;5;45mNone\u001b[0m, \u001b[38;5;34m120\u001b[0m, \u001b[38;5;34m120\u001b[0m, \u001b[38;5;34m3\u001b[0m)         │               \u001b[38;5;34m0\u001b[0m │\n",
              "├──────────────────────────────────────┼─────────────────────────────┼─────────────────┤\n",
              "│ random_translation_6                 │ (\u001b[38;5;45mNone\u001b[0m, \u001b[38;5;34m120\u001b[0m, \u001b[38;5;34m120\u001b[0m, \u001b[38;5;34m3\u001b[0m)         │               \u001b[38;5;34m0\u001b[0m │\n",
              "│ (\u001b[38;5;33mRandomTranslation\u001b[0m)                  │                             │                 │\n",
              "├──────────────────────────────────────┼─────────────────────────────┼─────────────────┤\n",
              "│ rescaling_6 (\u001b[38;5;33mRescaling\u001b[0m)              │ (\u001b[38;5;45mNone\u001b[0m, \u001b[38;5;34m120\u001b[0m, \u001b[38;5;34m120\u001b[0m, \u001b[38;5;34m3\u001b[0m)         │               \u001b[38;5;34m0\u001b[0m │\n",
              "├──────────────────────────────────────┼─────────────────────────────┼─────────────────┤\n",
              "│ conv2d_21 (\u001b[38;5;33mConv2D\u001b[0m)                   │ (\u001b[38;5;45mNone\u001b[0m, \u001b[38;5;34m118\u001b[0m, \u001b[38;5;34m118\u001b[0m, \u001b[38;5;34m32\u001b[0m)        │             \u001b[38;5;34m896\u001b[0m │\n",
              "├──────────────────────────────────────┼─────────────────────────────┼─────────────────┤\n",
              "│ max_pooling2d_21 (\u001b[38;5;33mMaxPooling2D\u001b[0m)      │ (\u001b[38;5;45mNone\u001b[0m, \u001b[38;5;34m59\u001b[0m, \u001b[38;5;34m59\u001b[0m, \u001b[38;5;34m32\u001b[0m)          │               \u001b[38;5;34m0\u001b[0m │\n",
              "├──────────────────────────────────────┼─────────────────────────────┼─────────────────┤\n",
              "│ conv2d_22 (\u001b[38;5;33mConv2D\u001b[0m)                   │ (\u001b[38;5;45mNone\u001b[0m, \u001b[38;5;34m57\u001b[0m, \u001b[38;5;34m57\u001b[0m, \u001b[38;5;34m64\u001b[0m)          │          \u001b[38;5;34m18,496\u001b[0m │\n",
              "├──────────────────────────────────────┼─────────────────────────────┼─────────────────┤\n",
              "│ max_pooling2d_22 (\u001b[38;5;33mMaxPooling2D\u001b[0m)      │ (\u001b[38;5;45mNone\u001b[0m, \u001b[38;5;34m28\u001b[0m, \u001b[38;5;34m28\u001b[0m, \u001b[38;5;34m64\u001b[0m)          │               \u001b[38;5;34m0\u001b[0m │\n",
              "├──────────────────────────────────────┼─────────────────────────────┼─────────────────┤\n",
              "│ dropout_14 (\u001b[38;5;33mDropout\u001b[0m)                 │ (\u001b[38;5;45mNone\u001b[0m, \u001b[38;5;34m28\u001b[0m, \u001b[38;5;34m28\u001b[0m, \u001b[38;5;34m64\u001b[0m)          │               \u001b[38;5;34m0\u001b[0m │\n",
              "├──────────────────────────────────────┼─────────────────────────────┼─────────────────┤\n",
              "│ conv2d_23 (\u001b[38;5;33mConv2D\u001b[0m)                   │ (\u001b[38;5;45mNone\u001b[0m, \u001b[38;5;34m26\u001b[0m, \u001b[38;5;34m26\u001b[0m, \u001b[38;5;34m128\u001b[0m)         │          \u001b[38;5;34m73,856\u001b[0m │\n",
              "├──────────────────────────────────────┼─────────────────────────────┼─────────────────┤\n",
              "│ max_pooling2d_23 (\u001b[38;5;33mMaxPooling2D\u001b[0m)      │ (\u001b[38;5;45mNone\u001b[0m, \u001b[38;5;34m13\u001b[0m, \u001b[38;5;34m13\u001b[0m, \u001b[38;5;34m128\u001b[0m)         │               \u001b[38;5;34m0\u001b[0m │\n",
              "├──────────────────────────────────────┼─────────────────────────────┼─────────────────┤\n",
              "│ dropout_15 (\u001b[38;5;33mDropout\u001b[0m)                 │ (\u001b[38;5;45mNone\u001b[0m, \u001b[38;5;34m13\u001b[0m, \u001b[38;5;34m13\u001b[0m, \u001b[38;5;34m128\u001b[0m)         │               \u001b[38;5;34m0\u001b[0m │\n",
              "├──────────────────────────────────────┼─────────────────────────────┼─────────────────┤\n",
              "│ conv2d_24 (\u001b[38;5;33mConv2D\u001b[0m)                   │ (\u001b[38;5;45mNone\u001b[0m, \u001b[38;5;34m11\u001b[0m, \u001b[38;5;34m11\u001b[0m, \u001b[38;5;34m512\u001b[0m)         │         \u001b[38;5;34m590,336\u001b[0m │\n",
              "├──────────────────────────────────────┼─────────────────────────────┼─────────────────┤\n",
              "│ max_pooling2d_24 (\u001b[38;5;33mMaxPooling2D\u001b[0m)      │ (\u001b[38;5;45mNone\u001b[0m, \u001b[38;5;34m5\u001b[0m, \u001b[38;5;34m5\u001b[0m, \u001b[38;5;34m512\u001b[0m)           │               \u001b[38;5;34m0\u001b[0m │\n",
              "├──────────────────────────────────────┼─────────────────────────────┼─────────────────┤\n",
              "│ dropout_16 (\u001b[38;5;33mDropout\u001b[0m)                 │ (\u001b[38;5;45mNone\u001b[0m, \u001b[38;5;34m5\u001b[0m, \u001b[38;5;34m5\u001b[0m, \u001b[38;5;34m512\u001b[0m)           │               \u001b[38;5;34m0\u001b[0m │\n",
              "├──────────────────────────────────────┼─────────────────────────────┼─────────────────┤\n",
              "│ flatten_5 (\u001b[38;5;33mFlatten\u001b[0m)                  │ (\u001b[38;5;45mNone\u001b[0m, \u001b[38;5;34m12800\u001b[0m)               │               \u001b[38;5;34m0\u001b[0m │\n",
              "├──────────────────────────────────────┼─────────────────────────────┼─────────────────┤\n",
              "│ dense_10 (\u001b[38;5;33mDense\u001b[0m)                     │ (\u001b[38;5;45mNone\u001b[0m, \u001b[38;5;34m512\u001b[0m)                 │       \u001b[38;5;34m6,554,112\u001b[0m │\n",
              "├──────────────────────────────────────┼─────────────────────────────┼─────────────────┤\n",
              "│ batch_normalization_5                │ (\u001b[38;5;45mNone\u001b[0m, \u001b[38;5;34m512\u001b[0m)                 │           \u001b[38;5;34m2,048\u001b[0m │\n",
              "│ (\u001b[38;5;33mBatchNormalization\u001b[0m)                 │                             │                 │\n",
              "├──────────────────────────────────────┼─────────────────────────────┼─────────────────┤\n",
              "│ activation_5 (\u001b[38;5;33mActivation\u001b[0m)            │ (\u001b[38;5;45mNone\u001b[0m, \u001b[38;5;34m512\u001b[0m)                 │               \u001b[38;5;34m0\u001b[0m │\n",
              "├──────────────────────────────────────┼─────────────────────────────┼─────────────────┤\n",
              "│ dense_11 (\u001b[38;5;33mDense\u001b[0m)                     │ (\u001b[38;5;45mNone\u001b[0m, \u001b[38;5;34m34\u001b[0m)                  │          \u001b[38;5;34m17,442\u001b[0m │\n",
              "└──────────────────────────────────────┴─────────────────────────────┴─────────────────┘\n"
            ],
            "text/html": [
              "<pre style=\"white-space:pre;overflow-x:auto;line-height:normal;font-family:Menlo,'DejaVu Sans Mono',consolas,'Courier New',monospace\">┏━━━━━━━━━━━━━━━━━━━━━━━━━━━━━━━━━━━━━━┳━━━━━━━━━━━━━━━━━━━━━━━━━━━━━┳━━━━━━━━━━━━━━━━━┓\n",
              "┃<span style=\"font-weight: bold\"> Layer (type)                         </span>┃<span style=\"font-weight: bold\"> Output Shape                </span>┃<span style=\"font-weight: bold\">         Param # </span>┃\n",
              "┡━━━━━━━━━━━━━━━━━━━━━━━━━━━━━━━━━━━━━━╇━━━━━━━━━━━━━━━━━━━━━━━━━━━━━╇━━━━━━━━━━━━━━━━━┩\n",
              "│ random_flip_6 (<span style=\"color: #0087ff; text-decoration-color: #0087ff\">RandomFlip</span>)           │ (<span style=\"color: #00d7ff; text-decoration-color: #00d7ff\">None</span>, <span style=\"color: #00af00; text-decoration-color: #00af00\">120</span>, <span style=\"color: #00af00; text-decoration-color: #00af00\">120</span>, <span style=\"color: #00af00; text-decoration-color: #00af00\">3</span>)         │               <span style=\"color: #00af00; text-decoration-color: #00af00\">0</span> │\n",
              "├──────────────────────────────────────┼─────────────────────────────┼─────────────────┤\n",
              "│ random_rotation_6 (<span style=\"color: #0087ff; text-decoration-color: #0087ff\">RandomRotation</span>)   │ (<span style=\"color: #00d7ff; text-decoration-color: #00d7ff\">None</span>, <span style=\"color: #00af00; text-decoration-color: #00af00\">120</span>, <span style=\"color: #00af00; text-decoration-color: #00af00\">120</span>, <span style=\"color: #00af00; text-decoration-color: #00af00\">3</span>)         │               <span style=\"color: #00af00; text-decoration-color: #00af00\">0</span> │\n",
              "├──────────────────────────────────────┼─────────────────────────────┼─────────────────┤\n",
              "│ random_zoom_6 (<span style=\"color: #0087ff; text-decoration-color: #0087ff\">RandomZoom</span>)           │ (<span style=\"color: #00d7ff; text-decoration-color: #00d7ff\">None</span>, <span style=\"color: #00af00; text-decoration-color: #00af00\">120</span>, <span style=\"color: #00af00; text-decoration-color: #00af00\">120</span>, <span style=\"color: #00af00; text-decoration-color: #00af00\">3</span>)         │               <span style=\"color: #00af00; text-decoration-color: #00af00\">0</span> │\n",
              "├──────────────────────────────────────┼─────────────────────────────┼─────────────────┤\n",
              "│ random_translation_6                 │ (<span style=\"color: #00d7ff; text-decoration-color: #00d7ff\">None</span>, <span style=\"color: #00af00; text-decoration-color: #00af00\">120</span>, <span style=\"color: #00af00; text-decoration-color: #00af00\">120</span>, <span style=\"color: #00af00; text-decoration-color: #00af00\">3</span>)         │               <span style=\"color: #00af00; text-decoration-color: #00af00\">0</span> │\n",
              "│ (<span style=\"color: #0087ff; text-decoration-color: #0087ff\">RandomTranslation</span>)                  │                             │                 │\n",
              "├──────────────────────────────────────┼─────────────────────────────┼─────────────────┤\n",
              "│ rescaling_6 (<span style=\"color: #0087ff; text-decoration-color: #0087ff\">Rescaling</span>)              │ (<span style=\"color: #00d7ff; text-decoration-color: #00d7ff\">None</span>, <span style=\"color: #00af00; text-decoration-color: #00af00\">120</span>, <span style=\"color: #00af00; text-decoration-color: #00af00\">120</span>, <span style=\"color: #00af00; text-decoration-color: #00af00\">3</span>)         │               <span style=\"color: #00af00; text-decoration-color: #00af00\">0</span> │\n",
              "├──────────────────────────────────────┼─────────────────────────────┼─────────────────┤\n",
              "│ conv2d_21 (<span style=\"color: #0087ff; text-decoration-color: #0087ff\">Conv2D</span>)                   │ (<span style=\"color: #00d7ff; text-decoration-color: #00d7ff\">None</span>, <span style=\"color: #00af00; text-decoration-color: #00af00\">118</span>, <span style=\"color: #00af00; text-decoration-color: #00af00\">118</span>, <span style=\"color: #00af00; text-decoration-color: #00af00\">32</span>)        │             <span style=\"color: #00af00; text-decoration-color: #00af00\">896</span> │\n",
              "├──────────────────────────────────────┼─────────────────────────────┼─────────────────┤\n",
              "│ max_pooling2d_21 (<span style=\"color: #0087ff; text-decoration-color: #0087ff\">MaxPooling2D</span>)      │ (<span style=\"color: #00d7ff; text-decoration-color: #00d7ff\">None</span>, <span style=\"color: #00af00; text-decoration-color: #00af00\">59</span>, <span style=\"color: #00af00; text-decoration-color: #00af00\">59</span>, <span style=\"color: #00af00; text-decoration-color: #00af00\">32</span>)          │               <span style=\"color: #00af00; text-decoration-color: #00af00\">0</span> │\n",
              "├──────────────────────────────────────┼─────────────────────────────┼─────────────────┤\n",
              "│ conv2d_22 (<span style=\"color: #0087ff; text-decoration-color: #0087ff\">Conv2D</span>)                   │ (<span style=\"color: #00d7ff; text-decoration-color: #00d7ff\">None</span>, <span style=\"color: #00af00; text-decoration-color: #00af00\">57</span>, <span style=\"color: #00af00; text-decoration-color: #00af00\">57</span>, <span style=\"color: #00af00; text-decoration-color: #00af00\">64</span>)          │          <span style=\"color: #00af00; text-decoration-color: #00af00\">18,496</span> │\n",
              "├──────────────────────────────────────┼─────────────────────────────┼─────────────────┤\n",
              "│ max_pooling2d_22 (<span style=\"color: #0087ff; text-decoration-color: #0087ff\">MaxPooling2D</span>)      │ (<span style=\"color: #00d7ff; text-decoration-color: #00d7ff\">None</span>, <span style=\"color: #00af00; text-decoration-color: #00af00\">28</span>, <span style=\"color: #00af00; text-decoration-color: #00af00\">28</span>, <span style=\"color: #00af00; text-decoration-color: #00af00\">64</span>)          │               <span style=\"color: #00af00; text-decoration-color: #00af00\">0</span> │\n",
              "├──────────────────────────────────────┼─────────────────────────────┼─────────────────┤\n",
              "│ dropout_14 (<span style=\"color: #0087ff; text-decoration-color: #0087ff\">Dropout</span>)                 │ (<span style=\"color: #00d7ff; text-decoration-color: #00d7ff\">None</span>, <span style=\"color: #00af00; text-decoration-color: #00af00\">28</span>, <span style=\"color: #00af00; text-decoration-color: #00af00\">28</span>, <span style=\"color: #00af00; text-decoration-color: #00af00\">64</span>)          │               <span style=\"color: #00af00; text-decoration-color: #00af00\">0</span> │\n",
              "├──────────────────────────────────────┼─────────────────────────────┼─────────────────┤\n",
              "│ conv2d_23 (<span style=\"color: #0087ff; text-decoration-color: #0087ff\">Conv2D</span>)                   │ (<span style=\"color: #00d7ff; text-decoration-color: #00d7ff\">None</span>, <span style=\"color: #00af00; text-decoration-color: #00af00\">26</span>, <span style=\"color: #00af00; text-decoration-color: #00af00\">26</span>, <span style=\"color: #00af00; text-decoration-color: #00af00\">128</span>)         │          <span style=\"color: #00af00; text-decoration-color: #00af00\">73,856</span> │\n",
              "├──────────────────────────────────────┼─────────────────────────────┼─────────────────┤\n",
              "│ max_pooling2d_23 (<span style=\"color: #0087ff; text-decoration-color: #0087ff\">MaxPooling2D</span>)      │ (<span style=\"color: #00d7ff; text-decoration-color: #00d7ff\">None</span>, <span style=\"color: #00af00; text-decoration-color: #00af00\">13</span>, <span style=\"color: #00af00; text-decoration-color: #00af00\">13</span>, <span style=\"color: #00af00; text-decoration-color: #00af00\">128</span>)         │               <span style=\"color: #00af00; text-decoration-color: #00af00\">0</span> │\n",
              "├──────────────────────────────────────┼─────────────────────────────┼─────────────────┤\n",
              "│ dropout_15 (<span style=\"color: #0087ff; text-decoration-color: #0087ff\">Dropout</span>)                 │ (<span style=\"color: #00d7ff; text-decoration-color: #00d7ff\">None</span>, <span style=\"color: #00af00; text-decoration-color: #00af00\">13</span>, <span style=\"color: #00af00; text-decoration-color: #00af00\">13</span>, <span style=\"color: #00af00; text-decoration-color: #00af00\">128</span>)         │               <span style=\"color: #00af00; text-decoration-color: #00af00\">0</span> │\n",
              "├──────────────────────────────────────┼─────────────────────────────┼─────────────────┤\n",
              "│ conv2d_24 (<span style=\"color: #0087ff; text-decoration-color: #0087ff\">Conv2D</span>)                   │ (<span style=\"color: #00d7ff; text-decoration-color: #00d7ff\">None</span>, <span style=\"color: #00af00; text-decoration-color: #00af00\">11</span>, <span style=\"color: #00af00; text-decoration-color: #00af00\">11</span>, <span style=\"color: #00af00; text-decoration-color: #00af00\">512</span>)         │         <span style=\"color: #00af00; text-decoration-color: #00af00\">590,336</span> │\n",
              "├──────────────────────────────────────┼─────────────────────────────┼─────────────────┤\n",
              "│ max_pooling2d_24 (<span style=\"color: #0087ff; text-decoration-color: #0087ff\">MaxPooling2D</span>)      │ (<span style=\"color: #00d7ff; text-decoration-color: #00d7ff\">None</span>, <span style=\"color: #00af00; text-decoration-color: #00af00\">5</span>, <span style=\"color: #00af00; text-decoration-color: #00af00\">5</span>, <span style=\"color: #00af00; text-decoration-color: #00af00\">512</span>)           │               <span style=\"color: #00af00; text-decoration-color: #00af00\">0</span> │\n",
              "├──────────────────────────────────────┼─────────────────────────────┼─────────────────┤\n",
              "│ dropout_16 (<span style=\"color: #0087ff; text-decoration-color: #0087ff\">Dropout</span>)                 │ (<span style=\"color: #00d7ff; text-decoration-color: #00d7ff\">None</span>, <span style=\"color: #00af00; text-decoration-color: #00af00\">5</span>, <span style=\"color: #00af00; text-decoration-color: #00af00\">5</span>, <span style=\"color: #00af00; text-decoration-color: #00af00\">512</span>)           │               <span style=\"color: #00af00; text-decoration-color: #00af00\">0</span> │\n",
              "├──────────────────────────────────────┼─────────────────────────────┼─────────────────┤\n",
              "│ flatten_5 (<span style=\"color: #0087ff; text-decoration-color: #0087ff\">Flatten</span>)                  │ (<span style=\"color: #00d7ff; text-decoration-color: #00d7ff\">None</span>, <span style=\"color: #00af00; text-decoration-color: #00af00\">12800</span>)               │               <span style=\"color: #00af00; text-decoration-color: #00af00\">0</span> │\n",
              "├──────────────────────────────────────┼─────────────────────────────┼─────────────────┤\n",
              "│ dense_10 (<span style=\"color: #0087ff; text-decoration-color: #0087ff\">Dense</span>)                     │ (<span style=\"color: #00d7ff; text-decoration-color: #00d7ff\">None</span>, <span style=\"color: #00af00; text-decoration-color: #00af00\">512</span>)                 │       <span style=\"color: #00af00; text-decoration-color: #00af00\">6,554,112</span> │\n",
              "├──────────────────────────────────────┼─────────────────────────────┼─────────────────┤\n",
              "│ batch_normalization_5                │ (<span style=\"color: #00d7ff; text-decoration-color: #00d7ff\">None</span>, <span style=\"color: #00af00; text-decoration-color: #00af00\">512</span>)                 │           <span style=\"color: #00af00; text-decoration-color: #00af00\">2,048</span> │\n",
              "│ (<span style=\"color: #0087ff; text-decoration-color: #0087ff\">BatchNormalization</span>)                 │                             │                 │\n",
              "├──────────────────────────────────────┼─────────────────────────────┼─────────────────┤\n",
              "│ activation_5 (<span style=\"color: #0087ff; text-decoration-color: #0087ff\">Activation</span>)            │ (<span style=\"color: #00d7ff; text-decoration-color: #00d7ff\">None</span>, <span style=\"color: #00af00; text-decoration-color: #00af00\">512</span>)                 │               <span style=\"color: #00af00; text-decoration-color: #00af00\">0</span> │\n",
              "├──────────────────────────────────────┼─────────────────────────────┼─────────────────┤\n",
              "│ dense_11 (<span style=\"color: #0087ff; text-decoration-color: #0087ff\">Dense</span>)                     │ (<span style=\"color: #00d7ff; text-decoration-color: #00d7ff\">None</span>, <span style=\"color: #00af00; text-decoration-color: #00af00\">34</span>)                  │          <span style=\"color: #00af00; text-decoration-color: #00af00\">17,442</span> │\n",
              "└──────────────────────────────────────┴─────────────────────────────┴─────────────────┘\n",
              "</pre>\n"
            ]
          },
          "metadata": {}
        },
        {
          "output_type": "display_data",
          "data": {
            "text/plain": [
              "\u001b[1m Total params: \u001b[0m\u001b[38;5;34m7,257,186\u001b[0m (27.68 MB)\n"
            ],
            "text/html": [
              "<pre style=\"white-space:pre;overflow-x:auto;line-height:normal;font-family:Menlo,'DejaVu Sans Mono',consolas,'Courier New',monospace\"><span style=\"font-weight: bold\"> Total params: </span><span style=\"color: #00af00; text-decoration-color: #00af00\">7,257,186</span> (27.68 MB)\n",
              "</pre>\n"
            ]
          },
          "metadata": {}
        },
        {
          "output_type": "display_data",
          "data": {
            "text/plain": [
              "\u001b[1m Trainable params: \u001b[0m\u001b[38;5;34m7,256,162\u001b[0m (27.68 MB)\n"
            ],
            "text/html": [
              "<pre style=\"white-space:pre;overflow-x:auto;line-height:normal;font-family:Menlo,'DejaVu Sans Mono',consolas,'Courier New',monospace\"><span style=\"font-weight: bold\"> Trainable params: </span><span style=\"color: #00af00; text-decoration-color: #00af00\">7,256,162</span> (27.68 MB)\n",
              "</pre>\n"
            ]
          },
          "metadata": {}
        },
        {
          "output_type": "display_data",
          "data": {
            "text/plain": [
              "\u001b[1m Non-trainable params: \u001b[0m\u001b[38;5;34m1,024\u001b[0m (4.00 KB)\n"
            ],
            "text/html": [
              "<pre style=\"white-space:pre;overflow-x:auto;line-height:normal;font-family:Menlo,'DejaVu Sans Mono',consolas,'Courier New',monospace\"><span style=\"font-weight: bold\"> Non-trainable params: </span><span style=\"color: #00af00; text-decoration-color: #00af00\">1,024</span> (4.00 KB)\n",
              "</pre>\n"
            ]
          },
          "metadata": {}
        }
      ]
    },
    {
      "cell_type": "code",
      "source": [
        "initial_lr = 0.001\n",
        "# lr_schedule = tf.keras.optimizers.schedules.ExponentialDecay(\n",
        "#     initial_lr,\n",
        "#     decay_steps=1000,\n",
        "#     decay_rate=0.9\n",
        "# )\n",
        "\n",
        "# compile dahulu\n",
        "# model.compile(\n",
        "#     optimizer=tf.keras.optimizers.RMSprop(learning_rate=1.75e-4, ),\n",
        "#     loss='categorical_crossentropy',\n",
        "#     metrics=['accuracy'],\n",
        "# )\n",
        "\n",
        "model.compile(\n",
        "    optimizer=tf.keras.optimizers.Adam(learning_rate=0.01),\n",
        "    loss='categorical_crossentropy',\n",
        "    metrics=['accuracy']\n",
        ")"
      ],
      "metadata": {
        "id": "QHmVb1ygdcs9"
      },
      "execution_count": 49,
      "outputs": []
    },
    {
      "cell_type": "code",
      "source": [
        "# untuk mencari learning rate\n",
        "lr_scheduler = tf.keras.callbacks.LearningRateScheduler(lambda epoch: 1e-4 * 10**(epoch / 20))\n",
        "\n",
        "early_stopping = tf.keras.callbacks.EarlyStopping(\n",
        "    monitor='val_loss',\n",
        "    patience=15,\n",
        "    restore_best_weights=True\n",
        ")\n",
        "\n",
        "reduce_lr = tf.keras.callbacks.ReduceLROnPlateau(\n",
        "    monitor='val_loss',\n",
        "    factor=0.2,\n",
        "    patience=5,\n",
        "    min_lr=0.00001\n",
        ")\n"
      ],
      "metadata": {
        "id": "powSRjOIYOkk"
      },
      "execution_count": 46,
      "outputs": []
    },
    {
      "cell_type": "code",
      "source": [
        "history = model.fit(\n",
        "    train_dataset_final,\n",
        "    validation_data=validation_dataset_final,\n",
        "    epochs=50,\n",
        "    verbose=2,\n",
        "    callbacks=[]\n",
        ")"
      ],
      "metadata": {
        "colab": {
          "base_uri": "https://localhost:8080/"
        },
        "id": "IticwhFud-5z",
        "outputId": "6cf6de00-36be-4fa9-8084-2554b86a0c84"
      },
      "execution_count": 50,
      "outputs": [
        {
          "output_type": "stream",
          "name": "stdout",
          "text": [
            "Epoch 1/100\n",
            "557/557 - 21s - 37ms/step - accuracy: 0.0822 - loss: 3.6271 - val_accuracy: 0.0408 - val_loss: 3.6316\n",
            "Epoch 2/100\n",
            "557/557 - 17s - 30ms/step - accuracy: 0.1010 - loss: 3.2844 - val_accuracy: 0.0739 - val_loss: 3.5315\n",
            "Epoch 3/100\n",
            "557/557 - 20s - 36ms/step - accuracy: 0.1221 - loss: 3.2112 - val_accuracy: 0.0876 - val_loss: 3.3479\n",
            "Epoch 4/100\n",
            "557/557 - 21s - 37ms/step - accuracy: 0.1449 - loss: 3.0945 - val_accuracy: 0.0978 - val_loss: 3.3264\n",
            "Epoch 5/100\n",
            "557/557 - 17s - 30ms/step - accuracy: 0.1504 - loss: 3.0797 - val_accuracy: 0.0906 - val_loss: 3.3841\n",
            "Epoch 6/100\n",
            "557/557 - 17s - 30ms/step - accuracy: 0.1567 - loss: 3.0372 - val_accuracy: 0.0791 - val_loss: 3.3530\n",
            "Epoch 7/100\n",
            "557/557 - 17s - 30ms/step - accuracy: 0.1635 - loss: 3.0175 - val_accuracy: 0.0864 - val_loss: 3.2886\n",
            "Epoch 8/100\n",
            "557/557 - 20s - 37ms/step - accuracy: 0.1629 - loss: 3.0106 - val_accuracy: 0.0884 - val_loss: 3.2694\n",
            "Epoch 9/100\n",
            "557/557 - 17s - 30ms/step - accuracy: 0.1664 - loss: 2.9945 - val_accuracy: 0.1229 - val_loss: 3.1492\n",
            "Epoch 10/100\n",
            "557/557 - 21s - 37ms/step - accuracy: 0.1639 - loss: 2.9869 - val_accuracy: 0.0892 - val_loss: 3.4368\n",
            "Epoch 11/100\n",
            "557/557 - 20s - 37ms/step - accuracy: 0.1690 - loss: 2.9731 - val_accuracy: 0.1135 - val_loss: 3.1956\n",
            "Epoch 12/100\n",
            "557/557 - 17s - 30ms/step - accuracy: 0.1713 - loss: 2.9737 - val_accuracy: 0.1280 - val_loss: 3.2025\n",
            "Epoch 13/100\n",
            "557/557 - 17s - 30ms/step - accuracy: 0.1720 - loss: 2.9635 - val_accuracy: 0.1400 - val_loss: 3.1203\n",
            "Epoch 14/100\n",
            "557/557 - 21s - 37ms/step - accuracy: 0.1728 - loss: 2.9721 - val_accuracy: 0.1111 - val_loss: 3.3457\n",
            "Epoch 15/100\n",
            "557/557 - 17s - 30ms/step - accuracy: 0.1764 - loss: 2.9584 - val_accuracy: 0.1195 - val_loss: 3.2592\n",
            "Epoch 16/100\n",
            "557/557 - 17s - 30ms/step - accuracy: 0.1785 - loss: 2.9377 - val_accuracy: 0.1304 - val_loss: 3.1883\n",
            "Epoch 17/100\n",
            "557/557 - 20s - 37ms/step - accuracy: 0.1848 - loss: 2.9282 - val_accuracy: 0.1201 - val_loss: 3.3704\n",
            "Epoch 18/100\n",
            "557/557 - 17s - 30ms/step - accuracy: 0.1870 - loss: 2.9081 - val_accuracy: 0.1000 - val_loss: 3.4329\n",
            "Epoch 19/100\n",
            "557/557 - 17s - 30ms/step - accuracy: 0.1917 - loss: 2.8999 - val_accuracy: 0.1077 - val_loss: 3.3626\n",
            "Epoch 20/100\n",
            "557/557 - 21s - 37ms/step - accuracy: 0.1930 - loss: 2.8873 - val_accuracy: 0.1243 - val_loss: 3.2423\n",
            "Epoch 21/100\n",
            "557/557 - 17s - 30ms/step - accuracy: 0.1969 - loss: 2.8822 - val_accuracy: 0.1083 - val_loss: 3.3937\n",
            "Epoch 22/100\n",
            "557/557 - 21s - 37ms/step - accuracy: 0.1945 - loss: 2.8777 - val_accuracy: 0.1324 - val_loss: 3.2141\n",
            "Epoch 23/100\n",
            "557/557 - 17s - 30ms/step - accuracy: 0.1992 - loss: 2.8614 - val_accuracy: 0.0986 - val_loss: 3.4316\n",
            "Epoch 24/100\n",
            "557/557 - 17s - 30ms/step - accuracy: 0.2025 - loss: 2.8644 - val_accuracy: 0.1215 - val_loss: 3.3339\n",
            "Epoch 25/100\n",
            "557/557 - 17s - 30ms/step - accuracy: 0.2033 - loss: 2.8584 - val_accuracy: 0.1392 - val_loss: 3.2223\n",
            "Epoch 26/100\n",
            "557/557 - 17s - 30ms/step - accuracy: 0.2092 - loss: 2.8437 - val_accuracy: 0.1446 - val_loss: 3.0968\n",
            "Epoch 27/100\n",
            "557/557 - 20s - 37ms/step - accuracy: 0.2080 - loss: 2.8390 - val_accuracy: 0.1316 - val_loss: 3.2273\n",
            "Epoch 28/100\n",
            "557/557 - 21s - 37ms/step - accuracy: 0.2126 - loss: 2.8333 - val_accuracy: 0.1328 - val_loss: 3.3703\n",
            "Epoch 29/100\n",
            "557/557 - 17s - 31ms/step - accuracy: 0.2162 - loss: 2.8178 - val_accuracy: 0.1280 - val_loss: 3.3360\n",
            "Epoch 30/100\n",
            "557/557 - 17s - 30ms/step - accuracy: 0.2181 - loss: 2.8099 - val_accuracy: 0.1065 - val_loss: 3.5426\n",
            "Epoch 31/100\n",
            "557/557 - 17s - 30ms/step - accuracy: 0.2188 - loss: 2.8129 - val_accuracy: 0.1685 - val_loss: 3.0251\n",
            "Epoch 32/100\n",
            "557/557 - 20s - 36ms/step - accuracy: 0.2228 - loss: 2.8005 - val_accuracy: 0.1207 - val_loss: 3.4732\n",
            "Epoch 33/100\n",
            "557/557 - 20s - 37ms/step - accuracy: 0.2187 - loss: 2.7979 - val_accuracy: 0.1559 - val_loss: 3.2362\n",
            "Epoch 34/100\n",
            "557/557 - 21s - 37ms/step - accuracy: 0.2234 - loss: 2.7937 - val_accuracy: 0.1380 - val_loss: 3.2488\n",
            "Epoch 35/100\n",
            "557/557 - 17s - 30ms/step - accuracy: 0.2255 - loss: 2.7819 - val_accuracy: 0.1225 - val_loss: 3.4129\n",
            "Epoch 36/100\n",
            "557/557 - 21s - 37ms/step - accuracy: 0.2238 - loss: 2.7898 - val_accuracy: 0.1458 - val_loss: 3.2454\n",
            "Epoch 37/100\n",
            "557/557 - 17s - 30ms/step - accuracy: 0.2260 - loss: 2.7760 - val_accuracy: 0.1476 - val_loss: 3.1388\n",
            "Epoch 38/100\n",
            "557/557 - 17s - 30ms/step - accuracy: 0.2245 - loss: 2.7802 - val_accuracy: 0.1231 - val_loss: 3.2889\n",
            "Epoch 39/100\n",
            "557/557 - 21s - 37ms/step - accuracy: 0.2279 - loss: 2.7729 - val_accuracy: 0.1519 - val_loss: 3.1691\n",
            "Epoch 40/100\n",
            "557/557 - 21s - 37ms/step - accuracy: 0.2268 - loss: 2.7763 - val_accuracy: 0.1499 - val_loss: 3.1660\n",
            "Epoch 41/100\n",
            "557/557 - 17s - 31ms/step - accuracy: 0.2324 - loss: 2.7680 - val_accuracy: 0.1573 - val_loss: 3.0655\n",
            "Epoch 42/100\n",
            "557/557 - 20s - 36ms/step - accuracy: 0.2277 - loss: 2.7751 - val_accuracy: 0.1587 - val_loss: 3.1298\n",
            "Epoch 43/100\n",
            "557/557 - 21s - 37ms/step - accuracy: 0.2296 - loss: 2.7700 - val_accuracy: 0.1575 - val_loss: 3.1564\n",
            "Epoch 44/100\n",
            "557/557 - 21s - 37ms/step - accuracy: 0.2330 - loss: 2.7650 - val_accuracy: 0.1352 - val_loss: 3.2206\n",
            "Epoch 45/100\n",
            "557/557 - 17s - 31ms/step - accuracy: 0.2347 - loss: 2.7581 - val_accuracy: 0.1477 - val_loss: 3.1754\n",
            "Epoch 46/100\n",
            "557/557 - 17s - 30ms/step - accuracy: 0.2316 - loss: 2.7657 - val_accuracy: 0.1280 - val_loss: 3.4292\n",
            "Epoch 47/100\n",
            "557/557 - 17s - 30ms/step - accuracy: 0.2327 - loss: 2.7618 - val_accuracy: 0.1430 - val_loss: 3.2058\n",
            "Epoch 48/100\n",
            "557/557 - 21s - 37ms/step - accuracy: 0.2356 - loss: 2.7517 - val_accuracy: 0.1430 - val_loss: 3.1833\n",
            "Epoch 49/100\n",
            "557/557 - 17s - 31ms/step - accuracy: 0.2337 - loss: 2.7598 - val_accuracy: 0.1667 - val_loss: 3.0530\n",
            "Epoch 50/100\n",
            "557/557 - 17s - 30ms/step - accuracy: 0.2360 - loss: 2.7537 - val_accuracy: 0.1418 - val_loss: 3.1138\n",
            "Epoch 51/100\n",
            "557/557 - 17s - 30ms/step - accuracy: 0.2369 - loss: 2.7465 - val_accuracy: 0.1386 - val_loss: 3.2319\n",
            "Epoch 52/100\n",
            "557/557 - 17s - 31ms/step - accuracy: 0.2376 - loss: 2.7502 - val_accuracy: 0.1579 - val_loss: 3.0595\n",
            "Epoch 53/100\n",
            "557/557 - 21s - 37ms/step - accuracy: 0.2374 - loss: 2.7435 - val_accuracy: 0.1245 - val_loss: 3.2228\n",
            "Epoch 54/100\n",
            "557/557 - 20s - 36ms/step - accuracy: 0.2391 - loss: 2.7440 - val_accuracy: 0.1631 - val_loss: 3.0744\n",
            "Epoch 55/100\n",
            "557/557 - 17s - 31ms/step - accuracy: 0.2367 - loss: 2.7433 - val_accuracy: 0.1808 - val_loss: 2.9862\n",
            "Epoch 56/100\n",
            "557/557 - 20s - 36ms/step - accuracy: 0.2410 - loss: 2.7384 - val_accuracy: 0.1324 - val_loss: 3.3432\n",
            "Epoch 57/100\n",
            "557/557 - 17s - 30ms/step - accuracy: 0.2392 - loss: 2.7423 - val_accuracy: 0.1671 - val_loss: 2.9989\n",
            "Epoch 58/100\n",
            "557/557 - 20s - 37ms/step - accuracy: 0.2431 - loss: 2.7345 - val_accuracy: 0.1625 - val_loss: 3.0841\n",
            "Epoch 59/100\n",
            "557/557 - 21s - 37ms/step - accuracy: 0.2373 - loss: 2.7374 - val_accuracy: 0.1955 - val_loss: 2.8585\n",
            "Epoch 60/100\n",
            "557/557 - 17s - 31ms/step - accuracy: 0.2399 - loss: 2.7372 - val_accuracy: 0.1374 - val_loss: 3.2088\n",
            "Epoch 61/100\n",
            "557/557 - 20s - 37ms/step - accuracy: 0.2377 - loss: 2.7366 - val_accuracy: 0.1555 - val_loss: 3.0778\n",
            "Epoch 62/100\n",
            "557/557 - 17s - 30ms/step - accuracy: 0.2426 - loss: 2.7269 - val_accuracy: 0.1611 - val_loss: 3.0889\n",
            "Epoch 63/100\n",
            "557/557 - 21s - 37ms/step - accuracy: 0.2416 - loss: 2.7260 - val_accuracy: 0.1539 - val_loss: 3.0918\n",
            "Epoch 64/100\n",
            "557/557 - 21s - 37ms/step - accuracy: 0.2377 - loss: 2.7305 - val_accuracy: 0.1495 - val_loss: 3.1766\n",
            "Epoch 65/100\n",
            "557/557 - 20s - 37ms/step - accuracy: 0.2401 - loss: 2.7304 - val_accuracy: 0.1756 - val_loss: 3.0056\n",
            "Epoch 66/100\n",
            "557/557 - 17s - 31ms/step - accuracy: 0.2366 - loss: 2.7311 - val_accuracy: 0.1579 - val_loss: 3.1266\n",
            "Epoch 67/100\n",
            "557/557 - 20s - 36ms/step - accuracy: 0.2396 - loss: 2.7413 - val_accuracy: 0.1824 - val_loss: 2.9372\n",
            "Epoch 68/100\n",
            "557/557 - 17s - 31ms/step - accuracy: 0.2427 - loss: 2.7300 - val_accuracy: 0.1601 - val_loss: 3.1089\n",
            "Epoch 69/100\n",
            "557/557 - 17s - 30ms/step - accuracy: 0.2382 - loss: 2.7328 - val_accuracy: 0.1219 - val_loss: 3.3220\n",
            "Epoch 70/100\n",
            "557/557 - 17s - 31ms/step - accuracy: 0.2419 - loss: 2.7224 - val_accuracy: 0.1730 - val_loss: 2.9941\n",
            "Epoch 71/100\n",
            "557/557 - 21s - 37ms/step - accuracy: 0.2431 - loss: 2.7267 - val_accuracy: 0.1605 - val_loss: 3.0589\n",
            "Epoch 72/100\n",
            "557/557 - 17s - 31ms/step - accuracy: 0.2413 - loss: 2.7271 - val_accuracy: 0.1499 - val_loss: 3.0384\n",
            "Epoch 73/100\n",
            "557/557 - 17s - 30ms/step - accuracy: 0.2364 - loss: 2.7316 - val_accuracy: 0.1748 - val_loss: 2.9555\n",
            "Epoch 74/100\n",
            "557/557 - 21s - 37ms/step - accuracy: 0.2453 - loss: 2.7210 - val_accuracy: 0.1565 - val_loss: 3.0559\n",
            "Epoch 75/100\n",
            "557/557 - 20s - 36ms/step - accuracy: 0.2439 - loss: 2.7201 - val_accuracy: 0.1476 - val_loss: 3.0995\n",
            "Epoch 76/100\n",
            "557/557 - 21s - 37ms/step - accuracy: 0.2423 - loss: 2.7169 - val_accuracy: 0.1724 - val_loss: 2.9834\n",
            "Epoch 77/100\n",
            "557/557 - 20s - 37ms/step - accuracy: 0.2436 - loss: 2.7149 - val_accuracy: 0.1501 - val_loss: 3.1223\n",
            "Epoch 78/100\n",
            "557/557 - 17s - 30ms/step - accuracy: 0.2449 - loss: 2.7187 - val_accuracy: 0.1436 - val_loss: 3.1036\n",
            "Epoch 79/100\n",
            "557/557 - 17s - 31ms/step - accuracy: 0.2466 - loss: 2.7126 - val_accuracy: 0.1491 - val_loss: 3.1807\n",
            "Epoch 80/100\n",
            "557/557 - 20s - 37ms/step - accuracy: 0.2435 - loss: 2.7172 - val_accuracy: 0.1561 - val_loss: 3.0548\n",
            "Epoch 81/100\n",
            "557/557 - 17s - 31ms/step - accuracy: 0.2423 - loss: 2.7121 - val_accuracy: 0.1266 - val_loss: 3.2152\n",
            "Epoch 82/100\n",
            "557/557 - 17s - 31ms/step - accuracy: 0.2495 - loss: 2.7129 - val_accuracy: 0.1252 - val_loss: 3.3199\n",
            "Epoch 83/100\n",
            "557/557 - 21s - 37ms/step - accuracy: 0.2423 - loss: 2.7114 - val_accuracy: 0.1730 - val_loss: 2.9891\n",
            "Epoch 84/100\n",
            "557/557 - 17s - 30ms/step - accuracy: 0.2480 - loss: 2.7088 - val_accuracy: 0.1679 - val_loss: 2.9739\n",
            "Epoch 85/100\n",
            "557/557 - 17s - 30ms/step - accuracy: 0.2487 - loss: 2.7096 - val_accuracy: 0.1774 - val_loss: 2.9755\n",
            "Epoch 86/100\n",
            "557/557 - 17s - 31ms/step - accuracy: 0.2467 - loss: 2.7157 - val_accuracy: 0.1663 - val_loss: 2.9831\n",
            "Epoch 87/100\n",
            "557/557 - 17s - 30ms/step - accuracy: 0.2476 - loss: 2.7060 - val_accuracy: 0.1613 - val_loss: 3.1194\n",
            "Epoch 88/100\n",
            "557/557 - 17s - 31ms/step - accuracy: 0.2507 - loss: 2.7113 - val_accuracy: 0.1896 - val_loss: 2.9654\n",
            "Epoch 89/100\n",
            "557/557 - 20s - 37ms/step - accuracy: 0.2494 - loss: 2.7098 - val_accuracy: 0.1322 - val_loss: 3.1851\n",
            "Epoch 90/100\n",
            "557/557 - 17s - 31ms/step - accuracy: 0.2483 - loss: 2.7073 - val_accuracy: 0.1477 - val_loss: 3.0853\n",
            "Epoch 91/100\n",
            "557/557 - 17s - 31ms/step - accuracy: 0.2519 - loss: 2.7025 - val_accuracy: 0.1862 - val_loss: 2.9654\n",
            "Epoch 92/100\n",
            "557/557 - 17s - 31ms/step - accuracy: 0.2495 - loss: 2.7059 - val_accuracy: 0.1519 - val_loss: 3.0636\n",
            "Epoch 93/100\n",
            "557/557 - 17s - 31ms/step - accuracy: 0.2553 - loss: 2.6911 - val_accuracy: 0.1677 - val_loss: 3.0575\n",
            "Epoch 94/100\n",
            "557/557 - 21s - 37ms/step - accuracy: 0.2519 - loss: 2.6970 - val_accuracy: 0.1515 - val_loss: 3.0815\n",
            "Epoch 95/100\n",
            "557/557 - 21s - 37ms/step - accuracy: 0.2457 - loss: 2.7044 - val_accuracy: 0.1874 - val_loss: 2.9947\n",
            "Epoch 96/100\n",
            "557/557 - 20s - 37ms/step - accuracy: 0.2483 - loss: 2.6939 - val_accuracy: 0.1732 - val_loss: 2.9667\n",
            "Epoch 97/100\n",
            "557/557 - 17s - 31ms/step - accuracy: 0.2521 - loss: 2.6953 - val_accuracy: 0.1935 - val_loss: 2.9376\n",
            "Epoch 98/100\n",
            "557/557 - 17s - 31ms/step - accuracy: 0.2519 - loss: 2.6999 - val_accuracy: 0.1742 - val_loss: 2.9821\n",
            "Epoch 99/100\n",
            "557/557 - 20s - 37ms/step - accuracy: 0.2471 - loss: 2.7035 - val_accuracy: 0.1505 - val_loss: 3.1019\n",
            "Epoch 100/100\n",
            "557/557 - 21s - 37ms/step - accuracy: 0.2545 - loss: 2.6949 - val_accuracy: 0.1898 - val_loss: 2.9532\n"
          ]
        }
      ]
    },
    {
      "cell_type": "code",
      "source": [
        "loss, accuracy = model.evaluate(test_dataset)\n",
        "print(\"Accuracy\", accuracy)"
      ],
      "metadata": {
        "id": "n64RTVCw1r4D",
        "colab": {
          "base_uri": "https://localhost:8080/"
        },
        "outputId": "397ebd3c-186b-4d48-c7d7-5affef2ac0ab"
      },
      "execution_count": 28,
      "outputs": [
        {
          "output_type": "stream",
          "name": "stdout",
          "text": [
            "\u001b[1m22/22\u001b[0m \u001b[32m━━━━━━━━━━━━━━━━━━━━\u001b[0m\u001b[37m\u001b[0m \u001b[1m1s\u001b[0m 30ms/step - accuracy: 0.7367 - loss: 0.9544\n",
            "Accuracy 0.6860795617103577\n"
          ]
        }
      ]
    },
    {
      "cell_type": "code",
      "source": [
        "\n",
        "def plot_loss_acc(history):\n",
        "  acc = history.history['accuracy']\n",
        "  val_acc = history.history['val_accuracy']\n",
        "\n",
        "  loss = history.history['loss']\n",
        "  val_loss = history.history['val_loss']\n",
        "\n",
        "  epochs_range = range(len(acc))\n",
        "\n",
        "  fig, (ax1, ax2) = plt.subplots(1, 2, figsize=(15, 6))\n",
        "  ax1.plot(epochs_range, acc, label='Training Accuracy')\n",
        "  ax1.plot(epochs_range, val_acc, label='Validation Accuracy')\n",
        "  ax1.set_xlabel('Epochs')\n",
        "  ax1.set_ylabel('Accuracy')\n",
        "  ax1.set_title('Training and Validation Accuracy')\n",
        "  ax1.legend()\n",
        "\n",
        "  ax2.plot(epochs_range, loss, label='Training Loss')\n",
        "  ax2.plot(epochs_range, val_loss, label='Validation Loss')\n",
        "  ax2.set_xlabel('Epochs')\n",
        "  ax2.set_ylabel('Loss')\n",
        "  ax2.set_title('Training and Validation Loss')\n",
        "  ax2.legend()\n",
        "\n",
        "  plt.tight_layout()\n",
        "  plt.show()\n",
        "\n"
      ],
      "metadata": {
        "id": "clbxNDyofjg_"
      },
      "execution_count": 16,
      "outputs": []
    },
    {
      "cell_type": "code",
      "source": [
        "plot_loss_acc(history)"
      ],
      "metadata": {
        "colab": {
          "base_uri": "https://localhost:8080/",
          "height": 607
        },
        "id": "wsXzzfAxQyXZ",
        "outputId": "02cef398-f0ec-4db7-cc5a-ebd5ba24c649"
      },
      "execution_count": 51,
      "outputs": [
        {
          "output_type": "display_data",
          "data": {
            "text/plain": [
              "<Figure size 1500x600 with 2 Axes>"
            ],
            "image/png": "[encoded data removed]"
          },
          "metadata": {}
        }
      ]
    },
    {
      "cell_type": "code",
      "source": [
        "print(f'Training Accuracy: {history.history[\"accuracy\"][-1]*100:.2f}%')\n",
        "print(f'Validation Accuracy: {history.history[\"val_accuracy\"][-1]*100:.2f}%')"
      ],
      "metadata": {
        "id": "QBezhUlTyvKY"
      },
      "execution_count": null,
      "outputs": []
    },
    {
      "cell_type": "code",
      "source": [
        "plt.semilogx(history.history['learning_rate'], history.history['loss'])\n",
        "# plt.semilogx(history.history['val_loss'], label='Validation Loss')\n",
        "# plt.xlabel('Epochs')\n",
        "# plt.ylabel('Loss')\n",
        "# plt.legend()\n",
        "# plt.title('Training and Validation Loss')"
      ],
      "metadata": {
        "id": "1SMlAMnkhG3M",
        "colab": {
          "base_uri": "https://localhost:8080/",
          "height": 454
        },
        "outputId": "b6626ead-7537-4af4-d6a6-76eec035867e"
      },
      "execution_count": 24,
      "outputs": [
        {
          "output_type": "execute_result",
          "data": {
            "text/plain": [
              "[<matplotlib.lines.Line2D at 0x7e9ae2efd780>]"
            ]
          },
          "metadata": {},
          "execution_count": 24
        },
        {
          "output_type": "display_data",
          "data": {
            "text/plain": [
              "<Figure size 640x480 with 1 Axes>"
            ],
            "image/png": "[encoded data removed]"
          },
          "metadata": {}
        }
      ]
    },
    {
      "cell_type": "code",
      "source": [],
      "metadata": {
        "id": "35mAdTa6hIEp"
      },
      "execution_count": null,
      "outputs": []
    }
  ],
  "metadata": {
    "colab": {
      "name": "Welcome To Colab",
      "provenance": [],
      "gpuType": "T4",
      "include_colab_link": true
    },
    "kernelspec": {
      "display_name": "Python 3",
      "name": "python3"
    },
    "accelerator": "GPU"
  },
  "nbformat": 4,
  "nbformat_minor": 0
}