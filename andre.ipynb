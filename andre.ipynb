{
  "cells": [
    {
      "cell_type": "markdown",
      "metadata": {
        "id": "view-in-github",
        "colab_type": "text"
      },
      "source": [
        "<a href=\"https://colab.research.google.com/github/uchihamadara37/ML-capstone-bangkit/blob/main/andre.ipynb\" target=\"_parent\"><img src=\"https://colab.research.google.com/assets/colab-badge.svg\" alt=\"Open In Colab\"/></a>"
      ]
    },
    {
      "cell_type": "code",
      "source": [
        "!nvidia-smi\n"
      ],
      "metadata": {
        "id": "isBoaDIl7PdC",
        "colab": {
          "base_uri": "https://localhost:8080/"
        },
        "outputId": "27156d6b-6c6c-46cb-8d28-7961fe386b74"
      },
      "execution_count": null,
      "outputs": [
        {
          "output_type": "stream",
          "name": "stdout",
          "text": [
            "/bin/bash: line 1: nvidia-smi: command not found\n"
          ]
        }
      ]
    },
    {
      "cell_type": "code",
      "source": [],
      "metadata": {
        "id": "f2hm1QbY7Po1"
      },
      "execution_count": null,
      "outputs": []
    },
    {
      "cell_type": "markdown",
      "source": [
        "Setup Library\n",
        "**Preprocessing**"
      ],
      "metadata": {
        "id": "AQPuyZ3VFTmL"
      }
    },
    {
      "cell_type": "code",
      "execution_count": null,
      "metadata": {
        "id": "zwFnJsE6vjf8"
      },
      "outputs": [],
      "source": [
        "# prompt: install kaggle library\n",
        "\n",
        "# !pip install kaggle\n"
      ]
    },
    {
      "cell_type": "code",
      "source": [
        "# !kaggle datasets download -d wangziang/waste-pictures -p data --unzip"
      ],
      "metadata": {
        "id": "A35ECgwlKjdv"
      },
      "execution_count": null,
      "outputs": []
    },
    {
      "cell_type": "code",
      "source": [
        "!wget \"https://drive.usercontent.google.com/download?id=1AXuYOj63tdibRhEtOxI-kpEP6wBTMB56&export=download&authuser=0&confirm=t&uuid=9b208456-adaf-4b04-8b21-1d597c3f5e75&at=AENtkXZDhOKlhrjWsI2Owbxb63ix%3A1731726201156\" -O trash_data.zip"
      ],
      "metadata": {
        "colab": {
          "base_uri": "https://localhost:8080/"
        },
        "id": "rdnNrZKl4cnv",
        "outputId": "5bef3ba8-0fea-4a36-aab8-32dc4e328feb"
      },
      "execution_count": 1,
      "outputs": [
        {
          "output_type": "stream",
          "name": "stdout",
          "text": [
            "--2024-11-22 01:04:46--  https://drive.usercontent.google.com/download?id=1AXuYOj63tdibRhEtOxI-kpEP6wBTMB56&export=download&authuser=0&confirm=t&uuid=9b208456-adaf-4b04-8b21-1d597c3f5e75&at=AENtkXZDhOKlhrjWsI2Owbxb63ix%3A1731726201156\n",
            "Resolving drive.usercontent.google.com (drive.usercontent.google.com)... 173.194.210.132, 2607:f8b0:400c:c0f::84\n",
            "Connecting to drive.usercontent.google.com (drive.usercontent.google.com)|173.194.210.132|:443... connected.\n",
            "HTTP request sent, awaiting response... 200 OK\n",
            "Length: 879645956 (839M) [application/octet-stream]\n",
            "Saving to: ‘trash_data.zip’\n",
            "\n",
            "trash_data.zip      100%[===================>] 838.90M   153MB/s    in 5.8s    \n",
            "\n",
            "2024-11-22 01:04:54 (145 MB/s) - ‘trash_data.zip’ saved [879645956/879645956]\n",
            "\n"
          ]
        }
      ]
    },
    {
      "cell_type": "code",
      "source": [
        "!unzip -o -q trash_data.zip -d data3"
      ],
      "metadata": {
        "id": "iX57g8od5bx8"
      },
      "execution_count": 2,
      "outputs": []
    },
    {
      "cell_type": "markdown",
      "source": [
        "## **Exploratory Analysis**\n",
        "First, I need to prepare all libraries needed for analysis."
      ],
      "metadata": {
        "id": "TcpomHnxLQRw"
      }
    },
    {
      "cell_type": "code",
      "source": [
        "from mpl_toolkits.mplot3d import Axes3D\n",
        "from sklearn.preprocessing import StandardScaler\n",
        "import matplotlib.pyplot as plt # plotting\n",
        "import numpy as np # linear algebra\n",
        "import os # accessing directory structure\n",
        "import pandas as pd # data processing, CSV file I/O (e.g. pd.read_csv)\n",
        "from pathlib import Path\n",
        "\n",
        "from sklearn.model_selection import train_test_split\n",
        "import matplotlib.image as mpimg\n",
        "\n",
        "# untuk hunting file corrupt\n",
        "from PIL import Image\n",
        "import shutil\n",
        "\n",
        "# untuk keperluan modeling\n",
        "import tensorflow as tf\n",
        "from tensorflow.keras.preprocessing.image import ImageDataGenerator\n",
        "from tensorflow.keras import regularizers\n",
        "from tensorflow.keras.regularizers import l2\n",
        "\n",
        "\n"
      ],
      "metadata": {
        "id": "oesy4VQ4KzCv"
      },
      "execution_count": 3,
      "outputs": []
    },
    {
      "cell_type": "code",
      "source": [
        "root_dir = Path('./data3/resized_data')\n",
        "train_dir = os.path.join(root_dir, 'train')\n",
        "test_dir = os.path.join(root_dir, 'test')"
      ],
      "metadata": {
        "id": "fcBcxng8NaDX"
      },
      "execution_count": 4,
      "outputs": []
    },
    {
      "cell_type": "code",
      "source": [
        "# Buat ngecek dir\n",
        "# for entry in os.listdir(root_dir):\n",
        "#     full_path = os.path.join(root_dir, entry)\n",
        "#     if os.path.isdir(full_path):\n",
        "#         print(f\"|---->: {os.path.basename(full_path)}\")\n",
        "#         for entry2 in os.listdir(full_path):\n",
        "#             full_path2 = os.path.join(full_path, entry2)\n",
        "#             if os.path.isdir(full_path2):\n",
        "#                 print(f\"    |---->: {os.path.basename(full_path2)}\")\n"
      ],
      "metadata": {
        "id": "gC8nA-ZRSodi"
      },
      "execution_count": null,
      "outputs": []
    },
    {
      "cell_type": "code",
      "source": [],
      "metadata": {
        "id": "IO42X_CifaU8"
      },
      "execution_count": null,
      "outputs": []
    },
    {
      "cell_type": "markdown",
      "source": [
        "### Installasi Tensorflow\n"
      ],
      "metadata": {
        "id": "q1NpMW5yc0si"
      }
    },
    {
      "cell_type": "code",
      "source": [
        "# !pip install tensorflow"
      ],
      "metadata": {
        "id": "_4PgG952cbli"
      },
      "execution_count": null,
      "outputs": []
    },
    {
      "cell_type": "markdown",
      "source": [
        "#### Mengecek installasi tensorflow\n"
      ],
      "metadata": {
        "id": "3lyURH8me0Vp"
      }
    },
    {
      "cell_type": "code",
      "source": [
        "# !pip show tensorflow\n"
      ],
      "metadata": {
        "id": "AmxYsv6ic7B6"
      },
      "execution_count": null,
      "outputs": []
    },
    {
      "cell_type": "code",
      "source": [
        "# !pip show matplotlib"
      ],
      "metadata": {
        "id": "nFfZJSNNVDzD"
      },
      "execution_count": null,
      "outputs": []
    },
    {
      "cell_type": "code",
      "source": [
        "# def display_sample_images(base_dir, n_samples=3):\n",
        "\n",
        "#     categories = os.listdir(base_dir)\n",
        "#     n_categories = len(categories)\n",
        "\n",
        "#     fig, axes = plt.subplots(n_categories, n_samples, figsize=(15, 3*n_categories))\n",
        "\n",
        "#     for i, category in enumerate(categories):\n",
        "#         # FullPath untuk setiap kategori folder\n",
        "#         fullpath_category = os.path.join(base_dir, category)\n",
        "\n",
        "#         # Mendapatkan semua file gambar dalam kategori\n",
        "#         image_files = [f for f in os.listdir(fullpath_category)\n",
        "#                       if f.lower().endswith(('.png', '.jpg', '.jpeg'))]\n",
        "\n",
        "#         # Mengambil 5 gambar secara random\n",
        "#         selected_images = image_files[0:n_samples]\n",
        "\n",
        "#         # Menampilkan gambar\n",
        "#         for j, image_file in enumerate(selected_images):\n",
        "#             img_path = os.path.join(fullpath_category, image_file)\n",
        "#             try:\n",
        "#                 img = mpimg.imread(img_path)\n",
        "#                 # Plot gambar\n",
        "#                 axes[i, j].imshow(img)\n",
        "#                 axes[i, j].axis('off')\n",
        "\n",
        "#                 # Menambahkan judul kategori hanya pada gambar pertama setiap baris\n",
        "#                 if j == 0:\n",
        "#                     axes[i, j].set_title(f'{category}', pad=10)\n",
        "#             except Exception as e:\n",
        "#                 print(f\"Error loading image {img_path}: {str(e)}\")\n",
        "\n",
        "#                 # Untuk gambar yang error\n",
        "#                 axes[i, j].text(0.5, 0.5, 'Error loading image',\n",
        "#                               ha='center', va='center')\n",
        "#                 axes[i, j].axis('off')\n",
        "\n",
        "#                 continue\n",
        "\n",
        "\n",
        "#     # plt.tight_layout()\n",
        "#     plt.show()\n",
        "\n",
        "# # Menampilkan sampel dari training set\n",
        "# print(\"Sample images from training set:\")\n",
        "# display_sample_images(train_dir)\n",
        "\n",
        "# # Menampilkan sampel dari test set\n",
        "# print(\"\\nSample images from test set:\")\n",
        "# display_sample_images(test_dir)"
      ],
      "metadata": {
        "id": "uYBRJ3o_TFeT"
      },
      "execution_count": null,
      "outputs": []
    },
    {
      "cell_type": "markdown",
      "source": [
        "### **Membersihkan gambar corrupt terlebih dahulu**\n",
        "\n"
      ],
      "metadata": {
        "id": "3motLQq7gJO4"
      }
    },
    {
      "cell_type": "code",
      "source": [
        "# import imghdr\n",
        "# import re\n",
        "\n",
        "# def is_unusual_name(name):\n",
        "#     # Mendeteksi jika nama mengandung karakter selain alfanumerik dan underscore\n",
        "#     # return bool(re.search(r'[^\\x00-\\x7F]', name) or re.search(r'[_\\W]+', name))\n",
        "#     return bool(re.search(r'[^\\x00-\\x7F]', name))\n",
        "\n",
        "# def remove_corrupt_images(base_dir):\n",
        "#    \"\"\"\n",
        "#    Menghapus gambar yang corrupt dari direktori dataset\n",
        "\n",
        "#    Args:\n",
        "#        base_dir: Directory utama dataset\n",
        "#    \"\"\"\n",
        "#    corrupt_count = 0\n",
        "#    total_images = 0\n",
        "#    corrupt_files = []\n",
        "\n",
        "#    print(\"Scanning for corrupt images...\")\n",
        "\n",
        "#    # Iterasi melalui semua folder dan subfolder\n",
        "#    for root, dirs, files in os.walk(base_dir):\n",
        "#        for dir in dirs:\n",
        "#           #  print(dir)\n",
        "#            if is_unusual_name(dir):\n",
        "#                print(\"dir nama aneh :\", dir, \": \", os.path.join(root, dir))\n",
        "#                if os.path.exists(os.path.join(root, dir)):\n",
        "#                   shutil.rmtree(os.path.join(root, dir))\n",
        "#                   print(\"dir berhasil dihapus\")\n",
        "\n",
        "\n",
        "#        for filename in files:\n",
        "#            if filename.lower().endswith(('.png', '.jpg', '.jpeg')):\n",
        "#                total_images += 1\n",
        "#                filepath = os.path.join(root, filename)\n",
        "\n",
        "#                try:\n",
        "#                    # Coba buka dan verifikasi gambar\n",
        "#                   #  with Image.open(filepath) as img:\n",
        "#                   #      img.verify()  # Verifikasi file\n",
        "#                   #      img.load()    # Coba load pixel data\n",
        "\n",
        "#                    # Verifikasi tambahan menggunakan imghdr\n",
        "#                   #  if imghdr.what(filepath) is None:\n",
        "#                   #      raise ValueError(\"File bukan gambar yang valid\")\n",
        "#                   img = mpimg.imread(filepath)\n",
        "\n",
        "\n",
        "#                except Exception as e:\n",
        "#                    corrupt_count += 1\n",
        "#                    corrupt_files.append((filepath, str(e)))\n",
        "\n",
        "#                    # Hapus file corrupt\n",
        "#                    try:\n",
        "#                        os.remove(filepath)\n",
        "#                        print(f\"Deleted corrupt file: {filepath}\")\n",
        "#                    except Exception as e:\n",
        "#                        print(f\"Error deleting {filepath}: {str(e)}\")\n",
        "\n",
        "#    # Print summary\n",
        "#    print(\"\\nPembersihan selesai!\")\n",
        "#    print(f\"Total gambar diperiksa: {total_images}\")\n",
        "#    print(f\"Gambar corrupt dihapus: {corrupt_count}\")\n",
        "\n",
        "#    if corrupt_files:\n",
        "#        print(\"\\nDaftar file yang dihapus:\")\n",
        "#        for path, error in corrupt_files:\n",
        "#            print(f\"- {path}\")\n",
        "#            print(f\"  Error: {error}\")\n",
        "\n",
        "#    # Hitung jumlah gambar yang tersisa per kategori\n",
        "#    print(\"\\nJumlah gambar tersisa per kategori:\")\n",
        "#    for root, dirs, files in os.walk(base_dir):\n",
        "#        category = os.path.basename(root)\n",
        "#        if category:\n",
        "#            image_count = len([f for f in files if f.lower().endswith(('.png', '.jpg', '.jpeg'))])\n",
        "#            if image_count > 0:\n",
        "#                print(f\"{category}: {image_count} gambar\")\n",
        "\n",
        "#    return corrupt_files"
      ],
      "metadata": {
        "id": "VuSkzV5jgZe4"
      },
      "execution_count": null,
      "outputs": []
    },
    {
      "cell_type": "markdown",
      "source": [
        "### Saya start hapus yang corrupt"
      ],
      "metadata": {
        "id": "4dJt9U7Xsv_2"
      }
    },
    {
      "cell_type": "code",
      "source": [],
      "metadata": {
        "id": "OpsXgKu9_9v5"
      },
      "execution_count": null,
      "outputs": []
    },
    {
      "cell_type": "code",
      "source": [
        "# corrupt_files = remove_corrupt_images(root_dir)"
      ],
      "metadata": {
        "id": "bCjuCe1Iqe1F"
      },
      "execution_count": null,
      "outputs": []
    },
    {
      "cell_type": "code",
      "source": [
        "# jumlah file di masing2 folder\n",
        "# def count_files_in_folders(root_dir):\n",
        "#     folder_counts = {}\n",
        "\n",
        "#     # Iterasi melalui semua item di root_dir\n",
        "#     for item in os.listdir(root_dir):\n",
        "#         item_path = os.path.join(root_dir, item)\n",
        "\n",
        "#         # Jika item adalah folder\n",
        "#         if os.path.isdir(item_path):\n",
        "#             file_count = 0\n",
        "\n",
        "#             # Hitung file di dalam folder\n",
        "#             for _, _, files in os.walk(item_path):\n",
        "#                 file_count += len(files)\n",
        "\n",
        "#             folder_counts[item] = file_count\n",
        "\n",
        "#     return folder_counts\n",
        "# root_folder = 'data/train'\n",
        "\n",
        "# # Hitung file\n",
        "# result = count_files_in_folders(root_folder)\n",
        "\n",
        "# # Tampilkan hasil\n",
        "# print(f\"Jumlah file di masing-masing folder dalam '{root_folder}':\")\n",
        "# for folder, count in result.items():\n",
        "#     print(f\"{folder}: {count} file\")"
      ],
      "metadata": {
        "id": "9V2C00D0m_bS"
      },
      "execution_count": null,
      "outputs": []
    },
    {
      "cell_type": "code",
      "source": [
        "# # menghapus folder data dan seluruh isinya\n",
        "# import shutil\n",
        "# import os\n",
        "\n",
        "# def delete_directory(path):\n",
        "#     try:\n",
        "#         # Periksa apakah direktori ada\n",
        "#         if os.path.exists(path):\n",
        "#             # Hapus direktori dan semua isinya\n",
        "#             shutil.rmtree(path)\n",
        "#             print(f\"Direktori '{path}' berhasil dihapus beserta seluruh isinya.\")\n",
        "#         else:\n",
        "#             print(f\"Direktori '{path}' tidak ditemukan.\")\n",
        "#     except Exception as e:\n",
        "#         print(f\"Terjadi kesalahan saat menghapus direktori: {e}\")\n",
        "\n",
        "\n",
        "\n",
        "# # Panggil fungsi untuk menghapus direktori | hati2 sluurr...\n",
        "# # delete_directory('data')\n",
        "\n",
        "# # Verifikasi bahwa direktori telah dihapus\n",
        "# if not os.path.exists('data2'):\n",
        "#     print(\"Verifikasi: Direktori 'data' tidak ada lagi.\")\n",
        "# else:\n",
        "#     print(\"Verifikasi: Direktori 'data' masih ada. Penghapusan mungkin gagal.\")"
      ],
      "metadata": {
        "id": "3rR7WX7loMCd"
      },
      "execution_count": null,
      "outputs": []
    },
    {
      "cell_type": "code",
      "source": [
        "# from google.colab import drive\n",
        "# drive.mount('/content/drive')"
      ],
      "metadata": {
        "id": "19LtvVEak3pM"
      },
      "execution_count": null,
      "outputs": []
    },
    {
      "cell_type": "code",
      "source": [
        "# # import os\n",
        "# # import shutil\n",
        "# from tqdm import tqdm\n",
        "\n",
        "# def copy_directory_structure(source_dir, destination_dir):\n",
        "#     \"\"\"\n",
        "#     Menyalin seluruh struktur direktori dan file dari source ke destination\n",
        "#     dengan progress bar\n",
        "#     \"\"\"\n",
        "#     # Hitung total file yang akan disalin\n",
        "#     total_files = sum([len(files) for _, _, files in os.walk(source_dir)])\n",
        "\n",
        "#     print(f\"Total files to copy: {total_files}\")\n",
        "#     print(f\"From: {source_dir}\")\n",
        "#     print(f\"To: {destination_dir}\")\n",
        "\n",
        "#     # Buat progress bar\n",
        "#     pbar = tqdm(total=total_files, desc=\"Copying files\")\n",
        "\n",
        "#     # Iterasi melalui semua direktori dan file\n",
        "#     for root, dirs, files in os.walk(source_dir):\n",
        "#         # Buat struktur direktori yang sama di destination\n",
        "#         relative_path = os.path.relpath(root, source_dir)\n",
        "#         destination_path = os.path.join(destination_dir, relative_path)\n",
        "\n",
        "#         # Buat direktori jika belum ada\n",
        "#         if not os.path.exists(destination_path):\n",
        "#             os.makedirs(destination_path)\n",
        "#             print(f\"\\nCreated directory: {destination_path}\")\n",
        "\n",
        "#         # Salin semua file dalam direktori current\n",
        "#         for file in files:\n",
        "#             source_file = os.path.join(root, file)\n",
        "#             destination_file = os.path.join(destination_path, file)\n",
        "\n",
        "#             try:\n",
        "#                 shutil.copy2(source_file, destination_file)\n",
        "#                 pbar.update(1)\n",
        "#             except Exception as e:\n",
        "#                 print(f\"\\nError copying {source_file}: {str(e)}\")\n",
        "\n",
        "#     pbar.close()\n",
        "\n",
        "#     # Verifikasi hasil copy\n",
        "#     def count_files(directory):\n",
        "#         return sum([len(files) for _, _, files in os.walk(directory)])\n",
        "\n",
        "#     source_count = count_files(source_dir)\n",
        "#     dest_count = count_files(destination_dir)\n",
        "\n",
        "#     print(\"\\nCopy completed!\")\n",
        "#     print(f\"Files in source: {source_count}\")\n",
        "#     print(f\"Files in destination: {dest_count}\")\n",
        "\n",
        "#     # Tampilkan struktur folder hasil copy\n",
        "#     print(\"\\nDestination directory structure:\")\n",
        "#     for root, dirs, files in os.walk(destination_dir):\n",
        "#         level = root.replace(destination_dir, '').count(os.sep)\n",
        "#         indent = ' ' * 4 * level\n",
        "#         print(f\"{indent}{os.path.basename(root)}/\")\n",
        "#         subindent = ' ' * 4 * (level + 1)\n",
        "#         for f in files:\n",
        "#             print(f\"{subindent}{f}\")\n",
        "\n",
        "# # Source dan destination directories\n",
        "# source_dir = 'data'\n",
        "# destination_dir = '/content/drive/MyDrive/trash_data_not_corrupt_insyaAllah'\n",
        "\n",
        "# # Pastikan Google Drive sudah dimount\n",
        "# # from google.colab import drive\n",
        "# # drive.mount('/content/drive')\n",
        "\n",
        "# # Jalankan fungsi copy\n",
        "# copy_directory_structure(source_dir, destination_dir)"
      ],
      "metadata": {
        "id": "_pspJ4OEknzK"
      },
      "execution_count": null,
      "outputs": []
    },
    {
      "cell_type": "code",
      "source": [
        "# import os\n",
        "# import zipfile\n",
        "# import shutil\n",
        "# from tqdm import tqdm\n",
        "# from google.colab import drive\n",
        "\n",
        "# def create_and_copy_zip(source_dir, zip_name, destination_dir):\n",
        "#     \"\"\"\n",
        "#     Membuat file zip dari folder dan menyalinnya ke Google Drive\n",
        "#     \"\"\"\n",
        "#     print(\"Mounting Google Drive...\")\n",
        "#     drive.mount('/content/drive')\n",
        "\n",
        "#     # Hitung total file untuk progress bar\n",
        "#     total_files = sum([len(files) for _, _, files in os.walk(source_dir)])\n",
        "#     print(f\"\\nTotal files to compress: {total_files}\")\n",
        "\n",
        "#     # Buat zip file\n",
        "#     print(f\"\\nCreating {zip_name}...\")\n",
        "#     with zipfile.ZipFile(zip_name, 'w', zipfile.ZIP_DEFLATED) as zipf:\n",
        "#         # Gunakan progress bar\n",
        "#         with tqdm(total=total_files, desc=\"Compressing files\") as pbar:\n",
        "#             for root, dirs, files in os.walk(source_dir):\n",
        "#                 # Get path relative to source_dir\n",
        "#                 rel_path = os.path.relpath(root, source_dir)\n",
        "\n",
        "#                 # Add each file to zip\n",
        "#                 for file in files:\n",
        "#                     file_path = os.path.join(root, file)\n",
        "#                     # Add file ke zip dengan menjaga struktur folder\n",
        "#                     arcname = os.path.join(os.path.basename(source_dir),\n",
        "#                                          rel_path, file)\n",
        "#                     try:\n",
        "#                         zipf.write(file_path, arcname)\n",
        "#                         pbar.update(1)\n",
        "#                     except Exception as e:\n",
        "#                         print(f\"\\nError adding {file_path}: {str(e)}\")\n",
        "\n",
        "#     # Get zip file size\n",
        "#     zip_size = os.path.getsize(zip_name) / (1024 * 1024)  # Convert to MB\n",
        "#     print(f\"\\nZip file created: {zip_name} ({zip_size:.2f} MB)\")\n",
        "\n",
        "#     # Copy zip ke Google Drive\n",
        "#     print(f\"\\nCopying {zip_name} to Google Drive...\")\n",
        "#     try:\n",
        "#         shutil.copy2(zip_name, destination_dir)\n",
        "#         print(f\"Successfully copied to: {destination_dir}\")\n",
        "\n",
        "#         # Verifikasi file ada di drive\n",
        "#         dest_path = os.path.join(destination_dir, zip_name)\n",
        "#         if os.path.exists(dest_path):\n",
        "#             dest_size = os.path.getsize(dest_path) / (1024 * 1024)\n",
        "#             print(f\"Verified: File exists in drive ({dest_size:.2f} MB)\")\n",
        "#         else:\n",
        "#             print(\"Warning: File not found in destination!\")\n",
        "\n",
        "#     except Exception as e:\n",
        "#         print(f\"Error copying to drive: {str(e)}\")\n",
        "\n",
        "#     # Optional: Hapus zip file lokal setelah copy\n",
        "#     # try:\n",
        "#     #     os.remove(zip_name)\n",
        "#     #     print(f\"Cleaned up: Removed local {zip_name}\")\n",
        "#     # except Exception as e:\n",
        "#     #     print(f\"Error removing local zip: {str(e)}\")\n",
        "\n",
        "# # Gunakan fungsi\n",
        "# source_dir = 'data2/data'\n",
        "# zip_name = 'trash_data.zip'\n",
        "# destination_dir = '/content/drive/MyDrive'\n",
        "\n",
        "# create_and_copy_zip(source_dir, zip_name, destination_dir)\n",
        "\n",
        "# # Verifikasi isi zip\n",
        "# def verify_zip_contents(zip_path):\n",
        "#     print(\"\\nVerifying zip contents:\")\n",
        "#     try:\n",
        "#         with zipfile.ZipFile(os.path.join(destination_dir, zip_name), 'r') as zipf:\n",
        "#             # Hitung file dalam zip\n",
        "#             total_files = len(zipf.namelist())\n",
        "#             print(f\"Total files in zip: {total_files}\")\n",
        "\n",
        "#             # Tampilkan struktur folder dalam zip\n",
        "#             print(\"\\nZip contents structure:\")\n",
        "#             folders = {}\n",
        "#             for name in zipf.namelist():\n",
        "#                 parts = name.split('/')\n",
        "#                 current = folders\n",
        "#                 for part in parts[:-1]:  # Skip file name\n",
        "#                     if part not in current:\n",
        "#                         current[part] = {}\n",
        "#                     current = current[part]\n",
        "\n",
        "#             # Print struktur folder\n",
        "#             def print_tree(d, indent=0):\n",
        "#                 for k, v in d.items():\n",
        "#                     print('  ' * indent + k + '/')\n",
        "#                     print_tree(v, indent + 1)\n",
        "\n",
        "#             print_tree(folders)\n",
        "\n",
        "#     except Exception as e:\n",
        "#         print(f\"Error verifying zip: {str(e)}\")\n",
        "\n",
        "# # Verifikasi zip setelah copy\n",
        "# verify_zip_contents(os.path.join(destination_dir, zip_name))"
      ],
      "metadata": {
        "id": "b8ejoev9kmHx"
      },
      "execution_count": null,
      "outputs": []
    },
    {
      "cell_type": "code",
      "source": [
        "# !cp trash_data.zip \"/content/drive/MyDrive/\"\n"
      ],
      "metadata": {
        "id": "8b3O29uWzsXo"
      },
      "execution_count": null,
      "outputs": []
    },
    {
      "cell_type": "markdown",
      "source": [
        "## Mulai menuju modeling (masih ada preprocessing)\n"
      ],
      "metadata": {
        "id": "RjcBNZaab554"
      }
    },
    {
      "cell_type": "code",
      "source": [
        "# Tentukan ukuran gambar yang konsisten\n",
        "IMG_HEIGHT = 120\n",
        "IMG_WIDTH = 120\n",
        "BATCH_SIZE = 32"
      ],
      "metadata": {
        "id": "NZaI3zbOb1Gs"
      },
      "execution_count": 7,
      "outputs": []
    },
    {
      "cell_type": "markdown",
      "source": [
        "## Yang dari Module Coursera CNN\n"
      ],
      "metadata": {
        "id": "Wpz0s-914PN9"
      }
    },
    {
      "cell_type": "markdown",
      "source": [
        "Menyiapkan suffle (pengacakan) dan juga prefetch (pengambilan model langsung ketika training)."
      ],
      "metadata": {
        "id": "_w5RTvt8aUAV"
      }
    },
    {
      "cell_type": "code",
      "source": [
        "# pengacakan dan prefetch\n",
        "SUFFLE_BUFFER_SIZE = 1000\n",
        "PREFETCH_BUFFER_SIZE = tf.data.AUTOTUNE"
      ],
      "metadata": {
        "id": "P1Rk-yrqaHSE"
      },
      "execution_count": 5,
      "outputs": []
    },
    {
      "cell_type": "code",
      "source": [
        "train_dataset = tf.keras.utils.image_dataset_from_directory(\n",
        "    train_dir,\n",
        "    image_size=(IMG_HEIGHT, IMG_WIDTH),\n",
        "    batch_size=BATCH_SIZE,\n",
        "    shuffle=True,\n",
        "    label_mode='categorical',\n",
        "    seed=40\n",
        ")"
      ],
      "metadata": {
        "colab": {
          "base_uri": "https://localhost:8080/"
        },
        "id": "avNX7U_Y4O4C",
        "outputId": "e4c80443-fc8e-4341-a701-b279cbf732bc"
      },
      "execution_count": 8,
      "outputs": [
        {
          "output_type": "stream",
          "name": "stdout",
          "text": [
            "Found 17794 files belonging to 34 classes.\n"
          ]
        }
      ]
    },
    {
      "cell_type": "markdown",
      "source": [
        "### buat test\n"
      ],
      "metadata": {
        "id": "7gW5Bqt0KBPc"
      }
    },
    {
      "cell_type": "code",
      "source": [
        "val_dataset = tf.keras.utils.image_dataset_from_directory(\n",
        "    test_dir,\n",
        "    image_size=(IMG_HEIGHT, IMG_WIDTH),\n",
        "    batch_size=BATCH_SIZE,\n",
        "\n",
        "    shuffle=False,\n",
        "    label_mode='categorical',\n",
        "    seed=3\n",
        ")"
      ],
      "metadata": {
        "colab": {
          "base_uri": "https://localhost:8080/"
        },
        "id": "f_yNfAMD7Ql9",
        "outputId": "14063790-1fef-4608-b648-085203255ec6"
      },
      "execution_count": 9,
      "outputs": [
        {
          "output_type": "stream",
          "name": "stdout",
          "text": [
            "Found 5726 files belonging to 34 classes.\n"
          ]
        }
      ]
    },
    {
      "cell_type": "markdown",
      "source": [
        "### Diambil dikit buat val_"
      ],
      "metadata": {
        "id": "EMzb2z1OKSHP"
      }
    },
    {
      "cell_type": "code",
      "source": [
        "val_size = tf.data.experimental.cardinality(val_dataset)\n",
        "print(\"val size \", val_size.numpy())\n",
        "test_size = val_size // 8  # Mengambil 20% untuk validation\n",
        "\n",
        "val_ds = val_dataset.skip(test_size)\n",
        "test_dataset = val_dataset.take(test_size)\n",
        "\n",
        "print(val_ds)\n",
        "print(test_dataset)\n",
        "print(\"Jumlah elemen di train_dataset:\", tf.data.experimental.cardinality(train_dataset).numpy())\n",
        "print(\"Jumlah elemen di val_ds:\", tf.data.experimental.cardinality(val_ds).numpy())\n",
        "print(\"Jumlah elemen di test_dataset:\", tf.data.experimental.cardinality(test_dataset).numpy())"
      ],
      "metadata": {
        "id": "qKRrd3bQu9YZ",
        "outputId": "bbbff1ba-32ec-44a3-d6d4-25d38f60a2d8",
        "colab": {
          "base_uri": "https://localhost:8080/"
        }
      },
      "execution_count": 10,
      "outputs": [
        {
          "output_type": "stream",
          "name": "stdout",
          "text": [
            "val size  179\n",
            "<_SkipDataset element_spec=(TensorSpec(shape=(None, 120, 120, 3), dtype=tf.float32, name=None), TensorSpec(shape=(None, 34), dtype=tf.float32, name=None))>\n",
            "<_TakeDataset element_spec=(TensorSpec(shape=(None, 120, 120, 3), dtype=tf.float32, name=None), TensorSpec(shape=(None, 34), dtype=tf.float32, name=None))>\n",
            "Jumlah elemen di train_dataset: 557\n",
            "Jumlah elemen di val_ds: 157\n",
            "Jumlah elemen di test_dataset: 22\n"
          ]
        }
      ]
    },
    {
      "cell_type": "code",
      "source": [
        "train_dataset_final = train_dataset.cache().shuffle(\n",
        "    SUFFLE_BUFFER_SIZE,\n",
        "    reshuffle_each_iteration=False\n",
        ").prefetch(PREFETCH_BUFFER_SIZE)\n",
        "\n",
        "validation_dataset_final = val_ds.cache().prefetch(PREFETCH_BUFFER_SIZE)\n",
        "\n",
        "# train_ds = train_ds.cache().shuffle(1000).prefetch(AUTOTUNE)\n",
        "# val_ds = val_ds.cache().prefetch(AUTOTUNE)\n",
        "test_dataset_final = test_dataset.cache().prefetch(PREFETCH_BUFFER_SIZE)"
      ],
      "metadata": {
        "id": "fXSVXYNgamnu"
      },
      "execution_count": 11,
      "outputs": []
    },
    {
      "cell_type": "markdown",
      "source": [
        "## Nyoba Buat Model\n"
      ],
      "metadata": {
        "id": "A-LA7phObP6O"
      }
    },
    {
      "cell_type": "code",
      "source": [
        "models = tf.keras.models\n",
        "layers = tf.keras.layers\n",
        "\n",
        "\n",
        "# model = tf.keras.models.Sequential([\n",
        "#     # menyesuaikan ukuran dimensi gambar + 3 rgb\n",
        "#     tf.keras.Input(shape=(IMG_HEIGHT, IMG_WIDTH, 3)),\n",
        "\n",
        "#     # augmen\n",
        "#     tf.keras.layers.RandomFlip(\"horizontal\"),\n",
        "#     tf.keras.layers.RandomRotation(0.2),\n",
        "#     tf.keras.layers.RandomZoom(0.2),\n",
        "#     #\n",
        "#     tf.keras.layers.Rescaling(1./255),\n",
        "#     tf.keras.layers.Conv2D(8, (3, 3), activation='relu'),\n",
        "#     tf.keras.layers.BatchNormalization(),\n",
        "#     tf.keras.layers.MaxPooling2D(2, 2),\n",
        "#     tf.keras.layers.Conv2D(16, (3, 3), activation='relu'),\n",
        "#     tf.keras.layers.BatchNormalization(),\n",
        "#     tf.keras.layers.MaxPooling2D(2, 2),\n",
        "#     tf.keras.layers.Conv2D(32, (3, 3), activation='relu'),\n",
        "#     tf.keras.layers.BatchNormalization(),\n",
        "#     tf.keras.layers.MaxPooling2D(2, 2),\n",
        "#     # diflatten untuk mendapatkan matriks 2 dimensi lagi\n",
        "#     tf.keras.layers.Flatten(),\n",
        "#     tf.keras.layers.Dense(64,\n",
        "#                           activation='relu',\n",
        "#                           # kernel_regularizer=regularizers.l2(0.01)\n",
        "#                           ),\n",
        "#     tf.keras.layers.Dropout(0.1),\n",
        "#     tf.keras.layers.Dense(34, activation='softmax')\n",
        "# ])\n",
        "\n",
        "model = tf.keras.models.Sequential([\n",
        "    tf.keras.Input(shape=(IMG_HEIGHT, IMG_WIDTH, 3)),\n",
        "\n",
        "    # Augmentasi yang lebih agresif\n",
        "    tf.keras.layers.RandomFlip(\"horizontal_and_vertical\"),\n",
        "    tf.keras.layers.RandomRotation(0.2, fill_mode=\"nearest\"),\n",
        "    tf.keras.layers.RandomZoom(0.2, fill_mode=\"nearest\"),\n",
        "    tf.keras.layers.RandomTranslation(0.2, 0.2, fill_mode=\"nearest\"),\n",
        "    tf.keras.layers.RandomBrightness(0.2,),\n",
        "    tf.keras.layers.RandomContrast(0.2),\n",
        "\n",
        "    tf.keras.layers.Rescaling(1./255),\n",
        "\n",
        "    tf.keras.layers.Conv2D(16, (3, 3), activation=\"relu\"),\n",
        "    # tf.keras.layers.BatchNormalization(),\n",
        "    tf.keras.layers.MaxPooling2D(2, 2),\n",
        "\n",
        "    tf.keras.layers.Conv2D(32, (3, 3), activation=\"relu\"),\n",
        "    # tf.keras.layers.BatchNormalization(),\n",
        "    tf.keras.layers.MaxPooling2D(2, 2),\n",
        "    # tf.keras.layers.Dropout(0.2),\n",
        "\n",
        "    tf.keras.layers.Conv2D(64, (3, 3), activation=\"relu\"),\n",
        "    # tf.keras.layers.Conv2D(64, (3, 3), activation=\"relu\", kernel_regularizer=l2(0.001)),\n",
        "    # tf.keras.layers.BatchNormalization()\n",
        "    tf.keras.layers.MaxPooling2D(2, 2),\n",
        "    tf.keras.layers.Dropout(0.3),\n",
        "\n",
        "    tf.keras.layers.Conv2D(128, (3, 3), activation=\"relu\"),\n",
        "    # tf.keras.layers.Conv2D(128, (3, 3), activation=\"relu\", kernel_regularizer=l2(0.001)),\n",
        "    # tf.keras.layers.BatchNormalization(),\n",
        "    tf.keras.layers.MaxPooling2D(2, 2),\n",
        "    tf.keras.layers.Dropout(0.3),\n",
        "\n",
        "    tf.keras.layers.Conv2D(128, (3, 3), activation=\"relu\"),\n",
        "    # tf.keras.layers.Conv2D(512, (3, 3), activation=\"relu\", kernel_regularizer=l2(0.001)),\n",
        "    # tf.keras.layers.BatchNormalization(),\n",
        "    tf.keras.layers.MaxPooling2D(2, 2),\n",
        "    tf.keras.layers.Dropout(0.3),\n",
        "\n",
        "\n",
        "    tf.keras.layers.Flatten(),\n",
        "\n",
        "    # Dense layers dengan regularisasi yang lebih kuat\n",
        "    tf.keras.layers.Dense(512,),\n",
        "\n",
        "    tf.keras.layers.BatchNormalization(),\n",
        "    tf.keras.layers.Activation('relu'),\n",
        "    # tf.keras.layers.Dropout(0.5),\n",
        "\n",
        "    tf.keras.layers.Dense(34, activation='softmax')\n",
        "])\n",
        "\n",
        "\n",
        "# model = models.Sequential([\n",
        "#     tf.keras.Input(shape=(IMG_HEIGHT, IMG_WIDTH, 3)),\n",
        "\n",
        "#     # Augmentasi yang lebih agresif\n",
        "#     tf.keras.layers.RandomFlip(\"horizontal_and_vertical\"),\n",
        "#     tf.keras.layers.RandomRotation(0.3),\n",
        "#     tf.keras.layers.RandomZoom(0.3),\n",
        "#     tf.keras.layers.RandomBrightness(0.2),\n",
        "#     tf.keras.layers.RandomContrast(0.2),\n",
        "\n",
        "#     tf.keras.layers.Rescaling(1./255),\n",
        "#     layers.GlobalAveragePooling2D(),\n",
        "#     layers.Dropout(0.2),\n",
        "#     layers.Dense(128, activation='relu'),\n",
        "#     layers.Dropout(0.2),\n",
        "#     layers.Dense(34, activation='softmax')\n",
        "#     ])\n",
        "\n",
        "model.summary()"
      ],
      "metadata": {
        "colab": {
          "base_uri": "https://localhost:8080/",
          "height": 1000
        },
        "id": "aVi7QJYTTn7a",
        "outputId": "c220acf8-1ec4-4ef3-846d-5f644055f65d"
      },
      "execution_count": 23,
      "outputs": [
        {
          "output_type": "display_data",
          "data": {
            "text/plain": [
              "\u001b[1mModel: \"sequential_3\"\u001b[0m\n"
            ],
            "text/html": [
              "<pre style=\"white-space:pre;overflow-x:auto;line-height:normal;font-family:Menlo,'DejaVu Sans Mono',consolas,'Courier New',monospace\"><span style=\"font-weight: bold\">Model: \"sequential_3\"</span>\n",
              "</pre>\n"
            ]
          },
          "metadata": {}
        },
        {
          "output_type": "display_data",
          "data": {
            "text/plain": [
              "┏━━━━━━━━━━━━━━━━━━━━━━━━━━━━━━━━━━━━━━┳━━━━━━━━━━━━━━━━━━━━━━━━━━━━━┳━━━━━━━━━━━━━━━━━┓\n",
              "┃\u001b[1m \u001b[0m\u001b[1mLayer (type)                        \u001b[0m\u001b[1m \u001b[0m┃\u001b[1m \u001b[0m\u001b[1mOutput Shape               \u001b[0m\u001b[1m \u001b[0m┃\u001b[1m \u001b[0m\u001b[1m        Param #\u001b[0m\u001b[1m \u001b[0m┃\n",
              "┡━━━━━━━━━━━━━━━━━━━━━━━━━━━━━━━━━━━━━━╇━━━━━━━━━━━━━━━━━━━━━━━━━━━━━╇━━━━━━━━━━━━━━━━━┩\n",
              "│ random_flip_3 (\u001b[38;5;33mRandomFlip\u001b[0m)           │ (\u001b[38;5;45mNone\u001b[0m, \u001b[38;5;34m120\u001b[0m, \u001b[38;5;34m120\u001b[0m, \u001b[38;5;34m3\u001b[0m)         │               \u001b[38;5;34m0\u001b[0m │\n",
              "├──────────────────────────────────────┼─────────────────────────────┼─────────────────┤\n",
              "│ random_rotation_3 (\u001b[38;5;33mRandomRotation\u001b[0m)   │ (\u001b[38;5;45mNone\u001b[0m, \u001b[38;5;34m120\u001b[0m, \u001b[38;5;34m120\u001b[0m, \u001b[38;5;34m3\u001b[0m)         │               \u001b[38;5;34m0\u001b[0m │\n",
              "├──────────────────────────────────────┼─────────────────────────────┼─────────────────┤\n",
              "│ random_zoom_3 (\u001b[38;5;33mRandomZoom\u001b[0m)           │ (\u001b[38;5;45mNone\u001b[0m, \u001b[38;5;34m120\u001b[0m, \u001b[38;5;34m120\u001b[0m, \u001b[38;5;34m3\u001b[0m)         │               \u001b[38;5;34m0\u001b[0m │\n",
              "├──────────────────────────────────────┼─────────────────────────────┼─────────────────┤\n",
              "│ random_translation_3                 │ (\u001b[38;5;45mNone\u001b[0m, \u001b[38;5;34m120\u001b[0m, \u001b[38;5;34m120\u001b[0m, \u001b[38;5;34m3\u001b[0m)         │               \u001b[38;5;34m0\u001b[0m │\n",
              "│ (\u001b[38;5;33mRandomTranslation\u001b[0m)                  │                             │                 │\n",
              "├──────────────────────────────────────┼─────────────────────────────┼─────────────────┤\n",
              "│ random_brightness_1                  │ (\u001b[38;5;45mNone\u001b[0m, \u001b[38;5;34m120\u001b[0m, \u001b[38;5;34m120\u001b[0m, \u001b[38;5;34m3\u001b[0m)         │               \u001b[38;5;34m0\u001b[0m │\n",
              "│ (\u001b[38;5;33mRandomBrightness\u001b[0m)                   │                             │                 │\n",
              "├──────────────────────────────────────┼─────────────────────────────┼─────────────────┤\n",
              "│ random_contrast_1 (\u001b[38;5;33mRandomContrast\u001b[0m)   │ (\u001b[38;5;45mNone\u001b[0m, \u001b[38;5;34m120\u001b[0m, \u001b[38;5;34m120\u001b[0m, \u001b[38;5;34m3\u001b[0m)         │               \u001b[38;5;34m0\u001b[0m │\n",
              "├──────────────────────────────────────┼─────────────────────────────┼─────────────────┤\n",
              "│ rescaling_3 (\u001b[38;5;33mRescaling\u001b[0m)              │ (\u001b[38;5;45mNone\u001b[0m, \u001b[38;5;34m120\u001b[0m, \u001b[38;5;34m120\u001b[0m, \u001b[38;5;34m3\u001b[0m)         │               \u001b[38;5;34m0\u001b[0m │\n",
              "├──────────────────────────────────────┼─────────────────────────────┼─────────────────┤\n",
              "│ conv2d_16 (\u001b[38;5;33mConv2D\u001b[0m)                   │ (\u001b[38;5;45mNone\u001b[0m, \u001b[38;5;34m118\u001b[0m, \u001b[38;5;34m118\u001b[0m, \u001b[38;5;34m16\u001b[0m)        │             \u001b[38;5;34m448\u001b[0m │\n",
              "├──────────────────────────────────────┼─────────────────────────────┼─────────────────┤\n",
              "│ max_pooling2d_16 (\u001b[38;5;33mMaxPooling2D\u001b[0m)      │ (\u001b[38;5;45mNone\u001b[0m, \u001b[38;5;34m59\u001b[0m, \u001b[38;5;34m59\u001b[0m, \u001b[38;5;34m16\u001b[0m)          │               \u001b[38;5;34m0\u001b[0m │\n",
              "├──────────────────────────────────────┼─────────────────────────────┼─────────────────┤\n",
              "│ conv2d_17 (\u001b[38;5;33mConv2D\u001b[0m)                   │ (\u001b[38;5;45mNone\u001b[0m, \u001b[38;5;34m57\u001b[0m, \u001b[38;5;34m57\u001b[0m, \u001b[38;5;34m32\u001b[0m)          │           \u001b[38;5;34m4,640\u001b[0m │\n",
              "├──────────────────────────────────────┼─────────────────────────────┼─────────────────┤\n",
              "│ max_pooling2d_17 (\u001b[38;5;33mMaxPooling2D\u001b[0m)      │ (\u001b[38;5;45mNone\u001b[0m, \u001b[38;5;34m28\u001b[0m, \u001b[38;5;34m28\u001b[0m, \u001b[38;5;34m32\u001b[0m)          │               \u001b[38;5;34m0\u001b[0m │\n",
              "├──────────────────────────────────────┼─────────────────────────────┼─────────────────┤\n",
              "│ conv2d_18 (\u001b[38;5;33mConv2D\u001b[0m)                   │ (\u001b[38;5;45mNone\u001b[0m, \u001b[38;5;34m26\u001b[0m, \u001b[38;5;34m26\u001b[0m, \u001b[38;5;34m64\u001b[0m)          │          \u001b[38;5;34m18,496\u001b[0m │\n",
              "├──────────────────────────────────────┼─────────────────────────────┼─────────────────┤\n",
              "│ max_pooling2d_18 (\u001b[38;5;33mMaxPooling2D\u001b[0m)      │ (\u001b[38;5;45mNone\u001b[0m, \u001b[38;5;34m13\u001b[0m, \u001b[38;5;34m13\u001b[0m, \u001b[38;5;34m64\u001b[0m)          │               \u001b[38;5;34m0\u001b[0m │\n",
              "├──────────────────────────────────────┼─────────────────────────────┼─────────────────┤\n",
              "│ dropout_10 (\u001b[38;5;33mDropout\u001b[0m)                 │ (\u001b[38;5;45mNone\u001b[0m, \u001b[38;5;34m13\u001b[0m, \u001b[38;5;34m13\u001b[0m, \u001b[38;5;34m64\u001b[0m)          │               \u001b[38;5;34m0\u001b[0m │\n",
              "├──────────────────────────────────────┼─────────────────────────────┼─────────────────┤\n",
              "│ conv2d_19 (\u001b[38;5;33mConv2D\u001b[0m)                   │ (\u001b[38;5;45mNone\u001b[0m, \u001b[38;5;34m11\u001b[0m, \u001b[38;5;34m11\u001b[0m, \u001b[38;5;34m128\u001b[0m)         │          \u001b[38;5;34m73,856\u001b[0m │\n",
              "├──────────────────────────────────────┼─────────────────────────────┼─────────────────┤\n",
              "│ max_pooling2d_19 (\u001b[38;5;33mMaxPooling2D\u001b[0m)      │ (\u001b[38;5;45mNone\u001b[0m, \u001b[38;5;34m5\u001b[0m, \u001b[38;5;34m5\u001b[0m, \u001b[38;5;34m128\u001b[0m)           │               \u001b[38;5;34m0\u001b[0m │\n",
              "├──────────────────────────────────────┼─────────────────────────────┼─────────────────┤\n",
              "│ dropout_11 (\u001b[38;5;33mDropout\u001b[0m)                 │ (\u001b[38;5;45mNone\u001b[0m, \u001b[38;5;34m5\u001b[0m, \u001b[38;5;34m5\u001b[0m, \u001b[38;5;34m128\u001b[0m)           │               \u001b[38;5;34m0\u001b[0m │\n",
              "├──────────────────────────────────────┼─────────────────────────────┼─────────────────┤\n",
              "│ conv2d_20 (\u001b[38;5;33mConv2D\u001b[0m)                   │ (\u001b[38;5;45mNone\u001b[0m, \u001b[38;5;34m3\u001b[0m, \u001b[38;5;34m3\u001b[0m, \u001b[38;5;34m128\u001b[0m)           │         \u001b[38;5;34m147,584\u001b[0m │\n",
              "├──────────────────────────────────────┼─────────────────────────────┼─────────────────┤\n",
              "│ max_pooling2d_20 (\u001b[38;5;33mMaxPooling2D\u001b[0m)      │ (\u001b[38;5;45mNone\u001b[0m, \u001b[38;5;34m1\u001b[0m, \u001b[38;5;34m1\u001b[0m, \u001b[38;5;34m128\u001b[0m)           │               \u001b[38;5;34m0\u001b[0m │\n",
              "├──────────────────────────────────────┼─────────────────────────────┼─────────────────┤\n",
              "│ dropout_12 (\u001b[38;5;33mDropout\u001b[0m)                 │ (\u001b[38;5;45mNone\u001b[0m, \u001b[38;5;34m1\u001b[0m, \u001b[38;5;34m1\u001b[0m, \u001b[38;5;34m128\u001b[0m)           │               \u001b[38;5;34m0\u001b[0m │\n",
              "├──────────────────────────────────────┼─────────────────────────────┼─────────────────┤\n",
              "│ flatten_3 (\u001b[38;5;33mFlatten\u001b[0m)                  │ (\u001b[38;5;45mNone\u001b[0m, \u001b[38;5;34m128\u001b[0m)                 │               \u001b[38;5;34m0\u001b[0m │\n",
              "├──────────────────────────────────────┼─────────────────────────────┼─────────────────┤\n",
              "│ dense_6 (\u001b[38;5;33mDense\u001b[0m)                      │ (\u001b[38;5;45mNone\u001b[0m, \u001b[38;5;34m512\u001b[0m)                 │          \u001b[38;5;34m66,048\u001b[0m │\n",
              "├──────────────────────────────────────┼─────────────────────────────┼─────────────────┤\n",
              "│ batch_normalization_3                │ (\u001b[38;5;45mNone\u001b[0m, \u001b[38;5;34m512\u001b[0m)                 │           \u001b[38;5;34m2,048\u001b[0m │\n",
              "│ (\u001b[38;5;33mBatchNormalization\u001b[0m)                 │                             │                 │\n",
              "├──────────────────────────────────────┼─────────────────────────────┼─────────────────┤\n",
              "│ activation_3 (\u001b[38;5;33mActivation\u001b[0m)            │ (\u001b[38;5;45mNone\u001b[0m, \u001b[38;5;34m512\u001b[0m)                 │               \u001b[38;5;34m0\u001b[0m │\n",
              "├──────────────────────────────────────┼─────────────────────────────┼─────────────────┤\n",
              "│ dense_7 (\u001b[38;5;33mDense\u001b[0m)                      │ (\u001b[38;5;45mNone\u001b[0m, \u001b[38;5;34m34\u001b[0m)                  │          \u001b[38;5;34m17,442\u001b[0m │\n",
              "└──────────────────────────────────────┴─────────────────────────────┴─────────────────┘\n"
            ],
            "text/html": [
              "<pre style=\"white-space:pre;overflow-x:auto;line-height:normal;font-family:Menlo,'DejaVu Sans Mono',consolas,'Courier New',monospace\">┏━━━━━━━━━━━━━━━━━━━━━━━━━━━━━━━━━━━━━━┳━━━━━━━━━━━━━━━━━━━━━━━━━━━━━┳━━━━━━━━━━━━━━━━━┓\n",
              "┃<span style=\"font-weight: bold\"> Layer (type)                         </span>┃<span style=\"font-weight: bold\"> Output Shape                </span>┃<span style=\"font-weight: bold\">         Param # </span>┃\n",
              "┡━━━━━━━━━━━━━━━━━━━━━━━━━━━━━━━━━━━━━━╇━━━━━━━━━━━━━━━━━━━━━━━━━━━━━╇━━━━━━━━━━━━━━━━━┩\n",
              "│ random_flip_3 (<span style=\"color: #0087ff; text-decoration-color: #0087ff\">RandomFlip</span>)           │ (<span style=\"color: #00d7ff; text-decoration-color: #00d7ff\">None</span>, <span style=\"color: #00af00; text-decoration-color: #00af00\">120</span>, <span style=\"color: #00af00; text-decoration-color: #00af00\">120</span>, <span style=\"color: #00af00; text-decoration-color: #00af00\">3</span>)         │               <span style=\"color: #00af00; text-decoration-color: #00af00\">0</span> │\n",
              "├──────────────────────────────────────┼─────────────────────────────┼─────────────────┤\n",
              "│ random_rotation_3 (<span style=\"color: #0087ff; text-decoration-color: #0087ff\">RandomRotation</span>)   │ (<span style=\"color: #00d7ff; text-decoration-color: #00d7ff\">None</span>, <span style=\"color: #00af00; text-decoration-color: #00af00\">120</span>, <span style=\"color: #00af00; text-decoration-color: #00af00\">120</span>, <span style=\"color: #00af00; text-decoration-color: #00af00\">3</span>)         │               <span style=\"color: #00af00; text-decoration-color: #00af00\">0</span> │\n",
              "├──────────────────────────────────────┼─────────────────────────────┼─────────────────┤\n",
              "│ random_zoom_3 (<span style=\"color: #0087ff; text-decoration-color: #0087ff\">RandomZoom</span>)           │ (<span style=\"color: #00d7ff; text-decoration-color: #00d7ff\">None</span>, <span style=\"color: #00af00; text-decoration-color: #00af00\">120</span>, <span style=\"color: #00af00; text-decoration-color: #00af00\">120</span>, <span style=\"color: #00af00; text-decoration-color: #00af00\">3</span>)         │               <span style=\"color: #00af00; text-decoration-color: #00af00\">0</span> │\n",
              "├──────────────────────────────────────┼─────────────────────────────┼─────────────────┤\n",
              "│ random_translation_3                 │ (<span style=\"color: #00d7ff; text-decoration-color: #00d7ff\">None</span>, <span style=\"color: #00af00; text-decoration-color: #00af00\">120</span>, <span style=\"color: #00af00; text-decoration-color: #00af00\">120</span>, <span style=\"color: #00af00; text-decoration-color: #00af00\">3</span>)         │               <span style=\"color: #00af00; text-decoration-color: #00af00\">0</span> │\n",
              "│ (<span style=\"color: #0087ff; text-decoration-color: #0087ff\">RandomTranslation</span>)                  │                             │                 │\n",
              "├──────────────────────────────────────┼─────────────────────────────┼─────────────────┤\n",
              "│ random_brightness_1                  │ (<span style=\"color: #00d7ff; text-decoration-color: #00d7ff\">None</span>, <span style=\"color: #00af00; text-decoration-color: #00af00\">120</span>, <span style=\"color: #00af00; text-decoration-color: #00af00\">120</span>, <span style=\"color: #00af00; text-decoration-color: #00af00\">3</span>)         │               <span style=\"color: #00af00; text-decoration-color: #00af00\">0</span> │\n",
              "│ (<span style=\"color: #0087ff; text-decoration-color: #0087ff\">RandomBrightness</span>)                   │                             │                 │\n",
              "├──────────────────────────────────────┼─────────────────────────────┼─────────────────┤\n",
              "│ random_contrast_1 (<span style=\"color: #0087ff; text-decoration-color: #0087ff\">RandomContrast</span>)   │ (<span style=\"color: #00d7ff; text-decoration-color: #00d7ff\">None</span>, <span style=\"color: #00af00; text-decoration-color: #00af00\">120</span>, <span style=\"color: #00af00; text-decoration-color: #00af00\">120</span>, <span style=\"color: #00af00; text-decoration-color: #00af00\">3</span>)         │               <span style=\"color: #00af00; text-decoration-color: #00af00\">0</span> │\n",
              "├──────────────────────────────────────┼─────────────────────────────┼─────────────────┤\n",
              "│ rescaling_3 (<span style=\"color: #0087ff; text-decoration-color: #0087ff\">Rescaling</span>)              │ (<span style=\"color: #00d7ff; text-decoration-color: #00d7ff\">None</span>, <span style=\"color: #00af00; text-decoration-color: #00af00\">120</span>, <span style=\"color: #00af00; text-decoration-color: #00af00\">120</span>, <span style=\"color: #00af00; text-decoration-color: #00af00\">3</span>)         │               <span style=\"color: #00af00; text-decoration-color: #00af00\">0</span> │\n",
              "├──────────────────────────────────────┼─────────────────────────────┼─────────────────┤\n",
              "│ conv2d_16 (<span style=\"color: #0087ff; text-decoration-color: #0087ff\">Conv2D</span>)                   │ (<span style=\"color: #00d7ff; text-decoration-color: #00d7ff\">None</span>, <span style=\"color: #00af00; text-decoration-color: #00af00\">118</span>, <span style=\"color: #00af00; text-decoration-color: #00af00\">118</span>, <span style=\"color: #00af00; text-decoration-color: #00af00\">16</span>)        │             <span style=\"color: #00af00; text-decoration-color: #00af00\">448</span> │\n",
              "├──────────────────────────────────────┼─────────────────────────────┼─────────────────┤\n",
              "│ max_pooling2d_16 (<span style=\"color: #0087ff; text-decoration-color: #0087ff\">MaxPooling2D</span>)      │ (<span style=\"color: #00d7ff; text-decoration-color: #00d7ff\">None</span>, <span style=\"color: #00af00; text-decoration-color: #00af00\">59</span>, <span style=\"color: #00af00; text-decoration-color: #00af00\">59</span>, <span style=\"color: #00af00; text-decoration-color: #00af00\">16</span>)          │               <span style=\"color: #00af00; text-decoration-color: #00af00\">0</span> │\n",
              "├──────────────────────────────────────┼─────────────────────────────┼─────────────────┤\n",
              "│ conv2d_17 (<span style=\"color: #0087ff; text-decoration-color: #0087ff\">Conv2D</span>)                   │ (<span style=\"color: #00d7ff; text-decoration-color: #00d7ff\">None</span>, <span style=\"color: #00af00; text-decoration-color: #00af00\">57</span>, <span style=\"color: #00af00; text-decoration-color: #00af00\">57</span>, <span style=\"color: #00af00; text-decoration-color: #00af00\">32</span>)          │           <span style=\"color: #00af00; text-decoration-color: #00af00\">4,640</span> │\n",
              "├──────────────────────────────────────┼─────────────────────────────┼─────────────────┤\n",
              "│ max_pooling2d_17 (<span style=\"color: #0087ff; text-decoration-color: #0087ff\">MaxPooling2D</span>)      │ (<span style=\"color: #00d7ff; text-decoration-color: #00d7ff\">None</span>, <span style=\"color: #00af00; text-decoration-color: #00af00\">28</span>, <span style=\"color: #00af00; text-decoration-color: #00af00\">28</span>, <span style=\"color: #00af00; text-decoration-color: #00af00\">32</span>)          │               <span style=\"color: #00af00; text-decoration-color: #00af00\">0</span> │\n",
              "├──────────────────────────────────────┼─────────────────────────────┼─────────────────┤\n",
              "│ conv2d_18 (<span style=\"color: #0087ff; text-decoration-color: #0087ff\">Conv2D</span>)                   │ (<span style=\"color: #00d7ff; text-decoration-color: #00d7ff\">None</span>, <span style=\"color: #00af00; text-decoration-color: #00af00\">26</span>, <span style=\"color: #00af00; text-decoration-color: #00af00\">26</span>, <span style=\"color: #00af00; text-decoration-color: #00af00\">64</span>)          │          <span style=\"color: #00af00; text-decoration-color: #00af00\">18,496</span> │\n",
              "├──────────────────────────────────────┼─────────────────────────────┼─────────────────┤\n",
              "│ max_pooling2d_18 (<span style=\"color: #0087ff; text-decoration-color: #0087ff\">MaxPooling2D</span>)      │ (<span style=\"color: #00d7ff; text-decoration-color: #00d7ff\">None</span>, <span style=\"color: #00af00; text-decoration-color: #00af00\">13</span>, <span style=\"color: #00af00; text-decoration-color: #00af00\">13</span>, <span style=\"color: #00af00; text-decoration-color: #00af00\">64</span>)          │               <span style=\"color: #00af00; text-decoration-color: #00af00\">0</span> │\n",
              "├──────────────────────────────────────┼─────────────────────────────┼─────────────────┤\n",
              "│ dropout_10 (<span style=\"color: #0087ff; text-decoration-color: #0087ff\">Dropout</span>)                 │ (<span style=\"color: #00d7ff; text-decoration-color: #00d7ff\">None</span>, <span style=\"color: #00af00; text-decoration-color: #00af00\">13</span>, <span style=\"color: #00af00; text-decoration-color: #00af00\">13</span>, <span style=\"color: #00af00; text-decoration-color: #00af00\">64</span>)          │               <span style=\"color: #00af00; text-decoration-color: #00af00\">0</span> │\n",
              "├──────────────────────────────────────┼─────────────────────────────┼─────────────────┤\n",
              "│ conv2d_19 (<span style=\"color: #0087ff; text-decoration-color: #0087ff\">Conv2D</span>)                   │ (<span style=\"color: #00d7ff; text-decoration-color: #00d7ff\">None</span>, <span style=\"color: #00af00; text-decoration-color: #00af00\">11</span>, <span style=\"color: #00af00; text-decoration-color: #00af00\">11</span>, <span style=\"color: #00af00; text-decoration-color: #00af00\">128</span>)         │          <span style=\"color: #00af00; text-decoration-color: #00af00\">73,856</span> │\n",
              "├──────────────────────────────────────┼─────────────────────────────┼─────────────────┤\n",
              "│ max_pooling2d_19 (<span style=\"color: #0087ff; text-decoration-color: #0087ff\">MaxPooling2D</span>)      │ (<span style=\"color: #00d7ff; text-decoration-color: #00d7ff\">None</span>, <span style=\"color: #00af00; text-decoration-color: #00af00\">5</span>, <span style=\"color: #00af00; text-decoration-color: #00af00\">5</span>, <span style=\"color: #00af00; text-decoration-color: #00af00\">128</span>)           │               <span style=\"color: #00af00; text-decoration-color: #00af00\">0</span> │\n",
              "├──────────────────────────────────────┼─────────────────────────────┼─────────────────┤\n",
              "│ dropout_11 (<span style=\"color: #0087ff; text-decoration-color: #0087ff\">Dropout</span>)                 │ (<span style=\"color: #00d7ff; text-decoration-color: #00d7ff\">None</span>, <span style=\"color: #00af00; text-decoration-color: #00af00\">5</span>, <span style=\"color: #00af00; text-decoration-color: #00af00\">5</span>, <span style=\"color: #00af00; text-decoration-color: #00af00\">128</span>)           │               <span style=\"color: #00af00; text-decoration-color: #00af00\">0</span> │\n",
              "├──────────────────────────────────────┼─────────────────────────────┼─────────────────┤\n",
              "│ conv2d_20 (<span style=\"color: #0087ff; text-decoration-color: #0087ff\">Conv2D</span>)                   │ (<span style=\"color: #00d7ff; text-decoration-color: #00d7ff\">None</span>, <span style=\"color: #00af00; text-decoration-color: #00af00\">3</span>, <span style=\"color: #00af00; text-decoration-color: #00af00\">3</span>, <span style=\"color: #00af00; text-decoration-color: #00af00\">128</span>)           │         <span style=\"color: #00af00; text-decoration-color: #00af00\">147,584</span> │\n",
              "├──────────────────────────────────────┼─────────────────────────────┼─────────────────┤\n",
              "│ max_pooling2d_20 (<span style=\"color: #0087ff; text-decoration-color: #0087ff\">MaxPooling2D</span>)      │ (<span style=\"color: #00d7ff; text-decoration-color: #00d7ff\">None</span>, <span style=\"color: #00af00; text-decoration-color: #00af00\">1</span>, <span style=\"color: #00af00; text-decoration-color: #00af00\">1</span>, <span style=\"color: #00af00; text-decoration-color: #00af00\">128</span>)           │               <span style=\"color: #00af00; text-decoration-color: #00af00\">0</span> │\n",
              "├──────────────────────────────────────┼─────────────────────────────┼─────────────────┤\n",
              "│ dropout_12 (<span style=\"color: #0087ff; text-decoration-color: #0087ff\">Dropout</span>)                 │ (<span style=\"color: #00d7ff; text-decoration-color: #00d7ff\">None</span>, <span style=\"color: #00af00; text-decoration-color: #00af00\">1</span>, <span style=\"color: #00af00; text-decoration-color: #00af00\">1</span>, <span style=\"color: #00af00; text-decoration-color: #00af00\">128</span>)           │               <span style=\"color: #00af00; text-decoration-color: #00af00\">0</span> │\n",
              "├──────────────────────────────────────┼─────────────────────────────┼─────────────────┤\n",
              "│ flatten_3 (<span style=\"color: #0087ff; text-decoration-color: #0087ff\">Flatten</span>)                  │ (<span style=\"color: #00d7ff; text-decoration-color: #00d7ff\">None</span>, <span style=\"color: #00af00; text-decoration-color: #00af00\">128</span>)                 │               <span style=\"color: #00af00; text-decoration-color: #00af00\">0</span> │\n",
              "├──────────────────────────────────────┼─────────────────────────────┼─────────────────┤\n",
              "│ dense_6 (<span style=\"color: #0087ff; text-decoration-color: #0087ff\">Dense</span>)                      │ (<span style=\"color: #00d7ff; text-decoration-color: #00d7ff\">None</span>, <span style=\"color: #00af00; text-decoration-color: #00af00\">512</span>)                 │          <span style=\"color: #00af00; text-decoration-color: #00af00\">66,048</span> │\n",
              "├──────────────────────────────────────┼─────────────────────────────┼─────────────────┤\n",
              "│ batch_normalization_3                │ (<span style=\"color: #00d7ff; text-decoration-color: #00d7ff\">None</span>, <span style=\"color: #00af00; text-decoration-color: #00af00\">512</span>)                 │           <span style=\"color: #00af00; text-decoration-color: #00af00\">2,048</span> │\n",
              "│ (<span style=\"color: #0087ff; text-decoration-color: #0087ff\">BatchNormalization</span>)                 │                             │                 │\n",
              "├──────────────────────────────────────┼─────────────────────────────┼─────────────────┤\n",
              "│ activation_3 (<span style=\"color: #0087ff; text-decoration-color: #0087ff\">Activation</span>)            │ (<span style=\"color: #00d7ff; text-decoration-color: #00d7ff\">None</span>, <span style=\"color: #00af00; text-decoration-color: #00af00\">512</span>)                 │               <span style=\"color: #00af00; text-decoration-color: #00af00\">0</span> │\n",
              "├──────────────────────────────────────┼─────────────────────────────┼─────────────────┤\n",
              "│ dense_7 (<span style=\"color: #0087ff; text-decoration-color: #0087ff\">Dense</span>)                      │ (<span style=\"color: #00d7ff; text-decoration-color: #00d7ff\">None</span>, <span style=\"color: #00af00; text-decoration-color: #00af00\">34</span>)                  │          <span style=\"color: #00af00; text-decoration-color: #00af00\">17,442</span> │\n",
              "└──────────────────────────────────────┴─────────────────────────────┴─────────────────┘\n",
              "</pre>\n"
            ]
          },
          "metadata": {}
        },
        {
          "output_type": "display_data",
          "data": {
            "text/plain": [
              "\u001b[1m Total params: \u001b[0m\u001b[38;5;34m330,562\u001b[0m (1.26 MB)\n"
            ],
            "text/html": [
              "<pre style=\"white-space:pre;overflow-x:auto;line-height:normal;font-family:Menlo,'DejaVu Sans Mono',consolas,'Courier New',monospace\"><span style=\"font-weight: bold\"> Total params: </span><span style=\"color: #00af00; text-decoration-color: #00af00\">330,562</span> (1.26 MB)\n",
              "</pre>\n"
            ]
          },
          "metadata": {}
        },
        {
          "output_type": "display_data",
          "data": {
            "text/plain": [
              "\u001b[1m Trainable params: \u001b[0m\u001b[38;5;34m329,538\u001b[0m (1.26 MB)\n"
            ],
            "text/html": [
              "<pre style=\"white-space:pre;overflow-x:auto;line-height:normal;font-family:Menlo,'DejaVu Sans Mono',consolas,'Courier New',monospace\"><span style=\"font-weight: bold\"> Trainable params: </span><span style=\"color: #00af00; text-decoration-color: #00af00\">329,538</span> (1.26 MB)\n",
              "</pre>\n"
            ]
          },
          "metadata": {}
        },
        {
          "output_type": "display_data",
          "data": {
            "text/plain": [
              "\u001b[1m Non-trainable params: \u001b[0m\u001b[38;5;34m1,024\u001b[0m (4.00 KB)\n"
            ],
            "text/html": [
              "<pre style=\"white-space:pre;overflow-x:auto;line-height:normal;font-family:Menlo,'DejaVu Sans Mono',consolas,'Courier New',monospace\"><span style=\"font-weight: bold\"> Non-trainable params: </span><span style=\"color: #00af00; text-decoration-color: #00af00\">1,024</span> (4.00 KB)\n",
              "</pre>\n"
            ]
          },
          "metadata": {}
        }
      ]
    },
    {
      "cell_type": "code",
      "source": [
        "initial_lr = 0.001\n",
        "# lr_schedule = tf.keras.optimizers.schedules.ExponentialDecay(\n",
        "#     initial_lr,\n",
        "#     decay_steps=1000,\n",
        "#     decay_rate=0.9\n",
        "# )\n",
        "\n",
        "# compile dahulu\n",
        "# model.compile(\n",
        "#     optimizer=tf.keras.optimizers.RMSprop(learning_rate=1.75e-4, ),\n",
        "#     loss='categorical_crossentropy',\n",
        "#     metrics=['accuracy'],\n",
        "# )\n",
        "\n",
        "model.compile(\n",
        "    optimizer=tf.keras.optimizers.RMSprop(learning_rate=0.008),\n",
        "    loss='categorical_crossentropy',\n",
        "    metrics=['accuracy']\n",
        ")"
      ],
      "metadata": {
        "id": "QHmVb1ygdcs9"
      },
      "execution_count": 33,
      "outputs": []
    },
    {
      "cell_type": "code",
      "source": [
        "# untuk mencari learning rate\n",
        "lr_scheduler = tf.keras.callbacks.LearningRateScheduler(lambda epoch: 1e-4 * 10**(epoch / 20))\n",
        "\n",
        "early_stopping = tf.keras.callbacks.EarlyStopping(\n",
        "    monitor='val_loss',\n",
        "    patience=15,\n",
        "    restore_best_weights=True\n",
        ")\n",
        "\n",
        "reduce_lr = tf.keras.callbacks.ReduceLROnPlateau(\n",
        "    monitor='val_loss',\n",
        "    factor=0.2,\n",
        "    patience=5,\n",
        "    min_lr=0.00001\n",
        ")\n"
      ],
      "metadata": {
        "id": "powSRjOIYOkk"
      },
      "execution_count": 34,
      "outputs": []
    },
    {
      "cell_type": "code",
      "source": [
        "history = model.fit(\n",
        "    train_dataset_final,\n",
        "    validation_data=validation_dataset_final,\n",
        "    epochs=120,\n",
        "    verbose=2,\n",
        "    callbacks=[]\n",
        ")"
      ],
      "metadata": {
        "colab": {
          "base_uri": "https://localhost:8080/"
        },
        "id": "IticwhFud-5z",
        "outputId": "8acd0886-eb0a-4ffb-f435-165aa947eff9"
      },
      "execution_count": 35,
      "outputs": [
        {
          "output_type": "stream",
          "name": "stdout",
          "text": [
            "Epoch 1/120\n",
            "557/557 - 11s - 19ms/step - accuracy: 0.4839 - loss: 1.7914 - val_accuracy: 0.4671 - val_loss: 1.9043\n",
            "Epoch 2/120\n",
            "557/557 - 8s - 15ms/step - accuracy: 0.4928 - loss: 1.7706 - val_accuracy: 0.4699 - val_loss: 1.9074\n",
            "Epoch 3/120\n",
            "557/557 - 9s - 15ms/step - accuracy: 0.4925 - loss: 1.7587 - val_accuracy: 0.4544 - val_loss: 1.9331\n",
            "Epoch 4/120\n",
            "557/557 - 10s - 18ms/step - accuracy: 0.4925 - loss: 1.7583 - val_accuracy: 0.4604 - val_loss: 1.9135\n",
            "Epoch 5/120\n",
            "557/557 - 10s - 18ms/step - accuracy: 0.4966 - loss: 1.7568 - val_accuracy: 0.4729 - val_loss: 1.8806\n",
            "Epoch 6/120\n",
            "557/557 - 8s - 15ms/step - accuracy: 0.4904 - loss: 1.7541 - val_accuracy: 0.4584 - val_loss: 1.9132\n",
            "Epoch 7/120\n",
            "557/557 - 10s - 19ms/step - accuracy: 0.4988 - loss: 1.7526 - val_accuracy: 0.4602 - val_loss: 1.9245\n",
            "Epoch 8/120\n",
            "557/557 - 11s - 19ms/step - accuracy: 0.4908 - loss: 1.7649 - val_accuracy: 0.4650 - val_loss: 1.8938\n",
            "Epoch 9/120\n",
            "557/557 - 9s - 15ms/step - accuracy: 0.4956 - loss: 1.7469 - val_accuracy: 0.4646 - val_loss: 1.8943\n",
            "Epoch 10/120\n",
            "557/557 - 8s - 15ms/step - accuracy: 0.4961 - loss: 1.7479 - val_accuracy: 0.4628 - val_loss: 1.9094\n",
            "Epoch 11/120\n",
            "557/557 - 9s - 15ms/step - accuracy: 0.4987 - loss: 1.7460 - val_accuracy: 0.4707 - val_loss: 1.8867\n",
            "Epoch 12/120\n",
            "557/557 - 10s - 18ms/step - accuracy: 0.4979 - loss: 1.7562 - val_accuracy: 0.4683 - val_loss: 1.8904\n",
            "Epoch 13/120\n",
            "557/557 - 9s - 16ms/step - accuracy: 0.4951 - loss: 1.7507 - val_accuracy: 0.4711 - val_loss: 1.8865\n",
            "Epoch 14/120\n",
            "557/557 - 9s - 17ms/step - accuracy: 0.4925 - loss: 1.7665 - val_accuracy: 0.4725 - val_loss: 1.8832\n",
            "Epoch 15/120\n",
            "557/557 - 9s - 15ms/step - accuracy: 0.4948 - loss: 1.7533 - val_accuracy: 0.4642 - val_loss: 1.9021\n",
            "Epoch 16/120\n",
            "557/557 - 10s - 18ms/step - accuracy: 0.4967 - loss: 1.7460 - val_accuracy: 0.4558 - val_loss: 1.9247\n",
            "Epoch 17/120\n",
            "557/557 - 9s - 16ms/step - accuracy: 0.4961 - loss: 1.7464 - val_accuracy: 0.4650 - val_loss: 1.9018\n",
            "Epoch 18/120\n",
            "557/557 - 8s - 15ms/step - accuracy: 0.4960 - loss: 1.7429 - val_accuracy: 0.4709 - val_loss: 1.8874\n",
            "Epoch 19/120\n",
            "557/557 - 9s - 15ms/step - accuracy: 0.4958 - loss: 1.7532 - val_accuracy: 0.4697 - val_loss: 1.8955\n",
            "Epoch 20/120\n",
            "557/557 - 9s - 16ms/step - accuracy: 0.4904 - loss: 1.7528 - val_accuracy: 0.4658 - val_loss: 1.8956\n",
            "Epoch 21/120\n",
            "557/557 - 8s - 15ms/step - accuracy: 0.4997 - loss: 1.7425 - val_accuracy: 0.4656 - val_loss: 1.8884\n",
            "Epoch 22/120\n",
            "557/557 - 8s - 15ms/step - accuracy: 0.4975 - loss: 1.7454 - val_accuracy: 0.4616 - val_loss: 1.9047\n",
            "Epoch 23/120\n",
            "557/557 - 10s - 18ms/step - accuracy: 0.4970 - loss: 1.7506 - val_accuracy: 0.4644 - val_loss: 1.8986\n",
            "Epoch 24/120\n",
            "557/557 - 9s - 16ms/step - accuracy: 0.4932 - loss: 1.7517 - val_accuracy: 0.4715 - val_loss: 1.8917\n",
            "Epoch 25/120\n",
            "557/557 - 10s - 17ms/step - accuracy: 0.4969 - loss: 1.7609 - val_accuracy: 0.4751 - val_loss: 1.8738\n",
            "Epoch 26/120\n",
            "557/557 - 10s - 19ms/step - accuracy: 0.4994 - loss: 1.7432 - val_accuracy: 0.4654 - val_loss: 1.8986\n",
            "Epoch 27/120\n",
            "557/557 - 9s - 15ms/step - accuracy: 0.4942 - loss: 1.7433 - val_accuracy: 0.4735 - val_loss: 1.8802\n",
            "Epoch 28/120\n",
            "557/557 - 10s - 18ms/step - accuracy: 0.4899 - loss: 1.7610 - val_accuracy: 0.4560 - val_loss: 1.9244\n",
            "Epoch 29/120\n",
            "557/557 - 8s - 15ms/step - accuracy: 0.4944 - loss: 1.7457 - val_accuracy: 0.4753 - val_loss: 1.8700\n",
            "Epoch 30/120\n",
            "557/557 - 9s - 15ms/step - accuracy: 0.4947 - loss: 1.7549 - val_accuracy: 0.4745 - val_loss: 1.8794\n",
            "Epoch 31/120\n",
            "557/557 - 8s - 15ms/step - accuracy: 0.4942 - loss: 1.7613 - val_accuracy: 0.4665 - val_loss: 1.8928\n",
            "Epoch 32/120\n",
            "557/557 - 11s - 19ms/step - accuracy: 0.4952 - loss: 1.7442 - val_accuracy: 0.4602 - val_loss: 1.9265\n",
            "Epoch 33/120\n",
            "557/557 - 9s - 17ms/step - accuracy: 0.4976 - loss: 1.7461 - val_accuracy: 0.4685 - val_loss: 1.8880\n",
            "Epoch 34/120\n",
            "557/557 - 9s - 15ms/step - accuracy: 0.5003 - loss: 1.7283 - val_accuracy: 0.4703 - val_loss: 1.8955\n",
            "Epoch 35/120\n",
            "557/557 - 10s - 18ms/step - accuracy: 0.4952 - loss: 1.7385 - val_accuracy: 0.4731 - val_loss: 1.8877\n",
            "Epoch 36/120\n",
            "557/557 - 10s - 18ms/step - accuracy: 0.4925 - loss: 1.7464 - val_accuracy: 0.4727 - val_loss: 1.8798\n",
            "Epoch 37/120\n",
            "557/557 - 8s - 15ms/step - accuracy: 0.4969 - loss: 1.7457 - val_accuracy: 0.4733 - val_loss: 1.8827\n",
            "Epoch 38/120\n",
            "557/557 - 9s - 15ms/step - accuracy: 0.5000 - loss: 1.7287 - val_accuracy: 0.4719 - val_loss: 1.8846\n",
            "Epoch 39/120\n",
            "557/557 - 9s - 15ms/step - accuracy: 0.4963 - loss: 1.7413 - val_accuracy: 0.4675 - val_loss: 1.8956\n",
            "Epoch 40/120\n",
            "557/557 - 8s - 15ms/step - accuracy: 0.4927 - loss: 1.7536 - val_accuracy: 0.4679 - val_loss: 1.8966\n",
            "Epoch 41/120\n",
            "557/557 - 10s - 18ms/step - accuracy: 0.4993 - loss: 1.7358 - val_accuracy: 0.4727 - val_loss: 1.8801\n",
            "Epoch 42/120\n",
            "557/557 - 11s - 19ms/step - accuracy: 0.4957 - loss: 1.7322 - val_accuracy: 0.4679 - val_loss: 1.9023\n",
            "Epoch 43/120\n",
            "557/557 - 9s - 15ms/step - accuracy: 0.4980 - loss: 1.7346 - val_accuracy: 0.4691 - val_loss: 1.8977\n",
            "Epoch 44/120\n",
            "557/557 - 8s - 15ms/step - accuracy: 0.4944 - loss: 1.7421 - val_accuracy: 0.4681 - val_loss: 1.8919\n",
            "Epoch 45/120\n",
            "557/557 - 8s - 15ms/step - accuracy: 0.4972 - loss: 1.7388 - val_accuracy: 0.4737 - val_loss: 1.8946\n",
            "Epoch 46/120\n",
            "557/557 - 10s - 19ms/step - accuracy: 0.4987 - loss: 1.7509 - val_accuracy: 0.4683 - val_loss: 1.8981\n",
            "Epoch 47/120\n",
            "557/557 - 8s - 15ms/step - accuracy: 0.4977 - loss: 1.7381 - val_accuracy: 0.4777 - val_loss: 1.8745\n",
            "Epoch 48/120\n",
            "557/557 - 9s - 15ms/step - accuracy: 0.5011 - loss: 1.7406 - val_accuracy: 0.4785 - val_loss: 1.8716\n",
            "Epoch 49/120\n",
            "557/557 - 9s - 15ms/step - accuracy: 0.5024 - loss: 1.7265 - val_accuracy: 0.4586 - val_loss: 1.9193\n",
            "Epoch 50/120\n",
            "557/557 - 10s - 18ms/step - accuracy: 0.4950 - loss: 1.7406 - val_accuracy: 0.4701 - val_loss: 1.8951\n",
            "Epoch 51/120\n",
            "557/557 - 10s - 18ms/step - accuracy: 0.4983 - loss: 1.7412 - val_accuracy: 0.4763 - val_loss: 1.8878\n",
            "Epoch 52/120\n",
            "557/557 - 8s - 15ms/step - accuracy: 0.4961 - loss: 1.7492 - val_accuracy: 0.4733 - val_loss: 1.8874\n",
            "Epoch 53/120\n",
            "557/557 - 9s - 15ms/step - accuracy: 0.5000 - loss: 1.7444 - val_accuracy: 0.4757 - val_loss: 1.8814\n",
            "Epoch 54/120\n",
            "557/557 - 8s - 15ms/step - accuracy: 0.4942 - loss: 1.7505 - val_accuracy: 0.4636 - val_loss: 1.8986\n",
            "Epoch 55/120\n",
            "557/557 - 11s - 19ms/step - accuracy: 0.4935 - loss: 1.7447 - val_accuracy: 0.4697 - val_loss: 1.8903\n",
            "Epoch 56/120\n",
            "557/557 - 10s - 17ms/step - accuracy: 0.4970 - loss: 1.7446 - val_accuracy: 0.4701 - val_loss: 1.9015\n",
            "Epoch 57/120\n",
            "557/557 - 10s - 19ms/step - accuracy: 0.4958 - loss: 1.7359 - val_accuracy: 0.4703 - val_loss: 1.8994\n",
            "Epoch 58/120\n",
            "557/557 - 9s - 15ms/step - accuracy: 0.4953 - loss: 1.7500 - val_accuracy: 0.4771 - val_loss: 1.8735\n",
            "Epoch 59/120\n",
            "557/557 - 10s - 18ms/step - accuracy: 0.5042 - loss: 1.7383 - val_accuracy: 0.4711 - val_loss: 1.8958\n",
            "Epoch 60/120\n",
            "557/557 - 8s - 15ms/step - accuracy: 0.4982 - loss: 1.7268 - val_accuracy: 0.4658 - val_loss: 1.8978\n",
            "Epoch 61/120\n",
            "557/557 - 10s - 19ms/step - accuracy: 0.4968 - loss: 1.7385 - val_accuracy: 0.4751 - val_loss: 1.8758\n",
            "Epoch 62/120\n",
            "557/557 - 11s - 19ms/step - accuracy: 0.4939 - loss: 1.7406 - val_accuracy: 0.4767 - val_loss: 1.8774\n",
            "Epoch 63/120\n",
            "557/557 - 10s - 18ms/step - accuracy: 0.4999 - loss: 1.7396 - val_accuracy: 0.4807 - val_loss: 1.8598\n",
            "Epoch 64/120\n",
            "557/557 - 8s - 15ms/step - accuracy: 0.4999 - loss: 1.7305 - val_accuracy: 0.4691 - val_loss: 1.8861\n",
            "Epoch 65/120\n",
            "557/557 - 8s - 15ms/step - accuracy: 0.4938 - loss: 1.7460 - val_accuracy: 0.4570 - val_loss: 1.9222\n",
            "Epoch 66/120\n",
            "557/557 - 11s - 19ms/step - accuracy: 0.4993 - loss: 1.7261 - val_accuracy: 0.4691 - val_loss: 1.8923\n",
            "Epoch 67/120\n",
            "557/557 - 10s - 18ms/step - accuracy: 0.4952 - loss: 1.7381 - val_accuracy: 0.4725 - val_loss: 1.8955\n",
            "Epoch 68/120\n",
            "557/557 - 10s - 18ms/step - accuracy: 0.5011 - loss: 1.7363 - val_accuracy: 0.4695 - val_loss: 1.8939\n",
            "Epoch 69/120\n",
            "557/557 - 10s - 18ms/step - accuracy: 0.5029 - loss: 1.7246 - val_accuracy: 0.4723 - val_loss: 1.8840\n",
            "Epoch 70/120\n",
            "557/557 - 8s - 15ms/step - accuracy: 0.5022 - loss: 1.7374 - val_accuracy: 0.4777 - val_loss: 1.8776\n",
            "Epoch 71/120\n",
            "557/557 - 10s - 19ms/step - accuracy: 0.5001 - loss: 1.7218 - val_accuracy: 0.4679 - val_loss: 1.8939\n",
            "Epoch 72/120\n",
            "557/557 - 9s - 15ms/step - accuracy: 0.5003 - loss: 1.7283 - val_accuracy: 0.4677 - val_loss: 1.8892\n",
            "Epoch 73/120\n",
            "557/557 - 8s - 15ms/step - accuracy: 0.4957 - loss: 1.7327 - val_accuracy: 0.4769 - val_loss: 1.8690\n",
            "Epoch 74/120\n",
            "557/557 - 9s - 15ms/step - accuracy: 0.5010 - loss: 1.7261 - val_accuracy: 0.4769 - val_loss: 1.8695\n",
            "Epoch 75/120\n",
            "557/557 - 11s - 19ms/step - accuracy: 0.4922 - loss: 1.7420 - val_accuracy: 0.4701 - val_loss: 1.9031\n",
            "Epoch 76/120\n",
            "557/557 - 9s - 16ms/step - accuracy: 0.5046 - loss: 1.7284 - val_accuracy: 0.4783 - val_loss: 1.8724\n",
            "Epoch 77/120\n",
            "557/557 - 8s - 15ms/step - accuracy: 0.5016 - loss: 1.7221 - val_accuracy: 0.4671 - val_loss: 1.9072\n",
            "Epoch 78/120\n",
            "557/557 - 9s - 15ms/step - accuracy: 0.4984 - loss: 1.7389 - val_accuracy: 0.4773 - val_loss: 1.8692\n",
            "Epoch 79/120\n",
            "557/557 - 8s - 15ms/step - accuracy: 0.5026 - loss: 1.7266 - val_accuracy: 0.4745 - val_loss: 1.8814\n",
            "Epoch 80/120\n",
            "557/557 - 8s - 15ms/step - accuracy: 0.4972 - loss: 1.7377 - val_accuracy: 0.4811 - val_loss: 1.8768\n",
            "Epoch 81/120\n",
            "557/557 - 11s - 19ms/step - accuracy: 0.5018 - loss: 1.7249 - val_accuracy: 0.4839 - val_loss: 1.8618\n",
            "Epoch 82/120\n",
            "557/557 - 10s - 19ms/step - accuracy: 0.4984 - loss: 1.7381 - val_accuracy: 0.4807 - val_loss: 1.8670\n",
            "Epoch 83/120\n",
            "557/557 - 10s - 18ms/step - accuracy: 0.4992 - loss: 1.7362 - val_accuracy: 0.4735 - val_loss: 1.8774\n",
            "Epoch 84/120\n",
            "557/557 - 11s - 19ms/step - accuracy: 0.4947 - loss: 1.7354 - val_accuracy: 0.4888 - val_loss: 1.8436\n",
            "Epoch 85/120\n",
            "557/557 - 8s - 15ms/step - accuracy: 0.4998 - loss: 1.7273 - val_accuracy: 0.4713 - val_loss: 1.8937\n",
            "Epoch 86/120\n",
            "557/557 - 9s - 15ms/step - accuracy: 0.5025 - loss: 1.7207 - val_accuracy: 0.4741 - val_loss: 1.8757\n",
            "Epoch 87/120\n",
            "557/557 - 10s - 18ms/step - accuracy: 0.5021 - loss: 1.7210 - val_accuracy: 0.4717 - val_loss: 1.8953\n",
            "Epoch 88/120\n",
            "557/557 - 10s - 18ms/step - accuracy: 0.5025 - loss: 1.7328 - val_accuracy: 0.4833 - val_loss: 1.8440\n",
            "Epoch 89/120\n",
            "557/557 - 8s - 15ms/step - accuracy: 0.5048 - loss: 1.7342 - val_accuracy: 0.4755 - val_loss: 1.8798\n",
            "Epoch 90/120\n",
            "557/557 - 9s - 15ms/step - accuracy: 0.5030 - loss: 1.7286 - val_accuracy: 0.4731 - val_loss: 1.8728\n",
            "Epoch 91/120\n",
            "557/557 - 9s - 15ms/step - accuracy: 0.4970 - loss: 1.7404 - val_accuracy: 0.4871 - val_loss: 1.8575\n",
            "Epoch 92/120\n",
            "557/557 - 11s - 19ms/step - accuracy: 0.4971 - loss: 1.7352 - val_accuracy: 0.4831 - val_loss: 1.8607\n",
            "Epoch 93/120\n",
            "557/557 - 8s - 15ms/step - accuracy: 0.5031 - loss: 1.7303 - val_accuracy: 0.4673 - val_loss: 1.8911\n",
            "Epoch 94/120\n",
            "557/557 - 9s - 15ms/step - accuracy: 0.5064 - loss: 1.7239 - val_accuracy: 0.4737 - val_loss: 1.8857\n",
            "Epoch 95/120\n",
            "557/557 - 9s - 16ms/step - accuracy: 0.4996 - loss: 1.7354 - val_accuracy: 0.4737 - val_loss: 1.8851\n",
            "Epoch 96/120\n",
            "557/557 - 8s - 15ms/step - accuracy: 0.5043 - loss: 1.7365 - val_accuracy: 0.4699 - val_loss: 1.9092\n",
            "Epoch 97/120\n",
            "557/557 - 11s - 19ms/step - accuracy: 0.5001 - loss: 1.7199 - val_accuracy: 0.4767 - val_loss: 1.8771\n",
            "Epoch 98/120\n",
            "557/557 - 10s - 18ms/step - accuracy: 0.4992 - loss: 1.7368 - val_accuracy: 0.4821 - val_loss: 1.8678\n",
            "Epoch 99/120\n",
            "557/557 - 9s - 16ms/step - accuracy: 0.5033 - loss: 1.7338 - val_accuracy: 0.4767 - val_loss: 1.8836\n",
            "Epoch 100/120\n",
            "557/557 - 8s - 15ms/step - accuracy: 0.5030 - loss: 1.7305 - val_accuracy: 0.4819 - val_loss: 1.8713\n",
            "Epoch 101/120\n",
            "557/557 - 10s - 18ms/step - accuracy: 0.4974 - loss: 1.7359 - val_accuracy: 0.4759 - val_loss: 1.8778\n",
            "Epoch 102/120\n",
            "557/557 - 9s - 17ms/step - accuracy: 0.4992 - loss: 1.7283 - val_accuracy: 0.4751 - val_loss: 1.8885\n",
            "Epoch 103/120\n",
            "557/557 - 9s - 16ms/step - accuracy: 0.4990 - loss: 1.7318 - val_accuracy: 0.4849 - val_loss: 1.8653\n",
            "Epoch 104/120\n",
            "557/557 - 8s - 15ms/step - accuracy: 0.4967 - loss: 1.7376 - val_accuracy: 0.4837 - val_loss: 1.8696\n",
            "Epoch 105/120\n",
            "557/557 - 10s - 19ms/step - accuracy: 0.4969 - loss: 1.7385 - val_accuracy: 0.4777 - val_loss: 1.8677\n",
            "Epoch 106/120\n",
            "557/557 - 9s - 15ms/step - accuracy: 0.5050 - loss: 1.7189 - val_accuracy: 0.4817 - val_loss: 1.8546\n",
            "Epoch 107/120\n",
            "557/557 - 8s - 15ms/step - accuracy: 0.5001 - loss: 1.7216 - val_accuracy: 0.4661 - val_loss: 1.9065\n",
            "Epoch 108/120\n",
            "557/557 - 8s - 15ms/step - accuracy: 0.5064 - loss: 1.7223 - val_accuracy: 0.4739 - val_loss: 1.8875\n",
            "Epoch 109/120\n",
            "557/557 - 11s - 19ms/step - accuracy: 0.5012 - loss: 1.7247 - val_accuracy: 0.4751 - val_loss: 1.8723\n",
            "Epoch 110/120\n",
            "557/557 - 9s - 15ms/step - accuracy: 0.5027 - loss: 1.7285 - val_accuracy: 0.4823 - val_loss: 1.8610\n",
            "Epoch 111/120\n",
            "557/557 - 8s - 15ms/step - accuracy: 0.4961 - loss: 1.7446 - val_accuracy: 0.4817 - val_loss: 1.8510\n",
            "Epoch 112/120\n",
            "557/557 - 9s - 15ms/step - accuracy: 0.5021 - loss: 1.7169 - val_accuracy: 0.4717 - val_loss: 1.8736\n",
            "Epoch 113/120\n",
            "557/557 - 10s - 18ms/step - accuracy: 0.4993 - loss: 1.7373 - val_accuracy: 0.4761 - val_loss: 1.8869\n",
            "Epoch 114/120\n",
            "557/557 - 10s - 18ms/step - accuracy: 0.4980 - loss: 1.7297 - val_accuracy: 0.4789 - val_loss: 1.8767\n",
            "Epoch 115/120\n",
            "557/557 - 8s - 15ms/step - accuracy: 0.5015 - loss: 1.7305 - val_accuracy: 0.4773 - val_loss: 1.8653\n",
            "Epoch 116/120\n",
            "557/557 - 9s - 15ms/step - accuracy: 0.4981 - loss: 1.7386 - val_accuracy: 0.4781 - val_loss: 1.8791\n",
            "Epoch 117/120\n",
            "557/557 - 10s - 18ms/step - accuracy: 0.4981 - loss: 1.7362 - val_accuracy: 0.4763 - val_loss: 1.8748\n",
            "Epoch 118/120\n",
            "557/557 - 9s - 16ms/step - accuracy: 0.5053 - loss: 1.7126 - val_accuracy: 0.4681 - val_loss: 1.8902\n",
            "Epoch 119/120\n",
            "557/557 - 9s - 17ms/step - accuracy: 0.5043 - loss: 1.7216 - val_accuracy: 0.4765 - val_loss: 1.8752\n",
            "Epoch 120/120\n",
            "557/557 - 8s - 15ms/step - accuracy: 0.5053 - loss: 1.7127 - val_accuracy: 0.4831 - val_loss: 1.8645\n"
          ]
        }
      ]
    },
    {
      "cell_type": "code",
      "source": [
        "loss, accuracy = model.evaluate(test_dataset)\n",
        "print(\"Accuracy\", accuracy)"
      ],
      "metadata": {
        "id": "n64RTVCw1r4D",
        "colab": {
          "base_uri": "https://localhost:8080/"
        },
        "outputId": "bc7046cd-4d78-48b0-d9f6-665582a7a68b"
      },
      "execution_count": 36,
      "outputs": [
        {
          "output_type": "stream",
          "name": "stdout",
          "text": [
            "\u001b[1m22/22\u001b[0m \u001b[32m━━━━━━━━━━━━━━━━━━━━\u001b[0m\u001b[37m\u001b[0m \u001b[1m1s\u001b[0m 58ms/step - accuracy: 0.6462 - loss: 1.3304\n",
            "Accuracy 0.5923295617103577\n"
          ]
        }
      ]
    },
    {
      "cell_type": "code",
      "source": [
        "\n",
        "def plot_loss_acc(history):\n",
        "  acc = history.history['accuracy']\n",
        "  val_acc = history.history['val_accuracy']\n",
        "\n",
        "  loss = history.history['loss']\n",
        "  val_loss = history.history['val_loss']\n",
        "\n",
        "  epochs_range = range(len(acc))\n",
        "\n",
        "  fig, (ax1, ax2) = plt.subplots(1, 2, figsize=(15, 6))\n",
        "  ax1.plot(epochs_range, acc, label='Training Accuracy')\n",
        "  ax1.plot(epochs_range, val_acc, label='Validation Accuracy')\n",
        "  ax1.set_xlabel('Epochs')\n",
        "  ax1.set_ylabel('Accuracy')\n",
        "  ax1.set_title('Training and Validation Accuracy')\n",
        "  ax1.legend()\n",
        "\n",
        "  ax2.plot(epochs_range, loss, label='Training Loss')\n",
        "  ax2.plot(epochs_range, val_loss, label='Validation Loss')\n",
        "  ax2.set_xlabel('Epochs')\n",
        "  ax2.set_ylabel('Loss')\n",
        "  ax2.set_title('Training and Validation Loss')\n",
        "  ax2.legend()\n",
        "\n",
        "  plt.tight_layout()\n",
        "  plt.show()\n",
        "\n"
      ],
      "metadata": {
        "id": "clbxNDyofjg_"
      },
      "execution_count": 19,
      "outputs": []
    },
    {
      "cell_type": "code",
      "source": [
        "plot_loss_acc(history)"
      ],
      "metadata": {
        "colab": {
          "base_uri": "https://localhost:8080/",
          "height": 607
        },
        "id": "wsXzzfAxQyXZ",
        "outputId": "1cabb71b-ab90-4100-f767-6534e375608e"
      },
      "execution_count": 37,
      "outputs": [
        {
          "output_type": "display_data",
          "data": {
            "text/plain": [
              "<Figure size 1500x600 with 2 Axes>"
            ],
            "image/png": "[encoded data removed]"
          },
          "metadata": {}
        }
      ]
    },
    {
      "cell_type": "code",
      "source": [
        "print(f'Training Accuracy: {history.history[\"accuracy\"][-1]*100:.2f}%')\n",
        "print(f'Validation Accuracy: {history.history[\"val_accuracy\"][-1]*100:.2f}%')"
      ],
      "metadata": {
        "id": "QBezhUlTyvKY"
      },
      "execution_count": null,
      "outputs": []
    },
    {
      "cell_type": "code",
      "source": [
        "plt.semilogx(history.history['learning_rate'], history.history['loss'])\n",
        "# plt.semilogx(history.history['val_loss'], label='Validation Loss')\n",
        "# plt.xlabel('Epochs')\n",
        "# plt.ylabel('Loss')\n",
        "# plt.legend()\n",
        "# plt.title('Training and Validation Loss')"
      ],
      "metadata": {
        "id": "1SMlAMnkhG3M",
        "colab": {
          "base_uri": "https://localhost:8080/",
          "height": 454
        },
        "outputId": "b6626ead-7537-4af4-d6a6-76eec035867e"
      },
      "execution_count": null,
      "outputs": [
        {
          "output_type": "execute_result",
          "data": {
            "text/plain": [
              "[<matplotlib.lines.Line2D at 0x7e9ae2efd780>]"
            ]
          },
          "metadata": {},
          "execution_count": 24
        },
        {
          "output_type": "display_data",
          "data": {
            "text/plain": [
              "<Figure size 640x480 with 1 Axes>"
            ],
            "image/png": "[encoded data removed]"
          },
          "metadata": {}
        }
      ]
    },
    {
      "cell_type": "code",
      "source": [],
      "metadata": {
        "id": "35mAdTa6hIEp"
      },
      "execution_count": null,
      "outputs": []
    }
  ],
  "metadata": {
    "colab": {
      "name": "Welcome To Colab",
      "provenance": [],
      "gpuType": "T4",
      "include_colab_link": true
    },
    "kernelspec": {
      "display_name": "Python 3",
      "name": "python3"
    },
    "accelerator": "GPU"
  },
  "nbformat": 4,
  "nbformat_minor": 0
}