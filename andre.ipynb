{
  "cells": [
    {
      "cell_type": "markdown",
      "metadata": {
        "id": "view-in-github",
        "colab_type": "text"
      },
      "source": [
        "<a href=\"https://colab.research.google.com/github/uchihamadara37/ML-capstone-bangkit/blob/main/andre.ipynb\" target=\"_parent\"><img src=\"https://colab.research.google.com/assets/colab-badge.svg\" alt=\"Open In Colab\"/></a>"
      ]
    },
    {
      "cell_type": "code",
      "source": [
        "!nvidia-smi\n"
      ],
      "metadata": {
        "id": "isBoaDIl7PdC",
        "colab": {
          "base_uri": "https://localhost:8080/"
        },
        "outputId": "27156d6b-6c6c-46cb-8d28-7961fe386b74"
      },
      "execution_count": null,
      "outputs": [
        {
          "output_type": "stream",
          "name": "stdout",
          "text": [
            "/bin/bash: line 1: nvidia-smi: command not found\n"
          ]
        }
      ]
    },
    {
      "cell_type": "code",
      "source": [],
      "metadata": {
        "id": "f2hm1QbY7Po1"
      },
      "execution_count": null,
      "outputs": []
    },
    {
      "cell_type": "markdown",
      "source": [
        "Setup Library\n",
        "**Preprocessing**"
      ],
      "metadata": {
        "id": "AQPuyZ3VFTmL"
      }
    },
    {
      "cell_type": "code",
      "execution_count": null,
      "metadata": {
        "id": "zwFnJsE6vjf8"
      },
      "outputs": [],
      "source": [
        "# prompt: install kaggle library\n",
        "\n",
        "# !pip install kaggle\n"
      ]
    },
    {
      "cell_type": "code",
      "source": [
        "# !kaggle datasets download -d wangziang/waste-pictures -p data --unzip"
      ],
      "metadata": {
        "id": "A35ECgwlKjdv"
      },
      "execution_count": null,
      "outputs": []
    },
    {
      "cell_type": "code",
      "source": [
        "!wget \"https://drive.usercontent.google.com/download?id=1AXuYOj63tdibRhEtOxI-kpEP6wBTMB56&export=download&authuser=0&confirm=t&uuid=9b208456-adaf-4b04-8b21-1d597c3f5e75&at=AENtkXZDhOKlhrjWsI2Owbxb63ix%3A1731726201156\" -O trash_data.zip"
      ],
      "metadata": {
        "colab": {
          "base_uri": "https://localhost:8080/"
        },
        "id": "rdnNrZKl4cnv",
        "outputId": "5bef3ba8-0fea-4a36-aab8-32dc4e328feb"
      },
      "execution_count": 1,
      "outputs": [
        {
          "output_type": "stream",
          "name": "stdout",
          "text": [
            "--2024-11-22 01:04:46--  https://drive.usercontent.google.com/download?id=1AXuYOj63tdibRhEtOxI-kpEP6wBTMB56&export=download&authuser=0&confirm=t&uuid=9b208456-adaf-4b04-8b21-1d597c3f5e75&at=AENtkXZDhOKlhrjWsI2Owbxb63ix%3A1731726201156\n",
            "Resolving drive.usercontent.google.com (drive.usercontent.google.com)... 173.194.210.132, 2607:f8b0:400c:c0f::84\n",
            "Connecting to drive.usercontent.google.com (drive.usercontent.google.com)|173.194.210.132|:443... connected.\n",
            "HTTP request sent, awaiting response... 200 OK\n",
            "Length: 879645956 (839M) [application/octet-stream]\n",
            "Saving to: ‘trash_data.zip’\n",
            "\n",
            "trash_data.zip      100%[===================>] 838.90M   153MB/s    in 5.8s    \n",
            "\n",
            "2024-11-22 01:04:54 (145 MB/s) - ‘trash_data.zip’ saved [879645956/879645956]\n",
            "\n"
          ]
        }
      ]
    },
    {
      "cell_type": "code",
      "source": [
        "!unzip -o -q trash_data.zip -d data3"
      ],
      "metadata": {
        "id": "iX57g8od5bx8"
      },
      "execution_count": 2,
      "outputs": []
    },
    {
      "cell_type": "markdown",
      "source": [
        "## **Exploratory Analysis**\n",
        "First, I need to prepare all libraries needed for analysis."
      ],
      "metadata": {
        "id": "TcpomHnxLQRw"
      }
    },
    {
      "cell_type": "code",
      "source": [
        "from mpl_toolkits.mplot3d import Axes3D\n",
        "from sklearn.preprocessing import StandardScaler\n",
        "import matplotlib.pyplot as plt # plotting\n",
        "import numpy as np # linear algebra\n",
        "import os # accessing directory structure\n",
        "import pandas as pd # data processing, CSV file I/O (e.g. pd.read_csv)\n",
        "from pathlib import Path\n",
        "\n",
        "from sklearn.model_selection import train_test_split\n",
        "import matplotlib.image as mpimg\n",
        "\n",
        "# untuk hunting file corrupt\n",
        "from PIL import Image\n",
        "import shutil\n",
        "\n",
        "# untuk keperluan modeling\n",
        "import tensorflow as tf\n",
        "from tensorflow.keras.preprocessing.image import ImageDataGenerator\n",
        "from tensorflow.keras import regularizers\n",
        "from tensorflow.keras.regularizers import l2\n",
        "\n",
        "\n"
      ],
      "metadata": {
        "id": "oesy4VQ4KzCv"
      },
      "execution_count": 3,
      "outputs": []
    },
    {
      "cell_type": "code",
      "source": [
        "root_dir = Path('./data3/resized_data')\n",
        "train_dir = os.path.join(root_dir, 'train')\n",
        "test_dir = os.path.join(root_dir, 'test')"
      ],
      "metadata": {
        "id": "fcBcxng8NaDX"
      },
      "execution_count": 4,
      "outputs": []
    },
    {
      "cell_type": "code",
      "source": [
        "# Buat ngecek dir\n",
        "# for entry in os.listdir(root_dir):\n",
        "#     full_path = os.path.join(root_dir, entry)\n",
        "#     if os.path.isdir(full_path):\n",
        "#         print(f\"|---->: {os.path.basename(full_path)}\")\n",
        "#         for entry2 in os.listdir(full_path):\n",
        "#             full_path2 = os.path.join(full_path, entry2)\n",
        "#             if os.path.isdir(full_path2):\n",
        "#                 print(f\"    |---->: {os.path.basename(full_path2)}\")\n"
      ],
      "metadata": {
        "id": "gC8nA-ZRSodi"
      },
      "execution_count": null,
      "outputs": []
    },
    {
      "cell_type": "code",
      "source": [],
      "metadata": {
        "id": "IO42X_CifaU8"
      },
      "execution_count": null,
      "outputs": []
    },
    {
      "cell_type": "markdown",
      "source": [
        "### Installasi Tensorflow\n"
      ],
      "metadata": {
        "id": "q1NpMW5yc0si"
      }
    },
    {
      "cell_type": "code",
      "source": [
        "# !pip install tensorflow"
      ],
      "metadata": {
        "id": "_4PgG952cbli"
      },
      "execution_count": null,
      "outputs": []
    },
    {
      "cell_type": "markdown",
      "source": [
        "#### Mengecek installasi tensorflow\n"
      ],
      "metadata": {
        "id": "3lyURH8me0Vp"
      }
    },
    {
      "cell_type": "code",
      "source": [
        "# !pip show tensorflow\n"
      ],
      "metadata": {
        "id": "AmxYsv6ic7B6"
      },
      "execution_count": null,
      "outputs": []
    },
    {
      "cell_type": "code",
      "source": [
        "# !pip show matplotlib"
      ],
      "metadata": {
        "id": "nFfZJSNNVDzD"
      },
      "execution_count": null,
      "outputs": []
    },
    {
      "cell_type": "code",
      "source": [
        "# def display_sample_images(base_dir, n_samples=3):\n",
        "\n",
        "#     categories = os.listdir(base_dir)\n",
        "#     n_categories = len(categories)\n",
        "\n",
        "#     fig, axes = plt.subplots(n_categories, n_samples, figsize=(15, 3*n_categories))\n",
        "\n",
        "#     for i, category in enumerate(categories):\n",
        "#         # FullPath untuk setiap kategori folder\n",
        "#         fullpath_category = os.path.join(base_dir, category)\n",
        "\n",
        "#         # Mendapatkan semua file gambar dalam kategori\n",
        "#         image_files = [f for f in os.listdir(fullpath_category)\n",
        "#                       if f.lower().endswith(('.png', '.jpg', '.jpeg'))]\n",
        "\n",
        "#         # Mengambil 5 gambar secara random\n",
        "#         selected_images = image_files[0:n_samples]\n",
        "\n",
        "#         # Menampilkan gambar\n",
        "#         for j, image_file in enumerate(selected_images):\n",
        "#             img_path = os.path.join(fullpath_category, image_file)\n",
        "#             try:\n",
        "#                 img = mpimg.imread(img_path)\n",
        "#                 # Plot gambar\n",
        "#                 axes[i, j].imshow(img)\n",
        "#                 axes[i, j].axis('off')\n",
        "\n",
        "#                 # Menambahkan judul kategori hanya pada gambar pertama setiap baris\n",
        "#                 if j == 0:\n",
        "#                     axes[i, j].set_title(f'{category}', pad=10)\n",
        "#             except Exception as e:\n",
        "#                 print(f\"Error loading image {img_path}: {str(e)}\")\n",
        "\n",
        "#                 # Untuk gambar yang error\n",
        "#                 axes[i, j].text(0.5, 0.5, 'Error loading image',\n",
        "#                               ha='center', va='center')\n",
        "#                 axes[i, j].axis('off')\n",
        "\n",
        "#                 continue\n",
        "\n",
        "\n",
        "#     # plt.tight_layout()\n",
        "#     plt.show()\n",
        "\n",
        "# # Menampilkan sampel dari training set\n",
        "# print(\"Sample images from training set:\")\n",
        "# display_sample_images(train_dir)\n",
        "\n",
        "# # Menampilkan sampel dari test set\n",
        "# print(\"\\nSample images from test set:\")\n",
        "# display_sample_images(test_dir)"
      ],
      "metadata": {
        "id": "uYBRJ3o_TFeT"
      },
      "execution_count": null,
      "outputs": []
    },
    {
      "cell_type": "markdown",
      "source": [
        "### **Membersihkan gambar corrupt terlebih dahulu**\n",
        "\n"
      ],
      "metadata": {
        "id": "3motLQq7gJO4"
      }
    },
    {
      "cell_type": "code",
      "source": [
        "# import imghdr\n",
        "# import re\n",
        "\n",
        "# def is_unusual_name(name):\n",
        "#     # Mendeteksi jika nama mengandung karakter selain alfanumerik dan underscore\n",
        "#     # return bool(re.search(r'[^\\x00-\\x7F]', name) or re.search(r'[_\\W]+', name))\n",
        "#     return bool(re.search(r'[^\\x00-\\x7F]', name))\n",
        "\n",
        "# def remove_corrupt_images(base_dir):\n",
        "#    \"\"\"\n",
        "#    Menghapus gambar yang corrupt dari direktori dataset\n",
        "\n",
        "#    Args:\n",
        "#        base_dir: Directory utama dataset\n",
        "#    \"\"\"\n",
        "#    corrupt_count = 0\n",
        "#    total_images = 0\n",
        "#    corrupt_files = []\n",
        "\n",
        "#    print(\"Scanning for corrupt images...\")\n",
        "\n",
        "#    # Iterasi melalui semua folder dan subfolder\n",
        "#    for root, dirs, files in os.walk(base_dir):\n",
        "#        for dir in dirs:\n",
        "#           #  print(dir)\n",
        "#            if is_unusual_name(dir):\n",
        "#                print(\"dir nama aneh :\", dir, \": \", os.path.join(root, dir))\n",
        "#                if os.path.exists(os.path.join(root, dir)):\n",
        "#                   shutil.rmtree(os.path.join(root, dir))\n",
        "#                   print(\"dir berhasil dihapus\")\n",
        "\n",
        "\n",
        "#        for filename in files:\n",
        "#            if filename.lower().endswith(('.png', '.jpg', '.jpeg')):\n",
        "#                total_images += 1\n",
        "#                filepath = os.path.join(root, filename)\n",
        "\n",
        "#                try:\n",
        "#                    # Coba buka dan verifikasi gambar\n",
        "#                   #  with Image.open(filepath) as img:\n",
        "#                   #      img.verify()  # Verifikasi file\n",
        "#                   #      img.load()    # Coba load pixel data\n",
        "\n",
        "#                    # Verifikasi tambahan menggunakan imghdr\n",
        "#                   #  if imghdr.what(filepath) is None:\n",
        "#                   #      raise ValueError(\"File bukan gambar yang valid\")\n",
        "#                   img = mpimg.imread(filepath)\n",
        "\n",
        "\n",
        "#                except Exception as e:\n",
        "#                    corrupt_count += 1\n",
        "#                    corrupt_files.append((filepath, str(e)))\n",
        "\n",
        "#                    # Hapus file corrupt\n",
        "#                    try:\n",
        "#                        os.remove(filepath)\n",
        "#                        print(f\"Deleted corrupt file: {filepath}\")\n",
        "#                    except Exception as e:\n",
        "#                        print(f\"Error deleting {filepath}: {str(e)}\")\n",
        "\n",
        "#    # Print summary\n",
        "#    print(\"\\nPembersihan selesai!\")\n",
        "#    print(f\"Total gambar diperiksa: {total_images}\")\n",
        "#    print(f\"Gambar corrupt dihapus: {corrupt_count}\")\n",
        "\n",
        "#    if corrupt_files:\n",
        "#        print(\"\\nDaftar file yang dihapus:\")\n",
        "#        for path, error in corrupt_files:\n",
        "#            print(f\"- {path}\")\n",
        "#            print(f\"  Error: {error}\")\n",
        "\n",
        "#    # Hitung jumlah gambar yang tersisa per kategori\n",
        "#    print(\"\\nJumlah gambar tersisa per kategori:\")\n",
        "#    for root, dirs, files in os.walk(base_dir):\n",
        "#        category = os.path.basename(root)\n",
        "#        if category:\n",
        "#            image_count = len([f for f in files if f.lower().endswith(('.png', '.jpg', '.jpeg'))])\n",
        "#            if image_count > 0:\n",
        "#                print(f\"{category}: {image_count} gambar\")\n",
        "\n",
        "#    return corrupt_files"
      ],
      "metadata": {
        "id": "VuSkzV5jgZe4"
      },
      "execution_count": null,
      "outputs": []
    },
    {
      "cell_type": "markdown",
      "source": [
        "### Saya start hapus yang corrupt"
      ],
      "metadata": {
        "id": "4dJt9U7Xsv_2"
      }
    },
    {
      "cell_type": "code",
      "source": [],
      "metadata": {
        "id": "OpsXgKu9_9v5"
      },
      "execution_count": null,
      "outputs": []
    },
    {
      "cell_type": "code",
      "source": [
        "# corrupt_files = remove_corrupt_images(root_dir)"
      ],
      "metadata": {
        "id": "bCjuCe1Iqe1F"
      },
      "execution_count": null,
      "outputs": []
    },
    {
      "cell_type": "code",
      "source": [
        "# jumlah file di masing2 folder\n",
        "# def count_files_in_folders(root_dir):\n",
        "#     folder_counts = {}\n",
        "\n",
        "#     # Iterasi melalui semua item di root_dir\n",
        "#     for item in os.listdir(root_dir):\n",
        "#         item_path = os.path.join(root_dir, item)\n",
        "\n",
        "#         # Jika item adalah folder\n",
        "#         if os.path.isdir(item_path):\n",
        "#             file_count = 0\n",
        "\n",
        "#             # Hitung file di dalam folder\n",
        "#             for _, _, files in os.walk(item_path):\n",
        "#                 file_count += len(files)\n",
        "\n",
        "#             folder_counts[item] = file_count\n",
        "\n",
        "#     return folder_counts\n",
        "# root_folder = 'data/train'\n",
        "\n",
        "# # Hitung file\n",
        "# result = count_files_in_folders(root_folder)\n",
        "\n",
        "# # Tampilkan hasil\n",
        "# print(f\"Jumlah file di masing-masing folder dalam '{root_folder}':\")\n",
        "# for folder, count in result.items():\n",
        "#     print(f\"{folder}: {count} file\")"
      ],
      "metadata": {
        "id": "9V2C00D0m_bS"
      },
      "execution_count": null,
      "outputs": []
    },
    {
      "cell_type": "code",
      "source": [
        "# # menghapus folder data dan seluruh isinya\n",
        "# import shutil\n",
        "# import os\n",
        "\n",
        "# def delete_directory(path):\n",
        "#     try:\n",
        "#         # Periksa apakah direktori ada\n",
        "#         if os.path.exists(path):\n",
        "#             # Hapus direktori dan semua isinya\n",
        "#             shutil.rmtree(path)\n",
        "#             print(f\"Direktori '{path}' berhasil dihapus beserta seluruh isinya.\")\n",
        "#         else:\n",
        "#             print(f\"Direktori '{path}' tidak ditemukan.\")\n",
        "#     except Exception as e:\n",
        "#         print(f\"Terjadi kesalahan saat menghapus direktori: {e}\")\n",
        "\n",
        "\n",
        "\n",
        "# # Panggil fungsi untuk menghapus direktori | hati2 sluurr...\n",
        "# # delete_directory('data')\n",
        "\n",
        "# # Verifikasi bahwa direktori telah dihapus\n",
        "# if not os.path.exists('data2'):\n",
        "#     print(\"Verifikasi: Direktori 'data' tidak ada lagi.\")\n",
        "# else:\n",
        "#     print(\"Verifikasi: Direktori 'data' masih ada. Penghapusan mungkin gagal.\")"
      ],
      "metadata": {
        "id": "3rR7WX7loMCd"
      },
      "execution_count": null,
      "outputs": []
    },
    {
      "cell_type": "code",
      "source": [
        "# from google.colab import drive\n",
        "# drive.mount('/content/drive')"
      ],
      "metadata": {
        "id": "19LtvVEak3pM"
      },
      "execution_count": null,
      "outputs": []
    },
    {
      "cell_type": "code",
      "source": [
        "# # import os\n",
        "# # import shutil\n",
        "# from tqdm import tqdm\n",
        "\n",
        "# def copy_directory_structure(source_dir, destination_dir):\n",
        "#     \"\"\"\n",
        "#     Menyalin seluruh struktur direktori dan file dari source ke destination\n",
        "#     dengan progress bar\n",
        "#     \"\"\"\n",
        "#     # Hitung total file yang akan disalin\n",
        "#     total_files = sum([len(files) for _, _, files in os.walk(source_dir)])\n",
        "\n",
        "#     print(f\"Total files to copy: {total_files}\")\n",
        "#     print(f\"From: {source_dir}\")\n",
        "#     print(f\"To: {destination_dir}\")\n",
        "\n",
        "#     # Buat progress bar\n",
        "#     pbar = tqdm(total=total_files, desc=\"Copying files\")\n",
        "\n",
        "#     # Iterasi melalui semua direktori dan file\n",
        "#     for root, dirs, files in os.walk(source_dir):\n",
        "#         # Buat struktur direktori yang sama di destination\n",
        "#         relative_path = os.path.relpath(root, source_dir)\n",
        "#         destination_path = os.path.join(destination_dir, relative_path)\n",
        "\n",
        "#         # Buat direktori jika belum ada\n",
        "#         if not os.path.exists(destination_path):\n",
        "#             os.makedirs(destination_path)\n",
        "#             print(f\"\\nCreated directory: {destination_path}\")\n",
        "\n",
        "#         # Salin semua file dalam direktori current\n",
        "#         for file in files:\n",
        "#             source_file = os.path.join(root, file)\n",
        "#             destination_file = os.path.join(destination_path, file)\n",
        "\n",
        "#             try:\n",
        "#                 shutil.copy2(source_file, destination_file)\n",
        "#                 pbar.update(1)\n",
        "#             except Exception as e:\n",
        "#                 print(f\"\\nError copying {source_file}: {str(e)}\")\n",
        "\n",
        "#     pbar.close()\n",
        "\n",
        "#     # Verifikasi hasil copy\n",
        "#     def count_files(directory):\n",
        "#         return sum([len(files) for _, _, files in os.walk(directory)])\n",
        "\n",
        "#     source_count = count_files(source_dir)\n",
        "#     dest_count = count_files(destination_dir)\n",
        "\n",
        "#     print(\"\\nCopy completed!\")\n",
        "#     print(f\"Files in source: {source_count}\")\n",
        "#     print(f\"Files in destination: {dest_count}\")\n",
        "\n",
        "#     # Tampilkan struktur folder hasil copy\n",
        "#     print(\"\\nDestination directory structure:\")\n",
        "#     for root, dirs, files in os.walk(destination_dir):\n",
        "#         level = root.replace(destination_dir, '').count(os.sep)\n",
        "#         indent = ' ' * 4 * level\n",
        "#         print(f\"{indent}{os.path.basename(root)}/\")\n",
        "#         subindent = ' ' * 4 * (level + 1)\n",
        "#         for f in files:\n",
        "#             print(f\"{subindent}{f}\")\n",
        "\n",
        "# # Source dan destination directories\n",
        "# source_dir = 'data'\n",
        "# destination_dir = '/content/drive/MyDrive/trash_data_not_corrupt_insyaAllah'\n",
        "\n",
        "# # Pastikan Google Drive sudah dimount\n",
        "# # from google.colab import drive\n",
        "# # drive.mount('/content/drive')\n",
        "\n",
        "# # Jalankan fungsi copy\n",
        "# copy_directory_structure(source_dir, destination_dir)"
      ],
      "metadata": {
        "id": "_pspJ4OEknzK"
      },
      "execution_count": null,
      "outputs": []
    },
    {
      "cell_type": "code",
      "source": [
        "# import os\n",
        "# import zipfile\n",
        "# import shutil\n",
        "# from tqdm import tqdm\n",
        "# from google.colab import drive\n",
        "\n",
        "# def create_and_copy_zip(source_dir, zip_name, destination_dir):\n",
        "#     \"\"\"\n",
        "#     Membuat file zip dari folder dan menyalinnya ke Google Drive\n",
        "#     \"\"\"\n",
        "#     print(\"Mounting Google Drive...\")\n",
        "#     drive.mount('/content/drive')\n",
        "\n",
        "#     # Hitung total file untuk progress bar\n",
        "#     total_files = sum([len(files) for _, _, files in os.walk(source_dir)])\n",
        "#     print(f\"\\nTotal files to compress: {total_files}\")\n",
        "\n",
        "#     # Buat zip file\n",
        "#     print(f\"\\nCreating {zip_name}...\")\n",
        "#     with zipfile.ZipFile(zip_name, 'w', zipfile.ZIP_DEFLATED) as zipf:\n",
        "#         # Gunakan progress bar\n",
        "#         with tqdm(total=total_files, desc=\"Compressing files\") as pbar:\n",
        "#             for root, dirs, files in os.walk(source_dir):\n",
        "#                 # Get path relative to source_dir\n",
        "#                 rel_path = os.path.relpath(root, source_dir)\n",
        "\n",
        "#                 # Add each file to zip\n",
        "#                 for file in files:\n",
        "#                     file_path = os.path.join(root, file)\n",
        "#                     # Add file ke zip dengan menjaga struktur folder\n",
        "#                     arcname = os.path.join(os.path.basename(source_dir),\n",
        "#                                          rel_path, file)\n",
        "#                     try:\n",
        "#                         zipf.write(file_path, arcname)\n",
        "#                         pbar.update(1)\n",
        "#                     except Exception as e:\n",
        "#                         print(f\"\\nError adding {file_path}: {str(e)}\")\n",
        "\n",
        "#     # Get zip file size\n",
        "#     zip_size = os.path.getsize(zip_name) / (1024 * 1024)  # Convert to MB\n",
        "#     print(f\"\\nZip file created: {zip_name} ({zip_size:.2f} MB)\")\n",
        "\n",
        "#     # Copy zip ke Google Drive\n",
        "#     print(f\"\\nCopying {zip_name} to Google Drive...\")\n",
        "#     try:\n",
        "#         shutil.copy2(zip_name, destination_dir)\n",
        "#         print(f\"Successfully copied to: {destination_dir}\")\n",
        "\n",
        "#         # Verifikasi file ada di drive\n",
        "#         dest_path = os.path.join(destination_dir, zip_name)\n",
        "#         if os.path.exists(dest_path):\n",
        "#             dest_size = os.path.getsize(dest_path) / (1024 * 1024)\n",
        "#             print(f\"Verified: File exists in drive ({dest_size:.2f} MB)\")\n",
        "#         else:\n",
        "#             print(\"Warning: File not found in destination!\")\n",
        "\n",
        "#     except Exception as e:\n",
        "#         print(f\"Error copying to drive: {str(e)}\")\n",
        "\n",
        "#     # Optional: Hapus zip file lokal setelah copy\n",
        "#     # try:\n",
        "#     #     os.remove(zip_name)\n",
        "#     #     print(f\"Cleaned up: Removed local {zip_name}\")\n",
        "#     # except Exception as e:\n",
        "#     #     print(f\"Error removing local zip: {str(e)}\")\n",
        "\n",
        "# # Gunakan fungsi\n",
        "# source_dir = 'data2/data'\n",
        "# zip_name = 'trash_data.zip'\n",
        "# destination_dir = '/content/drive/MyDrive'\n",
        "\n",
        "# create_and_copy_zip(source_dir, zip_name, destination_dir)\n",
        "\n",
        "# # Verifikasi isi zip\n",
        "# def verify_zip_contents(zip_path):\n",
        "#     print(\"\\nVerifying zip contents:\")\n",
        "#     try:\n",
        "#         with zipfile.ZipFile(os.path.join(destination_dir, zip_name), 'r') as zipf:\n",
        "#             # Hitung file dalam zip\n",
        "#             total_files = len(zipf.namelist())\n",
        "#             print(f\"Total files in zip: {total_files}\")\n",
        "\n",
        "#             # Tampilkan struktur folder dalam zip\n",
        "#             print(\"\\nZip contents structure:\")\n",
        "#             folders = {}\n",
        "#             for name in zipf.namelist():\n",
        "#                 parts = name.split('/')\n",
        "#                 current = folders\n",
        "#                 for part in parts[:-1]:  # Skip file name\n",
        "#                     if part not in current:\n",
        "#                         current[part] = {}\n",
        "#                     current = current[part]\n",
        "\n",
        "#             # Print struktur folder\n",
        "#             def print_tree(d, indent=0):\n",
        "#                 for k, v in d.items():\n",
        "#                     print('  ' * indent + k + '/')\n",
        "#                     print_tree(v, indent + 1)\n",
        "\n",
        "#             print_tree(folders)\n",
        "\n",
        "#     except Exception as e:\n",
        "#         print(f\"Error verifying zip: {str(e)}\")\n",
        "\n",
        "# # Verifikasi zip setelah copy\n",
        "# verify_zip_contents(os.path.join(destination_dir, zip_name))"
      ],
      "metadata": {
        "id": "b8ejoev9kmHx"
      },
      "execution_count": null,
      "outputs": []
    },
    {
      "cell_type": "code",
      "source": [
        "# !cp trash_data.zip \"/content/drive/MyDrive/\"\n"
      ],
      "metadata": {
        "id": "8b3O29uWzsXo"
      },
      "execution_count": null,
      "outputs": []
    },
    {
      "cell_type": "markdown",
      "source": [
        "## Mulai menuju modeling (masih ada preprocessing)\n"
      ],
      "metadata": {
        "id": "RjcBNZaab554"
      }
    },
    {
      "cell_type": "code",
      "source": [
        "# Tentukan ukuran gambar yang konsisten\n",
        "IMG_HEIGHT = 120\n",
        "IMG_WIDTH = 120\n",
        "BATCH_SIZE = 32"
      ],
      "metadata": {
        "id": "NZaI3zbOb1Gs"
      },
      "execution_count": 7,
      "outputs": []
    },
    {
      "cell_type": "markdown",
      "source": [
        "## Yang dari Module Coursera CNN\n"
      ],
      "metadata": {
        "id": "Wpz0s-914PN9"
      }
    },
    {
      "cell_type": "markdown",
      "source": [
        "Menyiapkan suffle (pengacakan) dan juga prefetch (pengambilan model langsung ketika training)."
      ],
      "metadata": {
        "id": "_w5RTvt8aUAV"
      }
    },
    {
      "cell_type": "code",
      "source": [
        "# pengacakan dan prefetch\n",
        "SUFFLE_BUFFER_SIZE = 1000\n",
        "PREFETCH_BUFFER_SIZE = tf.data.AUTOTUNE"
      ],
      "metadata": {
        "id": "P1Rk-yrqaHSE"
      },
      "execution_count": 5,
      "outputs": []
    },
    {
      "cell_type": "code",
      "source": [
        "train_dataset = tf.keras.utils.image_dataset_from_directory(\n",
        "    train_dir,\n",
        "    image_size=(IMG_HEIGHT, IMG_WIDTH),\n",
        "    batch_size=BATCH_SIZE,\n",
        "    shuffle=True,\n",
        "    label_mode='categorical',\n",
        "    seed=40\n",
        ")"
      ],
      "metadata": {
        "colab": {
          "base_uri": "https://localhost:8080/"
        },
        "id": "avNX7U_Y4O4C",
        "outputId": "e4c80443-fc8e-4341-a701-b279cbf732bc"
      },
      "execution_count": 8,
      "outputs": [
        {
          "output_type": "stream",
          "name": "stdout",
          "text": [
            "Found 17794 files belonging to 34 classes.\n"
          ]
        }
      ]
    },
    {
      "cell_type": "markdown",
      "source": [
        "### buat test\n"
      ],
      "metadata": {
        "id": "7gW5Bqt0KBPc"
      }
    },
    {
      "cell_type": "code",
      "source": [
        "val_dataset = tf.keras.utils.image_dataset_from_directory(\n",
        "    test_dir,\n",
        "    image_size=(IMG_HEIGHT, IMG_WIDTH),\n",
        "    batch_size=BATCH_SIZE,\n",
        "\n",
        "    shuffle=False,\n",
        "    label_mode='categorical',\n",
        "    seed=3\n",
        ")"
      ],
      "metadata": {
        "colab": {
          "base_uri": "https://localhost:8080/"
        },
        "id": "f_yNfAMD7Ql9",
        "outputId": "14063790-1fef-4608-b648-085203255ec6"
      },
      "execution_count": 9,
      "outputs": [
        {
          "output_type": "stream",
          "name": "stdout",
          "text": [
            "Found 5726 files belonging to 34 classes.\n"
          ]
        }
      ]
    },
    {
      "cell_type": "markdown",
      "source": [
        "### Diambil dikit buat val_"
      ],
      "metadata": {
        "id": "EMzb2z1OKSHP"
      }
    },
    {
      "cell_type": "code",
      "source": [
        "val_size = tf.data.experimental.cardinality(val_dataset)\n",
        "print(\"val size \", val_size.numpy())\n",
        "test_size = val_size // 8  # Mengambil 20% untuk validation\n",
        "\n",
        "val_ds = val_dataset.skip(test_size)\n",
        "test_dataset = val_dataset.take(test_size)\n",
        "\n",
        "print(val_ds)\n",
        "print(test_dataset)\n",
        "print(\"Jumlah elemen di train_dataset:\", tf.data.experimental.cardinality(train_dataset).numpy())\n",
        "print(\"Jumlah elemen di val_ds:\", tf.data.experimental.cardinality(val_ds).numpy())\n",
        "print(\"Jumlah elemen di test_dataset:\", tf.data.experimental.cardinality(test_dataset).numpy())"
      ],
      "metadata": {
        "id": "qKRrd3bQu9YZ",
        "outputId": "bbbff1ba-32ec-44a3-d6d4-25d38f60a2d8",
        "colab": {
          "base_uri": "https://localhost:8080/"
        }
      },
      "execution_count": 10,
      "outputs": [
        {
          "output_type": "stream",
          "name": "stdout",
          "text": [
            "val size  179\n",
            "<_SkipDataset element_spec=(TensorSpec(shape=(None, 120, 120, 3), dtype=tf.float32, name=None), TensorSpec(shape=(None, 34), dtype=tf.float32, name=None))>\n",
            "<_TakeDataset element_spec=(TensorSpec(shape=(None, 120, 120, 3), dtype=tf.float32, name=None), TensorSpec(shape=(None, 34), dtype=tf.float32, name=None))>\n",
            "Jumlah elemen di train_dataset: 557\n",
            "Jumlah elemen di val_ds: 157\n",
            "Jumlah elemen di test_dataset: 22\n"
          ]
        }
      ]
    },
    {
      "cell_type": "code",
      "source": [
        "train_dataset_final = train_dataset.cache().shuffle(\n",
        "    SUFFLE_BUFFER_SIZE,\n",
        "    reshuffle_each_iteration=False\n",
        ").prefetch(PREFETCH_BUFFER_SIZE)\n",
        "\n",
        "validation_dataset_final = val_ds.cache().prefetch(PREFETCH_BUFFER_SIZE)\n",
        "\n",
        "# train_ds = train_ds.cache().shuffle(1000).prefetch(AUTOTUNE)\n",
        "# val_ds = val_ds.cache().prefetch(AUTOTUNE)\n",
        "test_dataset_final = test_dataset.cache().prefetch(PREFETCH_BUFFER_SIZE)"
      ],
      "metadata": {
        "id": "fXSVXYNgamnu"
      },
      "execution_count": 11,
      "outputs": []
    },
    {
      "cell_type": "markdown",
      "source": [
        "## Nyoba Buat Model\n"
      ],
      "metadata": {
        "id": "A-LA7phObP6O"
      }
    },
    {
      "cell_type": "code",
      "source": [
        "models = tf.keras.models\n",
        "layers = tf.keras.layers\n",
        "\n",
        "\n",
        "# model = tf.keras.models.Sequential([\n",
        "#     # menyesuaikan ukuran dimensi gambar + 3 rgb\n",
        "#     tf.keras.Input(shape=(IMG_HEIGHT, IMG_WIDTH, 3)),\n",
        "\n",
        "#     # augmen\n",
        "#     tf.keras.layers.RandomFlip(\"horizontal\"),\n",
        "#     tf.keras.layers.RandomRotation(0.2),\n",
        "#     tf.keras.layers.RandomZoom(0.2),\n",
        "#     #\n",
        "#     tf.keras.layers.Rescaling(1./255),\n",
        "#     tf.keras.layers.Conv2D(8, (3, 3), activation='relu'),\n",
        "#     tf.keras.layers.BatchNormalization(),\n",
        "#     tf.keras.layers.MaxPooling2D(2, 2),\n",
        "#     tf.keras.layers.Conv2D(16, (3, 3), activation='relu'),\n",
        "#     tf.keras.layers.BatchNormalization(),\n",
        "#     tf.keras.layers.MaxPooling2D(2, 2),\n",
        "#     tf.keras.layers.Conv2D(32, (3, 3), activation='relu'),\n",
        "#     tf.keras.layers.BatchNormalization(),\n",
        "#     tf.keras.layers.MaxPooling2D(2, 2),\n",
        "#     # diflatten untuk mendapatkan matriks 2 dimensi lagi\n",
        "#     tf.keras.layers.Flatten(),\n",
        "#     tf.keras.layers.Dense(64,\n",
        "#                           activation='relu',\n",
        "#                           # kernel_regularizer=regularizers.l2(0.01)\n",
        "#                           ),\n",
        "#     tf.keras.layers.Dropout(0.1),\n",
        "#     tf.keras.layers.Dense(34, activation='softmax')\n",
        "# ])\n",
        "\n",
        "model = tf.keras.models.Sequential([\n",
        "    tf.keras.Input(shape=(IMG_HEIGHT, IMG_WIDTH, 3)),\n",
        "\n",
        "    # Augmentasi yang lebih agresif\n",
        "    tf.keras.layers.RandomFlip(\"horizontal_and_vertical\"),\n",
        "    tf.keras.layers.RandomRotation(0.2, fill_mode=\"nearest\"),\n",
        "    tf.keras.layers.RandomZoom(0.2, fill_mode=\"nearest\"),\n",
        "    tf.keras.layers.RandomTranslation(0.2, 0.2, fill_mode=\"nearest\"),\n",
        "    # tf.keras.layers.RandomBrightness(0.2,),\n",
        "    # tf.keras.layers.RandomContrast(0.2),\n",
        "\n",
        "    tf.keras.layers.Rescaling(1./255),\n",
        "\n",
        "    tf.keras.layers.Conv2D(16, (3, 3), activation=\"relu\"),\n",
        "    # tf.keras.layers.BatchNormalization(),\n",
        "    tf.keras.layers.MaxPooling2D(2, 2),\n",
        "\n",
        "    tf.keras.layers.Conv2D(32, (3, 3), activation=\"relu\"),\n",
        "    # tf.keras.layers.BatchNormalization(),\n",
        "    tf.keras.layers.MaxPooling2D(2, 2),\n",
        "    # tf.keras.layers.Dropout(0.2),\n",
        "\n",
        "    tf.keras.layers.Conv2D(64, (3, 3), activation=\"relu\"),\n",
        "    # tf.keras.layers.Conv2D(64, (3, 3), activation=\"relu\", kernel_regularizer=l2(0.001)),\n",
        "    # tf.keras.layers.BatchNormalization()\n",
        "    tf.keras.layers.MaxPooling2D(2, 2),\n",
        "    tf.keras.layers.Dropout(0.3),\n",
        "\n",
        "    tf.keras.layers.Conv2D(128, (3, 3), activation=\"relu\"),\n",
        "    # tf.keras.layers.Conv2D(128, (3, 3), activation=\"relu\", kernel_regularizer=l2(0.001)),\n",
        "    # tf.keras.layers.BatchNormalization(),\n",
        "    tf.keras.layers.MaxPooling2D(2, 2),\n",
        "    tf.keras.layers.Dropout(0.3),\n",
        "\n",
        "    tf.keras.layers.Conv2D(128, (3, 3), activation=\"relu\"),\n",
        "    # tf.keras.layers.Conv2D(512, (3, 3), activation=\"relu\", kernel_regularizer=l2(0.001)),\n",
        "    # tf.keras.layers.BatchNormalization(),\n",
        "    tf.keras.layers.MaxPooling2D(2, 2),\n",
        "    tf.keras.layers.Dropout(0.2),\n",
        "\n",
        "\n",
        "    tf.keras.layers.Flatten(),\n",
        "\n",
        "    # Dense layers dengan regularisasi yang lebih kuat\n",
        "    tf.keras.layers.Dense(512,),\n",
        "\n",
        "    tf.keras.layers.BatchNormalization(),\n",
        "    tf.keras.layers.Activation('relu'),\n",
        "    # tf.keras.layers.Dropout(0.5),\n",
        "\n",
        "    tf.keras.layers.Dense(34, activation='softmax')\n",
        "])\n",
        "\n",
        "\n",
        "# model = models.Sequential([\n",
        "#     tf.keras.Input(shape=(IMG_HEIGHT, IMG_WIDTH, 3)),\n",
        "\n",
        "#     # Augmentasi yang lebih agresif\n",
        "#     tf.keras.layers.RandomFlip(\"horizontal_and_vertical\"),\n",
        "#     tf.keras.layers.RandomRotation(0.3),\n",
        "#     tf.keras.layers.RandomZoom(0.3),\n",
        "#     tf.keras.layers.RandomBrightness(0.2),\n",
        "#     tf.keras.layers.RandomContrast(0.2),\n",
        "\n",
        "#     tf.keras.layers.Rescaling(1./255),\n",
        "#     layers.GlobalAveragePooling2D(),\n",
        "#     layers.Dropout(0.2),\n",
        "#     layers.Dense(128, activation='relu'),\n",
        "#     layers.Dropout(0.2),\n",
        "#     layers.Dense(34, activation='softmax')\n",
        "#     ])\n",
        "\n",
        "model.summary()"
      ],
      "metadata": {
        "colab": {
          "base_uri": "https://localhost:8080/",
          "height": 356
        },
        "id": "aVi7QJYTTn7a",
        "outputId": "4b2f4cca-4b6e-4abb-ed02-20a21be3c496"
      },
      "execution_count": 12,
      "outputs": [
        {
          "output_type": "error",
          "ename": "ValueError",
          "evalue": "Computed output size would be negative. Received `inputs shape=(None, 1, 1, 512)`, `kernel shape=(3, 3, 512, 512)`, `dilation_rate=[1 1]`.",
          "traceback": [
            "\u001b[0;31m---------------------------------------------------------------------------\u001b[0m",
            "\u001b[0;31mValueError\u001b[0m                                Traceback (most recent call last)",
            "\u001b[0;32m<ipython-input-12-9ebfc35c6dc1>\u001b[0m in \u001b[0;36m<cell line: 34>\u001b[0;34m()\u001b[0m\n\u001b[1;32m     32\u001b[0m \u001b[0;31m# ])\u001b[0m\u001b[0;34m\u001b[0m\u001b[0;34m\u001b[0m\u001b[0m\n\u001b[1;32m     33\u001b[0m \u001b[0;34m\u001b[0m\u001b[0m\n\u001b[0;32m---> 34\u001b[0;31m model = tf.keras.models.Sequential([\n\u001b[0m\u001b[1;32m     35\u001b[0m     \u001b[0mtf\u001b[0m\u001b[0;34m.\u001b[0m\u001b[0mkeras\u001b[0m\u001b[0;34m.\u001b[0m\u001b[0mInput\u001b[0m\u001b[0;34m(\u001b[0m\u001b[0mshape\u001b[0m\u001b[0;34m=\u001b[0m\u001b[0;34m(\u001b[0m\u001b[0mIMG_HEIGHT\u001b[0m\u001b[0;34m,\u001b[0m \u001b[0mIMG_WIDTH\u001b[0m\u001b[0;34m,\u001b[0m \u001b[0;36m3\u001b[0m\u001b[0;34m)\u001b[0m\u001b[0;34m)\u001b[0m\u001b[0;34m,\u001b[0m\u001b[0;34m\u001b[0m\u001b[0;34m\u001b[0m\u001b[0m\n\u001b[1;32m     36\u001b[0m \u001b[0;34m\u001b[0m\u001b[0m\n",
            "\u001b[0;32m/usr/local/lib/python3.10/dist-packages/keras/src/models/sequential.py\u001b[0m in \u001b[0;36m__init__\u001b[0;34m(self, layers, trainable, name)\u001b[0m\n\u001b[1;32m     73\u001b[0m             \u001b[0;32mfor\u001b[0m \u001b[0mlayer\u001b[0m \u001b[0;32min\u001b[0m \u001b[0mlayers\u001b[0m\u001b[0;34m:\u001b[0m\u001b[0;34m\u001b[0m\u001b[0;34m\u001b[0m\u001b[0m\n\u001b[1;32m     74\u001b[0m                 \u001b[0mself\u001b[0m\u001b[0;34m.\u001b[0m\u001b[0madd\u001b[0m\u001b[0;34m(\u001b[0m\u001b[0mlayer\u001b[0m\u001b[0;34m,\u001b[0m \u001b[0mrebuild\u001b[0m\u001b[0;34m=\u001b[0m\u001b[0;32mFalse\u001b[0m\u001b[0;34m)\u001b[0m\u001b[0;34m\u001b[0m\u001b[0;34m\u001b[0m\u001b[0m\n\u001b[0;32m---> 75\u001b[0;31m             \u001b[0mself\u001b[0m\u001b[0;34m.\u001b[0m\u001b[0m_maybe_rebuild\u001b[0m\u001b[0;34m(\u001b[0m\u001b[0;34m)\u001b[0m\u001b[0;34m\u001b[0m\u001b[0;34m\u001b[0m\u001b[0m\n\u001b[0m\u001b[1;32m     76\u001b[0m \u001b[0;34m\u001b[0m\u001b[0m\n\u001b[1;32m     77\u001b[0m     \u001b[0;32mdef\u001b[0m \u001b[0madd\u001b[0m\u001b[0;34m(\u001b[0m\u001b[0mself\u001b[0m\u001b[0;34m,\u001b[0m \u001b[0mlayer\u001b[0m\u001b[0;34m,\u001b[0m \u001b[0mrebuild\u001b[0m\u001b[0;34m=\u001b[0m\u001b[0;32mTrue\u001b[0m\u001b[0;34m)\u001b[0m\u001b[0;34m:\u001b[0m\u001b[0;34m\u001b[0m\u001b[0;34m\u001b[0m\u001b[0m\n",
            "\u001b[0;32m/usr/local/lib/python3.10/dist-packages/keras/src/models/sequential.py\u001b[0m in \u001b[0;36m_maybe_rebuild\u001b[0;34m(self)\u001b[0m\n\u001b[1;32m    138\u001b[0m         \u001b[0;32mif\u001b[0m \u001b[0misinstance\u001b[0m\u001b[0;34m(\u001b[0m\u001b[0mself\u001b[0m\u001b[0;34m.\u001b[0m\u001b[0m_layers\u001b[0m\u001b[0;34m[\u001b[0m\u001b[0;36m0\u001b[0m\u001b[0;34m]\u001b[0m\u001b[0;34m,\u001b[0m \u001b[0mInputLayer\u001b[0m\u001b[0;34m)\u001b[0m \u001b[0;32mand\u001b[0m \u001b[0mlen\u001b[0m\u001b[0;34m(\u001b[0m\u001b[0mself\u001b[0m\u001b[0;34m.\u001b[0m\u001b[0m_layers\u001b[0m\u001b[0;34m)\u001b[0m \u001b[0;34m>\u001b[0m \u001b[0;36m1\u001b[0m\u001b[0;34m:\u001b[0m\u001b[0;34m\u001b[0m\u001b[0;34m\u001b[0m\u001b[0m\n\u001b[1;32m    139\u001b[0m             \u001b[0minput_shape\u001b[0m \u001b[0;34m=\u001b[0m \u001b[0mself\u001b[0m\u001b[0;34m.\u001b[0m\u001b[0m_layers\u001b[0m\u001b[0;34m[\u001b[0m\u001b[0;36m0\u001b[0m\u001b[0;34m]\u001b[0m\u001b[0;34m.\u001b[0m\u001b[0mbatch_shape\u001b[0m\u001b[0;34m\u001b[0m\u001b[0;34m\u001b[0m\u001b[0m\n\u001b[0;32m--> 140\u001b[0;31m             \u001b[0mself\u001b[0m\u001b[0;34m.\u001b[0m\u001b[0mbuild\u001b[0m\u001b[0;34m(\u001b[0m\u001b[0minput_shape\u001b[0m\u001b[0;34m)\u001b[0m\u001b[0;34m\u001b[0m\u001b[0;34m\u001b[0m\u001b[0m\n\u001b[0m\u001b[1;32m    141\u001b[0m         \u001b[0;32melif\u001b[0m \u001b[0mhasattr\u001b[0m\u001b[0;34m(\u001b[0m\u001b[0mself\u001b[0m\u001b[0;34m.\u001b[0m\u001b[0m_layers\u001b[0m\u001b[0;34m[\u001b[0m\u001b[0;36m0\u001b[0m\u001b[0;34m]\u001b[0m\u001b[0;34m,\u001b[0m \u001b[0;34m\"input_shape\"\u001b[0m\u001b[0;34m)\u001b[0m \u001b[0;32mand\u001b[0m \u001b[0mlen\u001b[0m\u001b[0;34m(\u001b[0m\u001b[0mself\u001b[0m\u001b[0;34m.\u001b[0m\u001b[0m_layers\u001b[0m\u001b[0;34m)\u001b[0m \u001b[0;34m>\u001b[0m \u001b[0;36m1\u001b[0m\u001b[0;34m:\u001b[0m\u001b[0;34m\u001b[0m\u001b[0;34m\u001b[0m\u001b[0m\n\u001b[1;32m    142\u001b[0m             \u001b[0;31m# We can build the Sequential model if the first layer has the\u001b[0m\u001b[0;34m\u001b[0m\u001b[0;34m\u001b[0m\u001b[0m\n",
            "\u001b[0;32m/usr/local/lib/python3.10/dist-packages/keras/src/layers/layer.py\u001b[0m in \u001b[0;36mbuild_wrapper\u001b[0;34m(*args, **kwargs)\u001b[0m\n\u001b[1;32m    224\u001b[0m             \u001b[0;32mwith\u001b[0m \u001b[0mobj\u001b[0m\u001b[0;34m.\u001b[0m\u001b[0m_open_name_scope\u001b[0m\u001b[0;34m(\u001b[0m\u001b[0;34m)\u001b[0m\u001b[0;34m:\u001b[0m\u001b[0;34m\u001b[0m\u001b[0;34m\u001b[0m\u001b[0m\n\u001b[1;32m    225\u001b[0m                 \u001b[0mobj\u001b[0m\u001b[0;34m.\u001b[0m\u001b[0m_path\u001b[0m \u001b[0;34m=\u001b[0m \u001b[0mcurrent_path\u001b[0m\u001b[0;34m(\u001b[0m\u001b[0;34m)\u001b[0m\u001b[0;34m\u001b[0m\u001b[0;34m\u001b[0m\u001b[0m\n\u001b[0;32m--> 226\u001b[0;31m                 \u001b[0moriginal_build_method\u001b[0m\u001b[0;34m(\u001b[0m\u001b[0;34m*\u001b[0m\u001b[0margs\u001b[0m\u001b[0;34m,\u001b[0m \u001b[0;34m**\u001b[0m\u001b[0mkwargs\u001b[0m\u001b[0;34m)\u001b[0m\u001b[0;34m\u001b[0m\u001b[0;34m\u001b[0m\u001b[0m\n\u001b[0m\u001b[1;32m    227\u001b[0m             \u001b[0;31m# Record build config.\u001b[0m\u001b[0;34m\u001b[0m\u001b[0;34m\u001b[0m\u001b[0m\n\u001b[1;32m    228\u001b[0m             \u001b[0msignature\u001b[0m \u001b[0;34m=\u001b[0m \u001b[0minspect\u001b[0m\u001b[0;34m.\u001b[0m\u001b[0msignature\u001b[0m\u001b[0;34m(\u001b[0m\u001b[0moriginal_build_method\u001b[0m\u001b[0;34m)\u001b[0m\u001b[0;34m\u001b[0m\u001b[0;34m\u001b[0m\u001b[0m\n",
            "\u001b[0;32m/usr/local/lib/python3.10/dist-packages/keras/src/models/sequential.py\u001b[0m in \u001b[0;36mbuild\u001b[0;34m(self, input_shape)\u001b[0m\n\u001b[1;32m    184\u001b[0m         \u001b[0;32mfor\u001b[0m \u001b[0mlayer\u001b[0m \u001b[0;32min\u001b[0m \u001b[0mself\u001b[0m\u001b[0;34m.\u001b[0m\u001b[0m_layers\u001b[0m\u001b[0;34m[\u001b[0m\u001b[0;36m1\u001b[0m\u001b[0;34m:\u001b[0m\u001b[0;34m]\u001b[0m\u001b[0;34m:\u001b[0m\u001b[0;34m\u001b[0m\u001b[0;34m\u001b[0m\u001b[0m\n\u001b[1;32m    185\u001b[0m             \u001b[0;32mtry\u001b[0m\u001b[0;34m:\u001b[0m\u001b[0;34m\u001b[0m\u001b[0;34m\u001b[0m\u001b[0m\n\u001b[0;32m--> 186\u001b[0;31m                 \u001b[0mx\u001b[0m \u001b[0;34m=\u001b[0m \u001b[0mlayer\u001b[0m\u001b[0;34m(\u001b[0m\u001b[0mx\u001b[0m\u001b[0;34m)\u001b[0m\u001b[0;34m\u001b[0m\u001b[0;34m\u001b[0m\u001b[0m\n\u001b[0m\u001b[1;32m    187\u001b[0m             \u001b[0;32mexcept\u001b[0m \u001b[0mNotImplementedError\u001b[0m\u001b[0;34m:\u001b[0m\u001b[0;34m\u001b[0m\u001b[0;34m\u001b[0m\u001b[0m\n\u001b[1;32m    188\u001b[0m                 \u001b[0;31m# Can happen if shape inference is not implemented.\u001b[0m\u001b[0;34m\u001b[0m\u001b[0;34m\u001b[0m\u001b[0m\n",
            "\u001b[0;32m/usr/local/lib/python3.10/dist-packages/keras/src/utils/traceback_utils.py\u001b[0m in \u001b[0;36merror_handler\u001b[0;34m(*args, **kwargs)\u001b[0m\n\u001b[1;32m    120\u001b[0m             \u001b[0;31m# To get the full stack trace, call:\u001b[0m\u001b[0;34m\u001b[0m\u001b[0;34m\u001b[0m\u001b[0m\n\u001b[1;32m    121\u001b[0m             \u001b[0;31m# `keras.config.disable_traceback_filtering()`\u001b[0m\u001b[0;34m\u001b[0m\u001b[0;34m\u001b[0m\u001b[0m\n\u001b[0;32m--> 122\u001b[0;31m             \u001b[0;32mraise\u001b[0m \u001b[0me\u001b[0m\u001b[0;34m.\u001b[0m\u001b[0mwith_traceback\u001b[0m\u001b[0;34m(\u001b[0m\u001b[0mfiltered_tb\u001b[0m\u001b[0;34m)\u001b[0m \u001b[0;32mfrom\u001b[0m \u001b[0;32mNone\u001b[0m\u001b[0;34m\u001b[0m\u001b[0;34m\u001b[0m\u001b[0m\n\u001b[0m\u001b[1;32m    123\u001b[0m         \u001b[0;32mfinally\u001b[0m\u001b[0;34m:\u001b[0m\u001b[0;34m\u001b[0m\u001b[0;34m\u001b[0m\u001b[0m\n\u001b[1;32m    124\u001b[0m             \u001b[0;32mdel\u001b[0m \u001b[0mfiltered_tb\u001b[0m\u001b[0;34m\u001b[0m\u001b[0;34m\u001b[0m\u001b[0m\n",
            "\u001b[0;32m/usr/local/lib/python3.10/dist-packages/keras/src/ops/operation_utils.py\u001b[0m in \u001b[0;36mcompute_conv_output_shape\u001b[0;34m(input_shape, filters, kernel_size, strides, padding, data_format, dilation_rate)\u001b[0m\n\u001b[1;32m    219\u001b[0m         \u001b[0;32mfor\u001b[0m \u001b[0mi\u001b[0m \u001b[0;32min\u001b[0m \u001b[0mrange\u001b[0m\u001b[0;34m(\u001b[0m\u001b[0mlen\u001b[0m\u001b[0;34m(\u001b[0m\u001b[0moutput_spatial_shape\u001b[0m\u001b[0;34m)\u001b[0m\u001b[0;34m)\u001b[0m\u001b[0;34m:\u001b[0m\u001b[0;34m\u001b[0m\u001b[0;34m\u001b[0m\u001b[0m\n\u001b[1;32m    220\u001b[0m             \u001b[0;32mif\u001b[0m \u001b[0mi\u001b[0m \u001b[0;32mnot\u001b[0m \u001b[0;32min\u001b[0m \u001b[0mnone_dims\u001b[0m \u001b[0;32mand\u001b[0m \u001b[0moutput_spatial_shape\u001b[0m\u001b[0;34m[\u001b[0m\u001b[0mi\u001b[0m\u001b[0;34m]\u001b[0m \u001b[0;34m<\u001b[0m \u001b[0;36m0\u001b[0m\u001b[0;34m:\u001b[0m\u001b[0;34m\u001b[0m\u001b[0;34m\u001b[0m\u001b[0m\n\u001b[0;32m--> 221\u001b[0;31m                 raise ValueError(\n\u001b[0m\u001b[1;32m    222\u001b[0m                     \u001b[0;34m\"Computed output size would be negative. Received \"\u001b[0m\u001b[0;34m\u001b[0m\u001b[0;34m\u001b[0m\u001b[0m\n\u001b[1;32m    223\u001b[0m                     \u001b[0;34mf\"`inputs shape={input_shape}`, \"\u001b[0m\u001b[0;34m\u001b[0m\u001b[0;34m\u001b[0m\u001b[0m\n",
            "\u001b[0;31mValueError\u001b[0m: Computed output size would be negative. Received `inputs shape=(None, 1, 1, 512)`, `kernel shape=(3, 3, 512, 512)`, `dilation_rate=[1 1]`."
          ]
        }
      ]
    },
    {
      "cell_type": "code",
      "source": [
        "initial_lr = 0.001\n",
        "# lr_schedule = tf.keras.optimizers.schedules.ExponentialDecay(\n",
        "#     initial_lr,\n",
        "#     decay_steps=1000,\n",
        "#     decay_rate=0.9\n",
        "# )\n",
        "\n",
        "# compile dahulu\n",
        "# model.compile(\n",
        "#     optimizer=tf.keras.optimizers.RMSprop(learning_rate=1.75e-4, ),\n",
        "#     loss='categorical_crossentropy',\n",
        "#     metrics=['accuracy'],\n",
        "# )\n",
        "\n",
        "model.compile(\n",
        "    optimizer=tf.keras.optimizers.Adam(learning_rate=0.001),\n",
        "    loss='categorical_crossentropy',\n",
        "    metrics=['accuracy']\n",
        ")"
      ],
      "metadata": {
        "id": "QHmVb1ygdcs9"
      },
      "execution_count": null,
      "outputs": []
    },
    {
      "cell_type": "code",
      "source": [
        "# untuk mencari learning rate\n",
        "lr_scheduler = tf.keras.callbacks.LearningRateScheduler(lambda epoch: 1e-4 * 10**(epoch / 20))\n",
        "\n",
        "early_stopping = tf.keras.callbacks.EarlyStopping(\n",
        "    monitor='val_loss',\n",
        "    patience=15,\n",
        "    restore_best_weights=True\n",
        ")\n",
        "\n",
        "reduce_lr = tf.keras.callbacks.ReduceLROnPlateau(\n",
        "    monitor='val_loss',\n",
        "    factor=0.2,\n",
        "    patience=5,\n",
        "    min_lr=0.00001\n",
        ")\n"
      ],
      "metadata": {
        "id": "powSRjOIYOkk"
      },
      "execution_count": null,
      "outputs": []
    },
    {
      "cell_type": "code",
      "source": [
        "history = model.fit(\n",
        "    train_dataset_final,\n",
        "    validation_data=validation_dataset_final,\n",
        "    epochs=50,\n",
        "    verbose=2,\n",
        "    callbacks=[early_stopping]\n",
        ")"
      ],
      "metadata": {
        "colab": {
          "base_uri": "https://localhost:8080/"
        },
        "id": "IticwhFud-5z",
        "outputId": "17bdc692-9745-4b23-8f30-64d2c04d701d"
      },
      "execution_count": null,
      "outputs": [
        {
          "output_type": "stream",
          "name": "stdout",
          "text": [
            "Epoch 1/50\n",
            "557/557 - 15s - 27ms/step - accuracy: 0.1439 - loss: 3.0551 - val_accuracy: 0.1326 - val_loss: 3.1245\n",
            "Epoch 2/50\n",
            "557/557 - 19s - 34ms/step - accuracy: 0.1888 - loss: 2.8749 - val_accuracy: 0.1575 - val_loss: 3.0230\n",
            "Epoch 3/50\n",
            "557/557 - 9s - 16ms/step - accuracy: 0.2090 - loss: 2.8047 - val_accuracy: 0.1535 - val_loss: 3.0672\n",
            "Epoch 4/50\n",
            "557/557 - 10s - 19ms/step - accuracy: 0.2199 - loss: 2.7525 - val_accuracy: 0.1167 - val_loss: 3.3180\n",
            "Epoch 5/50\n",
            "557/557 - 19s - 34ms/step - accuracy: 0.2392 - loss: 2.6958 - val_accuracy: 0.1834 - val_loss: 2.8723\n",
            "Epoch 6/50\n",
            "557/557 - 11s - 19ms/step - accuracy: 0.2494 - loss: 2.6678 - val_accuracy: 0.2043 - val_loss: 2.7893\n",
            "Epoch 7/50\n",
            "557/557 - 9s - 16ms/step - accuracy: 0.2575 - loss: 2.6264 - val_accuracy: 0.2119 - val_loss: 2.7679\n",
            "Epoch 8/50\n",
            "557/557 - 11s - 19ms/step - accuracy: 0.2666 - loss: 2.5937 - val_accuracy: 0.2344 - val_loss: 2.6605\n",
            "Epoch 9/50\n",
            "557/557 - 9s - 16ms/step - accuracy: 0.2773 - loss: 2.5562 - val_accuracy: 0.2007 - val_loss: 2.8465\n",
            "Epoch 10/50\n",
            "557/557 - 10s - 18ms/step - accuracy: 0.2872 - loss: 2.5093 - val_accuracy: 0.2634 - val_loss: 2.5466\n",
            "Epoch 11/50\n",
            "557/557 - 10s - 17ms/step - accuracy: 0.2981 - loss: 2.4729 - val_accuracy: 0.2413 - val_loss: 2.6567\n",
            "Epoch 12/50\n",
            "557/557 - 10s - 18ms/step - accuracy: 0.3093 - loss: 2.4464 - val_accuracy: 0.2509 - val_loss: 2.6764\n",
            "Epoch 13/50\n",
            "557/557 - 9s - 17ms/step - accuracy: 0.3106 - loss: 2.4390 - val_accuracy: 0.2447 - val_loss: 2.7095\n",
            "Epoch 14/50\n",
            "557/557 - 9s - 16ms/step - accuracy: 0.3185 - loss: 2.3894 - val_accuracy: 0.2818 - val_loss: 2.5325\n",
            "Epoch 15/50\n",
            "557/557 - 9s - 17ms/step - accuracy: 0.3254 - loss: 2.3822 - val_accuracy: 0.2505 - val_loss: 2.5844\n",
            "Epoch 16/50\n",
            "557/557 - 10s - 18ms/step - accuracy: 0.3296 - loss: 2.3502 - val_accuracy: 0.2863 - val_loss: 2.4829\n",
            "Epoch 17/50\n",
            "557/557 - 9s - 16ms/step - accuracy: 0.3404 - loss: 2.3155 - val_accuracy: 0.2613 - val_loss: 2.5921\n",
            "Epoch 18/50\n",
            "557/557 - 9s - 17ms/step - accuracy: 0.3429 - loss: 2.3210 - val_accuracy: 0.3070 - val_loss: 2.4147\n",
            "Epoch 19/50\n",
            "557/557 - 10s - 18ms/step - accuracy: 0.3474 - loss: 2.2977 - val_accuracy: 0.2788 - val_loss: 2.5496\n",
            "Epoch 20/50\n",
            "557/557 - 10s - 18ms/step - accuracy: 0.3497 - loss: 2.2804 - val_accuracy: 0.3037 - val_loss: 2.4421\n",
            "Epoch 21/50\n",
            "557/557 - 9s - 16ms/step - accuracy: 0.3577 - loss: 2.2540 - val_accuracy: 0.3278 - val_loss: 2.3674\n",
            "Epoch 22/50\n",
            "557/557 - 10s - 18ms/step - accuracy: 0.3587 - loss: 2.2353 - val_accuracy: 0.3254 - val_loss: 2.3657\n",
            "Epoch 23/50\n",
            "557/557 - 10s - 18ms/step - accuracy: 0.3631 - loss: 2.2267 - val_accuracy: 0.2820 - val_loss: 2.5122\n",
            "Epoch 24/50\n",
            "557/557 - 10s - 17ms/step - accuracy: 0.3666 - loss: 2.2091 - val_accuracy: 0.2979 - val_loss: 2.4577\n",
            "Epoch 25/50\n",
            "557/557 - 10s - 18ms/step - accuracy: 0.3748 - loss: 2.1929 - val_accuracy: 0.3258 - val_loss: 2.3433\n",
            "Epoch 26/50\n",
            "557/557 - 10s - 18ms/step - accuracy: 0.3803 - loss: 2.1658 - val_accuracy: 0.3100 - val_loss: 2.4411\n",
            "Epoch 27/50\n",
            "557/557 - 9s - 16ms/step - accuracy: 0.3793 - loss: 2.1647 - val_accuracy: 0.3068 - val_loss: 2.4218\n",
            "Epoch 28/50\n",
            "557/557 - 10s - 18ms/step - accuracy: 0.3848 - loss: 2.1392 - val_accuracy: 0.2702 - val_loss: 2.5964\n",
            "Epoch 29/50\n",
            "557/557 - 10s - 17ms/step - accuracy: 0.3896 - loss: 2.1298 - val_accuracy: 0.2951 - val_loss: 2.4693\n",
            "Epoch 30/50\n",
            "557/557 - 9s - 17ms/step - accuracy: 0.4026 - loss: 2.1036 - val_accuracy: 0.3210 - val_loss: 2.3841\n",
            "Epoch 31/50\n",
            "557/557 - 10s - 18ms/step - accuracy: 0.3909 - loss: 2.1115 - val_accuracy: 0.3295 - val_loss: 2.3350\n",
            "Epoch 32/50\n",
            "557/557 - 11s - 19ms/step - accuracy: 0.4002 - loss: 2.0882 - val_accuracy: 0.3572 - val_loss: 2.2453\n",
            "Epoch 33/50\n",
            "557/557 - 10s - 18ms/step - accuracy: 0.4002 - loss: 2.0729 - val_accuracy: 0.3391 - val_loss: 2.3035\n",
            "Epoch 34/50\n",
            "557/557 - 9s - 17ms/step - accuracy: 0.3982 - loss: 2.1011 - val_accuracy: 0.3445 - val_loss: 2.2958\n",
            "Epoch 35/50\n",
            "557/557 - 10s - 19ms/step - accuracy: 0.4097 - loss: 2.0540 - val_accuracy: 0.3590 - val_loss: 2.2512\n",
            "Epoch 36/50\n",
            "557/557 - 10s - 18ms/step - accuracy: 0.4082 - loss: 2.0414 - val_accuracy: 0.3262 - val_loss: 2.3797\n",
            "Epoch 37/50\n",
            "557/557 - 10s - 18ms/step - accuracy: 0.4002 - loss: 2.0720 - val_accuracy: 0.3413 - val_loss: 2.2960\n",
            "Epoch 38/50\n",
            "557/557 - 9s - 16ms/step - accuracy: 0.4155 - loss: 2.0237 - val_accuracy: 0.3262 - val_loss: 2.3650\n",
            "Epoch 39/50\n",
            "557/557 - 10s - 17ms/step - accuracy: 0.4184 - loss: 2.0120 - val_accuracy: 0.3437 - val_loss: 2.3216\n",
            "Epoch 40/50\n",
            "557/557 - 9s - 17ms/step - accuracy: 0.4280 - loss: 1.9820 - val_accuracy: 0.3978 - val_loss: 2.1203\n",
            "Epoch 41/50\n",
            "557/557 - 10s - 18ms/step - accuracy: 0.4258 - loss: 1.9783 - val_accuracy: 0.3602 - val_loss: 2.2801\n",
            "Epoch 42/50\n",
            "557/557 - 12s - 21ms/step - accuracy: 0.4200 - loss: 1.9944 - val_accuracy: 0.3640 - val_loss: 2.2558\n",
            "Epoch 43/50\n",
            "557/557 - 9s - 17ms/step - accuracy: 0.4319 - loss: 1.9648 - val_accuracy: 0.3640 - val_loss: 2.2119\n",
            "Epoch 44/50\n",
            "557/557 - 10s - 18ms/step - accuracy: 0.4315 - loss: 1.9516 - val_accuracy: 0.3847 - val_loss: 2.1824\n",
            "Epoch 45/50\n",
            "557/557 - 10s - 18ms/step - accuracy: 0.4314 - loss: 1.9548 - val_accuracy: 0.3357 - val_loss: 2.3322\n",
            "Epoch 46/50\n",
            "557/557 - 10s - 19ms/step - accuracy: 0.4032 - loss: 2.0500 - val_accuracy: 0.3303 - val_loss: 2.3549\n",
            "Epoch 47/50\n",
            "557/557 - 9s - 16ms/step - accuracy: 0.4305 - loss: 1.9634 - val_accuracy: 0.3572 - val_loss: 2.2491\n",
            "Epoch 48/50\n",
            "557/557 - 11s - 20ms/step - accuracy: 0.4385 - loss: 1.9253 - val_accuracy: 0.3491 - val_loss: 2.2980\n",
            "Epoch 49/50\n",
            "557/557 - 10s - 18ms/step - accuracy: 0.4396 - loss: 1.9203 - val_accuracy: 0.3562 - val_loss: 2.3006\n",
            "Epoch 50/50\n",
            "557/557 - 9s - 15ms/step - accuracy: 0.3869 - loss: 2.1397 - val_accuracy: 0.3138 - val_loss: 2.3898\n"
          ]
        }
      ]
    },
    {
      "cell_type": "code",
      "source": [
        "loss, accuracy = model.evaluate(test_dataset)\n",
        "print(\"Accuracy\", accuracy)"
      ],
      "metadata": {
        "id": "n64RTVCw1r4D",
        "colab": {
          "base_uri": "https://localhost:8080/"
        },
        "outputId": "cdeb84c2-4050-443c-8e26-89b10edcf35a"
      },
      "execution_count": null,
      "outputs": [
        {
          "output_type": "stream",
          "name": "stdout",
          "text": [
            "\u001b[1m22/22\u001b[0m \u001b[32m━━━━━━━━━━━━━━━━━━━━\u001b[0m\u001b[37m\u001b[0m \u001b[1m1s\u001b[0m 33ms/step - accuracy: 0.6586 - loss: 1.4406\n",
            "Accuracy 0.515625\n"
          ]
        }
      ]
    },
    {
      "cell_type": "code",
      "source": [
        "\n",
        "def plot_loss_acc(history):\n",
        "  acc = history.history['accuracy']\n",
        "  val_acc = history.history['val_accuracy']\n",
        "\n",
        "  loss = history.history['loss']\n",
        "  val_loss = history.history['val_loss']\n",
        "\n",
        "  epochs_range = range(len(acc))\n",
        "\n",
        "  fig, (ax1, ax2) = plt.subplots(1, 2, figsize=(15, 6))\n",
        "  ax1.plot(epochs_range, acc, label='Training Accuracy')\n",
        "  ax1.plot(epochs_range, val_acc, label='Validation Accuracy')\n",
        "  ax1.set_xlabel('Epochs')\n",
        "  ax1.set_ylabel('Accuracy')\n",
        "  ax1.set_title('Training and Validation Accuracy')\n",
        "  ax1.legend()\n",
        "\n",
        "  ax2.plot(epochs_range, loss, label='Training Loss')\n",
        "  ax2.plot(epochs_range, val_loss, label='Validation Loss')\n",
        "  ax2.set_xlabel('Epochs')\n",
        "  ax2.set_ylabel('Loss')\n",
        "  ax2.set_title('Training and Validation Loss')\n",
        "  ax2.legend()\n",
        "\n",
        "  plt.tight_layout()\n",
        "  plt.show()\n",
        "\n"
      ],
      "metadata": {
        "id": "clbxNDyofjg_"
      },
      "execution_count": null,
      "outputs": []
    },
    {
      "cell_type": "code",
      "source": [
        "plot_loss_acc(history)"
      ],
      "metadata": {
        "colab": {
          "base_uri": "https://localhost:8080/",
          "height": 607
        },
        "id": "wsXzzfAxQyXZ",
        "outputId": "8857f055-fab5-43ac-c445-5885a8ee2f50"
      },
      "execution_count": null,
      "outputs": [
        {
          "output_type": "display_data",
          "data": {
            "text/plain": [
              "<Figure size 1500x600 with 2 Axes>"
            ],
            "image/png": "[encoded data removed]"
          },
          "metadata": {}
        }
      ]
    },
    {
      "cell_type": "code",
      "source": [
        "print(f'Training Accuracy: {history.history[\"accuracy\"][-1]*100:.2f}%')\n",
        "print(f'Validation Accuracy: {history.history[\"val_accuracy\"][-1]*100:.2f}%')"
      ],
      "metadata": {
        "id": "QBezhUlTyvKY"
      },
      "execution_count": null,
      "outputs": []
    },
    {
      "cell_type": "code",
      "source": [
        "plt.semilogx(history.history['learning_rate'], history.history['loss'])\n",
        "# plt.semilogx(history.history['val_loss'], label='Validation Loss')\n",
        "# plt.xlabel('Epochs')\n",
        "# plt.ylabel('Loss')\n",
        "# plt.legend()\n",
        "# plt.title('Training and Validation Loss')"
      ],
      "metadata": {
        "id": "1SMlAMnkhG3M",
        "colab": {
          "base_uri": "https://localhost:8080/",
          "height": 454
        },
        "outputId": "b6626ead-7537-4af4-d6a6-76eec035867e"
      },
      "execution_count": null,
      "outputs": [
        {
          "output_type": "execute_result",
          "data": {
            "text/plain": [
              "[<matplotlib.lines.Line2D at 0x7e9ae2efd780>]"
            ]
          },
          "metadata": {},
          "execution_count": 24
        },
        {
          "output_type": "display_data",
          "data": {
            "text/plain": [
              "<Figure size 640x480 with 1 Axes>"
            ],
            "image/png": "[encoded data removed]"
          },
          "metadata": {}
        }
      ]
    },
    {
      "cell_type": "code",
      "source": [],
      "metadata": {
        "id": "35mAdTa6hIEp"
      },
      "execution_count": null,
      "outputs": []
    }
  ],
  "metadata": {
    "colab": {
      "name": "Welcome To Colab",
      "provenance": [],
      "gpuType": "T4",
      "include_colab_link": true
    },
    "kernelspec": {
      "display_name": "Python 3",
      "name": "python3"
    },
    "accelerator": "GPU"
  },
  "nbformat": 4,
  "nbformat_minor": 0
}